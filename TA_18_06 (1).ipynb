{
  "nbformat": 4,
  "nbformat_minor": 0,
  "metadata": {
    "accelerator": "GPU",
    "colab": {
      "name": "TA 18/06.ipynb",
      "provenance": [],
      "collapsed_sections": []
    },
    "kernelspec": {
      "display_name": "Python 3",
      "name": "python3"
    },
    "language_info": {
      "name": "python"
    }
  },
  "cells": [
    {
      "cell_type": "code",
      "metadata": {
        "id": "yQtBGB4kSrj7"
      },
      "source": [
        "!pip install Augmentor\n",
        "!pip install segmentation-models\n",
        "!pip install tensorflow\n",
        "%tensorflow_version 1.x\n",
        "!pip install 'h5py==2.10.0' --force-reinstall"
      ],
      "execution_count": null,
      "outputs": []
    },
    {
      "cell_type": "code",
      "metadata": {
        "colab": {
          "base_uri": "https://localhost:8080/"
        },
        "id": "HGt3PFoDS23i",
        "outputId": "6c65e14e-4e4f-410d-c621-410e7b5a46e0"
      },
      "source": [
        "#Mounting data dari Google Drive\n",
        "from google.colab import drive\n",
        "drive.mount('/content/gdrive')"
      ],
      "execution_count": null,
      "outputs": [
        {
          "output_type": "stream",
          "text": [
            "Drive already mounted at /content/gdrive; to attempt to forcibly remount, call drive.mount(\"/content/gdrive\", force_remount=True).\n"
          ],
          "name": "stdout"
        }
      ]
    },
    {
      "cell_type": "code",
      "metadata": {
        "id": "cYJ4hLm8S6vr"
      },
      "source": [
        "import numpy as np\n",
        "import cv2\n",
        "import os\n",
        "import matplotlib.pyplot as plt\n",
        "from skimage.io import imsave\n",
        "import random\n",
        "import imutils\n",
        "import scipy.ndimage\n",
        "import pywt\n",
        "from skimage.color import rgb2gray\n",
        "from skimage import exposure\n",
        "from skimage.transform import resize\n",
        "from skimage.util import img_as_ubyte\n",
        "import tensorflow as tf\n",
        "from tensorflow.keras.models import Model\n",
        "from tensorflow.keras.layers import Input, Conv2D, MaxPooling2D, UpSampling2D, concatenate, Cropping2D, ZeroPadding2D, Conv2DTranspose\n",
        "from tensorflow.keras.optimizers import Adam\n",
        "from tensorflow.keras.callbacks import ModelCheckpoint, LearningRateScheduler, TensorBoard\n",
        "from tensorflow.keras import backend as K\n",
        "from skimage.transform import resize\n",
        "from skimage.io import imsave\n",
        "from tensorflow.keras.models import *\n",
        "from tensorflow.keras.layers import *\n",
        "import Augmentor\n",
        "import segmentation_models as sm\n",
        "import glob\n",
        "import keras"
      ],
      "execution_count": null,
      "outputs": []
    },
    {
      "cell_type": "code",
      "metadata": {
        "colab": {
          "base_uri": "https://localhost:8080/",
          "height": 35
        },
        "id": "h1msdwWG94j5",
        "outputId": "5e7d1c63-1e24-46bf-b3da-796b3a77b978"
      },
      "source": [
        "sm.set_framework('tf.keras')\n",
        "\n",
        "sm.framework()"
      ],
      "execution_count": null,
      "outputs": [
        {
          "output_type": "execute_result",
          "data": {
            "application/vnd.google.colaboratory.intrinsic+json": {
              "type": "string"
            },
            "text/plain": [
              "'tf.keras'"
            ]
          },
          "metadata": {
            "tags": []
          },
          "execution_count": 15
        }
      ]
    },
    {
      "cell_type": "code",
      "metadata": {
        "colab": {
          "base_uri": "https://localhost:8080/",
          "height": 1000
        },
        "id": "XvqmqWD1TFFc",
        "outputId": "c1243cda-d0cc-4294-af1c-fc9f3fb649cf"
      },
      "source": [
        "#Buka folder citra\n",
        "items = os.listdir('/content/gdrive/MyDrive/Hypodense/')  \n",
        "\n",
        "#Cek data\n",
        "histogram_path = '/content/gdrive/My Drive/Histogram/'\n",
        "images_list=[]\n",
        "histogram_list=[]\n",
        "i=0\n",
        "for each_image in items:\n",
        "  i+=1\n",
        "  image_path = \"/content/gdrive/MyDrive/Hypodense/\" + each_image\n",
        "  image = cv2.imread(image_path)\n",
        "  cv2.imwrite(\"/content/gdrive/MyDrive/Images/image%d.jpg\" % (i),image)\n",
        "  images_list.append(image)\n",
        "  \n",
        "  plt.figure(figsize=(12,6))\n",
        "  plt.subplot(121)\n",
        "  plt.title('Original Image')\n",
        "  plt.xlabel('Width')\n",
        "  plt.ylabel('Height')\n",
        "  plt.imshow(image, cmap='gray')\n",
        "  plt.subplot(122)\n",
        "  plt.title('Image Histogram')\n",
        "  plt.xlabel('Intensity')\n",
        "  plt.ylabel('Pixel count')\n",
        "  \n",
        "  histogram= plt.hist(image.ravel(),256,[0,256])\n",
        "  plt.show()\n",
        "  plt.savefig('/content/gdrive/MyDrive/Histogram/histogram'+str(i)+'.jpg')\n",
        "  histogram_list.append(histogram)\n",
        "\n",
        "  print('Image data type: '+str(image.dtype))\n",
        "  print('Image size: '+str(image.shape))\n",
        "print('Number of images: '+str(len(images_list)))\n",
        "print('Number of histogram: '+str(len(histogram_list)))"
      ],
      "execution_count": null,
      "outputs": []
    },
    {
      "cell_type": "code",
      "metadata": {
        "id": "Q6bnDHAqTHKW"
      },
      "source": [
        "#LAPLACIAN FILTER\n",
        "\n",
        "def LaplaceFilter(alpha):  \n",
        "    Laplace = np.array([\n",
        "        [alpha/4, (1-alpha)/4, alpha/4],  #matriks laplacian sesuai rumus\n",
        "        [(1-alpha)/4, -1, (1-alpha)/4], # minus utk mempertajam tepian\n",
        "        [alpha/4, (1-alpha)/4, alpha/4]\n",
        "    ])\n",
        "    Laplace = (4/(alpha+1)) * Laplace\n",
        "    return Laplace"
      ],
      "execution_count": null,
      "outputs": []
    },
    {
      "cell_type": "code",
      "metadata": {
        "colab": {
          "base_uri": "https://localhost:8080/",
          "height": 1000
        },
        "id": "DRVBckChTNaz",
        "outputId": "e40c5ff3-57bd-4346-e9c4-e17e8945ec90"
      },
      "source": [
        "j=0\n",
        "final_image=[]\n",
        "cropped=[]\n",
        "preprocessed_path = '/content/gdrive/My Drive/Pre processed/'\n",
        "for each_image in items:\n",
        "  j+=1\n",
        "  image_path = \"/content/gdrive/MyDrive/Hypodense/\" + each_image\n",
        "  image = cv2.imread(image_path)\n",
        "  \n",
        "  #Grayscaling\n",
        "  image_grayscale = image[:,:,0]\n",
        "\n",
        "  #Median Filter\n",
        "  image_median = cv2.medianBlur(image_grayscale,3) #kernel 3x3\n",
        "\n",
        "  #Morphology filter thresholding, untuk mendapatkan hasil kontur yang lebih baik\n",
        "  thresh = cv2.threshold(image_median, 0, 255, cv2.THRESH_BINARY)[1] #binary thresholding\n",
        "  thresh = cv2.erode(thresh, None, iterations=4) #erode = penipisan \n",
        "  thresh = cv2.dilate(thresh, None, iterations=2) #dilate = penebalan untuk menghilangkan bagian yg terdapat noise\n",
        "\n",
        "  #cari kontur terbesar dari citra menggunakan mode eksternal untuk mengambil kontur terluar\n",
        "  contours = cv2.findContours(thresh.copy(), cv2.RETR_EXTERNAL,cv2.CHAIN_APPROX_SIMPLE) #source image, retrieval mode, contour approximation method.\n",
        "  contours = imutils.grab_contours(contours)\n",
        "  c = max(contours, key=cv2.contourArea)\n",
        "\n",
        "  #cari titik ekstrim pada kontur\n",
        "  extLeft = tuple(c[c[:, :, 0].argmin()][0])\n",
        "  extRight = tuple(c[c[:, :, 0].argmax()][0])\n",
        "  extTop = tuple(c[c[:, :, 1].argmin()][0])\n",
        "  extBot = tuple(c[c[:, :, 1].argmax()][0])\n",
        "\n",
        "  #Crop sesuai titik ekstrimnya\n",
        "  crop = image_median[extTop[1]:extBot[1],extLeft[0]:extRight[0]]\n",
        "  cropped.append(crop)\n",
        "  #resize menjadi 512x512\n",
        "  imm_res = cv2.resize(crop, (512,512),interpolation=cv2.INTER_NEAREST)\n",
        "  #cv2.imwrite(\"/content/gdrive/MyDrive/Original resized/image%d.jpg\" % (j),imm_res)\n",
        "\n",
        "  #mengubah citra menjadi numpy array\n",
        "  f = imm_res\n",
        "  f = np.array(f) \n",
        "  f = f*255  #trial error\n",
        "  f = np.invert(f)\n",
        "  \n",
        "  alpha = 0.5    #dicoba-coba nilai alpha dari 0-1 (sesuai teori) alpha value to increase the contrast\n",
        "  laplace = LaplaceFilter(alpha)\n",
        "\n",
        "  #konvolusi citra dengan Laplace filter\n",
        "  f0 = scipy.ndimage.convolve(f, laplace, mode='nearest') \n",
        "\n",
        "  #threshold untuk menghilangkan elemen gambar yang tidak diperlukan\n",
        "  f0[f0>0.005] = 0 \n",
        "  f = f*255\n",
        "  f0 = f0*255\n",
        "\n",
        "  f1 = f - f0\n",
        "  f1[f1 < 0] = 0\n",
        "  f1 = f1 * 255\n",
        "\n",
        "  #segmentasi otak dan tengkorak\n",
        "  a = f1.astype(np.uint8)\n",
        "  tes = np.array(a)\n",
        "  tes = np.where(tes>=200, 0, tes)\n",
        "  tes2 = np.array(tes)\n",
        "  tes2 = np.where(tes2<=(np.mean(tes)/2), 0, tes2) \n",
        "  #tes2 = cv2.erode(tes2, None, iterations=1)\n",
        "  cv2.imwrite(\"/content/gdrive/MyDrive/Nonenhanced/image%d.jpg\" % (j),tes2)\n",
        "\n",
        "  #-----------------dwt level 1 ----------------------------  \n",
        "  (ca, cd) = pywt.dwt(tes2,'bior5.5')\n",
        "\n",
        "  #thresholding approx coefficient using CLAHE\n",
        "  ca = ca.astype(np.int32)\n",
        "  cat = exposure.equalize_adapthist(ca, clip_limit=0.01)\n",
        "\n",
        "  #reconstruction\n",
        "  ts_rec = pywt.idwt(cat, None, 'bior5.5')\n",
        "  ts_rec = cv2.resize(ts_rec, (512,512),interpolation=cv2.INTER_NEAREST)\n",
        "  ts_rec = img_as_ubyte(ts_rec)\n",
        "  \n",
        "  cv2.imwrite(\"/content/gdrive/MyDrive/Pre processed/image%d.jpg\" % (j),ts_rec)\n",
        "  plt.figure(figsize=(12,6))\n",
        "  plt.subplot(121)\n",
        "  plt.title('Cropped  Image')\n",
        "  plt.imshow(crop, cmap='gray')\n",
        "  plt.subplot(122)\n",
        "  plt.title('Pre processed Image')\n",
        "  plt.imshow(ts_rec, cmap='gray')\n",
        "  plt.show()\n",
        "  final_image.append(ts_rec)\n",
        "final_image = np.asarray(final_image)"
      ],
      "execution_count": null,
      "outputs": []
    },
    {
      "cell_type": "code",
      "metadata": {
        "id": "_rgCdfHzTRPj"
      },
      "source": [
        "'''\n",
        "p = Augmentor.Pipeline(\"/content/gdrive/MyDrive/Data training/Image/\") \n",
        "\n",
        "p.ground_truth(\"/content/gdrive/MyDrive/Data training/Mask\") \n",
        "\n",
        "p.flip_left_right(probability=0.4)\n",
        "p.flip_top_bottom(probability=0.4)\n",
        "p.rotate90(probability=0.4)\n",
        "p.rotate(probability=0.3, max_left_rotation=5, max_right_rotation=5)\n",
        "p.random_distortion(probability=0.5, grid_width=6, grid_height=6, magnitude=3)\n",
        "\n",
        "p.sample(1000)\n",
        "'''"
      ],
      "execution_count": null,
      "outputs": []
    },
    {
      "cell_type": "code",
      "metadata": {
        "id": "HqAs51xOTTZL"
      },
      "source": [
        "out_dir = '/content/gdrive/MyDrive/Npy Files/'"
      ],
      "execution_count": null,
      "outputs": []
    },
    {
      "cell_type": "code",
      "metadata": {
        "colab": {
          "base_uri": "https://localhost:8080/"
        },
        "id": "6EkPZZ_zTWWD",
        "outputId": "ddc07e72-96f9-4a27-9045-ba5b106806f9"
      },
      "source": [
        "img_items = sorted(os.listdir('/content/gdrive/MyDrive/Data training/Nonenhanced Image/'))\n",
        "train_images=[]\n",
        "i=0\n",
        "for each_image in img_items:\n",
        "  image_path = \"/content/gdrive/MyDrive/Data training/Nonenhanced Image/\" + each_image\n",
        "  print(\"Working on file \", image_path)\n",
        "  image = cv2.imread(image_path)\n",
        "  #image=rgb2gray(image)\n",
        "  image=(image/255).astype(np.float32)\n",
        "  train_images.append(image)\n",
        "  i+=1\n",
        "\n",
        "train_images=np.array(train_images)\n",
        "np.save(out_dir+\"train_images2.npy\",train_images)\n",
        "\n",
        "mask_items = sorted(os.listdir('/content/gdrive/MyDrive/Data training/Nonenhanced Mask/'))\n",
        "train_mask=[]\n",
        "i=0\n",
        "for each_mask in mask_items:\n",
        "  mask_path = \"/content/gdrive/MyDrive/Data training/Nonenhanced Mask/\" + each_mask\n",
        "  print(\"Working on file \", mask_path)\n",
        "  mask = cv2.imread(mask_path,0)\n",
        "  #mask = cv2.cvtColor(mask, cv2.COLOR_BGR2GRAY)\n",
        "  mask=(mask/255).astype(np.float32)\n",
        "  train_mask.append(mask)\n",
        "  i+=1\n",
        "\n",
        "train_mask=np.array(train_mask)\n",
        "np.save(out_dir+\"train_mask2.npy\",train_mask)\n",
        "\n",
        "X=train_images\n",
        "Y=train_mask\n",
        "Y=np.expand_dims(Y, -1)\n",
        "\n",
        "print(train_images.shape)\n",
        "print(train_mask.shape)"
      ],
      "execution_count": null,
      "outputs": [
        {
          "output_type": "stream",
          "text": [
            "Working on file  /content/gdrive/MyDrive/Data training/Nonenhanced Image/Nonenhanced_original_image1.jpg_115bb501-f424-44ec-b88b-2c40945edbc8.jpg\n",
            "Working on file  /content/gdrive/MyDrive/Data training/Nonenhanced Image/Nonenhanced_original_image1.jpg_21b4d3b8-b744-4eb3-a377-5f62f82fb5f6.jpg\n",
            "Working on file  /content/gdrive/MyDrive/Data training/Nonenhanced Image/Nonenhanced_original_image1.jpg_351719f8-980b-4b57-ade4-3e6c6afe1a85.jpg\n",
            "Working on file  /content/gdrive/MyDrive/Data training/Nonenhanced Image/Nonenhanced_original_image1.jpg_410a28d6-8cfa-4ad0-847f-dd148e3cb269.jpg\n",
            "Working on file  /content/gdrive/MyDrive/Data training/Nonenhanced Image/Nonenhanced_original_image1.jpg_5dd586a9-0c03-4afc-a7e9-21265aa8da9e.jpg\n",
            "Working on file  /content/gdrive/MyDrive/Data training/Nonenhanced Image/Nonenhanced_original_image1.jpg_75e90ffe-881d-45b9-88eb-5eed24837ba1.jpg\n",
            "Working on file  /content/gdrive/MyDrive/Data training/Nonenhanced Image/Nonenhanced_original_image1.jpg_7e005cbe-4974-4d00-93f9-631938186eb9.jpg\n",
            "Working on file  /content/gdrive/MyDrive/Data training/Nonenhanced Image/Nonenhanced_original_image1.jpg_996cdddc-b634-4f75-8d3e-3dd5b4130c8e.jpg\n",
            "Working on file  /content/gdrive/MyDrive/Data training/Nonenhanced Image/Nonenhanced_original_image1.jpg_9e699eb8-1af7-4c7a-ba76-46da223f7144.jpg\n",
            "Working on file  /content/gdrive/MyDrive/Data training/Nonenhanced Image/Nonenhanced_original_image1.jpg_c4fef8c1-1a5a-4010-97aa-edeb5575360a.jpg\n",
            "Working on file  /content/gdrive/MyDrive/Data training/Nonenhanced Image/Nonenhanced_original_image1.jpg_f2357ebf-3976-468c-a186-8aa07773c06c.jpg\n",
            "Working on file  /content/gdrive/MyDrive/Data training/Nonenhanced Image/Nonenhanced_original_image10.jpg_0d016f85-31b5-4c64-8549-53013ecd3d95.jpg\n",
            "Working on file  /content/gdrive/MyDrive/Data training/Nonenhanced Image/Nonenhanced_original_image10.jpg_19458484-9e37-467b-9ba8-2e40e7d60a37.jpg\n",
            "Working on file  /content/gdrive/MyDrive/Data training/Nonenhanced Image/Nonenhanced_original_image10.jpg_1f9fdb12-8be2-41a3-84b7-30137dc9997d.jpg\n",
            "Working on file  /content/gdrive/MyDrive/Data training/Nonenhanced Image/Nonenhanced_original_image10.jpg_2ecc8261-aedd-4331-bf16-6128a0f1d188.jpg\n",
            "Working on file  /content/gdrive/MyDrive/Data training/Nonenhanced Image/Nonenhanced_original_image10.jpg_37aa4e42-1fdf-4e53-bab9-ea4c254c5826.jpg\n",
            "Working on file  /content/gdrive/MyDrive/Data training/Nonenhanced Image/Nonenhanced_original_image10.jpg_5d805ad4-e163-4636-b34f-9188eff758cb.jpg\n",
            "Working on file  /content/gdrive/MyDrive/Data training/Nonenhanced Image/Nonenhanced_original_image10.jpg_5e747f0a-efbd-4e9e-9024-fecc95f2c1ff.jpg\n",
            "Working on file  /content/gdrive/MyDrive/Data training/Nonenhanced Image/Nonenhanced_original_image10.jpg_7c3ca5b1-b507-4826-9ac9-6ee2e921a669.jpg\n",
            "Working on file  /content/gdrive/MyDrive/Data training/Nonenhanced Image/Nonenhanced_original_image10.jpg_8363ec80-051b-4fe0-b94b-ed26fedebe3e.jpg\n",
            "Working on file  /content/gdrive/MyDrive/Data training/Nonenhanced Image/Nonenhanced_original_image10.jpg_d41dc334-6d11-4889-b252-1ecfc653a1fb.jpg\n",
            "Working on file  /content/gdrive/MyDrive/Data training/Nonenhanced Image/Nonenhanced_original_image10.jpg_deb6d58d-fb0b-4015-ae17-765c2d5bba19.jpg\n",
            "Working on file  /content/gdrive/MyDrive/Data training/Nonenhanced Image/Nonenhanced_original_image10.jpg_df2dad63-c21b-4892-ae9d-1ab839d7c952.jpg\n",
            "Working on file  /content/gdrive/MyDrive/Data training/Nonenhanced Image/Nonenhanced_original_image10.jpg_f0a40bb7-7a28-426f-b2b6-9bd35d03ad2a.jpg\n",
            "Working on file  /content/gdrive/MyDrive/Data training/Nonenhanced Image/Nonenhanced_original_image10.jpg_f7c51fa3-b30d-49c8-85dc-ee3f45ded6d6.jpg\n",
            "Working on file  /content/gdrive/MyDrive/Data training/Nonenhanced Image/Nonenhanced_original_image11.jpg_080ab60f-43df-4d1c-904e-d21145d46be0.jpg\n",
            "Working on file  /content/gdrive/MyDrive/Data training/Nonenhanced Image/Nonenhanced_original_image11.jpg_64d748c2-3446-4385-b5bb-755c56c51f89.jpg\n",
            "Working on file  /content/gdrive/MyDrive/Data training/Nonenhanced Image/Nonenhanced_original_image11.jpg_731cbefe-aac5-492c-9e1a-d651373ec065.jpg\n",
            "Working on file  /content/gdrive/MyDrive/Data training/Nonenhanced Image/Nonenhanced_original_image11.jpg_8f1e76f3-21a9-4683-9b33-37ecc827eb51.jpg\n",
            "Working on file  /content/gdrive/MyDrive/Data training/Nonenhanced Image/Nonenhanced_original_image11.jpg_9419462a-3349-4e6d-85dd-ad31cbf492f8.jpg\n",
            "Working on file  /content/gdrive/MyDrive/Data training/Nonenhanced Image/Nonenhanced_original_image11.jpg_ab6c263d-5467-4cc5-a460-b01e844e6d27.jpg\n",
            "Working on file  /content/gdrive/MyDrive/Data training/Nonenhanced Image/Nonenhanced_original_image11.jpg_c4abf324-2247-46c8-a5df-91fb3727e80c.jpg\n",
            "Working on file  /content/gdrive/MyDrive/Data training/Nonenhanced Image/Nonenhanced_original_image11.jpg_c6523eb2-b4b9-4e4c-b0e7-8271b4c72373.jpg\n",
            "Working on file  /content/gdrive/MyDrive/Data training/Nonenhanced Image/Nonenhanced_original_image11.jpg_f70b011d-cf9a-4f12-903a-cb7a420dde79.jpg\n",
            "Working on file  /content/gdrive/MyDrive/Data training/Nonenhanced Image/Nonenhanced_original_image12.jpg_06e6e301-4fc5-483f-81e3-c9a42f67ba0d.jpg\n",
            "Working on file  /content/gdrive/MyDrive/Data training/Nonenhanced Image/Nonenhanced_original_image12.jpg_09f7bf05-8105-4c5a-9c4b-23e50e04f287.jpg\n",
            "Working on file  /content/gdrive/MyDrive/Data training/Nonenhanced Image/Nonenhanced_original_image12.jpg_2638bb9a-2159-48f4-b561-74772bc0e535.jpg\n",
            "Working on file  /content/gdrive/MyDrive/Data training/Nonenhanced Image/Nonenhanced_original_image12.jpg_270b58e3-d758-4493-9e0f-33f7cbe61275.jpg\n",
            "Working on file  /content/gdrive/MyDrive/Data training/Nonenhanced Image/Nonenhanced_original_image12.jpg_3974c9bc-9def-425e-929e-10cfee1a7b7a.jpg\n",
            "Working on file  /content/gdrive/MyDrive/Data training/Nonenhanced Image/Nonenhanced_original_image12.jpg_43ca9a3a-4c62-4114-8c57-5167e2c88f7c.jpg\n",
            "Working on file  /content/gdrive/MyDrive/Data training/Nonenhanced Image/Nonenhanced_original_image12.jpg_914d7a3c-328c-44ac-8099-37aab1dc8cb5.jpg\n",
            "Working on file  /content/gdrive/MyDrive/Data training/Nonenhanced Image/Nonenhanced_original_image12.jpg_9e34e336-8b3f-4c42-aaef-13b70a9763d4.jpg\n",
            "Working on file  /content/gdrive/MyDrive/Data training/Nonenhanced Image/Nonenhanced_original_image12.jpg_aa5ff4a3-02c2-4158-8e09-bd814f11393e.jpg\n",
            "Working on file  /content/gdrive/MyDrive/Data training/Nonenhanced Image/Nonenhanced_original_image12.jpg_b026862a-7739-4365-a52f-83bd006cd748.jpg\n",
            "Working on file  /content/gdrive/MyDrive/Data training/Nonenhanced Image/Nonenhanced_original_image12.jpg_db7738f2-bae8-4eb4-9ef8-d6857e39dbe9.jpg\n",
            "Working on file  /content/gdrive/MyDrive/Data training/Nonenhanced Image/Nonenhanced_original_image12.jpg_fa18f2f0-1bf4-46dc-889e-cdc0972da1b0.jpg\n",
            "Working on file  /content/gdrive/MyDrive/Data training/Nonenhanced Image/Nonenhanced_original_image13.jpg_0243a5fe-b453-46bb-aedd-bcc67f3fa2ae.jpg\n",
            "Working on file  /content/gdrive/MyDrive/Data training/Nonenhanced Image/Nonenhanced_original_image13.jpg_1b0a14ca-315e-4411-aace-4406712f3432.jpg\n",
            "Working on file  /content/gdrive/MyDrive/Data training/Nonenhanced Image/Nonenhanced_original_image13.jpg_2c7a62b2-3a94-40c1-992c-32e06aaf8a6a.jpg\n",
            "Working on file  /content/gdrive/MyDrive/Data training/Nonenhanced Image/Nonenhanced_original_image13.jpg_2f5b1ce5-5d58-4d33-b5e5-337446499cfb.jpg\n",
            "Working on file  /content/gdrive/MyDrive/Data training/Nonenhanced Image/Nonenhanced_original_image13.jpg_315b9527-9a55-440e-8a71-13675cd3bd7b.jpg\n",
            "Working on file  /content/gdrive/MyDrive/Data training/Nonenhanced Image/Nonenhanced_original_image13.jpg_319c3333-fa31-46d2-83f5-5f124ff5a1e0.jpg\n",
            "Working on file  /content/gdrive/MyDrive/Data training/Nonenhanced Image/Nonenhanced_original_image13.jpg_329d4238-31ed-4861-9565-76401a2efda4.jpg\n",
            "Working on file  /content/gdrive/MyDrive/Data training/Nonenhanced Image/Nonenhanced_original_image13.jpg_59848634-6bcd-4cd5-9c71-0bde862df2db.jpg\n",
            "Working on file  /content/gdrive/MyDrive/Data training/Nonenhanced Image/Nonenhanced_original_image13.jpg_66320c13-07fb-4619-85dd-919e23814ece.jpg\n",
            "Working on file  /content/gdrive/MyDrive/Data training/Nonenhanced Image/Nonenhanced_original_image13.jpg_735f7861-5bf8-4a36-8938-122d23ae2d1b.jpg\n",
            "Working on file  /content/gdrive/MyDrive/Data training/Nonenhanced Image/Nonenhanced_original_image13.jpg_76407c68-6913-43be-99be-057a330ca343.jpg\n",
            "Working on file  /content/gdrive/MyDrive/Data training/Nonenhanced Image/Nonenhanced_original_image13.jpg_cd3be4f7-f794-4eed-8423-f49213398968.jpg\n",
            "Working on file  /content/gdrive/MyDrive/Data training/Nonenhanced Image/Nonenhanced_original_image13.jpg_ce3ba46e-c3be-4177-b174-86f6911006dd.jpg\n",
            "Working on file  /content/gdrive/MyDrive/Data training/Nonenhanced Image/Nonenhanced_original_image13.jpg_f01d259e-5582-49be-911d-aa86e2f03548.jpg\n",
            "Working on file  /content/gdrive/MyDrive/Data training/Nonenhanced Image/Nonenhanced_original_image13.jpg_f6daac95-7e0f-483c-aee0-0be6aea58565.jpg\n",
            "Working on file  /content/gdrive/MyDrive/Data training/Nonenhanced Image/Nonenhanced_original_image14.jpg_0dad6a6b-60b7-48ab-9032-1cdfb8ced453.jpg\n",
            "Working on file  /content/gdrive/MyDrive/Data training/Nonenhanced Image/Nonenhanced_original_image14.jpg_2b9b7de2-1051-45a3-bf25-a671eacbbbfd.jpg\n",
            "Working on file  /content/gdrive/MyDrive/Data training/Nonenhanced Image/Nonenhanced_original_image14.jpg_69b5f1a9-5391-460f-bb2e-13c2c711321a.jpg\n",
            "Working on file  /content/gdrive/MyDrive/Data training/Nonenhanced Image/Nonenhanced_original_image14.jpg_78c7dc33-5338-475f-8acd-06409c1c1283.jpg\n",
            "Working on file  /content/gdrive/MyDrive/Data training/Nonenhanced Image/Nonenhanced_original_image14.jpg_b403d5cc-5cb8-4308-8748-abdcd5a1f6e7.jpg\n",
            "Working on file  /content/gdrive/MyDrive/Data training/Nonenhanced Image/Nonenhanced_original_image14.jpg_ba05c429-8ac1-49e1-8e0c-c660401f0b17.jpg\n",
            "Working on file  /content/gdrive/MyDrive/Data training/Nonenhanced Image/Nonenhanced_original_image14.jpg_d7a3b2b8-edba-4730-bcad-07e14e7c4a1c.jpg\n",
            "Working on file  /content/gdrive/MyDrive/Data training/Nonenhanced Image/Nonenhanced_original_image15.jpg_353141fc-bf6f-4944-a23d-5d5c62992fdd.jpg\n",
            "Working on file  /content/gdrive/MyDrive/Data training/Nonenhanced Image/Nonenhanced_original_image15.jpg_37513b03-39fa-4088-8dc7-e0b0bc6f84d0.jpg\n",
            "Working on file  /content/gdrive/MyDrive/Data training/Nonenhanced Image/Nonenhanced_original_image15.jpg_3f9c27ea-91c9-4744-8cdb-5a8d4242c375.jpg\n",
            "Working on file  /content/gdrive/MyDrive/Data training/Nonenhanced Image/Nonenhanced_original_image15.jpg_6bcf5de9-4176-4aee-95a4-f508fd9ebcd9.jpg\n",
            "Working on file  /content/gdrive/MyDrive/Data training/Nonenhanced Image/Nonenhanced_original_image15.jpg_84633cfc-f672-4e6b-b9a1-c0377ce6983c.jpg\n",
            "Working on file  /content/gdrive/MyDrive/Data training/Nonenhanced Image/Nonenhanced_original_image15.jpg_9019d6eb-7317-441b-b6db-060404f57c7a.jpg\n",
            "Working on file  /content/gdrive/MyDrive/Data training/Nonenhanced Image/Nonenhanced_original_image15.jpg_97eb9f88-ee90-45ae-bc83-b000c343b2c0.jpg\n",
            "Working on file  /content/gdrive/MyDrive/Data training/Nonenhanced Image/Nonenhanced_original_image15.jpg_a7a63241-4747-4242-967f-74d9a08c3024.jpg\n",
            "Working on file  /content/gdrive/MyDrive/Data training/Nonenhanced Image/Nonenhanced_original_image15.jpg_f00e6bdd-8d5d-4e5b-9bea-f3717efa09b1.jpg\n",
            "Working on file  /content/gdrive/MyDrive/Data training/Nonenhanced Image/Nonenhanced_original_image16.jpg_20ab1ea8-8157-44e0-9b45-0a46e046f331.jpg\n",
            "Working on file  /content/gdrive/MyDrive/Data training/Nonenhanced Image/Nonenhanced_original_image16.jpg_24cbefa7-4116-4853-a875-17f7c4c32b50.jpg\n",
            "Working on file  /content/gdrive/MyDrive/Data training/Nonenhanced Image/Nonenhanced_original_image16.jpg_2b2256fa-25a3-45e2-99be-2fbe2b44fe0b.jpg\n",
            "Working on file  /content/gdrive/MyDrive/Data training/Nonenhanced Image/Nonenhanced_original_image16.jpg_3b1758b4-592d-45be-8725-4f4747bd2dd9.jpg\n",
            "Working on file  /content/gdrive/MyDrive/Data training/Nonenhanced Image/Nonenhanced_original_image16.jpg_473a507d-3e8f-4cb7-9346-1e38bd0ae36f.jpg\n",
            "Working on file  /content/gdrive/MyDrive/Data training/Nonenhanced Image/Nonenhanced_original_image16.jpg_6125be2b-5ce1-4d98-8c85-960152594bbc.jpg\n",
            "Working on file  /content/gdrive/MyDrive/Data training/Nonenhanced Image/Nonenhanced_original_image16.jpg_690ba3a0-dc65-4b94-9396-c3714f2c15dd.jpg\n",
            "Working on file  /content/gdrive/MyDrive/Data training/Nonenhanced Image/Nonenhanced_original_image16.jpg_72d67d74-a134-46d9-87c8-35313c5d9ec1.jpg\n",
            "Working on file  /content/gdrive/MyDrive/Data training/Nonenhanced Image/Nonenhanced_original_image16.jpg_80d176ee-7bad-4b1e-a550-2f98ad9b01bc.jpg\n",
            "Working on file  /content/gdrive/MyDrive/Data training/Nonenhanced Image/Nonenhanced_original_image16.jpg_cc464f0f-8b96-4ec6-8e3c-1af2104879c0.jpg\n",
            "Working on file  /content/gdrive/MyDrive/Data training/Nonenhanced Image/Nonenhanced_original_image16.jpg_de44fd54-cde2-44d4-a571-ec3a4f3bffc0.jpg\n",
            "Working on file  /content/gdrive/MyDrive/Data training/Nonenhanced Image/Nonenhanced_original_image16.jpg_de50816d-a4dd-4d89-b544-70dea6c83fd7.jpg\n",
            "Working on file  /content/gdrive/MyDrive/Data training/Nonenhanced Image/Nonenhanced_original_image17.jpg_0e686fc6-4919-4635-bf66-47141bb0d05a.jpg\n",
            "Working on file  /content/gdrive/MyDrive/Data training/Nonenhanced Image/Nonenhanced_original_image17.jpg_1f837671-435c-439e-8279-40c300909ffe.jpg\n",
            "Working on file  /content/gdrive/MyDrive/Data training/Nonenhanced Image/Nonenhanced_original_image17.jpg_4b5b4035-4ad2-463c-878c-f97d30e9fb25.jpg\n",
            "Working on file  /content/gdrive/MyDrive/Data training/Nonenhanced Image/Nonenhanced_original_image17.jpg_6372dcd9-3487-4c19-912a-3736fa43252d.jpg\n",
            "Working on file  /content/gdrive/MyDrive/Data training/Nonenhanced Image/Nonenhanced_original_image17.jpg_6a4c51f5-030a-4c36-9d86-f23b0d496f85.jpg\n",
            "Working on file  /content/gdrive/MyDrive/Data training/Nonenhanced Image/Nonenhanced_original_image17.jpg_6c5d954e-d1fa-4ee2-ad75-0eaaef7e788a.jpg\n",
            "Working on file  /content/gdrive/MyDrive/Data training/Nonenhanced Image/Nonenhanced_original_image17.jpg_7f330aa2-8967-4e66-8df9-35c84ef54e8d.jpg\n",
            "Working on file  /content/gdrive/MyDrive/Data training/Nonenhanced Image/Nonenhanced_original_image17.jpg_854b5968-7a6c-41a3-a36d-32b8d028b200.jpg\n",
            "Working on file  /content/gdrive/MyDrive/Data training/Nonenhanced Image/Nonenhanced_original_image17.jpg_88bd765f-5673-485c-8c91-7ba2a02fe7d9.jpg\n",
            "Working on file  /content/gdrive/MyDrive/Data training/Nonenhanced Image/Nonenhanced_original_image17.jpg_b54a7e91-f686-4324-a9f0-5a5bea06b232.jpg\n",
            "Working on file  /content/gdrive/MyDrive/Data training/Nonenhanced Image/Nonenhanced_original_image17.jpg_c7699cde-b703-42da-9179-234374802f51.jpg\n",
            "Working on file  /content/gdrive/MyDrive/Data training/Nonenhanced Image/Nonenhanced_original_image18.jpg_0ccc8c8a-657d-4a1a-87d5-ad7d60cb2013.jpg\n",
            "Working on file  /content/gdrive/MyDrive/Data training/Nonenhanced Image/Nonenhanced_original_image18.jpg_2438afa2-cc8c-4ef6-8845-107400dc0e4d.jpg\n",
            "Working on file  /content/gdrive/MyDrive/Data training/Nonenhanced Image/Nonenhanced_original_image18.jpg_2be2863a-536a-41c3-8985-b379c237ce7d.jpg\n",
            "Working on file  /content/gdrive/MyDrive/Data training/Nonenhanced Image/Nonenhanced_original_image18.jpg_3634a62b-67c3-4aa4-a7eb-d6758e9c053c.jpg\n",
            "Working on file  /content/gdrive/MyDrive/Data training/Nonenhanced Image/Nonenhanced_original_image18.jpg_3a52971a-7587-41a6-8053-15f6321caf2a.jpg\n",
            "Working on file  /content/gdrive/MyDrive/Data training/Nonenhanced Image/Nonenhanced_original_image18.jpg_3fd3d04c-85fd-4e67-9547-88bdae88e682.jpg\n",
            "Working on file  /content/gdrive/MyDrive/Data training/Nonenhanced Image/Nonenhanced_original_image18.jpg_4ddcb344-d3f6-427f-9abd-3319ca4e30b4.jpg\n",
            "Working on file  /content/gdrive/MyDrive/Data training/Nonenhanced Image/Nonenhanced_original_image18.jpg_7e292689-f97c-4616-84cc-86a5526628c5.jpg\n",
            "Working on file  /content/gdrive/MyDrive/Data training/Nonenhanced Image/Nonenhanced_original_image18.jpg_95e8a281-56c5-43b1-97f1-c6b8ebd7be0b.jpg\n",
            "Working on file  /content/gdrive/MyDrive/Data training/Nonenhanced Image/Nonenhanced_original_image18.jpg_bc366bae-a032-4073-874d-be33840c5d98.jpg\n",
            "Working on file  /content/gdrive/MyDrive/Data training/Nonenhanced Image/Nonenhanced_original_image18.jpg_e72f1924-8d38-4409-9f94-0db951dd28df.jpg\n",
            "Working on file  /content/gdrive/MyDrive/Data training/Nonenhanced Image/Nonenhanced_original_image19.jpg_15598bb8-9942-491c-b85f-0e4224b46c5b.jpg\n",
            "Working on file  /content/gdrive/MyDrive/Data training/Nonenhanced Image/Nonenhanced_original_image19.jpg_1c59e4cd-1c63-41b8-9b96-3408bbc280d5.jpg\n",
            "Working on file  /content/gdrive/MyDrive/Data training/Nonenhanced Image/Nonenhanced_original_image19.jpg_242d6fd6-60d0-48b7-8510-1a1bcbf0f398.jpg\n",
            "Working on file  /content/gdrive/MyDrive/Data training/Nonenhanced Image/Nonenhanced_original_image19.jpg_38674f50-a92f-4691-b72e-f53c2b73f983.jpg\n",
            "Working on file  /content/gdrive/MyDrive/Data training/Nonenhanced Image/Nonenhanced_original_image19.jpg_3c395462-9ad7-4fd1-a23e-f811c7ac1ce1.jpg\n",
            "Working on file  /content/gdrive/MyDrive/Data training/Nonenhanced Image/Nonenhanced_original_image19.jpg_415694fd-dc32-4842-aeb9-567c0653af16.jpg\n",
            "Working on file  /content/gdrive/MyDrive/Data training/Nonenhanced Image/Nonenhanced_original_image19.jpg_52d6897c-9a04-4872-9021-b46eb4fb13a3.jpg\n",
            "Working on file  /content/gdrive/MyDrive/Data training/Nonenhanced Image/Nonenhanced_original_image19.jpg_57455df9-11c8-4dba-9df1-2006c0afa950.jpg\n",
            "Working on file  /content/gdrive/MyDrive/Data training/Nonenhanced Image/Nonenhanced_original_image19.jpg_722c641c-329d-4d30-accd-589e22038f50.jpg\n",
            "Working on file  /content/gdrive/MyDrive/Data training/Nonenhanced Image/Nonenhanced_original_image19.jpg_a18b202b-ae97-4d37-a37c-3d277b69804d.jpg\n",
            "Working on file  /content/gdrive/MyDrive/Data training/Nonenhanced Image/Nonenhanced_original_image19.jpg_ad6162b1-45be-4dba-8a2e-def7ae70de98.jpg\n",
            "Working on file  /content/gdrive/MyDrive/Data training/Nonenhanced Image/Nonenhanced_original_image19.jpg_c778eb7d-afaf-4378-acfb-2f1e6a6a5de4.jpg\n",
            "Working on file  /content/gdrive/MyDrive/Data training/Nonenhanced Image/Nonenhanced_original_image19.jpg_db2660fe-8f27-41e2-98b0-774099f63992.jpg\n",
            "Working on file  /content/gdrive/MyDrive/Data training/Nonenhanced Image/Nonenhanced_original_image19.jpg_de59979a-26a7-4599-bb6c-40e71a4404ed.jpg\n",
            "Working on file  /content/gdrive/MyDrive/Data training/Nonenhanced Image/Nonenhanced_original_image19.jpg_e2698dca-2391-4516-83d9-69a3b19abef9.jpg\n",
            "Working on file  /content/gdrive/MyDrive/Data training/Nonenhanced Image/Nonenhanced_original_image2.jpg_09f26959-23c6-4f2c-b44b-67e4fc9f56ae.jpg\n",
            "Working on file  /content/gdrive/MyDrive/Data training/Nonenhanced Image/Nonenhanced_original_image2.jpg_18ae07b6-bb75-4bb3-bf46-8b1b926e4e0d.jpg\n",
            "Working on file  /content/gdrive/MyDrive/Data training/Nonenhanced Image/Nonenhanced_original_image2.jpg_77496eae-81f5-4f1b-9506-c8b3a83e89c7.jpg\n",
            "Working on file  /content/gdrive/MyDrive/Data training/Nonenhanced Image/Nonenhanced_original_image2.jpg_8ca9281b-b354-452b-8777-5ca3aebfa238.jpg\n",
            "Working on file  /content/gdrive/MyDrive/Data training/Nonenhanced Image/Nonenhanced_original_image2.jpg_8d25f9af-fb19-4296-99a7-c6fbdc503119.jpg\n",
            "Working on file  /content/gdrive/MyDrive/Data training/Nonenhanced Image/Nonenhanced_original_image2.jpg_945d94d6-3c72-4078-a704-829bc02a6c4d.jpg\n",
            "Working on file  /content/gdrive/MyDrive/Data training/Nonenhanced Image/Nonenhanced_original_image2.jpg_9ba7e555-de28-4d13-a3a7-7078b0bba3ed.jpg\n",
            "Working on file  /content/gdrive/MyDrive/Data training/Nonenhanced Image/Nonenhanced_original_image2.jpg_9f645e8b-5942-4db1-bf98-2063932ce85d.jpg\n",
            "Working on file  /content/gdrive/MyDrive/Data training/Nonenhanced Image/Nonenhanced_original_image2.jpg_a615c906-566b-42e0-bf92-bad93d4e0bc0.jpg\n",
            "Working on file  /content/gdrive/MyDrive/Data training/Nonenhanced Image/Nonenhanced_original_image2.jpg_b3ebcbf0-e23a-4c7e-88c4-fd4eeefd56e3.jpg\n",
            "Working on file  /content/gdrive/MyDrive/Data training/Nonenhanced Image/Nonenhanced_original_image2.jpg_db0472c5-a119-4bfb-b6a0-e4b9db642559.jpg\n",
            "Working on file  /content/gdrive/MyDrive/Data training/Nonenhanced Image/Nonenhanced_original_image2.jpg_e366244e-9a92-4891-9b3e-1f449c58b4d8.jpg\n",
            "Working on file  /content/gdrive/MyDrive/Data training/Nonenhanced Image/Nonenhanced_original_image2.jpg_f2fb5b04-7e61-48a4-82c9-fcbdb83de09d.jpg\n",
            "Working on file  /content/gdrive/MyDrive/Data training/Nonenhanced Image/Nonenhanced_original_image20.jpg_2949c00f-aabb-46cb-af01-0b23c45bbf89.jpg\n",
            "Working on file  /content/gdrive/MyDrive/Data training/Nonenhanced Image/Nonenhanced_original_image20.jpg_57e36711-bab8-455f-b3db-73b7ba566ff2.jpg\n",
            "Working on file  /content/gdrive/MyDrive/Data training/Nonenhanced Image/Nonenhanced_original_image20.jpg_67378974-0ae5-482e-88da-9ad79bbba810.jpg\n",
            "Working on file  /content/gdrive/MyDrive/Data training/Nonenhanced Image/Nonenhanced_original_image20.jpg_a372df16-3c1e-41f0-880e-ce284d8d03c2.jpg\n",
            "Working on file  /content/gdrive/MyDrive/Data training/Nonenhanced Image/Nonenhanced_original_image20.jpg_b8a7c26f-5c2a-4dec-b200-f48b99a3e93a.jpg\n",
            "Working on file  /content/gdrive/MyDrive/Data training/Nonenhanced Image/Nonenhanced_original_image20.jpg_b9677ef1-4e26-448d-8441-31f956da3a97.jpg\n",
            "Working on file  /content/gdrive/MyDrive/Data training/Nonenhanced Image/Nonenhanced_original_image20.jpg_bb519b8e-1f2d-4f63-9468-d457d1aedd1e.jpg\n",
            "Working on file  /content/gdrive/MyDrive/Data training/Nonenhanced Image/Nonenhanced_original_image20.jpg_d2651210-6114-473d-a924-6ceca367aee1.jpg\n",
            "Working on file  /content/gdrive/MyDrive/Data training/Nonenhanced Image/Nonenhanced_original_image20.jpg_e505a835-2111-419f-a32f-0a8ef49db342.jpg\n",
            "Working on file  /content/gdrive/MyDrive/Data training/Nonenhanced Image/Nonenhanced_original_image21.jpg_0a1a3967-f81d-4e6f-a928-ae082de66cf2.jpg\n",
            "Working on file  /content/gdrive/MyDrive/Data training/Nonenhanced Image/Nonenhanced_original_image21.jpg_34f98c2b-66ab-4cde-8058-c875f82287f4.jpg\n",
            "Working on file  /content/gdrive/MyDrive/Data training/Nonenhanced Image/Nonenhanced_original_image21.jpg_39170894-3074-415e-92d9-9d3541e617c4.jpg\n",
            "Working on file  /content/gdrive/MyDrive/Data training/Nonenhanced Image/Nonenhanced_original_image21.jpg_73dc2e28-dbc8-4eb1-b414-8a524f04138a.jpg\n",
            "Working on file  /content/gdrive/MyDrive/Data training/Nonenhanced Image/Nonenhanced_original_image21.jpg_8549abde-0c09-4f1a-84cc-c72fbfd7b079.jpg\n",
            "Working on file  /content/gdrive/MyDrive/Data training/Nonenhanced Image/Nonenhanced_original_image21.jpg_915b8d54-4016-4d78-955b-ae4bf5b0f57a.jpg\n",
            "Working on file  /content/gdrive/MyDrive/Data training/Nonenhanced Image/Nonenhanced_original_image21.jpg_abbf5aee-98b2-40f2-b0b7-736b4ed686ff.jpg\n",
            "Working on file  /content/gdrive/MyDrive/Data training/Nonenhanced Image/Nonenhanced_original_image21.jpg_bcf4f72b-7f57-465e-b392-9d05166efd90.jpg\n",
            "Working on file  /content/gdrive/MyDrive/Data training/Nonenhanced Image/Nonenhanced_original_image21.jpg_d0700cb5-b084-4eb9-acf2-bf5ec10fb7f3.jpg\n",
            "Working on file  /content/gdrive/MyDrive/Data training/Nonenhanced Image/Nonenhanced_original_image21.jpg_d1a92f09-bbe2-4419-afe7-24b44544777c.jpg\n",
            "Working on file  /content/gdrive/MyDrive/Data training/Nonenhanced Image/Nonenhanced_original_image21.jpg_d38ebe64-3069-4d29-99f1-6602cc159ff7.jpg\n",
            "Working on file  /content/gdrive/MyDrive/Data training/Nonenhanced Image/Nonenhanced_original_image21.jpg_f0471445-8274-4ad5-8108-3269e4b46659.jpg\n",
            "Working on file  /content/gdrive/MyDrive/Data training/Nonenhanced Image/Nonenhanced_original_image22.jpg_0689610e-e30f-47ec-943d-518a5cbe25b7.jpg\n",
            "Working on file  /content/gdrive/MyDrive/Data training/Nonenhanced Image/Nonenhanced_original_image22.jpg_24252211-07f1-490f-8b37-7afd43095742.jpg\n",
            "Working on file  /content/gdrive/MyDrive/Data training/Nonenhanced Image/Nonenhanced_original_image22.jpg_2b3616a3-f7d6-4530-bf7a-3ce76fc25d5e.jpg\n",
            "Working on file  /content/gdrive/MyDrive/Data training/Nonenhanced Image/Nonenhanced_original_image22.jpg_34b3b944-5a25-4e52-b77a-d9101a17e645.jpg\n",
            "Working on file  /content/gdrive/MyDrive/Data training/Nonenhanced Image/Nonenhanced_original_image22.jpg_50427b05-89ff-4d60-982c-5270216270b6.jpg\n",
            "Working on file  /content/gdrive/MyDrive/Data training/Nonenhanced Image/Nonenhanced_original_image22.jpg_580f5d85-08aa-4e0b-92dc-63f3fed5d413.jpg\n",
            "Working on file  /content/gdrive/MyDrive/Data training/Nonenhanced Image/Nonenhanced_original_image22.jpg_6c4fa145-81dc-4dd7-8b94-71eaa5ad1a23.jpg\n",
            "Working on file  /content/gdrive/MyDrive/Data training/Nonenhanced Image/Nonenhanced_original_image22.jpg_729e3d9b-e85d-498c-b464-d904ea1d32bc.jpg\n",
            "Working on file  /content/gdrive/MyDrive/Data training/Nonenhanced Image/Nonenhanced_original_image22.jpg_a450e3f4-96ff-4e94-b14c-0785ad2ff0da.jpg\n",
            "Working on file  /content/gdrive/MyDrive/Data training/Nonenhanced Image/Nonenhanced_original_image22.jpg_a900353a-7012-41f2-924c-a71064ef0103.jpg\n",
            "Working on file  /content/gdrive/MyDrive/Data training/Nonenhanced Image/Nonenhanced_original_image22.jpg_b1013a24-4824-46e5-9755-a86be7ae6107.jpg\n",
            "Working on file  /content/gdrive/MyDrive/Data training/Nonenhanced Image/Nonenhanced_original_image22.jpg_cb8cee5e-123a-4991-9df3-6052e86fa779.jpg\n",
            "Working on file  /content/gdrive/MyDrive/Data training/Nonenhanced Image/Nonenhanced_original_image22.jpg_cc51961c-7d59-48ed-b946-a7ff81e208d5.jpg\n",
            "Working on file  /content/gdrive/MyDrive/Data training/Nonenhanced Image/Nonenhanced_original_image22.jpg_d7668db5-9d14-42cc-90fc-c5915e8c7026.jpg\n",
            "Working on file  /content/gdrive/MyDrive/Data training/Nonenhanced Image/Nonenhanced_original_image22.jpg_f73f2f1b-b79c-4ac0-8959-c04a4138c1a1.jpg\n",
            "Working on file  /content/gdrive/MyDrive/Data training/Nonenhanced Image/Nonenhanced_original_image22.jpg_f9e49304-46f1-4d69-b917-8fa7c6846460.jpg\n",
            "Working on file  /content/gdrive/MyDrive/Data training/Nonenhanced Image/Nonenhanced_original_image23.jpg_0671dc98-e0c0-49b5-8b89-b84ab45ad85c.jpg\n",
            "Working on file  /content/gdrive/MyDrive/Data training/Nonenhanced Image/Nonenhanced_original_image23.jpg_157225c8-b042-4a00-b03d-0857398540bc.jpg\n",
            "Working on file  /content/gdrive/MyDrive/Data training/Nonenhanced Image/Nonenhanced_original_image23.jpg_3a76cb6f-e761-4f73-acbe-8ac6eb16c940.jpg\n",
            "Working on file  /content/gdrive/MyDrive/Data training/Nonenhanced Image/Nonenhanced_original_image23.jpg_71d53c25-22e6-4dcd-a461-189ae835fa45.jpg\n",
            "Working on file  /content/gdrive/MyDrive/Data training/Nonenhanced Image/Nonenhanced_original_image23.jpg_90c76010-1a5d-4f81-9192-8baa6fead62d.jpg\n",
            "Working on file  /content/gdrive/MyDrive/Data training/Nonenhanced Image/Nonenhanced_original_image23.jpg_a57ab5c9-5e8c-4045-b096-6699a3d3a932.jpg\n",
            "Working on file  /content/gdrive/MyDrive/Data training/Nonenhanced Image/Nonenhanced_original_image23.jpg_ab3688bc-5825-4bf5-b38a-a90b66351f3a.jpg\n",
            "Working on file  /content/gdrive/MyDrive/Data training/Nonenhanced Image/Nonenhanced_original_image23.jpg_c442ab20-643b-4018-bbe5-c849fba1718e.jpg\n",
            "Working on file  /content/gdrive/MyDrive/Data training/Nonenhanced Image/Nonenhanced_original_image23.jpg_d204620f-ed16-4746-b53a-b06a9bf00349.jpg\n",
            "Working on file  /content/gdrive/MyDrive/Data training/Nonenhanced Image/Nonenhanced_original_image23.jpg_e59557d8-ecc7-4cbc-8e29-2b5c0901c1d3.jpg\n",
            "Working on file  /content/gdrive/MyDrive/Data training/Nonenhanced Image/Nonenhanced_original_image24.jpg_11530733-fd00-45f8-8891-7e0edba00f33.jpg\n",
            "Working on file  /content/gdrive/MyDrive/Data training/Nonenhanced Image/Nonenhanced_original_image24.jpg_20c002e3-7a9b-4a6b-b818-1e4129189dc4.jpg\n",
            "Working on file  /content/gdrive/MyDrive/Data training/Nonenhanced Image/Nonenhanced_original_image24.jpg_2ec8f698-d5e1-42c8-840a-f43b5d239e7d.jpg\n",
            "Working on file  /content/gdrive/MyDrive/Data training/Nonenhanced Image/Nonenhanced_original_image24.jpg_32b1a0b1-17d2-4bcc-b9ec-eab5b73e0e00.jpg\n",
            "Working on file  /content/gdrive/MyDrive/Data training/Nonenhanced Image/Nonenhanced_original_image24.jpg_3dd5212c-d76b-4f8b-a000-76e2bded83f5.jpg\n",
            "Working on file  /content/gdrive/MyDrive/Data training/Nonenhanced Image/Nonenhanced_original_image24.jpg_b53c2e52-921a-4126-b069-c21077d30d40.jpg\n",
            "Working on file  /content/gdrive/MyDrive/Data training/Nonenhanced Image/Nonenhanced_original_image24.jpg_ce4bec0e-f7bd-48ad-8219-baff19b074aa.jpg\n",
            "Working on file  /content/gdrive/MyDrive/Data training/Nonenhanced Image/Nonenhanced_original_image24.jpg_e7638ff5-6ccd-4555-a83b-9a5c2e290fe5.jpg\n",
            "Working on file  /content/gdrive/MyDrive/Data training/Nonenhanced Image/Nonenhanced_original_image25.jpg_053ad4c0-0bb6-4a8e-9db2-19cc900c1b81.jpg\n",
            "Working on file  /content/gdrive/MyDrive/Data training/Nonenhanced Image/Nonenhanced_original_image25.jpg_0b60aa34-c870-4171-966e-2e6dcf16af41.jpg\n",
            "Working on file  /content/gdrive/MyDrive/Data training/Nonenhanced Image/Nonenhanced_original_image25.jpg_2f48a621-ede7-44d1-9f72-cd7776c6d66d.jpg\n",
            "Working on file  /content/gdrive/MyDrive/Data training/Nonenhanced Image/Nonenhanced_original_image25.jpg_3c08b2b4-ca0e-4714-9168-a29d2dc5a6d6.jpg\n",
            "Working on file  /content/gdrive/MyDrive/Data training/Nonenhanced Image/Nonenhanced_original_image25.jpg_4995640e-de1c-461c-9042-c81e63a8e5d5.jpg\n",
            "Working on file  /content/gdrive/MyDrive/Data training/Nonenhanced Image/Nonenhanced_original_image25.jpg_5b791ad4-f626-4cc6-86e3-dfb2503e06d1.jpg\n",
            "Working on file  /content/gdrive/MyDrive/Data training/Nonenhanced Image/Nonenhanced_original_image25.jpg_78faa6b8-456c-4a78-9969-b7ea43f34478.jpg\n",
            "Working on file  /content/gdrive/MyDrive/Data training/Nonenhanced Image/Nonenhanced_original_image25.jpg_9b235073-c568-457f-99e0-693eb3031c63.jpg\n",
            "Working on file  /content/gdrive/MyDrive/Data training/Nonenhanced Image/Nonenhanced_original_image25.jpg_d6d617e7-5333-48c3-b334-4c29f6bddb7f.jpg\n",
            "Working on file  /content/gdrive/MyDrive/Data training/Nonenhanced Image/Nonenhanced_original_image25.jpg_dbb9a604-f377-434c-ba79-fa3464c76a9e.jpg\n",
            "Working on file  /content/gdrive/MyDrive/Data training/Nonenhanced Image/Nonenhanced_original_image26.jpg_00e74abb-bf67-4fac-9c17-79080b5c7de9.jpg\n",
            "Working on file  /content/gdrive/MyDrive/Data training/Nonenhanced Image/Nonenhanced_original_image26.jpg_31c4c5fa-0220-4889-a9e3-5a6c4bafb4c8.jpg\n",
            "Working on file  /content/gdrive/MyDrive/Data training/Nonenhanced Image/Nonenhanced_original_image26.jpg_38065c4b-c6bc-4821-849f-4f6e0f8fcb86.jpg\n",
            "Working on file  /content/gdrive/MyDrive/Data training/Nonenhanced Image/Nonenhanced_original_image26.jpg_3dba8610-91f8-40d1-84b1-fa5b86b37709.jpg\n",
            "Working on file  /content/gdrive/MyDrive/Data training/Nonenhanced Image/Nonenhanced_original_image26.jpg_72362a99-b9c7-4007-846b-6c33424d4813.jpg\n",
            "Working on file  /content/gdrive/MyDrive/Data training/Nonenhanced Image/Nonenhanced_original_image26.jpg_9608d785-ed73-4ddb-b0a7-af4775081ac1.jpg\n",
            "Working on file  /content/gdrive/MyDrive/Data training/Nonenhanced Image/Nonenhanced_original_image26.jpg_a953f2a0-d6c8-4b45-87b7-95af352b318d.jpg\n",
            "Working on file  /content/gdrive/MyDrive/Data training/Nonenhanced Image/Nonenhanced_original_image26.jpg_d57eb7dc-c90c-4419-b4e4-aa9a207f4d7f.jpg\n",
            "Working on file  /content/gdrive/MyDrive/Data training/Nonenhanced Image/Nonenhanced_original_image26.jpg_ec2586ab-d58a-4a97-ba64-3541258bf468.jpg\n",
            "Working on file  /content/gdrive/MyDrive/Data training/Nonenhanced Image/Nonenhanced_original_image26.jpg_fa1f5848-f099-4218-9c8c-604b79661a4c.jpg\n",
            "Working on file  /content/gdrive/MyDrive/Data training/Nonenhanced Image/Nonenhanced_original_image27.jpg_21434510-21fa-4e15-b8df-c19af3ba284d.jpg\n",
            "Working on file  /content/gdrive/MyDrive/Data training/Nonenhanced Image/Nonenhanced_original_image27.jpg_2fc26d15-4592-4694-a25f-52ffceafa2d4.jpg\n",
            "Working on file  /content/gdrive/MyDrive/Data training/Nonenhanced Image/Nonenhanced_original_image27.jpg_37dd2157-5022-4317-b8c8-2c2fe39833eb.jpg\n",
            "Working on file  /content/gdrive/MyDrive/Data training/Nonenhanced Image/Nonenhanced_original_image27.jpg_98c7d087-0503-4a23-a705-d38ceb7067ca.jpg\n",
            "Working on file  /content/gdrive/MyDrive/Data training/Nonenhanced Image/Nonenhanced_original_image27.jpg_a25bb599-f0ae-4a58-9a7e-572309e4605e.jpg\n",
            "Working on file  /content/gdrive/MyDrive/Data training/Nonenhanced Image/Nonenhanced_original_image27.jpg_b166845b-ec41-4e98-860e-183a014ddf3f.jpg\n",
            "Working on file  /content/gdrive/MyDrive/Data training/Nonenhanced Image/Nonenhanced_original_image27.jpg_c0b0f8d4-bb60-4805-92b7-6162f5e5da8b.jpg\n",
            "Working on file  /content/gdrive/MyDrive/Data training/Nonenhanced Image/Nonenhanced_original_image27.jpg_c17cc5bf-19f4-4f77-9ed3-e7c62af48a33.jpg\n",
            "Working on file  /content/gdrive/MyDrive/Data training/Nonenhanced Image/Nonenhanced_original_image27.jpg_c5f0d17e-3890-4a62-b69a-de14c8d60e08.jpg\n",
            "Working on file  /content/gdrive/MyDrive/Data training/Nonenhanced Image/Nonenhanced_original_image27.jpg_c964dd54-c010-4444-bd12-c24b0ecf4de2.jpg\n",
            "Working on file  /content/gdrive/MyDrive/Data training/Nonenhanced Image/Nonenhanced_original_image27.jpg_cf98c82b-3f68-40b8-979e-9089109ea885.jpg\n",
            "Working on file  /content/gdrive/MyDrive/Data training/Nonenhanced Image/Nonenhanced_original_image27.jpg_d4b57a93-fd3f-4144-939e-6d5a912393bb.jpg\n",
            "Working on file  /content/gdrive/MyDrive/Data training/Nonenhanced Image/Nonenhanced_original_image28.jpg_0717a4d6-9714-4a7f-b921-14c0b8499dd3.jpg\n",
            "Working on file  /content/gdrive/MyDrive/Data training/Nonenhanced Image/Nonenhanced_original_image28.jpg_24fd5e7e-b92c-4d52-9a96-d3a7311d23fb.jpg\n",
            "Working on file  /content/gdrive/MyDrive/Data training/Nonenhanced Image/Nonenhanced_original_image28.jpg_2739b855-cc90-401b-8a17-caa99939e29f.jpg\n",
            "Working on file  /content/gdrive/MyDrive/Data training/Nonenhanced Image/Nonenhanced_original_image28.jpg_2b81a9a1-74b6-4cfa-906b-97959ba810dd.jpg\n",
            "Working on file  /content/gdrive/MyDrive/Data training/Nonenhanced Image/Nonenhanced_original_image28.jpg_41fcb238-b5b4-430a-b0da-d6037adec9a6.jpg\n",
            "Working on file  /content/gdrive/MyDrive/Data training/Nonenhanced Image/Nonenhanced_original_image28.jpg_6c1f27be-e58b-4734-8a37-ac60bcedd18c.jpg\n",
            "Working on file  /content/gdrive/MyDrive/Data training/Nonenhanced Image/Nonenhanced_original_image28.jpg_80b50c32-1ffc-4134-baab-ca2de76460d7.jpg\n",
            "Working on file  /content/gdrive/MyDrive/Data training/Nonenhanced Image/Nonenhanced_original_image28.jpg_90b6603a-abe9-46ef-a21f-4e7fe6d395c4.jpg\n",
            "Working on file  /content/gdrive/MyDrive/Data training/Nonenhanced Image/Nonenhanced_original_image28.jpg_9925e25d-6d19-4820-a778-44d71fade863.jpg\n",
            "Working on file  /content/gdrive/MyDrive/Data training/Nonenhanced Image/Nonenhanced_original_image28.jpg_de6b643f-9bc7-4c47-b52f-4358fcd251da.jpg\n",
            "Working on file  /content/gdrive/MyDrive/Data training/Nonenhanced Image/Nonenhanced_original_image28.jpg_f11abfea-c13c-43c3-8c14-76415605bb3a.jpg\n",
            "Working on file  /content/gdrive/MyDrive/Data training/Nonenhanced Image/Nonenhanced_original_image28.jpg_f813dab6-92b0-4740-b6f6-5c8472855f5f.jpg\n",
            "Working on file  /content/gdrive/MyDrive/Data training/Nonenhanced Image/Nonenhanced_original_image28.jpg_f9e1d68b-58e7-4c53-8d83-8f1e51b3efc3.jpg\n",
            "Working on file  /content/gdrive/MyDrive/Data training/Nonenhanced Image/Nonenhanced_original_image28.jpg_fc9236fc-0885-459e-b949-31e04eeea33f.jpg\n",
            "Working on file  /content/gdrive/MyDrive/Data training/Nonenhanced Image/Nonenhanced_original_image29.jpg_15278960-7dd4-424b-84d6-4993b9d73218.jpg\n",
            "Working on file  /content/gdrive/MyDrive/Data training/Nonenhanced Image/Nonenhanced_original_image29.jpg_18ba471a-779a-425b-b987-26a2cbe19496.jpg\n",
            "Working on file  /content/gdrive/MyDrive/Data training/Nonenhanced Image/Nonenhanced_original_image29.jpg_487199da-c2e5-4f55-8167-5b73087d9e5d.jpg\n",
            "Working on file  /content/gdrive/MyDrive/Data training/Nonenhanced Image/Nonenhanced_original_image29.jpg_610de13b-dbb2-4342-801b-b1289c540601.jpg\n",
            "Working on file  /content/gdrive/MyDrive/Data training/Nonenhanced Image/Nonenhanced_original_image29.jpg_85157fac-f01a-4d38-be5b-123f91415745.jpg\n",
            "Working on file  /content/gdrive/MyDrive/Data training/Nonenhanced Image/Nonenhanced_original_image29.jpg_88286e10-ce98-4901-bac3-b52b3694fd2d.jpg\n",
            "Working on file  /content/gdrive/MyDrive/Data training/Nonenhanced Image/Nonenhanced_original_image29.jpg_ab30ea3d-2f50-4a14-a874-855c0b03ce36.jpg\n",
            "Working on file  /content/gdrive/MyDrive/Data training/Nonenhanced Image/Nonenhanced_original_image29.jpg_b9e50e12-5c8a-4bbd-a076-ea8714647a30.jpg\n",
            "Working on file  /content/gdrive/MyDrive/Data training/Nonenhanced Image/Nonenhanced_original_image29.jpg_ca275b6d-7578-4e9b-a91f-0f22de0020a4.jpg\n",
            "Working on file  /content/gdrive/MyDrive/Data training/Nonenhanced Image/Nonenhanced_original_image29.jpg_e63a2542-f4c7-4f6e-9b46-59fa0469b715.jpg\n",
            "Working on file  /content/gdrive/MyDrive/Data training/Nonenhanced Image/Nonenhanced_original_image29.jpg_ebbee7a9-44f6-45b4-896c-352e86163c2c.jpg\n",
            "Working on file  /content/gdrive/MyDrive/Data training/Nonenhanced Image/Nonenhanced_original_image29.jpg_fb240ecf-7092-42ce-9b41-99dfc39eacd6.jpg\n",
            "Working on file  /content/gdrive/MyDrive/Data training/Nonenhanced Image/Nonenhanced_original_image3.jpg_063b9956-6d42-435a-8343-38b97ac8a9d0.jpg\n",
            "Working on file  /content/gdrive/MyDrive/Data training/Nonenhanced Image/Nonenhanced_original_image3.jpg_19e511b3-5a30-4268-b5de-93b816c28d12.jpg\n",
            "Working on file  /content/gdrive/MyDrive/Data training/Nonenhanced Image/Nonenhanced_original_image3.jpg_1f154d35-ac5f-4180-95ca-a6c6f6690581.jpg\n",
            "Working on file  /content/gdrive/MyDrive/Data training/Nonenhanced Image/Nonenhanced_original_image3.jpg_3100be2c-a3ab-4c6a-a575-bc1260b35f3c.jpg\n",
            "Working on file  /content/gdrive/MyDrive/Data training/Nonenhanced Image/Nonenhanced_original_image3.jpg_3f22c794-1866-4090-a03b-ed00265623ee.jpg\n",
            "Working on file  /content/gdrive/MyDrive/Data training/Nonenhanced Image/Nonenhanced_original_image3.jpg_46aabdb8-1008-47ad-af37-de23ea53abe3.jpg\n",
            "Working on file  /content/gdrive/MyDrive/Data training/Nonenhanced Image/Nonenhanced_original_image3.jpg_7bbbf422-3acb-4991-bf20-03a76362ddb9.jpg\n",
            "Working on file  /content/gdrive/MyDrive/Data training/Nonenhanced Image/Nonenhanced_original_image3.jpg_801821e4-c78e-461f-b911-6d955a789708.jpg\n",
            "Working on file  /content/gdrive/MyDrive/Data training/Nonenhanced Image/Nonenhanced_original_image3.jpg_839b14a2-9e93-44ac-aa37-7523256321e3.jpg\n",
            "Working on file  /content/gdrive/MyDrive/Data training/Nonenhanced Image/Nonenhanced_original_image3.jpg_8afcf184-f4c1-49f8-b242-0d87939e9fe7.jpg\n",
            "Working on file  /content/gdrive/MyDrive/Data training/Nonenhanced Image/Nonenhanced_original_image3.jpg_941e4a67-8544-4652-9500-18057b3dd0e3.jpg\n",
            "Working on file  /content/gdrive/MyDrive/Data training/Nonenhanced Image/Nonenhanced_original_image3.jpg_a3f5536c-893e-4818-83a9-5e97f6f8c231.jpg\n",
            "Working on file  /content/gdrive/MyDrive/Data training/Nonenhanced Image/Nonenhanced_original_image3.jpg_b2a525e4-1aa3-4241-bb62-8bbeadbd3966.jpg\n",
            "Working on file  /content/gdrive/MyDrive/Data training/Nonenhanced Image/Nonenhanced_original_image3.jpg_da09f828-006c-4607-9406-d8a6ec63e652.jpg\n",
            "Working on file  /content/gdrive/MyDrive/Data training/Nonenhanced Image/Nonenhanced_original_image30.jpg_077a4dd9-ccbe-4998-91ae-9775e097ed72.jpg\n",
            "Working on file  /content/gdrive/MyDrive/Data training/Nonenhanced Image/Nonenhanced_original_image30.jpg_10f44b39-4c71-4fe3-98df-0adfaccec19d.jpg\n",
            "Working on file  /content/gdrive/MyDrive/Data training/Nonenhanced Image/Nonenhanced_original_image30.jpg_23a011d6-2bed-4151-a0ba-4fe7fe33265a.jpg\n",
            "Working on file  /content/gdrive/MyDrive/Data training/Nonenhanced Image/Nonenhanced_original_image30.jpg_2a6762b2-3b6f-4a14-b47e-840cd362dcb5.jpg\n",
            "Working on file  /content/gdrive/MyDrive/Data training/Nonenhanced Image/Nonenhanced_original_image30.jpg_5949d575-e7a4-4eb2-a12a-82f495956ca9.jpg\n",
            "Working on file  /content/gdrive/MyDrive/Data training/Nonenhanced Image/Nonenhanced_original_image30.jpg_86f32681-88ec-4dc6-b44f-f236fb730715.jpg\n",
            "Working on file  /content/gdrive/MyDrive/Data training/Nonenhanced Image/Nonenhanced_original_image30.jpg_a8f564cf-d5b3-41c7-8094-6195062822a7.jpg\n",
            "Working on file  /content/gdrive/MyDrive/Data training/Nonenhanced Image/Nonenhanced_original_image30.jpg_c1c3200d-0103-4c68-8229-cba20239a593.jpg\n",
            "Working on file  /content/gdrive/MyDrive/Data training/Nonenhanced Image/Nonenhanced_original_image30.jpg_cd6d0e51-37b6-4468-9647-2b9ebac23a89.jpg\n",
            "Working on file  /content/gdrive/MyDrive/Data training/Nonenhanced Image/Nonenhanced_original_image31.jpg_094caf87-1470-4057-ab2a-7fe1fddb7fed.jpg\n",
            "Working on file  /content/gdrive/MyDrive/Data training/Nonenhanced Image/Nonenhanced_original_image31.jpg_1383fdfc-9110-4d82-a50a-1d37cde8115e.jpg\n",
            "Working on file  /content/gdrive/MyDrive/Data training/Nonenhanced Image/Nonenhanced_original_image31.jpg_24f01e9a-57c8-40e6-ae0f-00868f299041.jpg\n",
            "Working on file  /content/gdrive/MyDrive/Data training/Nonenhanced Image/Nonenhanced_original_image31.jpg_2c9e24be-694c-4d2d-a895-2641672c6fa7.jpg\n",
            "Working on file  /content/gdrive/MyDrive/Data training/Nonenhanced Image/Nonenhanced_original_image31.jpg_31b8801e-eb18-45d8-bb00-13b12dc2b610.jpg\n",
            "Working on file  /content/gdrive/MyDrive/Data training/Nonenhanced Image/Nonenhanced_original_image31.jpg_39e557a8-0321-4a5a-890e-fda188aac8e1.jpg\n",
            "Working on file  /content/gdrive/MyDrive/Data training/Nonenhanced Image/Nonenhanced_original_image31.jpg_403dcde6-026f-4189-a851-b7ed09cd1267.jpg\n",
            "Working on file  /content/gdrive/MyDrive/Data training/Nonenhanced Image/Nonenhanced_original_image31.jpg_74991f0b-fe33-40bd-8fc8-db14adb20639.jpg\n",
            "Working on file  /content/gdrive/MyDrive/Data training/Nonenhanced Image/Nonenhanced_original_image31.jpg_7bc9e4bd-7b78-480e-b8a6-31344334632e.jpg\n",
            "Working on file  /content/gdrive/MyDrive/Data training/Nonenhanced Image/Nonenhanced_original_image31.jpg_91bcb90a-e5c8-4e97-b34d-1af04b095898.jpg\n",
            "Working on file  /content/gdrive/MyDrive/Data training/Nonenhanced Image/Nonenhanced_original_image31.jpg_9541a514-c0d6-46d9-bc54-486af65965ff.jpg\n",
            "Working on file  /content/gdrive/MyDrive/Data training/Nonenhanced Image/Nonenhanced_original_image31.jpg_a7373e44-ce68-4ac3-b2df-6a9549c124f5.jpg\n",
            "Working on file  /content/gdrive/MyDrive/Data training/Nonenhanced Image/Nonenhanced_original_image31.jpg_b43cf908-8059-4eb4-bc6d-fc3ebed0231a.jpg\n",
            "Working on file  /content/gdrive/MyDrive/Data training/Nonenhanced Image/Nonenhanced_original_image31.jpg_d9f52678-35a4-4c1a-a710-2e7117dbda85.jpg\n",
            "Working on file  /content/gdrive/MyDrive/Data training/Nonenhanced Image/Nonenhanced_original_image31.jpg_da9dd8d0-94f6-42fa-8faf-fc4336e5acf5.jpg\n",
            "Working on file  /content/gdrive/MyDrive/Data training/Nonenhanced Image/Nonenhanced_original_image31.jpg_e5b0a436-7be7-4e51-b316-200786801f37.jpg\n",
            "Working on file  /content/gdrive/MyDrive/Data training/Nonenhanced Image/Nonenhanced_original_image31.jpg_f058d3d1-4e53-4f5c-8c5d-8538797c9122.jpg\n",
            "Working on file  /content/gdrive/MyDrive/Data training/Nonenhanced Image/Nonenhanced_original_image31.jpg_fd27d729-b37e-41e6-9de7-6b3f9db723f6.jpg\n",
            "Working on file  /content/gdrive/MyDrive/Data training/Nonenhanced Image/Nonenhanced_original_image31.jpg_fdba4530-0d7a-4f76-891c-be4a5738c459.jpg\n",
            "Working on file  /content/gdrive/MyDrive/Data training/Nonenhanced Image/Nonenhanced_original_image32.jpg_166c6792-d84e-47e2-818a-3a7398722404.jpg\n",
            "Working on file  /content/gdrive/MyDrive/Data training/Nonenhanced Image/Nonenhanced_original_image32.jpg_29b84d2c-502e-4b92-b4f3-af4cd2555878.jpg\n",
            "Working on file  /content/gdrive/MyDrive/Data training/Nonenhanced Image/Nonenhanced_original_image32.jpg_2c750668-923d-495e-9757-7ad9d384a3b9.jpg\n",
            "Working on file  /content/gdrive/MyDrive/Data training/Nonenhanced Image/Nonenhanced_original_image32.jpg_2eebce91-1cbf-4ead-86f9-468bf4e2df90.jpg\n",
            "Working on file  /content/gdrive/MyDrive/Data training/Nonenhanced Image/Nonenhanced_original_image32.jpg_49bb3c81-9a30-4d1e-b531-cf74a0a9b796.jpg\n",
            "Working on file  /content/gdrive/MyDrive/Data training/Nonenhanced Image/Nonenhanced_original_image32.jpg_63f45cb1-beb4-4afe-9d6d-cec39021d66b.jpg\n",
            "Working on file  /content/gdrive/MyDrive/Data training/Nonenhanced Image/Nonenhanced_original_image32.jpg_73163cef-d202-4556-96e5-6669c30667dd.jpg\n",
            "Working on file  /content/gdrive/MyDrive/Data training/Nonenhanced Image/Nonenhanced_original_image32.jpg_79a696af-c085-4552-8a1c-41791e712009.jpg\n",
            "Working on file  /content/gdrive/MyDrive/Data training/Nonenhanced Image/Nonenhanced_original_image32.jpg_814bbd01-9c98-43cd-8abd-8ffd885ddbc1.jpg\n",
            "Working on file  /content/gdrive/MyDrive/Data training/Nonenhanced Image/Nonenhanced_original_image32.jpg_93631937-8ffc-4b0a-a8b5-03e16f1de159.jpg\n",
            "Working on file  /content/gdrive/MyDrive/Data training/Nonenhanced Image/Nonenhanced_original_image32.jpg_95b54026-e119-49bc-9bbf-fc057c358d91.jpg\n",
            "Working on file  /content/gdrive/MyDrive/Data training/Nonenhanced Image/Nonenhanced_original_image32.jpg_b34fb5b4-8be0-413d-ac8f-fde80a9462d4.jpg\n",
            "Working on file  /content/gdrive/MyDrive/Data training/Nonenhanced Image/Nonenhanced_original_image32.jpg_df6a5c7f-3e50-49fb-8d42-6a04b8754f45.jpg\n",
            "Working on file  /content/gdrive/MyDrive/Data training/Nonenhanced Image/Nonenhanced_original_image33.jpg_28c5c93b-e738-4c0b-a4ac-a11372b698ad.jpg\n",
            "Working on file  /content/gdrive/MyDrive/Data training/Nonenhanced Image/Nonenhanced_original_image33.jpg_3d9bf4db-0f97-45c4-b708-b386322310d9.jpg\n",
            "Working on file  /content/gdrive/MyDrive/Data training/Nonenhanced Image/Nonenhanced_original_image33.jpg_45658700-ed19-47fe-8e0c-e06a26be82ea.jpg\n",
            "Working on file  /content/gdrive/MyDrive/Data training/Nonenhanced Image/Nonenhanced_original_image33.jpg_4a7787d9-c2ff-4d7e-9b67-c9775701aab8.jpg\n",
            "Working on file  /content/gdrive/MyDrive/Data training/Nonenhanced Image/Nonenhanced_original_image33.jpg_68c7d6ee-8c53-4fad-afd1-6f399b3d4135.jpg\n",
            "Working on file  /content/gdrive/MyDrive/Data training/Nonenhanced Image/Nonenhanced_original_image33.jpg_967ab1ef-a68a-4983-b479-4c8aa60efbf4.jpg\n",
            "Working on file  /content/gdrive/MyDrive/Data training/Nonenhanced Image/Nonenhanced_original_image33.jpg_9afb30ce-3c22-4b2b-9094-a689476dfb7c.jpg\n",
            "Working on file  /content/gdrive/MyDrive/Data training/Nonenhanced Image/Nonenhanced_original_image33.jpg_c77a8217-3db1-4892-b252-87ea88e5c00d.jpg\n",
            "Working on file  /content/gdrive/MyDrive/Data training/Nonenhanced Image/Nonenhanced_original_image34.jpg_039327d8-aa5a-4aab-8b54-b0ed5dcb4ad3.jpg\n",
            "Working on file  /content/gdrive/MyDrive/Data training/Nonenhanced Image/Nonenhanced_original_image34.jpg_0ad92ff6-93c0-4863-a8b5-9ddb45af071a.jpg\n",
            "Working on file  /content/gdrive/MyDrive/Data training/Nonenhanced Image/Nonenhanced_original_image34.jpg_13119787-b1fd-4efe-bc69-f45ed06285fb.jpg\n",
            "Working on file  /content/gdrive/MyDrive/Data training/Nonenhanced Image/Nonenhanced_original_image34.jpg_13b05b16-c910-443e-8676-8bb067ab9bfa.jpg\n",
            "Working on file  /content/gdrive/MyDrive/Data training/Nonenhanced Image/Nonenhanced_original_image34.jpg_18d86299-facf-43e1-b321-321621e3ec5b.jpg\n",
            "Working on file  /content/gdrive/MyDrive/Data training/Nonenhanced Image/Nonenhanced_original_image34.jpg_1cb41e59-77dd-45fa-b930-0c4d3ecef5c1.jpg\n",
            "Working on file  /content/gdrive/MyDrive/Data training/Nonenhanced Image/Nonenhanced_original_image34.jpg_818c5152-4a10-484f-9582-bab723cb31dd.jpg\n",
            "Working on file  /content/gdrive/MyDrive/Data training/Nonenhanced Image/Nonenhanced_original_image34.jpg_84268240-e3d3-4b46-aec1-f9b78bfa2f8f.jpg\n",
            "Working on file  /content/gdrive/MyDrive/Data training/Nonenhanced Image/Nonenhanced_original_image34.jpg_8800a08f-7f80-41d1-9fdd-11688d785bf6.jpg\n",
            "Working on file  /content/gdrive/MyDrive/Data training/Nonenhanced Image/Nonenhanced_original_image34.jpg_8ab56065-0c1e-4fb3-80ef-2c7f81972a9e.jpg\n",
            "Working on file  /content/gdrive/MyDrive/Data training/Nonenhanced Image/Nonenhanced_original_image34.jpg_9c2ca608-15b9-40c2-8291-eed20f995ce2.jpg\n",
            "Working on file  /content/gdrive/MyDrive/Data training/Nonenhanced Image/Nonenhanced_original_image34.jpg_a26154d3-d502-4afc-82b4-4a0fdf738640.jpg\n",
            "Working on file  /content/gdrive/MyDrive/Data training/Nonenhanced Image/Nonenhanced_original_image34.jpg_a3380716-e0f6-4d71-8015-f94fb7303023.jpg\n",
            "Working on file  /content/gdrive/MyDrive/Data training/Nonenhanced Image/Nonenhanced_original_image34.jpg_af8b51a9-a9ff-4568-89ac-7ddeb8d30c7a.jpg\n",
            "Working on file  /content/gdrive/MyDrive/Data training/Nonenhanced Image/Nonenhanced_original_image34.jpg_b6376f53-c699-4b7d-9e68-a737ed5a4674.jpg\n",
            "Working on file  /content/gdrive/MyDrive/Data training/Nonenhanced Image/Nonenhanced_original_image34.jpg_cab90774-1206-4b5f-8b27-32eaa09b4387.jpg\n",
            "Working on file  /content/gdrive/MyDrive/Data training/Nonenhanced Image/Nonenhanced_original_image34.jpg_ccc421c1-4498-45b2-a00f-ca84f33fa822.jpg\n",
            "Working on file  /content/gdrive/MyDrive/Data training/Nonenhanced Image/Nonenhanced_original_image34.jpg_f62f5079-9cc8-44b4-be85-1fc45f319b6d.jpg\n",
            "Working on file  /content/gdrive/MyDrive/Data training/Nonenhanced Image/Nonenhanced_original_image34.jpg_fded6605-8a5b-427a-8c83-c046a2157644.jpg\n",
            "Working on file  /content/gdrive/MyDrive/Data training/Nonenhanced Image/Nonenhanced_original_image35.jpg_1e6774a6-0faa-439f-95c6-82667114dd71.jpg\n",
            "Working on file  /content/gdrive/MyDrive/Data training/Nonenhanced Image/Nonenhanced_original_image35.jpg_1f75f273-4d67-4263-91d0-5590c4b0957a.jpg\n",
            "Working on file  /content/gdrive/MyDrive/Data training/Nonenhanced Image/Nonenhanced_original_image35.jpg_28a07565-48ae-4de1-bb4a-c6474aae4973.jpg\n",
            "Working on file  /content/gdrive/MyDrive/Data training/Nonenhanced Image/Nonenhanced_original_image35.jpg_645d8508-c9e6-49b0-b8e7-c33de39ff83c.jpg\n",
            "Working on file  /content/gdrive/MyDrive/Data training/Nonenhanced Image/Nonenhanced_original_image35.jpg_b7e15e9e-24bc-4ea7-8e05-f6976569b6c5.jpg\n",
            "Working on file  /content/gdrive/MyDrive/Data training/Nonenhanced Image/Nonenhanced_original_image35.jpg_d99b0609-b5a9-4d13-9c9d-cdbbdd9ecc95.jpg\n",
            "Working on file  /content/gdrive/MyDrive/Data training/Nonenhanced Image/Nonenhanced_original_image35.jpg_f2f14b1b-289a-4126-b596-feb2cecd1e20.jpg\n",
            "Working on file  /content/gdrive/MyDrive/Data training/Nonenhanced Image/Nonenhanced_original_image35.jpg_fc58fbcf-e34e-4a83-81b6-796e1aa3e482.jpg\n",
            "Working on file  /content/gdrive/MyDrive/Data training/Nonenhanced Image/Nonenhanced_original_image36.jpg_155694ff-12ad-461a-b3f2-68e40246d17b.jpg\n",
            "Working on file  /content/gdrive/MyDrive/Data training/Nonenhanced Image/Nonenhanced_original_image36.jpg_6493ea13-ef89-4582-9422-50c3cf24ac66.jpg\n",
            "Working on file  /content/gdrive/MyDrive/Data training/Nonenhanced Image/Nonenhanced_original_image36.jpg_6e3c6cf8-069d-4dbb-a06a-f4e6cf1c97be.jpg\n",
            "Working on file  /content/gdrive/MyDrive/Data training/Nonenhanced Image/Nonenhanced_original_image36.jpg_872d3d9e-90b9-4674-b176-ecaec8c081d1.jpg\n",
            "Working on file  /content/gdrive/MyDrive/Data training/Nonenhanced Image/Nonenhanced_original_image36.jpg_88f13df7-61ec-4fea-ad1a-0cf0d02d9c88.jpg\n",
            "Working on file  /content/gdrive/MyDrive/Data training/Nonenhanced Image/Nonenhanced_original_image36.jpg_eb9b1aff-1976-441c-9cd3-752e87dc81ba.jpg\n",
            "Working on file  /content/gdrive/MyDrive/Data training/Nonenhanced Image/Nonenhanced_original_image37.jpg_2c8e74b4-34d4-40a2-a8b7-ba600430df7a.jpg\n",
            "Working on file  /content/gdrive/MyDrive/Data training/Nonenhanced Image/Nonenhanced_original_image37.jpg_4e18f50f-40b3-4b4f-8e6e-655f96b054e4.jpg\n",
            "Working on file  /content/gdrive/MyDrive/Data training/Nonenhanced Image/Nonenhanced_original_image37.jpg_5d770dde-d294-47e1-aa2b-478607a20ac4.jpg\n",
            "Working on file  /content/gdrive/MyDrive/Data training/Nonenhanced Image/Nonenhanced_original_image37.jpg_68add3e6-bd64-4bf5-8b4d-e1f071b15459.jpg\n",
            "Working on file  /content/gdrive/MyDrive/Data training/Nonenhanced Image/Nonenhanced_original_image37.jpg_848f9d70-2a89-40ea-8c6b-f4eeb321738e.jpg\n",
            "Working on file  /content/gdrive/MyDrive/Data training/Nonenhanced Image/Nonenhanced_original_image37.jpg_8f045336-9296-40d8-881d-15f596fc8575.jpg\n",
            "Working on file  /content/gdrive/MyDrive/Data training/Nonenhanced Image/Nonenhanced_original_image37.jpg_a36d87e9-1aff-46c1-9691-5c3e19e404ef.jpg\n",
            "Working on file  /content/gdrive/MyDrive/Data training/Nonenhanced Image/Nonenhanced_original_image37.jpg_b485e1e6-5241-4bd4-a1d0-c300d5649784.jpg\n",
            "Working on file  /content/gdrive/MyDrive/Data training/Nonenhanced Image/Nonenhanced_original_image37.jpg_b8aea03f-79fc-4f77-99fc-7f8797be81b6.jpg\n",
            "Working on file  /content/gdrive/MyDrive/Data training/Nonenhanced Image/Nonenhanced_original_image37.jpg_e442fde3-a219-4a4d-a5ff-89ef7f61fb94.jpg\n",
            "Working on file  /content/gdrive/MyDrive/Data training/Nonenhanced Image/Nonenhanced_original_image37.jpg_f96b310d-0808-4d9e-986a-dd57f998651a.jpg\n",
            "Working on file  /content/gdrive/MyDrive/Data training/Nonenhanced Image/Nonenhanced_original_image38.jpg_345c447a-3f03-4dbc-ac4d-c2ee9e44663a.jpg\n",
            "Working on file  /content/gdrive/MyDrive/Data training/Nonenhanced Image/Nonenhanced_original_image38.jpg_361654fd-16da-4d41-b333-2ae8f584223d.jpg\n",
            "Working on file  /content/gdrive/MyDrive/Data training/Nonenhanced Image/Nonenhanced_original_image38.jpg_5d5b06f7-e3f3-4de6-a67a-c0dbfe27d628.jpg\n",
            "Working on file  /content/gdrive/MyDrive/Data training/Nonenhanced Image/Nonenhanced_original_image38.jpg_63af7c8c-3605-4aeb-97eb-2019798922a3.jpg\n",
            "Working on file  /content/gdrive/MyDrive/Data training/Nonenhanced Image/Nonenhanced_original_image38.jpg_6f586842-8088-418d-bb15-89e0a6279343.jpg\n",
            "Working on file  /content/gdrive/MyDrive/Data training/Nonenhanced Image/Nonenhanced_original_image38.jpg_734317bd-8d17-454f-8705-3fc52895aafb.jpg\n",
            "Working on file  /content/gdrive/MyDrive/Data training/Nonenhanced Image/Nonenhanced_original_image38.jpg_8e017e22-7495-4db1-8ef4-6273690605e6.jpg\n",
            "Working on file  /content/gdrive/MyDrive/Data training/Nonenhanced Image/Nonenhanced_original_image38.jpg_c0818885-4a32-4bd1-bf97-13dda05454fe.jpg\n",
            "Working on file  /content/gdrive/MyDrive/Data training/Nonenhanced Image/Nonenhanced_original_image38.jpg_c188fdec-b414-4bde-9ed3-926e12ae4389.jpg\n",
            "Working on file  /content/gdrive/MyDrive/Data training/Nonenhanced Image/Nonenhanced_original_image38.jpg_c1f90863-821d-40d8-bfe9-63e3d46de865.jpg\n",
            "Working on file  /content/gdrive/MyDrive/Data training/Nonenhanced Image/Nonenhanced_original_image38.jpg_ce515024-a64b-4dc2-b104-695ad4013038.jpg\n",
            "Working on file  /content/gdrive/MyDrive/Data training/Nonenhanced Image/Nonenhanced_original_image38.jpg_dd2716ae-a7a7-4df6-8bf0-bbe0830c9138.jpg\n",
            "Working on file  /content/gdrive/MyDrive/Data training/Nonenhanced Image/Nonenhanced_original_image38.jpg_fe281c2f-322b-42eb-af09-28bb6be66dfc.jpg\n",
            "Working on file  /content/gdrive/MyDrive/Data training/Nonenhanced Image/Nonenhanced_original_image39.jpg_1752d5b4-0bb8-4b91-b09e-44e0a5212367.jpg\n",
            "Working on file  /content/gdrive/MyDrive/Data training/Nonenhanced Image/Nonenhanced_original_image39.jpg_1bbcd307-81ea-47fe-b6f2-ee3aecda3438.jpg\n",
            "Working on file  /content/gdrive/MyDrive/Data training/Nonenhanced Image/Nonenhanced_original_image39.jpg_33c84e0c-af62-4439-b832-949082d8fa93.jpg\n",
            "Working on file  /content/gdrive/MyDrive/Data training/Nonenhanced Image/Nonenhanced_original_image39.jpg_616e9e67-d93c-4c07-86ec-cb6ac9c3a43f.jpg\n",
            "Working on file  /content/gdrive/MyDrive/Data training/Nonenhanced Image/Nonenhanced_original_image39.jpg_728b0c38-e8bc-4929-8ef0-db348adbc4c4.jpg\n",
            "Working on file  /content/gdrive/MyDrive/Data training/Nonenhanced Image/Nonenhanced_original_image39.jpg_745aaabd-b768-416d-a2d5-365228c446ad.jpg\n",
            "Working on file  /content/gdrive/MyDrive/Data training/Nonenhanced Image/Nonenhanced_original_image39.jpg_8def232a-7f3a-40bf-b4ff-3e06868431d1.jpg\n",
            "Working on file  /content/gdrive/MyDrive/Data training/Nonenhanced Image/Nonenhanced_original_image39.jpg_acd5349f-1e91-41d8-876a-3e190df1cce7.jpg\n",
            "Working on file  /content/gdrive/MyDrive/Data training/Nonenhanced Image/Nonenhanced_original_image39.jpg_bd26f1ea-c324-4784-a3f4-3361015dad78.jpg\n",
            "Working on file  /content/gdrive/MyDrive/Data training/Nonenhanced Image/Nonenhanced_original_image39.jpg_cf18594a-72b4-411f-a161-0aabc57122d9.jpg\n",
            "Working on file  /content/gdrive/MyDrive/Data training/Nonenhanced Image/Nonenhanced_original_image39.jpg_ebe2c392-0d02-47a7-9a45-f0a42b90a010.jpg\n",
            "Working on file  /content/gdrive/MyDrive/Data training/Nonenhanced Image/Nonenhanced_original_image39.jpg_f1fd7d2b-4633-47ef-916e-ff5f7bc51cf8.jpg\n",
            "Working on file  /content/gdrive/MyDrive/Data training/Nonenhanced Image/Nonenhanced_original_image39.jpg_ff3b5ffe-f62b-4663-862b-210a0deb295e.jpg\n",
            "Working on file  /content/gdrive/MyDrive/Data training/Nonenhanced Image/Nonenhanced_original_image4.jpg_36bc662a-2a9a-4ea3-94d2-529b58d7da7c.jpg\n",
            "Working on file  /content/gdrive/MyDrive/Data training/Nonenhanced Image/Nonenhanced_original_image4.jpg_4792defb-9584-4901-a1cd-9e1acadeab3a.jpg\n",
            "Working on file  /content/gdrive/MyDrive/Data training/Nonenhanced Image/Nonenhanced_original_image4.jpg_551b1c87-491a-4729-b9f9-134c928d50cc.jpg\n",
            "Working on file  /content/gdrive/MyDrive/Data training/Nonenhanced Image/Nonenhanced_original_image4.jpg_55cdcf37-016b-47a6-a408-c1e15ea86e4a.jpg\n",
            "Working on file  /content/gdrive/MyDrive/Data training/Nonenhanced Image/Nonenhanced_original_image4.jpg_6d83dbe8-51fb-4253-b5a0-682151eef6ac.jpg\n",
            "Working on file  /content/gdrive/MyDrive/Data training/Nonenhanced Image/Nonenhanced_original_image4.jpg_899e8d57-e417-4293-8320-637da4683cb4.jpg\n",
            "Working on file  /content/gdrive/MyDrive/Data training/Nonenhanced Image/Nonenhanced_original_image4.jpg_94fba73d-331c-4934-a24f-fc1b0a8e7141.jpg\n",
            "Working on file  /content/gdrive/MyDrive/Data training/Nonenhanced Image/Nonenhanced_original_image4.jpg_a1763440-6ff0-4770-9f57-8d4896f3e3c6.jpg\n",
            "Working on file  /content/gdrive/MyDrive/Data training/Nonenhanced Image/Nonenhanced_original_image4.jpg_c63fa80b-0bcb-4fd5-b65f-5a51b257eab9.jpg\n",
            "Working on file  /content/gdrive/MyDrive/Data training/Nonenhanced Image/Nonenhanced_original_image4.jpg_d056cfef-2637-4301-8fbd-1809e9666bf1.jpg\n",
            "Working on file  /content/gdrive/MyDrive/Data training/Nonenhanced Image/Nonenhanced_original_image4.jpg_dc808313-a239-4eeb-85ad-0796e357df83.jpg\n",
            "Working on file  /content/gdrive/MyDrive/Data training/Nonenhanced Image/Nonenhanced_original_image4.jpg_ed5f8f9c-a7cf-4fc0-9d37-9425e2f8b77d.jpg\n",
            "Working on file  /content/gdrive/MyDrive/Data training/Nonenhanced Image/Nonenhanced_original_image40.jpg_4857153e-0bb2-4229-a910-ad486105dcef.jpg\n",
            "Working on file  /content/gdrive/MyDrive/Data training/Nonenhanced Image/Nonenhanced_original_image40.jpg_6fdf0df2-37af-4fb3-8fa6-76c59b6f1c64.jpg\n",
            "Working on file  /content/gdrive/MyDrive/Data training/Nonenhanced Image/Nonenhanced_original_image40.jpg_9654cff6-e457-4a3c-97ad-745d67330d68.jpg\n",
            "Working on file  /content/gdrive/MyDrive/Data training/Nonenhanced Image/Nonenhanced_original_image40.jpg_a148b0b9-535b-4007-a099-ccb9b63ce18d.jpg\n",
            "Working on file  /content/gdrive/MyDrive/Data training/Nonenhanced Image/Nonenhanced_original_image40.jpg_a6e05e5a-5e25-4b52-bf42-599b175765a1.jpg\n",
            "Working on file  /content/gdrive/MyDrive/Data training/Nonenhanced Image/Nonenhanced_original_image40.jpg_c723dcf5-ff7e-421a-8e51-2f6a579ece41.jpg\n",
            "Working on file  /content/gdrive/MyDrive/Data training/Nonenhanced Image/Nonenhanced_original_image40.jpg_cd2cae06-34df-43d1-89a3-4739e42c3081.jpg\n",
            "Working on file  /content/gdrive/MyDrive/Data training/Nonenhanced Image/Nonenhanced_original_image40.jpg_cfd6c7e0-0721-4964-bf3b-229caa7305a9.jpg\n",
            "Working on file  /content/gdrive/MyDrive/Data training/Nonenhanced Image/Nonenhanced_original_image40.jpg_d7eea5fc-c709-42eb-a5bf-72521990c7b3.jpg\n",
            "Working on file  /content/gdrive/MyDrive/Data training/Nonenhanced Image/Nonenhanced_original_image40.jpg_de29b9da-a16c-40da-a0b0-be0e8c5f00ab.jpg\n",
            "Working on file  /content/gdrive/MyDrive/Data training/Nonenhanced Image/Nonenhanced_original_image41.jpg_2b6e7b01-6623-42fc-b787-36fa15424387.jpg\n",
            "Working on file  /content/gdrive/MyDrive/Data training/Nonenhanced Image/Nonenhanced_original_image41.jpg_47f53ddf-fee2-4207-88db-d82dd9a7a7a5.jpg\n",
            "Working on file  /content/gdrive/MyDrive/Data training/Nonenhanced Image/Nonenhanced_original_image41.jpg_6f16f3a3-9241-4db9-a7ed-2710cec44ebe.jpg\n",
            "Working on file  /content/gdrive/MyDrive/Data training/Nonenhanced Image/Nonenhanced_original_image41.jpg_83c41a7d-ae5b-4cec-91c4-90370798f05b.jpg\n",
            "Working on file  /content/gdrive/MyDrive/Data training/Nonenhanced Image/Nonenhanced_original_image41.jpg_9679a870-6ae0-43a4-9a6a-71e3e8a01eb0.jpg\n",
            "Working on file  /content/gdrive/MyDrive/Data training/Nonenhanced Image/Nonenhanced_original_image41.jpg_b6a437f0-3311-45de-80c2-a511c899374d.jpg\n",
            "Working on file  /content/gdrive/MyDrive/Data training/Nonenhanced Image/Nonenhanced_original_image41.jpg_d1e160f9-ff55-44a5-82f6-93bc96bec25e.jpg\n",
            "Working on file  /content/gdrive/MyDrive/Data training/Nonenhanced Image/Nonenhanced_original_image41.jpg_d46433b8-134d-498e-bccd-6a3ac1612b76.jpg\n",
            "Working on file  /content/gdrive/MyDrive/Data training/Nonenhanced Image/Nonenhanced_original_image41.jpg_d887b11c-b3b4-4f65-a07d-94c58453f757.jpg\n",
            "Working on file  /content/gdrive/MyDrive/Data training/Nonenhanced Image/Nonenhanced_original_image41.jpg_fa5d2a0c-6f4f-48ad-a72f-a0cbe51849d9.jpg\n",
            "Working on file  /content/gdrive/MyDrive/Data training/Nonenhanced Image/Nonenhanced_original_image41.jpg_fde08c85-6f87-4883-a61d-468285d92cc2.jpg\n",
            "Working on file  /content/gdrive/MyDrive/Data training/Nonenhanced Image/Nonenhanced_original_image42.jpg_01c8de89-51ff-4e75-8593-dd66372d03c0.jpg\n",
            "Working on file  /content/gdrive/MyDrive/Data training/Nonenhanced Image/Nonenhanced_original_image42.jpg_5d3618b3-000b-48d6-af49-398a6b9dd663.jpg\n",
            "Working on file  /content/gdrive/MyDrive/Data training/Nonenhanced Image/Nonenhanced_original_image42.jpg_5fe5a843-9edd-4343-a154-af3166c99f95.jpg\n",
            "Working on file  /content/gdrive/MyDrive/Data training/Nonenhanced Image/Nonenhanced_original_image42.jpg_91016357-1d1f-4ba8-a4e0-294423f5ef8c.jpg\n",
            "Working on file  /content/gdrive/MyDrive/Data training/Nonenhanced Image/Nonenhanced_original_image42.jpg_92e97228-d91b-41db-98ab-f4562b6dc44b.jpg\n",
            "Working on file  /content/gdrive/MyDrive/Data training/Nonenhanced Image/Nonenhanced_original_image42.jpg_9da96b93-0b9c-4761-b220-76b4ae03a71a.jpg\n",
            "Working on file  /content/gdrive/MyDrive/Data training/Nonenhanced Image/Nonenhanced_original_image42.jpg_b567b415-7096-4854-a91b-bf8668f44eec.jpg\n",
            "Working on file  /content/gdrive/MyDrive/Data training/Nonenhanced Image/Nonenhanced_original_image42.jpg_be6538d1-9c7c-400f-ab23-3c5ac38b1c5d.jpg\n",
            "Working on file  /content/gdrive/MyDrive/Data training/Nonenhanced Image/Nonenhanced_original_image42.jpg_cc966530-3804-44cb-8003-5d4e9ea0fd36.jpg\n",
            "Working on file  /content/gdrive/MyDrive/Data training/Nonenhanced Image/Nonenhanced_original_image42.jpg_e3c10ef3-0c0f-4a51-9555-ba0003bcead5.jpg\n",
            "Working on file  /content/gdrive/MyDrive/Data training/Nonenhanced Image/Nonenhanced_original_image42.jpg_ef7512b3-3560-4fdd-935f-526d535203ce.jpg\n",
            "Working on file  /content/gdrive/MyDrive/Data training/Nonenhanced Image/Nonenhanced_original_image43.jpg_03964df6-a0a1-4da0-992f-dffe04af15b3.jpg\n",
            "Working on file  /content/gdrive/MyDrive/Data training/Nonenhanced Image/Nonenhanced_original_image43.jpg_15be26f0-4a6a-4499-8cdd-9d8ea72a546d.jpg\n",
            "Working on file  /content/gdrive/MyDrive/Data training/Nonenhanced Image/Nonenhanced_original_image43.jpg_1a7e6aff-ad9b-4770-8b48-e90e7a7407ed.jpg\n",
            "Working on file  /content/gdrive/MyDrive/Data training/Nonenhanced Image/Nonenhanced_original_image43.jpg_1dc5db02-360f-43c6-bb23-e752ad7b103b.jpg\n",
            "Working on file  /content/gdrive/MyDrive/Data training/Nonenhanced Image/Nonenhanced_original_image43.jpg_20049286-3bd8-414e-a332-078d9e4b5279.jpg\n",
            "Working on file  /content/gdrive/MyDrive/Data training/Nonenhanced Image/Nonenhanced_original_image43.jpg_3aa78cf5-17f9-4075-8add-5f6c8163daf1.jpg\n",
            "Working on file  /content/gdrive/MyDrive/Data training/Nonenhanced Image/Nonenhanced_original_image43.jpg_744d2fe9-85c5-4538-adc6-d6002134397f.jpg\n",
            "Working on file  /content/gdrive/MyDrive/Data training/Nonenhanced Image/Nonenhanced_original_image43.jpg_909e6f73-dabd-42cd-bd9d-5b0967b584d4.jpg\n",
            "Working on file  /content/gdrive/MyDrive/Data training/Nonenhanced Image/Nonenhanced_original_image43.jpg_98cef0de-7d40-4ac4-8611-a3371834b232.jpg\n",
            "Working on file  /content/gdrive/MyDrive/Data training/Nonenhanced Image/Nonenhanced_original_image43.jpg_9f23b169-fe66-4927-9f5c-da5f042bb5a0.jpg\n",
            "Working on file  /content/gdrive/MyDrive/Data training/Nonenhanced Image/Nonenhanced_original_image43.jpg_a4437aff-67ab-432a-ba44-806b543a9b48.jpg\n",
            "Working on file  /content/gdrive/MyDrive/Data training/Nonenhanced Image/Nonenhanced_original_image43.jpg_b2fa8b7a-6f9e-4afe-b390-d367b69b851c.jpg\n",
            "Working on file  /content/gdrive/MyDrive/Data training/Nonenhanced Image/Nonenhanced_original_image43.jpg_bf98b5d2-189a-42ab-9859-414a32ce1989.jpg\n",
            "Working on file  /content/gdrive/MyDrive/Data training/Nonenhanced Image/Nonenhanced_original_image43.jpg_c472518a-38e4-4014-8829-d87db99abc89.jpg\n",
            "Working on file  /content/gdrive/MyDrive/Data training/Nonenhanced Image/Nonenhanced_original_image43.jpg_da6aea46-603b-42a4-9064-1e4a3bcb35f6.jpg\n",
            "Working on file  /content/gdrive/MyDrive/Data training/Nonenhanced Image/Nonenhanced_original_image43.jpg_f83bbd25-459f-4456-94af-01e864f628ae.jpg\n",
            "Working on file  /content/gdrive/MyDrive/Data training/Nonenhanced Image/Nonenhanced_original_image44.jpg_1167543d-b848-4013-bd0b-07d5361a7f42.jpg\n",
            "Working on file  /content/gdrive/MyDrive/Data training/Nonenhanced Image/Nonenhanced_original_image44.jpg_2729e32e-3d0f-43e1-a057-ecb00ff30b4f.jpg\n",
            "Working on file  /content/gdrive/MyDrive/Data training/Nonenhanced Image/Nonenhanced_original_image44.jpg_2a2e2177-2170-4e6a-9b64-7b32e2d8c83c.jpg\n",
            "Working on file  /content/gdrive/MyDrive/Data training/Nonenhanced Image/Nonenhanced_original_image44.jpg_3f3b2d27-a273-4d52-8f91-005c387a12c5.jpg\n",
            "Working on file  /content/gdrive/MyDrive/Data training/Nonenhanced Image/Nonenhanced_original_image44.jpg_62b185df-3ba7-4bbf-aaab-7e9ab13f47e1.jpg\n",
            "Working on file  /content/gdrive/MyDrive/Data training/Nonenhanced Image/Nonenhanced_original_image44.jpg_70c6ba71-9cc9-45ec-8669-a27d6c6e16cc.jpg\n",
            "Working on file  /content/gdrive/MyDrive/Data training/Nonenhanced Image/Nonenhanced_original_image44.jpg_7c5d0bbe-06b9-44fd-91d1-56dea61390de.jpg\n",
            "Working on file  /content/gdrive/MyDrive/Data training/Nonenhanced Image/Nonenhanced_original_image44.jpg_bd78e469-5d11-4f4c-aebb-533f0a43bb6d.jpg\n",
            "Working on file  /content/gdrive/MyDrive/Data training/Nonenhanced Image/Nonenhanced_original_image45.jpg_04a7f810-d432-420e-852e-22606f66e6ba.jpg\n",
            "Working on file  /content/gdrive/MyDrive/Data training/Nonenhanced Image/Nonenhanced_original_image45.jpg_2673367d-7128-4076-9a05-afb1e52eddc6.jpg\n",
            "Working on file  /content/gdrive/MyDrive/Data training/Nonenhanced Image/Nonenhanced_original_image45.jpg_2730e616-511e-4102-bb16-cebe91be6e83.jpg\n",
            "Working on file  /content/gdrive/MyDrive/Data training/Nonenhanced Image/Nonenhanced_original_image45.jpg_35c387d3-04bb-4213-8202-a2b8046aebb9.jpg\n",
            "Working on file  /content/gdrive/MyDrive/Data training/Nonenhanced Image/Nonenhanced_original_image45.jpg_567a711d-a353-4d56-8f5b-35d0db275e21.jpg\n",
            "Working on file  /content/gdrive/MyDrive/Data training/Nonenhanced Image/Nonenhanced_original_image45.jpg_5ea4b793-145f-4341-9934-1b8d08889da5.jpg\n",
            "Working on file  /content/gdrive/MyDrive/Data training/Nonenhanced Image/Nonenhanced_original_image45.jpg_71dfb4e7-9458-4c37-bf35-94f4a6b59dfe.jpg\n",
            "Working on file  /content/gdrive/MyDrive/Data training/Nonenhanced Image/Nonenhanced_original_image45.jpg_74105190-9adb-4de0-8c29-f57c1a5116eb.jpg\n",
            "Working on file  /content/gdrive/MyDrive/Data training/Nonenhanced Image/Nonenhanced_original_image45.jpg_7d697062-d012-4b97-ab8e-8eee2db46e1e.jpg\n",
            "Working on file  /content/gdrive/MyDrive/Data training/Nonenhanced Image/Nonenhanced_original_image45.jpg_801a5b41-82dd-47d1-85b1-c187fa1d17b5.jpg\n",
            "Working on file  /content/gdrive/MyDrive/Data training/Nonenhanced Image/Nonenhanced_original_image45.jpg_86b09db7-5531-4a77-a017-d21b52d26853.jpg\n",
            "Working on file  /content/gdrive/MyDrive/Data training/Nonenhanced Image/Nonenhanced_original_image45.jpg_abeb0eb8-c418-4b5a-8d5d-6d531fddec91.jpg\n",
            "Working on file  /content/gdrive/MyDrive/Data training/Nonenhanced Image/Nonenhanced_original_image45.jpg_b8e3225f-af53-479a-b23a-05cde863c836.jpg\n",
            "Working on file  /content/gdrive/MyDrive/Data training/Nonenhanced Image/Nonenhanced_original_image45.jpg_d081e57e-7178-4e23-9bbf-92198a8b8172.jpg\n",
            "Working on file  /content/gdrive/MyDrive/Data training/Nonenhanced Image/Nonenhanced_original_image45.jpg_fa49c5d8-2427-48e5-b424-53a0dcff1be5.jpg\n",
            "Working on file  /content/gdrive/MyDrive/Data training/Nonenhanced Image/Nonenhanced_original_image45.jpg_fbc97016-0929-4ac1-a1c3-32d7dbba9ed7.jpg\n",
            "Working on file  /content/gdrive/MyDrive/Data training/Nonenhanced Image/Nonenhanced_original_image46.jpg_02baf316-5612-47b7-a1db-0cf1cf9ff91e.jpg\n",
            "Working on file  /content/gdrive/MyDrive/Data training/Nonenhanced Image/Nonenhanced_original_image46.jpg_091b3f0c-2be9-4b3c-abf5-101bca2a3042.jpg\n",
            "Working on file  /content/gdrive/MyDrive/Data training/Nonenhanced Image/Nonenhanced_original_image46.jpg_0e62998a-f314-4bf1-bc6f-c8ced71452e7.jpg\n",
            "Working on file  /content/gdrive/MyDrive/Data training/Nonenhanced Image/Nonenhanced_original_image46.jpg_11a65f2a-b34e-4f68-b11b-71501c0a71e4.jpg\n",
            "Working on file  /content/gdrive/MyDrive/Data training/Nonenhanced Image/Nonenhanced_original_image46.jpg_4a69a31b-b97d-4c41-b437-37727fd3d166.jpg\n",
            "Working on file  /content/gdrive/MyDrive/Data training/Nonenhanced Image/Nonenhanced_original_image46.jpg_4f81b198-37e3-478b-965d-7da33e77e537.jpg\n",
            "Working on file  /content/gdrive/MyDrive/Data training/Nonenhanced Image/Nonenhanced_original_image46.jpg_59439d9e-7388-4fa0-b60a-8054a6e61503.jpg\n",
            "Working on file  /content/gdrive/MyDrive/Data training/Nonenhanced Image/Nonenhanced_original_image46.jpg_6677cd03-a907-478c-a367-ab4c2c574ebb.jpg\n",
            "Working on file  /content/gdrive/MyDrive/Data training/Nonenhanced Image/Nonenhanced_original_image46.jpg_93127d4b-3685-440c-bac2-93dc7d9c33c3.jpg\n",
            "Working on file  /content/gdrive/MyDrive/Data training/Nonenhanced Image/Nonenhanced_original_image46.jpg_a4ec6ddd-20cf-4071-8913-51e1df6747a0.jpg\n",
            "Working on file  /content/gdrive/MyDrive/Data training/Nonenhanced Image/Nonenhanced_original_image46.jpg_bf4e0969-6113-484e-bb71-bd727c327e9b.jpg\n",
            "Working on file  /content/gdrive/MyDrive/Data training/Nonenhanced Image/Nonenhanced_original_image46.jpg_e07c9460-f7d3-4f00-8843-414a7c5808b1.jpg\n",
            "Working on file  /content/gdrive/MyDrive/Data training/Nonenhanced Image/Nonenhanced_original_image46.jpg_ec0b49e9-8a46-43d8-9ecc-fff349df6120.jpg\n",
            "Working on file  /content/gdrive/MyDrive/Data training/Nonenhanced Image/Nonenhanced_original_image46.jpg_f3e9528f-48d6-4e08-a248-183e7bd295c6.jpg\n",
            "Working on file  /content/gdrive/MyDrive/Data training/Nonenhanced Image/Nonenhanced_original_image46.jpg_f4b8b360-622f-49b7-afd8-8a3940cde44e.jpg\n",
            "Working on file  /content/gdrive/MyDrive/Data training/Nonenhanced Image/Nonenhanced_original_image46.jpg_f9fcde61-fcc9-428e-b2ce-d0be0ef31863.jpg\n",
            "Working on file  /content/gdrive/MyDrive/Data training/Nonenhanced Image/Nonenhanced_original_image47.jpg_0d42c020-f13e-4bb9-a9ab-6801373e7c5f.jpg\n",
            "Working on file  /content/gdrive/MyDrive/Data training/Nonenhanced Image/Nonenhanced_original_image47.jpg_35474544-bd22-4bfd-beff-ec71c25fa9ac.jpg\n",
            "Working on file  /content/gdrive/MyDrive/Data training/Nonenhanced Image/Nonenhanced_original_image47.jpg_8deebb65-4792-4b13-a88a-b7b939dc5b22.jpg\n",
            "Working on file  /content/gdrive/MyDrive/Data training/Nonenhanced Image/Nonenhanced_original_image47.jpg_95aa704e-9aa0-448a-b512-44e8f0ef0e14.jpg\n",
            "Working on file  /content/gdrive/MyDrive/Data training/Nonenhanced Image/Nonenhanced_original_image47.jpg_a4e7f720-a302-4f97-ac45-82a4c48a7a96.jpg\n",
            "Working on file  /content/gdrive/MyDrive/Data training/Nonenhanced Image/Nonenhanced_original_image47.jpg_b0bb982f-0a60-409f-a02f-03116e10b2ee.jpg\n",
            "Working on file  /content/gdrive/MyDrive/Data training/Nonenhanced Image/Nonenhanced_original_image47.jpg_d3695303-4eaf-4466-8d65-d88e82463676.jpg\n",
            "Working on file  /content/gdrive/MyDrive/Data training/Nonenhanced Image/Nonenhanced_original_image48.jpg_1c45eba6-ec8b-4d1c-b73a-f71fd4c172fe.jpg\n",
            "Working on file  /content/gdrive/MyDrive/Data training/Nonenhanced Image/Nonenhanced_original_image48.jpg_49e330d8-164f-4a98-9e9c-bddc01d7aa88.jpg\n",
            "Working on file  /content/gdrive/MyDrive/Data training/Nonenhanced Image/Nonenhanced_original_image48.jpg_631c8fb6-171a-43bb-b413-10a01d77f297.jpg\n",
            "Working on file  /content/gdrive/MyDrive/Data training/Nonenhanced Image/Nonenhanced_original_image48.jpg_69915c4e-ede0-4258-9647-9c63bfa420cd.jpg\n",
            "Working on file  /content/gdrive/MyDrive/Data training/Nonenhanced Image/Nonenhanced_original_image48.jpg_7b40228f-daed-4ad2-bd75-31707ea23b44.jpg\n",
            "Working on file  /content/gdrive/MyDrive/Data training/Nonenhanced Image/Nonenhanced_original_image48.jpg_af78e8d8-a18b-430f-8d6f-7e48c5d94015.jpg\n",
            "Working on file  /content/gdrive/MyDrive/Data training/Nonenhanced Image/Nonenhanced_original_image48.jpg_e33a89f1-5d63-4b7b-ba65-1648ffb469b3.jpg\n",
            "Working on file  /content/gdrive/MyDrive/Data training/Nonenhanced Image/Nonenhanced_original_image49.jpg_030839eb-af3c-4912-b57b-bdf009a99be8.jpg\n",
            "Working on file  /content/gdrive/MyDrive/Data training/Nonenhanced Image/Nonenhanced_original_image49.jpg_0f86403b-f1fb-4d03-bdbe-76bcc8886640.jpg\n",
            "Working on file  /content/gdrive/MyDrive/Data training/Nonenhanced Image/Nonenhanced_original_image49.jpg_1e0c470c-533f-4c66-97b5-af681049a9ee.jpg\n",
            "Working on file  /content/gdrive/MyDrive/Data training/Nonenhanced Image/Nonenhanced_original_image49.jpg_1effea14-c39f-40b7-b450-cc888c4cf657.jpg\n",
            "Working on file  /content/gdrive/MyDrive/Data training/Nonenhanced Image/Nonenhanced_original_image49.jpg_27a8c152-158b-4676-9d79-4f35d9a85cdb.jpg\n",
            "Working on file  /content/gdrive/MyDrive/Data training/Nonenhanced Image/Nonenhanced_original_image49.jpg_34eb304f-89cf-48bf-98d9-4c6416cd7f51.jpg\n",
            "Working on file  /content/gdrive/MyDrive/Data training/Nonenhanced Image/Nonenhanced_original_image49.jpg_53a6a41e-6d4c-4251-b50e-8189a38ef45b.jpg\n",
            "Working on file  /content/gdrive/MyDrive/Data training/Nonenhanced Image/Nonenhanced_original_image49.jpg_5b5b7d4b-f158-4bcf-bee0-beef96807fca.jpg\n",
            "Working on file  /content/gdrive/MyDrive/Data training/Nonenhanced Image/Nonenhanced_original_image49.jpg_5e45d7c9-3dcc-40a9-bfe1-7f702d2538fa.jpg\n",
            "Working on file  /content/gdrive/MyDrive/Data training/Nonenhanced Image/Nonenhanced_original_image49.jpg_5f125a3d-3d98-4ecf-9857-9bb4ec99e25b.jpg\n",
            "Working on file  /content/gdrive/MyDrive/Data training/Nonenhanced Image/Nonenhanced_original_image49.jpg_6c31c9fa-972c-4cb1-a23c-82beaa0d7adc.jpg\n",
            "Working on file  /content/gdrive/MyDrive/Data training/Nonenhanced Image/Nonenhanced_original_image49.jpg_741df210-0abb-44eb-91d5-f7ddf0006d36.jpg\n",
            "Working on file  /content/gdrive/MyDrive/Data training/Nonenhanced Image/Nonenhanced_original_image49.jpg_75c26695-b09a-4d22-8e29-3e4d491f343f.jpg\n",
            "Working on file  /content/gdrive/MyDrive/Data training/Nonenhanced Image/Nonenhanced_original_image49.jpg_7c2f48ef-6c8d-4639-90cf-1ea3ee8c3a9d.jpg\n",
            "Working on file  /content/gdrive/MyDrive/Data training/Nonenhanced Image/Nonenhanced_original_image49.jpg_af11b3d9-b10f-4759-8972-2d1d7fe04207.jpg\n",
            "Working on file  /content/gdrive/MyDrive/Data training/Nonenhanced Image/Nonenhanced_original_image49.jpg_ce63b7c4-138c-4242-87bf-38033ef21e55.jpg\n",
            "Working on file  /content/gdrive/MyDrive/Data training/Nonenhanced Image/Nonenhanced_original_image49.jpg_ec10ef1b-5791-4644-aefa-203fdec0c0a3.jpg\n",
            "Working on file  /content/gdrive/MyDrive/Data training/Nonenhanced Image/Nonenhanced_original_image5.jpg_10b51356-5b93-4b22-a905-b032733151dc.jpg\n",
            "Working on file  /content/gdrive/MyDrive/Data training/Nonenhanced Image/Nonenhanced_original_image5.jpg_713fa3b5-bb8a-4683-8442-96a660c047a1.jpg\n",
            "Working on file  /content/gdrive/MyDrive/Data training/Nonenhanced Image/Nonenhanced_original_image5.jpg_a30f249c-9fa2-47c0-a186-c91ae21ad21c.jpg\n",
            "Working on file  /content/gdrive/MyDrive/Data training/Nonenhanced Image/Nonenhanced_original_image5.jpg_aa3f9ddb-9083-44ec-91f4-3a8179709308.jpg\n",
            "Working on file  /content/gdrive/MyDrive/Data training/Nonenhanced Image/Nonenhanced_original_image5.jpg_be5c4edb-42da-4daf-b18e-7e9828cfb133.jpg\n",
            "Working on file  /content/gdrive/MyDrive/Data training/Nonenhanced Image/Nonenhanced_original_image5.jpg_d98a1c1b-853a-4ba7-ab7f-c95ab6db6703.jpg\n",
            "Working on file  /content/gdrive/MyDrive/Data training/Nonenhanced Image/Nonenhanced_original_image5.jpg_e1e02bd9-00bc-415a-afc6-df5fb790b601.jpg\n",
            "Working on file  /content/gdrive/MyDrive/Data training/Nonenhanced Image/Nonenhanced_original_image5.jpg_f15aac84-87d8-4dba-9a51-812cf6ec789c.jpg\n",
            "Working on file  /content/gdrive/MyDrive/Data training/Nonenhanced Image/Nonenhanced_original_image5.jpg_f25cdc6f-4f7f-4886-8cb0-9048f75f0898.jpg\n",
            "Working on file  /content/gdrive/MyDrive/Data training/Nonenhanced Image/Nonenhanced_original_image5.jpg_ff557a0f-8c98-4135-abfe-bc6f33c8230b.jpg\n",
            "Working on file  /content/gdrive/MyDrive/Data training/Nonenhanced Image/Nonenhanced_original_image50.jpg_026649c9-9827-4500-8db1-7f24727a5f0c.jpg\n",
            "Working on file  /content/gdrive/MyDrive/Data training/Nonenhanced Image/Nonenhanced_original_image50.jpg_0630bce7-ffe8-491d-98aa-10eee5019748.jpg\n",
            "Working on file  /content/gdrive/MyDrive/Data training/Nonenhanced Image/Nonenhanced_original_image50.jpg_2c9b9135-4710-4c65-916e-91565c09230c.jpg\n",
            "Working on file  /content/gdrive/MyDrive/Data training/Nonenhanced Image/Nonenhanced_original_image50.jpg_59424e9b-b7aa-4333-9294-a28099448f25.jpg\n",
            "Working on file  /content/gdrive/MyDrive/Data training/Nonenhanced Image/Nonenhanced_original_image50.jpg_8af7bec9-29f5-4d4c-b3c3-d64ea3c82d39.jpg\n",
            "Working on file  /content/gdrive/MyDrive/Data training/Nonenhanced Image/Nonenhanced_original_image50.jpg_92741973-d16f-4d37-b5b1-c36fa1fa3dcd.jpg\n",
            "Working on file  /content/gdrive/MyDrive/Data training/Nonenhanced Image/Nonenhanced_original_image50.jpg_985a4f44-8f5d-47cf-a166-f0b44985251f.jpg\n",
            "Working on file  /content/gdrive/MyDrive/Data training/Nonenhanced Image/Nonenhanced_original_image50.jpg_c71b8700-1784-4193-b34d-2d8a44b65e2f.jpg\n",
            "Working on file  /content/gdrive/MyDrive/Data training/Nonenhanced Image/Nonenhanced_original_image50.jpg_d317ea03-5ce8-4b42-86d2-0975d73e2c2a.jpg\n",
            "Working on file  /content/gdrive/MyDrive/Data training/Nonenhanced Image/Nonenhanced_original_image50.jpg_e20fd110-8179-4e44-a5ce-4cd0def281c0.jpg\n",
            "Working on file  /content/gdrive/MyDrive/Data training/Nonenhanced Image/Nonenhanced_original_image50.jpg_f655293e-c28d-4583-a606-6628a515258a.jpg\n",
            "Working on file  /content/gdrive/MyDrive/Data training/Nonenhanced Image/Nonenhanced_original_image51.jpg_01fcafc2-024e-45f4-8060-09e36c4022ad.jpg\n",
            "Working on file  /content/gdrive/MyDrive/Data training/Nonenhanced Image/Nonenhanced_original_image51.jpg_1ea06c2b-3862-41a7-92f5-cc5bc5c91dbe.jpg\n",
            "Working on file  /content/gdrive/MyDrive/Data training/Nonenhanced Image/Nonenhanced_original_image51.jpg_2405a815-33bf-401e-9569-3a5a69fa1abe.jpg\n",
            "Working on file  /content/gdrive/MyDrive/Data training/Nonenhanced Image/Nonenhanced_original_image51.jpg_2e7c94b6-6e44-4926-a03d-f2feaf368cbb.jpg\n",
            "Working on file  /content/gdrive/MyDrive/Data training/Nonenhanced Image/Nonenhanced_original_image51.jpg_5735b3c7-9822-40e0-8b7c-011676136ede.jpg\n",
            "Working on file  /content/gdrive/MyDrive/Data training/Nonenhanced Image/Nonenhanced_original_image51.jpg_6c4c27ce-7730-4ae6-b276-79c9862dde81.jpg\n",
            "Working on file  /content/gdrive/MyDrive/Data training/Nonenhanced Image/Nonenhanced_original_image51.jpg_79646a7c-2620-43ef-aaad-9596d5a70817.jpg\n",
            "Working on file  /content/gdrive/MyDrive/Data training/Nonenhanced Image/Nonenhanced_original_image51.jpg_7d7d4037-3920-4bc2-9ba6-f8143120d56b.jpg\n",
            "Working on file  /content/gdrive/MyDrive/Data training/Nonenhanced Image/Nonenhanced_original_image51.jpg_7ef0e3a5-6b8b-45ed-862a-6446e4956c55.jpg\n",
            "Working on file  /content/gdrive/MyDrive/Data training/Nonenhanced Image/Nonenhanced_original_image51.jpg_84e48f1c-a1c1-43c4-991f-cebff8e66144.jpg\n",
            "Working on file  /content/gdrive/MyDrive/Data training/Nonenhanced Image/Nonenhanced_original_image51.jpg_87391267-c32a-4829-ae8e-3e7c0ad7ea6f.jpg\n",
            "Working on file  /content/gdrive/MyDrive/Data training/Nonenhanced Image/Nonenhanced_original_image51.jpg_9463b1ec-d0e2-429f-8095-dfc8209602be.jpg\n",
            "Working on file  /content/gdrive/MyDrive/Data training/Nonenhanced Image/Nonenhanced_original_image51.jpg_a4134a63-1162-4075-9e75-2f7ca9b1ab9e.jpg\n",
            "Working on file  /content/gdrive/MyDrive/Data training/Nonenhanced Image/Nonenhanced_original_image51.jpg_aebd12ed-0bee-4c88-b5a4-7c022ad284a5.jpg\n",
            "Working on file  /content/gdrive/MyDrive/Data training/Nonenhanced Image/Nonenhanced_original_image51.jpg_b404c226-1ff4-45ea-824f-0f91c34d6605.jpg\n",
            "Working on file  /content/gdrive/MyDrive/Data training/Nonenhanced Image/Nonenhanced_original_image51.jpg_c85ffe82-4ef4-4674-aad9-7aadd3b40d3d.jpg\n",
            "Working on file  /content/gdrive/MyDrive/Data training/Nonenhanced Image/Nonenhanced_original_image51.jpg_d1bfd5e1-70d4-439d-90dd-8cf87119a75c.jpg\n",
            "Working on file  /content/gdrive/MyDrive/Data training/Nonenhanced Image/Nonenhanced_original_image51.jpg_fadb8ecb-cca3-4d38-a29a-5e58ab767ff0.jpg\n",
            "Working on file  /content/gdrive/MyDrive/Data training/Nonenhanced Image/Nonenhanced_original_image51.jpg_fd68571e-79b7-4094-a417-8ddb70dee9a3.jpg\n",
            "Working on file  /content/gdrive/MyDrive/Data training/Nonenhanced Image/Nonenhanced_original_image52.jpg_0b773da8-9e39-4d6a-bbce-7c1ea80ebe5f.jpg\n",
            "Working on file  /content/gdrive/MyDrive/Data training/Nonenhanced Image/Nonenhanced_original_image52.jpg_133a1324-2b17-4686-aa30-2cc3f36fe485.jpg\n",
            "Working on file  /content/gdrive/MyDrive/Data training/Nonenhanced Image/Nonenhanced_original_image52.jpg_3f0153a8-4a5a-4216-bfb8-74d0972b5b14.jpg\n",
            "Working on file  /content/gdrive/MyDrive/Data training/Nonenhanced Image/Nonenhanced_original_image52.jpg_4d3c7f26-95a9-4624-bd34-5617cd6019df.jpg\n",
            "Working on file  /content/gdrive/MyDrive/Data training/Nonenhanced Image/Nonenhanced_original_image52.jpg_4e278501-9b96-4280-bb8f-dfe8362048e1.jpg\n",
            "Working on file  /content/gdrive/MyDrive/Data training/Nonenhanced Image/Nonenhanced_original_image52.jpg_6c56eb6a-343b-4406-b80c-0ead6b5d4f0e.jpg\n",
            "Working on file  /content/gdrive/MyDrive/Data training/Nonenhanced Image/Nonenhanced_original_image52.jpg_71284b71-7f6c-4c40-a05e-b8bf3c7baad7.jpg\n",
            "Working on file  /content/gdrive/MyDrive/Data training/Nonenhanced Image/Nonenhanced_original_image52.jpg_9f62e27c-ef11-473c-8bd0-984d243790e8.jpg\n",
            "Working on file  /content/gdrive/MyDrive/Data training/Nonenhanced Image/Nonenhanced_original_image52.jpg_a3ee1379-62ee-4273-a7b3-cd4a94ed53d0.jpg\n",
            "Working on file  /content/gdrive/MyDrive/Data training/Nonenhanced Image/Nonenhanced_original_image52.jpg_aff62552-871a-429d-9138-6b5eb937dc81.jpg\n",
            "Working on file  /content/gdrive/MyDrive/Data training/Nonenhanced Image/Nonenhanced_original_image52.jpg_bf5bb1b6-2596-4b21-ba5e-b2e78609be97.jpg\n",
            "Working on file  /content/gdrive/MyDrive/Data training/Nonenhanced Image/Nonenhanced_original_image52.jpg_ef2241cf-4256-4c84-8a68-473bc9cb8505.jpg\n",
            "Working on file  /content/gdrive/MyDrive/Data training/Nonenhanced Image/Nonenhanced_original_image53.jpg_1d950566-6d38-4b9a-8ce9-a8e051960aac.jpg\n",
            "Working on file  /content/gdrive/MyDrive/Data training/Nonenhanced Image/Nonenhanced_original_image53.jpg_200ec12a-5dc7-413e-afce-aac182196423.jpg\n",
            "Working on file  /content/gdrive/MyDrive/Data training/Nonenhanced Image/Nonenhanced_original_image53.jpg_23fd1e83-2ce3-4276-9a3e-9a61a695a057.jpg\n",
            "Working on file  /content/gdrive/MyDrive/Data training/Nonenhanced Image/Nonenhanced_original_image53.jpg_43cefa33-2658-4a08-95d3-7b0c21ed5a04.jpg\n",
            "Working on file  /content/gdrive/MyDrive/Data training/Nonenhanced Image/Nonenhanced_original_image53.jpg_59cb4c7c-d3a9-4de7-9943-d5b2557ad514.jpg\n",
            "Working on file  /content/gdrive/MyDrive/Data training/Nonenhanced Image/Nonenhanced_original_image53.jpg_6851edd7-8235-4998-baed-ec4c6b656f6a.jpg\n",
            "Working on file  /content/gdrive/MyDrive/Data training/Nonenhanced Image/Nonenhanced_original_image53.jpg_8332b70a-3b54-41cd-97d9-81f14b3a6cba.jpg\n",
            "Working on file  /content/gdrive/MyDrive/Data training/Nonenhanced Image/Nonenhanced_original_image53.jpg_a1f509c3-9653-406a-9e6c-2a629f38678f.jpg\n",
            "Working on file  /content/gdrive/MyDrive/Data training/Nonenhanced Image/Nonenhanced_original_image53.jpg_a399bf0c-fb85-4f6b-af5a-ec734ac8d72b.jpg\n",
            "Working on file  /content/gdrive/MyDrive/Data training/Nonenhanced Image/Nonenhanced_original_image53.jpg_afbd161e-fe57-4e80-b718-ad162cc92380.jpg\n",
            "Working on file  /content/gdrive/MyDrive/Data training/Nonenhanced Image/Nonenhanced_original_image53.jpg_b108aef2-e3d5-46da-a680-741aa9bea1d6.jpg\n",
            "Working on file  /content/gdrive/MyDrive/Data training/Nonenhanced Image/Nonenhanced_original_image53.jpg_bb181067-db1a-48c9-a39a-dd202ff90a76.jpg\n",
            "Working on file  /content/gdrive/MyDrive/Data training/Nonenhanced Image/Nonenhanced_original_image53.jpg_d7c4a465-45ff-4096-8f75-35234f75f885.jpg\n",
            "Working on file  /content/gdrive/MyDrive/Data training/Nonenhanced Image/Nonenhanced_original_image53.jpg_d97033a3-403a-4dad-b4cf-95b7a251b5b4.jpg\n",
            "Working on file  /content/gdrive/MyDrive/Data training/Nonenhanced Image/Nonenhanced_original_image53.jpg_e2a37434-6cb4-4c2d-9556-632a7a5db5c3.jpg\n",
            "Working on file  /content/gdrive/MyDrive/Data training/Nonenhanced Image/Nonenhanced_original_image53.jpg_e32e3b2d-4be9-4ca2-b7c7-98741d29f7a5.jpg\n",
            "Working on file  /content/gdrive/MyDrive/Data training/Nonenhanced Image/Nonenhanced_original_image54.jpg_064c533f-e00a-465a-ab4b-4a5390da38e9.jpg\n",
            "Working on file  /content/gdrive/MyDrive/Data training/Nonenhanced Image/Nonenhanced_original_image54.jpg_197c2d48-f91e-406f-8a17-8017a90a85c1.jpg\n",
            "Working on file  /content/gdrive/MyDrive/Data training/Nonenhanced Image/Nonenhanced_original_image54.jpg_24530e92-34f9-4ef6-94e3-5780ba111433.jpg\n",
            "Working on file  /content/gdrive/MyDrive/Data training/Nonenhanced Image/Nonenhanced_original_image54.jpg_77eaf872-82bb-4a39-acb6-51ab87fef411.jpg\n",
            "Working on file  /content/gdrive/MyDrive/Data training/Nonenhanced Image/Nonenhanced_original_image54.jpg_78650d5f-51f3-4f84-8b88-1b1924eabfce.jpg\n",
            "Working on file  /content/gdrive/MyDrive/Data training/Nonenhanced Image/Nonenhanced_original_image54.jpg_b7508e75-8f19-4c90-8903-3621343da9a0.jpg\n",
            "Working on file  /content/gdrive/MyDrive/Data training/Nonenhanced Image/Nonenhanced_original_image54.jpg_e0ff78b0-6a59-40da-bf64-f30772a0f97e.jpg\n",
            "Working on file  /content/gdrive/MyDrive/Data training/Nonenhanced Image/Nonenhanced_original_image54.jpg_e6e1f6be-129e-42ce-9cae-06bf8b245d62.jpg\n",
            "Working on file  /content/gdrive/MyDrive/Data training/Nonenhanced Image/Nonenhanced_original_image54.jpg_e7bd3108-1c21-4aee-9e3e-88c181cd093e.jpg\n",
            "Working on file  /content/gdrive/MyDrive/Data training/Nonenhanced Image/Nonenhanced_original_image55.jpg_2f606b5b-a53f-4d40-9e62-fed12f6a6215.jpg\n",
            "Working on file  /content/gdrive/MyDrive/Data training/Nonenhanced Image/Nonenhanced_original_image55.jpg_3e2d5816-5429-484b-8e6f-cd28f5931f7a.jpg\n",
            "Working on file  /content/gdrive/MyDrive/Data training/Nonenhanced Image/Nonenhanced_original_image55.jpg_49f6a8e0-f6c1-4db6-afe9-fe8410f94520.jpg\n",
            "Working on file  /content/gdrive/MyDrive/Data training/Nonenhanced Image/Nonenhanced_original_image55.jpg_5d58e748-f40e-44fd-930a-eda94c885281.jpg\n",
            "Working on file  /content/gdrive/MyDrive/Data training/Nonenhanced Image/Nonenhanced_original_image55.jpg_60a52ea3-f9a7-4c36-a662-b2beaa240158.jpg\n",
            "Working on file  /content/gdrive/MyDrive/Data training/Nonenhanced Image/Nonenhanced_original_image55.jpg_64ef6c43-1f56-4661-a1fc-206ba4d4c269.jpg\n",
            "Working on file  /content/gdrive/MyDrive/Data training/Nonenhanced Image/Nonenhanced_original_image55.jpg_6bd80f55-62ff-4de3-b728-000bea078616.jpg\n",
            "Working on file  /content/gdrive/MyDrive/Data training/Nonenhanced Image/Nonenhanced_original_image55.jpg_97d823ae-4a08-4d4e-8a03-6c3e62665eb4.jpg\n",
            "Working on file  /content/gdrive/MyDrive/Data training/Nonenhanced Image/Nonenhanced_original_image55.jpg_a879e021-3e6d-4735-83e2-61aa648fe5d9.jpg\n",
            "Working on file  /content/gdrive/MyDrive/Data training/Nonenhanced Image/Nonenhanced_original_image55.jpg_d830a1b6-18a4-44de-b292-fa1680af081d.jpg\n",
            "Working on file  /content/gdrive/MyDrive/Data training/Nonenhanced Image/Nonenhanced_original_image55.jpg_dedf276d-aed6-43e3-9d75-684228cc8036.jpg\n",
            "Working on file  /content/gdrive/MyDrive/Data training/Nonenhanced Image/Nonenhanced_original_image55.jpg_e94cce90-1c08-4d38-bfb1-c9b1f0efc927.jpg\n",
            "Working on file  /content/gdrive/MyDrive/Data training/Nonenhanced Image/Nonenhanced_original_image56.jpg_084f4ffd-238c-4947-9d34-0e4bf85707c6.jpg\n",
            "Working on file  /content/gdrive/MyDrive/Data training/Nonenhanced Image/Nonenhanced_original_image56.jpg_09c18ada-30ba-42c7-b80e-a69ab35842b4.jpg\n",
            "Working on file  /content/gdrive/MyDrive/Data training/Nonenhanced Image/Nonenhanced_original_image56.jpg_0a5bf755-ff43-4d16-bcbe-532b28ae5743.jpg\n",
            "Working on file  /content/gdrive/MyDrive/Data training/Nonenhanced Image/Nonenhanced_original_image56.jpg_0ee5a290-9f24-46a9-b63c-9323db71d1e8.jpg\n",
            "Working on file  /content/gdrive/MyDrive/Data training/Nonenhanced Image/Nonenhanced_original_image56.jpg_1676c2cb-4161-45ed-8c51-32a453bc0278.jpg\n",
            "Working on file  /content/gdrive/MyDrive/Data training/Nonenhanced Image/Nonenhanced_original_image56.jpg_31f4710b-f9dd-4caa-80e6-635cd636aed0.jpg\n",
            "Working on file  /content/gdrive/MyDrive/Data training/Nonenhanced Image/Nonenhanced_original_image56.jpg_356b2fd2-b5ce-4c3a-b733-f31faf2918e9.jpg\n",
            "Working on file  /content/gdrive/MyDrive/Data training/Nonenhanced Image/Nonenhanced_original_image56.jpg_49cbd3cb-790e-4800-8c48-9b0b941f1492.jpg\n",
            "Working on file  /content/gdrive/MyDrive/Data training/Nonenhanced Image/Nonenhanced_original_image56.jpg_69dd8d1e-4eeb-4f47-8b42-2021770a96b2.jpg\n",
            "Working on file  /content/gdrive/MyDrive/Data training/Nonenhanced Image/Nonenhanced_original_image56.jpg_730a98ac-0013-4550-8cea-1ad64d084142.jpg\n",
            "Working on file  /content/gdrive/MyDrive/Data training/Nonenhanced Image/Nonenhanced_original_image56.jpg_7add211e-bf98-4765-8d2d-515b50b77266.jpg\n",
            "Working on file  /content/gdrive/MyDrive/Data training/Nonenhanced Image/Nonenhanced_original_image56.jpg_7fb1efd4-4423-4068-ba04-c7c95cb7d759.jpg\n",
            "Working on file  /content/gdrive/MyDrive/Data training/Nonenhanced Image/Nonenhanced_original_image56.jpg_8daed242-182d-4fab-9eb1-7cca44286583.jpg\n",
            "Working on file  /content/gdrive/MyDrive/Data training/Nonenhanced Image/Nonenhanced_original_image56.jpg_ae2955eb-2965-4ad6-a91e-aed39eb3c8e1.jpg\n",
            "Working on file  /content/gdrive/MyDrive/Data training/Nonenhanced Image/Nonenhanced_original_image56.jpg_c8ba5eba-0a06-45bd-a0d1-66f42322b74f.jpg\n",
            "Working on file  /content/gdrive/MyDrive/Data training/Nonenhanced Image/Nonenhanced_original_image56.jpg_e87b08e4-0346-4fd5-bc97-d6680b3f589e.jpg\n",
            "Working on file  /content/gdrive/MyDrive/Data training/Nonenhanced Image/Nonenhanced_original_image57.jpg_124f9b08-6a1b-485f-9dbe-65af0fcdee85.jpg\n",
            "Working on file  /content/gdrive/MyDrive/Data training/Nonenhanced Image/Nonenhanced_original_image57.jpg_35774145-dfb3-49d8-ba41-7cbf28338d03.jpg\n",
            "Working on file  /content/gdrive/MyDrive/Data training/Nonenhanced Image/Nonenhanced_original_image57.jpg_430051a4-6b9d-4044-8be0-8466b863bff0.jpg\n",
            "Working on file  /content/gdrive/MyDrive/Data training/Nonenhanced Image/Nonenhanced_original_image57.jpg_487bdef5-4d92-4b92-bf13-af52217cd7c8.jpg\n",
            "Working on file  /content/gdrive/MyDrive/Data training/Nonenhanced Image/Nonenhanced_original_image57.jpg_55a2bf99-3f9a-4b90-a9b0-fb45583cd7b4.jpg\n",
            "Working on file  /content/gdrive/MyDrive/Data training/Nonenhanced Image/Nonenhanced_original_image57.jpg_587b1d14-57e0-4e63-abaa-fa496d7de290.jpg\n",
            "Working on file  /content/gdrive/MyDrive/Data training/Nonenhanced Image/Nonenhanced_original_image57.jpg_70e4f064-7fbe-4054-8c3d-26d77c5cbbb7.jpg\n",
            "Working on file  /content/gdrive/MyDrive/Data training/Nonenhanced Image/Nonenhanced_original_image57.jpg_9e17ec2c-ced2-484c-8844-1d7b8e35c38e.jpg\n",
            "Working on file  /content/gdrive/MyDrive/Data training/Nonenhanced Image/Nonenhanced_original_image57.jpg_ae31c1e9-2bc9-4819-9fab-8a3f60080020.jpg\n",
            "Working on file  /content/gdrive/MyDrive/Data training/Nonenhanced Image/Nonenhanced_original_image57.jpg_b7441a69-270a-4829-9228-715fdc68c105.jpg\n",
            "Working on file  /content/gdrive/MyDrive/Data training/Nonenhanced Image/Nonenhanced_original_image57.jpg_c3b6a518-576c-425b-8f8d-c05d00a3bdf3.jpg\n",
            "Working on file  /content/gdrive/MyDrive/Data training/Nonenhanced Image/Nonenhanced_original_image57.jpg_fd16b71d-3bcf-4d40-8497-77f4eb7b0a51.jpg\n",
            "Working on file  /content/gdrive/MyDrive/Data training/Nonenhanced Image/Nonenhanced_original_image58.jpg_17fa1e14-5a92-48b2-a036-edcc7712960f.jpg\n",
            "Working on file  /content/gdrive/MyDrive/Data training/Nonenhanced Image/Nonenhanced_original_image58.jpg_2f434698-c70a-4d08-9ccf-f61b745c846f.jpg\n",
            "Working on file  /content/gdrive/MyDrive/Data training/Nonenhanced Image/Nonenhanced_original_image58.jpg_46cd58b0-4591-4fc5-9771-11d3fc989cab.jpg\n",
            "Working on file  /content/gdrive/MyDrive/Data training/Nonenhanced Image/Nonenhanced_original_image58.jpg_7ec8bbd5-5e71-4587-bd17-19594858ec99.jpg\n",
            "Working on file  /content/gdrive/MyDrive/Data training/Nonenhanced Image/Nonenhanced_original_image58.jpg_b7b75b6e-e8af-4c2e-bf98-e059ee73040d.jpg\n",
            "Working on file  /content/gdrive/MyDrive/Data training/Nonenhanced Image/Nonenhanced_original_image58.jpg_c5f9ed27-4f9a-412d-a8f1-104bb19c8454.jpg\n",
            "Working on file  /content/gdrive/MyDrive/Data training/Nonenhanced Image/Nonenhanced_original_image58.jpg_da71cab6-2cdd-43f8-bcbf-d809734e99b8.jpg\n",
            "Working on file  /content/gdrive/MyDrive/Data training/Nonenhanced Image/Nonenhanced_original_image58.jpg_e7307ade-85d7-4d20-b539-4aabc30e2c48.jpg\n",
            "Working on file  /content/gdrive/MyDrive/Data training/Nonenhanced Image/Nonenhanced_original_image59.jpg_022c5585-a41b-4902-92a8-a10d1f937569.jpg\n",
            "Working on file  /content/gdrive/MyDrive/Data training/Nonenhanced Image/Nonenhanced_original_image59.jpg_1860b335-c3d1-40f7-aedd-60218d445385.jpg\n",
            "Working on file  /content/gdrive/MyDrive/Data training/Nonenhanced Image/Nonenhanced_original_image59.jpg_37947aa1-7775-4a29-aa37-c05b788d9d9a.jpg\n",
            "Working on file  /content/gdrive/MyDrive/Data training/Nonenhanced Image/Nonenhanced_original_image59.jpg_831da131-a226-4f78-9fb5-bd2ee716e5ba.jpg\n",
            "Working on file  /content/gdrive/MyDrive/Data training/Nonenhanced Image/Nonenhanced_original_image59.jpg_882c2b0f-2fdc-4133-aa49-9fdb4f515419.jpg\n",
            "Working on file  /content/gdrive/MyDrive/Data training/Nonenhanced Image/Nonenhanced_original_image6.jpg_15ab04ca-d8b6-48f0-9278-170b7857abdf.jpg\n",
            "Working on file  /content/gdrive/MyDrive/Data training/Nonenhanced Image/Nonenhanced_original_image6.jpg_24030ba7-14db-4b15-a7c2-cea582a4485d.jpg\n",
            "Working on file  /content/gdrive/MyDrive/Data training/Nonenhanced Image/Nonenhanced_original_image6.jpg_3756d245-7067-416e-b07c-1d113df77e02.jpg\n",
            "Working on file  /content/gdrive/MyDrive/Data training/Nonenhanced Image/Nonenhanced_original_image6.jpg_488e2d92-57cf-4d2e-abd7-ddc92458adc6.jpg\n",
            "Working on file  /content/gdrive/MyDrive/Data training/Nonenhanced Image/Nonenhanced_original_image6.jpg_667bb718-4f57-4f88-8b4f-e3b321510c30.jpg\n",
            "Working on file  /content/gdrive/MyDrive/Data training/Nonenhanced Image/Nonenhanced_original_image6.jpg_720b4374-e660-4468-b38f-1164bdaaf78e.jpg\n",
            "Working on file  /content/gdrive/MyDrive/Data training/Nonenhanced Image/Nonenhanced_original_image6.jpg_8e7c79bc-5f6f-41d1-9578-21ab61b0c937.jpg\n",
            "Working on file  /content/gdrive/MyDrive/Data training/Nonenhanced Image/Nonenhanced_original_image6.jpg_978ea241-afda-42c3-b7b5-bf0b2276d321.jpg\n",
            "Working on file  /content/gdrive/MyDrive/Data training/Nonenhanced Image/Nonenhanced_original_image6.jpg_a9cbb920-7a79-4b05-a8e0-2225b57e7fb2.jpg\n",
            "Working on file  /content/gdrive/MyDrive/Data training/Nonenhanced Image/Nonenhanced_original_image6.jpg_ac98e56a-d4f1-4b93-b8ec-16bb29cb423e.jpg\n",
            "Working on file  /content/gdrive/MyDrive/Data training/Nonenhanced Image/Nonenhanced_original_image6.jpg_bb09c21b-ccf7-45d0-ab6c-601a34dba455.jpg\n",
            "Working on file  /content/gdrive/MyDrive/Data training/Nonenhanced Image/Nonenhanced_original_image6.jpg_cd9e9d86-4b8c-4809-a191-4f1d88536364.jpg\n",
            "Working on file  /content/gdrive/MyDrive/Data training/Nonenhanced Image/Nonenhanced_original_image6.jpg_d06317d9-64a1-4e7f-bca8-ebccb765a827.jpg\n",
            "Working on file  /content/gdrive/MyDrive/Data training/Nonenhanced Image/Nonenhanced_original_image6.jpg_fda4de44-5540-4c04-a5f6-cec70694a232.jpg\n",
            "Working on file  /content/gdrive/MyDrive/Data training/Nonenhanced Image/Nonenhanced_original_image60.jpg_04c57129-8471-4fc7-83a7-bb469c1c9d9c.jpg\n",
            "Working on file  /content/gdrive/MyDrive/Data training/Nonenhanced Image/Nonenhanced_original_image60.jpg_139b547d-350d-4b13-856f-6ac0458204d0.jpg\n",
            "Working on file  /content/gdrive/MyDrive/Data training/Nonenhanced Image/Nonenhanced_original_image60.jpg_27853f1b-8407-4a0a-aec7-beb12014edef.jpg\n",
            "Working on file  /content/gdrive/MyDrive/Data training/Nonenhanced Image/Nonenhanced_original_image60.jpg_55cc1c0d-1425-484c-b36c-8e5e5aa937ba.jpg\n",
            "Working on file  /content/gdrive/MyDrive/Data training/Nonenhanced Image/Nonenhanced_original_image60.jpg_58f3f62f-4de6-4dce-99ac-fbe880b6f70d.jpg\n",
            "Working on file  /content/gdrive/MyDrive/Data training/Nonenhanced Image/Nonenhanced_original_image60.jpg_693c2c01-f3f0-402f-ac6e-6da634a77678.jpg\n",
            "Working on file  /content/gdrive/MyDrive/Data training/Nonenhanced Image/Nonenhanced_original_image60.jpg_b59021cb-04ec-40ac-bc78-9bf859f04cb2.jpg\n",
            "Working on file  /content/gdrive/MyDrive/Data training/Nonenhanced Image/Nonenhanced_original_image60.jpg_d9e144e5-5e8e-4db1-9e85-f02555d6334c.jpg\n",
            "Working on file  /content/gdrive/MyDrive/Data training/Nonenhanced Image/Nonenhanced_original_image61.jpg_053e2ca4-7938-4242-aceb-f1b1ea8debb7.jpg\n",
            "Working on file  /content/gdrive/MyDrive/Data training/Nonenhanced Image/Nonenhanced_original_image61.jpg_32f0a06d-a0f8-48a2-b466-fb0c04843f9a.jpg\n",
            "Working on file  /content/gdrive/MyDrive/Data training/Nonenhanced Image/Nonenhanced_original_image61.jpg_3a901c2d-7b44-4cd2-ae5f-6430e549bd2c.jpg\n",
            "Working on file  /content/gdrive/MyDrive/Data training/Nonenhanced Image/Nonenhanced_original_image61.jpg_55de865b-94ca-4b0b-93fb-6d33333633c0.jpg\n",
            "Working on file  /content/gdrive/MyDrive/Data training/Nonenhanced Image/Nonenhanced_original_image61.jpg_869e55aa-20bb-4b36-8925-7c49618eb3c8.jpg\n",
            "Working on file  /content/gdrive/MyDrive/Data training/Nonenhanced Image/Nonenhanced_original_image61.jpg_af2eb282-b4ce-4ce5-a3a8-3d7efe4fa16e.jpg\n",
            "Working on file  /content/gdrive/MyDrive/Data training/Nonenhanced Image/Nonenhanced_original_image61.jpg_c1662727-57ea-4862-816f-91932ea2a7ed.jpg\n",
            "Working on file  /content/gdrive/MyDrive/Data training/Nonenhanced Image/Nonenhanced_original_image61.jpg_d1982c46-f2f7-42ba-9391-35b1ad1d79b9.jpg\n",
            "Working on file  /content/gdrive/MyDrive/Data training/Nonenhanced Image/Nonenhanced_original_image61.jpg_dbd2781a-b4ab-48a1-a182-7fe639681ed9.jpg\n",
            "Working on file  /content/gdrive/MyDrive/Data training/Nonenhanced Image/Nonenhanced_original_image61.jpg_e3b41765-22e9-4ebd-b01c-6b168eb0dad6.jpg\n",
            "Working on file  /content/gdrive/MyDrive/Data training/Nonenhanced Image/Nonenhanced_original_image61.jpg_e7530d7d-6212-4930-a63a-259bc12f59d7.jpg\n",
            "Working on file  /content/gdrive/MyDrive/Data training/Nonenhanced Image/Nonenhanced_original_image61.jpg_f17d5c95-a7fa-42c1-b59c-534674e36cb1.jpg\n",
            "Working on file  /content/gdrive/MyDrive/Data training/Nonenhanced Image/Nonenhanced_original_image61.jpg_ff968895-9e97-44ad-9e7b-7c05e17008ed.jpg\n",
            "Working on file  /content/gdrive/MyDrive/Data training/Nonenhanced Image/Nonenhanced_original_image62.jpg_09327ff2-4155-431a-8e19-8f275b8b8fb5.jpg\n",
            "Working on file  /content/gdrive/MyDrive/Data training/Nonenhanced Image/Nonenhanced_original_image62.jpg_38464b44-cac4-415d-8e27-d3ad2e6ab893.jpg\n",
            "Working on file  /content/gdrive/MyDrive/Data training/Nonenhanced Image/Nonenhanced_original_image62.jpg_3ad84e16-1975-434a-9bba-dbf0ce0edce2.jpg\n",
            "Working on file  /content/gdrive/MyDrive/Data training/Nonenhanced Image/Nonenhanced_original_image62.jpg_9727c692-7964-4bee-823e-41255b293316.jpg\n",
            "Working on file  /content/gdrive/MyDrive/Data training/Nonenhanced Image/Nonenhanced_original_image62.jpg_ba0c3122-6d92-4439-b93c-62734595eb73.jpg\n",
            "Working on file  /content/gdrive/MyDrive/Data training/Nonenhanced Image/Nonenhanced_original_image62.jpg_c50dd797-fa2b-448c-96df-a178a013bd5c.jpg\n",
            "Working on file  /content/gdrive/MyDrive/Data training/Nonenhanced Image/Nonenhanced_original_image62.jpg_c87792fb-fe71-4be7-bd88-ba7fbe43b0bc.jpg\n",
            "Working on file  /content/gdrive/MyDrive/Data training/Nonenhanced Image/Nonenhanced_original_image63.jpg_0240d501-1b93-4186-a754-40f4190db9ed.jpg\n",
            "Working on file  /content/gdrive/MyDrive/Data training/Nonenhanced Image/Nonenhanced_original_image63.jpg_232b1546-e20b-4817-acc6-12190dfcfc5f.jpg\n",
            "Working on file  /content/gdrive/MyDrive/Data training/Nonenhanced Image/Nonenhanced_original_image63.jpg_4db3f59c-b1e0-44ae-ace7-cf6288738a0d.jpg\n",
            "Working on file  /content/gdrive/MyDrive/Data training/Nonenhanced Image/Nonenhanced_original_image63.jpg_88a4e2b8-9936-49fb-aa55-8ca0988d8dd1.jpg\n",
            "Working on file  /content/gdrive/MyDrive/Data training/Nonenhanced Image/Nonenhanced_original_image63.jpg_b798e8dc-667a-4c94-a95e-3e0ff65351bc.jpg\n",
            "Working on file  /content/gdrive/MyDrive/Data training/Nonenhanced Image/Nonenhanced_original_image63.jpg_d81fece9-bab5-4cbf-9426-97cebf8c91af.jpg\n",
            "Working on file  /content/gdrive/MyDrive/Data training/Nonenhanced Image/Nonenhanced_original_image63.jpg_f0416cb0-7e30-4016-bb7d-39a7c523f93c.jpg\n",
            "Working on file  /content/gdrive/MyDrive/Data training/Nonenhanced Image/Nonenhanced_original_image64.jpg_17863ab3-e2a2-4d7e-8470-3d0cbdaff245.jpg\n",
            "Working on file  /content/gdrive/MyDrive/Data training/Nonenhanced Image/Nonenhanced_original_image64.jpg_1bd7c2b7-20e0-4d7a-ba9e-2de0f43143be.jpg\n",
            "Working on file  /content/gdrive/MyDrive/Data training/Nonenhanced Image/Nonenhanced_original_image64.jpg_64aee48a-f1ca-4898-a859-7e6d96e982a1.jpg\n",
            "Working on file  /content/gdrive/MyDrive/Data training/Nonenhanced Image/Nonenhanced_original_image64.jpg_91e49480-95a4-4057-b516-e46d176dee64.jpg\n",
            "Working on file  /content/gdrive/MyDrive/Data training/Nonenhanced Image/Nonenhanced_original_image64.jpg_a138c0c8-99b2-45ce-8f7e-64a7385adf3a.jpg\n",
            "Working on file  /content/gdrive/MyDrive/Data training/Nonenhanced Image/Nonenhanced_original_image64.jpg_ad7b0ec9-48d2-46bf-b3d9-ebc68b4ddeba.jpg\n",
            "Working on file  /content/gdrive/MyDrive/Data training/Nonenhanced Image/Nonenhanced_original_image64.jpg_cbe2ee0e-6e41-41ea-a46c-e35d280d94a4.jpg\n",
            "Working on file  /content/gdrive/MyDrive/Data training/Nonenhanced Image/Nonenhanced_original_image64.jpg_dbe3a926-97a4-4eaf-8fe6-4ed3bbf780f4.jpg\n",
            "Working on file  /content/gdrive/MyDrive/Data training/Nonenhanced Image/Nonenhanced_original_image64.jpg_e70f5832-d389-4896-ad2b-de713062a2d5.jpg\n",
            "Working on file  /content/gdrive/MyDrive/Data training/Nonenhanced Image/Nonenhanced_original_image65.jpg_0563202f-58bd-492c-a4ed-fd25b614af8d.jpg\n",
            "Working on file  /content/gdrive/MyDrive/Data training/Nonenhanced Image/Nonenhanced_original_image65.jpg_0b13b3b1-dd5f-4f2b-afa2-dbf2018b43cb.jpg\n",
            "Working on file  /content/gdrive/MyDrive/Data training/Nonenhanced Image/Nonenhanced_original_image65.jpg_0bfa10d9-fefa-454f-8973-cc36405d4a7a.jpg\n",
            "Working on file  /content/gdrive/MyDrive/Data training/Nonenhanced Image/Nonenhanced_original_image65.jpg_1cd09c1e-1da2-433b-9cd8-ed35526f6999.jpg\n",
            "Working on file  /content/gdrive/MyDrive/Data training/Nonenhanced Image/Nonenhanced_original_image65.jpg_34e0e6c6-5111-49cf-9e1e-09f671b851ba.jpg\n",
            "Working on file  /content/gdrive/MyDrive/Data training/Nonenhanced Image/Nonenhanced_original_image65.jpg_490c9c11-d7a0-432c-b5d8-740df331e9f6.jpg\n",
            "Working on file  /content/gdrive/MyDrive/Data training/Nonenhanced Image/Nonenhanced_original_image65.jpg_63861748-df98-4faf-b290-264d1a72d7b3.jpg\n",
            "Working on file  /content/gdrive/MyDrive/Data training/Nonenhanced Image/Nonenhanced_original_image65.jpg_83f6e408-f0cc-4a81-974e-d25af3beacea.jpg\n",
            "Working on file  /content/gdrive/MyDrive/Data training/Nonenhanced Image/Nonenhanced_original_image65.jpg_a16bda60-9027-4786-9be9-ab103257d9bb.jpg\n",
            "Working on file  /content/gdrive/MyDrive/Data training/Nonenhanced Image/Nonenhanced_original_image65.jpg_b3a64663-86c2-43b2-96ec-0630995d44d9.jpg\n",
            "Working on file  /content/gdrive/MyDrive/Data training/Nonenhanced Image/Nonenhanced_original_image65.jpg_c49db202-a6a4-43e7-a21a-a99eb5ad82c8.jpg\n",
            "Working on file  /content/gdrive/MyDrive/Data training/Nonenhanced Image/Nonenhanced_original_image66.jpg_02559e51-cd52-4ab6-b890-71fe64fbb6e4.jpg\n",
            "Working on file  /content/gdrive/MyDrive/Data training/Nonenhanced Image/Nonenhanced_original_image66.jpg_40195c68-73f7-49d7-b081-d8a11bc6f64c.jpg\n",
            "Working on file  /content/gdrive/MyDrive/Data training/Nonenhanced Image/Nonenhanced_original_image66.jpg_6c353431-b157-4f1b-a7e3-c74cb5878cef.jpg\n",
            "Working on file  /content/gdrive/MyDrive/Data training/Nonenhanced Image/Nonenhanced_original_image66.jpg_94393168-1757-4778-8e0f-641efd0a104f.jpg\n",
            "Working on file  /content/gdrive/MyDrive/Data training/Nonenhanced Image/Nonenhanced_original_image66.jpg_94a9d8ab-66fe-4d97-880e-21b7bc4ad23d.jpg\n",
            "Working on file  /content/gdrive/MyDrive/Data training/Nonenhanced Image/Nonenhanced_original_image66.jpg_b3c3fafa-71f0-4fd6-ba63-5ba0ebead561.jpg\n",
            "Working on file  /content/gdrive/MyDrive/Data training/Nonenhanced Image/Nonenhanced_original_image66.jpg_eb6a0710-912e-4245-be69-149c3c9a960a.jpg\n",
            "Working on file  /content/gdrive/MyDrive/Data training/Nonenhanced Image/Nonenhanced_original_image66.jpg_fe51ce99-8e17-432f-b221-b8329496126a.jpg\n",
            "Working on file  /content/gdrive/MyDrive/Data training/Nonenhanced Image/Nonenhanced_original_image67.jpg_02cceba5-bb69-440e-8887-184e2ecfe8c4.jpg\n",
            "Working on file  /content/gdrive/MyDrive/Data training/Nonenhanced Image/Nonenhanced_original_image67.jpg_135c29a6-7ae1-4ffb-a0ff-61429d050c76.jpg\n",
            "Working on file  /content/gdrive/MyDrive/Data training/Nonenhanced Image/Nonenhanced_original_image67.jpg_2212ba43-71c8-4b38-9499-aa9a82f11fc3.jpg\n",
            "Working on file  /content/gdrive/MyDrive/Data training/Nonenhanced Image/Nonenhanced_original_image67.jpg_30ec1407-ea15-4330-b2ed-7718cfba4238.jpg\n",
            "Working on file  /content/gdrive/MyDrive/Data training/Nonenhanced Image/Nonenhanced_original_image67.jpg_31d5ae2a-c392-4302-aed2-667e2bcf4b22.jpg\n",
            "Working on file  /content/gdrive/MyDrive/Data training/Nonenhanced Image/Nonenhanced_original_image67.jpg_35227e05-6869-4a40-b824-a211a6c2f421.jpg\n",
            "Working on file  /content/gdrive/MyDrive/Data training/Nonenhanced Image/Nonenhanced_original_image67.jpg_40a65862-0128-46d8-ae72-31c7daa36755.jpg\n",
            "Working on file  /content/gdrive/MyDrive/Data training/Nonenhanced Image/Nonenhanced_original_image67.jpg_57d35ac0-06d4-4d1b-b013-941a9a2ce210.jpg\n",
            "Working on file  /content/gdrive/MyDrive/Data training/Nonenhanced Image/Nonenhanced_original_image67.jpg_73b5f761-5551-4afd-a4c3-bf01638e7db2.jpg\n",
            "Working on file  /content/gdrive/MyDrive/Data training/Nonenhanced Image/Nonenhanced_original_image67.jpg_7c708b8f-c5e6-494d-a608-a79e8aeb04d7.jpg\n",
            "Working on file  /content/gdrive/MyDrive/Data training/Nonenhanced Image/Nonenhanced_original_image67.jpg_8789144d-4309-40f6-8123-98faebb3c58f.jpg\n",
            "Working on file  /content/gdrive/MyDrive/Data training/Nonenhanced Image/Nonenhanced_original_image67.jpg_b2b46c45-3796-4423-bb0a-acb2702ac75c.jpg\n",
            "Working on file  /content/gdrive/MyDrive/Data training/Nonenhanced Image/Nonenhanced_original_image67.jpg_c3db4b89-fa94-4afe-a2f4-34f2b3492928.jpg\n",
            "Working on file  /content/gdrive/MyDrive/Data training/Nonenhanced Image/Nonenhanced_original_image67.jpg_d3fb4fa4-6f57-4182-9592-e1ba855b881e.jpg\n",
            "Working on file  /content/gdrive/MyDrive/Data training/Nonenhanced Image/Nonenhanced_original_image67.jpg_e4338ae8-f3dc-4a3f-a2be-efc3e875be95.jpg\n",
            "Working on file  /content/gdrive/MyDrive/Data training/Nonenhanced Image/Nonenhanced_original_image67.jpg_e45d9c9c-2f5f-483a-bc1b-6a3dd239c3c0.jpg\n",
            "Working on file  /content/gdrive/MyDrive/Data training/Nonenhanced Image/Nonenhanced_original_image67.jpg_e9aecb5d-af65-4594-95b4-0072be830a13.jpg\n",
            "Working on file  /content/gdrive/MyDrive/Data training/Nonenhanced Image/Nonenhanced_original_image67.jpg_fa1d4450-3c40-41ce-bf52-e666e298b38f.jpg\n",
            "Working on file  /content/gdrive/MyDrive/Data training/Nonenhanced Image/Nonenhanced_original_image68.jpg_0d77caa7-140f-413a-b831-120f171d2f90.jpg\n",
            "Working on file  /content/gdrive/MyDrive/Data training/Nonenhanced Image/Nonenhanced_original_image68.jpg_1cfda702-2a9e-4ee9-9183-14207902e0ef.jpg\n",
            "Working on file  /content/gdrive/MyDrive/Data training/Nonenhanced Image/Nonenhanced_original_image68.jpg_20357f23-679d-4460-a282-30892065e813.jpg\n",
            "Working on file  /content/gdrive/MyDrive/Data training/Nonenhanced Image/Nonenhanced_original_image68.jpg_2751afb2-151d-4720-9eab-1ea97eee3cd7.jpg\n",
            "Working on file  /content/gdrive/MyDrive/Data training/Nonenhanced Image/Nonenhanced_original_image68.jpg_337b3160-2bf7-4460-9453-65b3e2d97b2e.jpg\n",
            "Working on file  /content/gdrive/MyDrive/Data training/Nonenhanced Image/Nonenhanced_original_image68.jpg_3785da43-419a-4aa6-9d4b-658d6e1ea0ac.jpg\n",
            "Working on file  /content/gdrive/MyDrive/Data training/Nonenhanced Image/Nonenhanced_original_image68.jpg_4a77fa2d-628e-4e83-a263-56db8a7189fb.jpg\n",
            "Working on file  /content/gdrive/MyDrive/Data training/Nonenhanced Image/Nonenhanced_original_image68.jpg_608ad821-3267-440b-9288-07bd5ce2bfc1.jpg\n",
            "Working on file  /content/gdrive/MyDrive/Data training/Nonenhanced Image/Nonenhanced_original_image68.jpg_622997dc-1962-4b0e-a0f2-440ff3fedba1.jpg\n",
            "Working on file  /content/gdrive/MyDrive/Data training/Nonenhanced Image/Nonenhanced_original_image68.jpg_67c03078-656e-4079-9531-3c2fa9b74d20.jpg\n",
            "Working on file  /content/gdrive/MyDrive/Data training/Nonenhanced Image/Nonenhanced_original_image68.jpg_735e5975-5022-4d7f-978a-051cdcae1c52.jpg\n",
            "Working on file  /content/gdrive/MyDrive/Data training/Nonenhanced Image/Nonenhanced_original_image68.jpg_ac853419-cd9a-416a-92b1-354e1fe41486.jpg\n",
            "Working on file  /content/gdrive/MyDrive/Data training/Nonenhanced Image/Nonenhanced_original_image68.jpg_ad57cb9b-3fcb-4b7f-8786-4b6201787a62.jpg\n",
            "Working on file  /content/gdrive/MyDrive/Data training/Nonenhanced Image/Nonenhanced_original_image68.jpg_bc9e341a-fc22-458a-bf7e-7766531ef37b.jpg\n",
            "Working on file  /content/gdrive/MyDrive/Data training/Nonenhanced Image/Nonenhanced_original_image68.jpg_df194169-b4c8-4a31-b8c5-4b3e7062e246.jpg\n",
            "Working on file  /content/gdrive/MyDrive/Data training/Nonenhanced Image/Nonenhanced_original_image68.jpg_eb33e5cc-9a54-4301-94b7-d83978fbfb13.jpg\n",
            "Working on file  /content/gdrive/MyDrive/Data training/Nonenhanced Image/Nonenhanced_original_image68.jpg_f56c942e-c284-4b66-9264-e411eaa874d2.jpg\n",
            "Working on file  /content/gdrive/MyDrive/Data training/Nonenhanced Image/Nonenhanced_original_image69.jpg_047bb0ba-9281-45a6-a6b2-649aea843c1b.jpg\n",
            "Working on file  /content/gdrive/MyDrive/Data training/Nonenhanced Image/Nonenhanced_original_image69.jpg_125bcd61-c60e-4251-9b5e-084973755614.jpg\n",
            "Working on file  /content/gdrive/MyDrive/Data training/Nonenhanced Image/Nonenhanced_original_image69.jpg_26ee4197-4bf4-4571-9c05-71b6719f429e.jpg\n",
            "Working on file  /content/gdrive/MyDrive/Data training/Nonenhanced Image/Nonenhanced_original_image69.jpg_54eb6190-7c37-45a4-9bc2-eeaa1aa640f5.jpg\n",
            "Working on file  /content/gdrive/MyDrive/Data training/Nonenhanced Image/Nonenhanced_original_image69.jpg_554c4b2c-55f6-40ac-ae86-d24bcee8d9e0.jpg\n",
            "Working on file  /content/gdrive/MyDrive/Data training/Nonenhanced Image/Nonenhanced_original_image69.jpg_5c521c9f-9e14-4665-b005-801a08f209c7.jpg\n",
            "Working on file  /content/gdrive/MyDrive/Data training/Nonenhanced Image/Nonenhanced_original_image69.jpg_626bee8e-1a55-4746-bedf-c1dc122bc1d6.jpg\n",
            "Working on file  /content/gdrive/MyDrive/Data training/Nonenhanced Image/Nonenhanced_original_image69.jpg_73d51b3a-8627-455e-b8c9-6639b084443b.jpg\n",
            "Working on file  /content/gdrive/MyDrive/Data training/Nonenhanced Image/Nonenhanced_original_image69.jpg_8adf7ff6-4064-4e24-9584-2724852cbfa3.jpg\n",
            "Working on file  /content/gdrive/MyDrive/Data training/Nonenhanced Image/Nonenhanced_original_image69.jpg_9af44b9f-811b-4a57-89d2-83f233c550c8.jpg\n",
            "Working on file  /content/gdrive/MyDrive/Data training/Nonenhanced Image/Nonenhanced_original_image69.jpg_cab30393-9040-4b4e-ab41-a8bd0419af11.jpg\n",
            "Working on file  /content/gdrive/MyDrive/Data training/Nonenhanced Image/Nonenhanced_original_image69.jpg_ce72a5a3-9f03-4ca0-b07b-d717a9f5d64d.jpg\n",
            "Working on file  /content/gdrive/MyDrive/Data training/Nonenhanced Image/Nonenhanced_original_image69.jpg_dad02988-1f4c-4763-a3a2-e7f20347ad06.jpg\n",
            "Working on file  /content/gdrive/MyDrive/Data training/Nonenhanced Image/Nonenhanced_original_image7.jpg_0c13646f-b2ac-4be1-8391-13cdfc38cfc4.jpg\n",
            "Working on file  /content/gdrive/MyDrive/Data training/Nonenhanced Image/Nonenhanced_original_image7.jpg_1f0f68bb-e03e-4696-97c8-eaf9784514d8.jpg\n",
            "Working on file  /content/gdrive/MyDrive/Data training/Nonenhanced Image/Nonenhanced_original_image7.jpg_3c985542-b979-49ec-88e8-452100878fad.jpg\n",
            "Working on file  /content/gdrive/MyDrive/Data training/Nonenhanced Image/Nonenhanced_original_image7.jpg_60420c84-04a7-4062-97c9-5be265c750b9.jpg\n",
            "Working on file  /content/gdrive/MyDrive/Data training/Nonenhanced Image/Nonenhanced_original_image7.jpg_620019eb-3002-48c0-a7e3-4f3f6ad4a69b.jpg\n",
            "Working on file  /content/gdrive/MyDrive/Data training/Nonenhanced Image/Nonenhanced_original_image7.jpg_6a2ed6f3-d132-4a52-8083-6677ac0f27d9.jpg\n",
            "Working on file  /content/gdrive/MyDrive/Data training/Nonenhanced Image/Nonenhanced_original_image7.jpg_72ccbf31-6a6d-479c-a8ff-1db0bbd33b18.jpg\n",
            "Working on file  /content/gdrive/MyDrive/Data training/Nonenhanced Image/Nonenhanced_original_image7.jpg_817bcb72-3bae-47e1-aed2-227d4a2aa440.jpg\n",
            "Working on file  /content/gdrive/MyDrive/Data training/Nonenhanced Image/Nonenhanced_original_image7.jpg_8ac23551-99e7-4601-b0a4-a9769d4b79a2.jpg\n",
            "Working on file  /content/gdrive/MyDrive/Data training/Nonenhanced Image/Nonenhanced_original_image7.jpg_a52dcf90-57d5-4a8d-be5d-4736452fbf15.jpg\n",
            "Working on file  /content/gdrive/MyDrive/Data training/Nonenhanced Image/Nonenhanced_original_image7.jpg_a7a59ac1-2902-463b-b6b5-5eeab87f4a1f.jpg\n",
            "Working on file  /content/gdrive/MyDrive/Data training/Nonenhanced Image/Nonenhanced_original_image7.jpg_f717e8fa-f3e2-4ba0-ac36-9ec5e4b0b99a.jpg\n",
            "Working on file  /content/gdrive/MyDrive/Data training/Nonenhanced Image/Nonenhanced_original_image7.jpg_f71f3931-254d-498c-9859-1d72a3bfa759.jpg\n",
            "Working on file  /content/gdrive/MyDrive/Data training/Nonenhanced Image/Nonenhanced_original_image70.jpg_0fb3d9ba-02d2-4aa4-80cc-d9f9cbc42a71.jpg\n",
            "Working on file  /content/gdrive/MyDrive/Data training/Nonenhanced Image/Nonenhanced_original_image70.jpg_12ba1cf2-76fa-4eb4-9803-e326c91d2595.jpg\n",
            "Working on file  /content/gdrive/MyDrive/Data training/Nonenhanced Image/Nonenhanced_original_image70.jpg_37f3361b-dea2-4856-81c2-54f58bb9666b.jpg\n",
            "Working on file  /content/gdrive/MyDrive/Data training/Nonenhanced Image/Nonenhanced_original_image70.jpg_42f2eeb1-f260-4dae-b8e9-ea21b714ddf6.jpg\n",
            "Working on file  /content/gdrive/MyDrive/Data training/Nonenhanced Image/Nonenhanced_original_image70.jpg_5be7df15-0656-4b23-bfc2-e6ad74e29884.jpg\n",
            "Working on file  /content/gdrive/MyDrive/Data training/Nonenhanced Image/Nonenhanced_original_image70.jpg_6378a77a-6985-4472-ab89-d0c87e23badd.jpg\n",
            "Working on file  /content/gdrive/MyDrive/Data training/Nonenhanced Image/Nonenhanced_original_image70.jpg_91a65e5a-c518-4bfe-9e99-8a995f0a899f.jpg\n",
            "Working on file  /content/gdrive/MyDrive/Data training/Nonenhanced Image/Nonenhanced_original_image70.jpg_c347a73f-2a8a-4f0c-b094-7774b5de55e0.jpg\n",
            "Working on file  /content/gdrive/MyDrive/Data training/Nonenhanced Image/Nonenhanced_original_image70.jpg_c9fe967a-c8cc-45a4-a106-038fb5a6bd10.jpg\n",
            "Working on file  /content/gdrive/MyDrive/Data training/Nonenhanced Image/Nonenhanced_original_image70.jpg_e770f89e-cb92-468a-a6f0-3857b066415c.jpg\n",
            "Working on file  /content/gdrive/MyDrive/Data training/Nonenhanced Image/Nonenhanced_original_image70.jpg_f24a168b-c33b-4b07-9fe8-af8a9367c3d5.jpg\n",
            "Working on file  /content/gdrive/MyDrive/Data training/Nonenhanced Image/Nonenhanced_original_image70.jpg_fb6b270e-7f2f-4d2a-be65-0a9838e5163e.jpg\n",
            "Working on file  /content/gdrive/MyDrive/Data training/Nonenhanced Image/Nonenhanced_original_image71.jpg_0275f3a1-8b3b-4f9f-8505-a6dea777ef11.jpg\n",
            "Working on file  /content/gdrive/MyDrive/Data training/Nonenhanced Image/Nonenhanced_original_image71.jpg_0c17e532-b0f9-442f-9a65-5481cbaa5e8b.jpg\n",
            "Working on file  /content/gdrive/MyDrive/Data training/Nonenhanced Image/Nonenhanced_original_image71.jpg_0cb9e996-b869-44b0-8912-32a005663366.jpg\n",
            "Working on file  /content/gdrive/MyDrive/Data training/Nonenhanced Image/Nonenhanced_original_image71.jpg_16331bb4-0c7d-4b03-877a-233f148e1f9b.jpg\n",
            "Working on file  /content/gdrive/MyDrive/Data training/Nonenhanced Image/Nonenhanced_original_image71.jpg_25c1f61c-960b-4f8b-bf0a-eb1d894151c7.jpg\n",
            "Working on file  /content/gdrive/MyDrive/Data training/Nonenhanced Image/Nonenhanced_original_image71.jpg_390c8156-5e97-4e0a-827a-3099ad230e35.jpg\n",
            "Working on file  /content/gdrive/MyDrive/Data training/Nonenhanced Image/Nonenhanced_original_image71.jpg_39dac830-496e-4986-960a-e657bc12af26.jpg\n",
            "Working on file  /content/gdrive/MyDrive/Data training/Nonenhanced Image/Nonenhanced_original_image71.jpg_4c39ab4e-f8f3-4848-b535-43081ce8d6f3.jpg\n",
            "Working on file  /content/gdrive/MyDrive/Data training/Nonenhanced Image/Nonenhanced_original_image71.jpg_54e8cc67-f2f2-49ea-b074-91c7f5b461d0.jpg\n",
            "Working on file  /content/gdrive/MyDrive/Data training/Nonenhanced Image/Nonenhanced_original_image71.jpg_596fa0c9-d989-4f0a-a7ba-3e5d4ef5adcf.jpg\n",
            "Working on file  /content/gdrive/MyDrive/Data training/Nonenhanced Image/Nonenhanced_original_image71.jpg_6c073700-347b-4654-b1e1-3c932d7a6f04.jpg\n",
            "Working on file  /content/gdrive/MyDrive/Data training/Nonenhanced Image/Nonenhanced_original_image71.jpg_726c8890-2b87-4c70-8fb7-47dd32d2476b.jpg\n",
            "Working on file  /content/gdrive/MyDrive/Data training/Nonenhanced Image/Nonenhanced_original_image71.jpg_9b8b4964-298b-44b5-88a4-21cdcf464062.jpg\n",
            "Working on file  /content/gdrive/MyDrive/Data training/Nonenhanced Image/Nonenhanced_original_image71.jpg_a282c0bf-2fef-44d6-a1ed-087007a989ce.jpg\n",
            "Working on file  /content/gdrive/MyDrive/Data training/Nonenhanced Image/Nonenhanced_original_image71.jpg_b6033bb5-176b-4565-b37b-63fe95281348.jpg\n",
            "Working on file  /content/gdrive/MyDrive/Data training/Nonenhanced Image/Nonenhanced_original_image71.jpg_bb9dbc6a-25fc-4115-b85e-e654b6d4430d.jpg\n",
            "Working on file  /content/gdrive/MyDrive/Data training/Nonenhanced Image/Nonenhanced_original_image71.jpg_ccc64e6b-e876-415d-b0d5-99da27060bf4.jpg\n",
            "Working on file  /content/gdrive/MyDrive/Data training/Nonenhanced Image/Nonenhanced_original_image71.jpg_d2659327-4042-4ae2-a9f4-55f2b2cc8e55.jpg\n",
            "Working on file  /content/gdrive/MyDrive/Data training/Nonenhanced Image/Nonenhanced_original_image71.jpg_daa6a804-0047-4954-8529-17c0e6f31058.jpg\n",
            "Working on file  /content/gdrive/MyDrive/Data training/Nonenhanced Image/Nonenhanced_original_image71.jpg_e10fff94-795f-424b-99be-dc3ef2091c9b.jpg\n",
            "Working on file  /content/gdrive/MyDrive/Data training/Nonenhanced Image/Nonenhanced_original_image71.jpg_f5887c92-4601-4c73-9b3f-05520b93be5e.jpg\n",
            "Working on file  /content/gdrive/MyDrive/Data training/Nonenhanced Image/Nonenhanced_original_image72.jpg_152882e5-76e9-4d84-ad37-59cf1032f24a.jpg\n",
            "Working on file  /content/gdrive/MyDrive/Data training/Nonenhanced Image/Nonenhanced_original_image72.jpg_26e7a940-1c68-45ca-816f-567e1fd93dc8.jpg\n",
            "Working on file  /content/gdrive/MyDrive/Data training/Nonenhanced Image/Nonenhanced_original_image72.jpg_4987bd8f-e122-4363-bef3-cb757e2d887c.jpg\n",
            "Working on file  /content/gdrive/MyDrive/Data training/Nonenhanced Image/Nonenhanced_original_image72.jpg_6b17bb47-e5e9-4740-8eba-d42bda90b7b1.jpg\n",
            "Working on file  /content/gdrive/MyDrive/Data training/Nonenhanced Image/Nonenhanced_original_image72.jpg_78ff96c6-1520-4755-94f9-1f56fc3ad7b3.jpg\n",
            "Working on file  /content/gdrive/MyDrive/Data training/Nonenhanced Image/Nonenhanced_original_image72.jpg_8a776663-8cb0-4df1-a97e-9b0afd950024.jpg\n",
            "Working on file  /content/gdrive/MyDrive/Data training/Nonenhanced Image/Nonenhanced_original_image72.jpg_af18c479-515a-4624-af9e-2a79180e3fb4.jpg\n",
            "Working on file  /content/gdrive/MyDrive/Data training/Nonenhanced Image/Nonenhanced_original_image72.jpg_ebe9a1c3-8486-4202-a411-a06780369dc1.jpg\n",
            "Working on file  /content/gdrive/MyDrive/Data training/Nonenhanced Image/Nonenhanced_original_image72.jpg_f269ed11-5de0-4b4e-b752-42dd143d1d59.jpg\n",
            "Working on file  /content/gdrive/MyDrive/Data training/Nonenhanced Image/Nonenhanced_original_image73.jpg_0a5c184e-0037-42ab-9000-4408edeea199.jpg\n",
            "Working on file  /content/gdrive/MyDrive/Data training/Nonenhanced Image/Nonenhanced_original_image73.jpg_1af0cb0f-456a-4f30-a664-6dfb526e0700.jpg\n",
            "Working on file  /content/gdrive/MyDrive/Data training/Nonenhanced Image/Nonenhanced_original_image73.jpg_20c07e72-4830-4407-80b0-31ebff001af8.jpg\n",
            "Working on file  /content/gdrive/MyDrive/Data training/Nonenhanced Image/Nonenhanced_original_image73.jpg_27146c04-4d87-4912-8b06-3d09c4377366.jpg\n",
            "Working on file  /content/gdrive/MyDrive/Data training/Nonenhanced Image/Nonenhanced_original_image73.jpg_3af18dd1-c0d1-4b52-925a-4cc0a711b02e.jpg\n",
            "Working on file  /content/gdrive/MyDrive/Data training/Nonenhanced Image/Nonenhanced_original_image73.jpg_68ac9b83-ab0b-4bbc-9c0f-a725ac759f2e.jpg\n",
            "Working on file  /content/gdrive/MyDrive/Data training/Nonenhanced Image/Nonenhanced_original_image73.jpg_87b88d21-7210-411c-b5d9-cfc021914b61.jpg\n",
            "Working on file  /content/gdrive/MyDrive/Data training/Nonenhanced Image/Nonenhanced_original_image73.jpg_9bce5e81-fe66-4854-9598-946f85fc2876.jpg\n",
            "Working on file  /content/gdrive/MyDrive/Data training/Nonenhanced Image/Nonenhanced_original_image73.jpg_f7816ad1-48fc-4277-a7ab-f7d3008fabda.jpg\n",
            "Working on file  /content/gdrive/MyDrive/Data training/Nonenhanced Image/Nonenhanced_original_image74.jpg_21480b0c-cd48-4ab3-be33-6062caf1f6ac.jpg\n",
            "Working on file  /content/gdrive/MyDrive/Data training/Nonenhanced Image/Nonenhanced_original_image74.jpg_275e6767-d146-4b7e-be6e-3e6980c39d19.jpg\n",
            "Working on file  /content/gdrive/MyDrive/Data training/Nonenhanced Image/Nonenhanced_original_image74.jpg_3b445d32-64c8-4da1-b77b-cac2101acff5.jpg\n",
            "Working on file  /content/gdrive/MyDrive/Data training/Nonenhanced Image/Nonenhanced_original_image74.jpg_5857ba81-ff7e-4826-b69a-a3db6bcc686c.jpg\n",
            "Working on file  /content/gdrive/MyDrive/Data training/Nonenhanced Image/Nonenhanced_original_image74.jpg_5c3a79c9-5fd7-448a-a5e7-63acde3cc23e.jpg\n",
            "Working on file  /content/gdrive/MyDrive/Data training/Nonenhanced Image/Nonenhanced_original_image74.jpg_6a192837-1e4f-446e-af53-26b23011fa3e.jpg\n",
            "Working on file  /content/gdrive/MyDrive/Data training/Nonenhanced Image/Nonenhanced_original_image74.jpg_7ecc7e37-0b65-409a-a1e5-485e086c73a3.jpg\n",
            "Working on file  /content/gdrive/MyDrive/Data training/Nonenhanced Image/Nonenhanced_original_image74.jpg_ae84af5d-16ac-4bb4-a32c-554f7ed6953b.jpg\n",
            "Working on file  /content/gdrive/MyDrive/Data training/Nonenhanced Image/Nonenhanced_original_image74.jpg_b92f5bc0-0aae-4e04-a21c-cd9093e2c784.jpg\n",
            "Working on file  /content/gdrive/MyDrive/Data training/Nonenhanced Image/Nonenhanced_original_image74.jpg_ed3913e7-988c-4bf1-834f-73da71104a99.jpg\n",
            "Working on file  /content/gdrive/MyDrive/Data training/Nonenhanced Image/Nonenhanced_original_image75.jpg_004dfb54-38c2-40c7-9355-4160e0ac4cc7.jpg\n",
            "Working on file  /content/gdrive/MyDrive/Data training/Nonenhanced Image/Nonenhanced_original_image75.jpg_1540b485-a7e6-455e-9093-79d603c501ad.jpg\n",
            "Working on file  /content/gdrive/MyDrive/Data training/Nonenhanced Image/Nonenhanced_original_image75.jpg_44a8968e-4a40-4c3e-b303-63d2e97ddffb.jpg\n",
            "Working on file  /content/gdrive/MyDrive/Data training/Nonenhanced Image/Nonenhanced_original_image75.jpg_990ff09f-d4f4-4573-9159-4afcb3c69a3f.jpg\n",
            "Working on file  /content/gdrive/MyDrive/Data training/Nonenhanced Image/Nonenhanced_original_image75.jpg_9fe4fc37-547a-4cc7-91d9-cd5b24f5974f.jpg\n",
            "Working on file  /content/gdrive/MyDrive/Data training/Nonenhanced Image/Nonenhanced_original_image75.jpg_d9e81f9d-4db0-4047-92e4-b76b7960f2ee.jpg\n",
            "Working on file  /content/gdrive/MyDrive/Data training/Nonenhanced Image/Nonenhanced_original_image75.jpg_daa58f36-7181-442f-afda-0c26224d6602.jpg\n",
            "Working on file  /content/gdrive/MyDrive/Data training/Nonenhanced Image/Nonenhanced_original_image75.jpg_dbc76750-e16e-43c7-b08e-15eb06a4f566.jpg\n",
            "Working on file  /content/gdrive/MyDrive/Data training/Nonenhanced Image/Nonenhanced_original_image76.jpg_55f9b695-a4ac-4e15-b6fe-fb375ae72a2d.jpg\n",
            "Working on file  /content/gdrive/MyDrive/Data training/Nonenhanced Image/Nonenhanced_original_image76.jpg_7e48026e-d4dd-423e-aa35-a64a43ae34d3.jpg\n",
            "Working on file  /content/gdrive/MyDrive/Data training/Nonenhanced Image/Nonenhanced_original_image76.jpg_907db5c1-70c7-49fa-aa4a-e3d1cfb540a6.jpg\n",
            "Working on file  /content/gdrive/MyDrive/Data training/Nonenhanced Image/Nonenhanced_original_image76.jpg_d75538df-c9af-4842-b906-539c0fdae8ac.jpg\n",
            "Working on file  /content/gdrive/MyDrive/Data training/Nonenhanced Image/Nonenhanced_original_image76.jpg_eac01b07-6040-4f4e-81a1-875d0e6b95c4.jpg\n",
            "Working on file  /content/gdrive/MyDrive/Data training/Nonenhanced Image/Nonenhanced_original_image77.jpg_0332c7f0-3b10-4445-97d5-99b3216ce37f.jpg\n",
            "Working on file  /content/gdrive/MyDrive/Data training/Nonenhanced Image/Nonenhanced_original_image77.jpg_0cd5a18d-6ee5-4669-b0ff-2967ad764ec7.jpg\n",
            "Working on file  /content/gdrive/MyDrive/Data training/Nonenhanced Image/Nonenhanced_original_image77.jpg_105888f8-3dae-496c-b65d-3dbdd578d68b.jpg\n",
            "Working on file  /content/gdrive/MyDrive/Data training/Nonenhanced Image/Nonenhanced_original_image77.jpg_49e88fa2-1611-4fb3-bc6f-07f6bf0f09a5.jpg\n",
            "Working on file  /content/gdrive/MyDrive/Data training/Nonenhanced Image/Nonenhanced_original_image77.jpg_7ff5dd9f-d233-4367-b3a5-aa865e18a386.jpg\n",
            "Working on file  /content/gdrive/MyDrive/Data training/Nonenhanced Image/Nonenhanced_original_image77.jpg_961f380e-1d17-4fe0-9599-26e7c3246ef4.jpg\n",
            "Working on file  /content/gdrive/MyDrive/Data training/Nonenhanced Image/Nonenhanced_original_image77.jpg_a3109876-12cd-423d-8638-aa891d302681.jpg\n",
            "Working on file  /content/gdrive/MyDrive/Data training/Nonenhanced Image/Nonenhanced_original_image77.jpg_d62f5ef6-382e-4b8e-8612-125fc4c80532.jpg\n",
            "Working on file  /content/gdrive/MyDrive/Data training/Nonenhanced Image/Nonenhanced_original_image78.jpg_28c47356-ca83-4666-a912-578c972c09c1.jpg\n",
            "Working on file  /content/gdrive/MyDrive/Data training/Nonenhanced Image/Nonenhanced_original_image78.jpg_2ce03617-521e-4496-aa34-5052efba460e.jpg\n",
            "Working on file  /content/gdrive/MyDrive/Data training/Nonenhanced Image/Nonenhanced_original_image78.jpg_3072c8af-9874-48e5-8927-a9277216a506.jpg\n",
            "Working on file  /content/gdrive/MyDrive/Data training/Nonenhanced Image/Nonenhanced_original_image78.jpg_35b3b86b-b5e2-4395-a9c2-1c5a2c6c0e0d.jpg\n",
            "Working on file  /content/gdrive/MyDrive/Data training/Nonenhanced Image/Nonenhanced_original_image78.jpg_4cded05d-16ea-44e6-95c1-216c5e417042.jpg\n",
            "Working on file  /content/gdrive/MyDrive/Data training/Nonenhanced Image/Nonenhanced_original_image78.jpg_7c99eaba-e369-4b67-970d-0022211a1ec0.jpg\n",
            "Working on file  /content/gdrive/MyDrive/Data training/Nonenhanced Image/Nonenhanced_original_image78.jpg_8db78fb9-0ab0-46b9-9bd7-447d89daea28.jpg\n",
            "Working on file  /content/gdrive/MyDrive/Data training/Nonenhanced Image/Nonenhanced_original_image78.jpg_93f7c16e-ed5c-4249-aa39-8ee6e4607a9b.jpg\n",
            "Working on file  /content/gdrive/MyDrive/Data training/Nonenhanced Image/Nonenhanced_original_image78.jpg_9eb5de39-0b55-4848-8bc5-4059dd90a774.jpg\n",
            "Working on file  /content/gdrive/MyDrive/Data training/Nonenhanced Image/Nonenhanced_original_image78.jpg_b847f493-7ff0-4612-bb17-787cb8c9aa89.jpg\n",
            "Working on file  /content/gdrive/MyDrive/Data training/Nonenhanced Image/Nonenhanced_original_image78.jpg_f3be8154-2e4c-41e1-9167-d396e0707c37.jpg\n",
            "Working on file  /content/gdrive/MyDrive/Data training/Nonenhanced Image/Nonenhanced_original_image78.jpg_fb93ff03-ec74-45de-9f20-7010add1f589.jpg\n",
            "Working on file  /content/gdrive/MyDrive/Data training/Nonenhanced Image/Nonenhanced_original_image78.jpg_fca75ceb-b3ce-4076-9d33-89c87cfffd38.jpg\n",
            "Working on file  /content/gdrive/MyDrive/Data training/Nonenhanced Image/Nonenhanced_original_image78.jpg_fe1d093b-ca77-4420-a846-2d5225147115.jpg\n",
            "Working on file  /content/gdrive/MyDrive/Data training/Nonenhanced Image/Nonenhanced_original_image79.jpg_0fb93f6d-4093-4c11-878f-a2dc9a44054f.jpg\n",
            "Working on file  /content/gdrive/MyDrive/Data training/Nonenhanced Image/Nonenhanced_original_image79.jpg_336760ea-6cd8-4c8b-9734-d7e7db6e9cea.jpg\n",
            "Working on file  /content/gdrive/MyDrive/Data training/Nonenhanced Image/Nonenhanced_original_image79.jpg_40545f3b-d3ed-4baf-9251-689ab97b2440.jpg\n",
            "Working on file  /content/gdrive/MyDrive/Data training/Nonenhanced Image/Nonenhanced_original_image79.jpg_447368ae-a57c-4033-b2c7-7a50813b96d2.jpg\n",
            "Working on file  /content/gdrive/MyDrive/Data training/Nonenhanced Image/Nonenhanced_original_image79.jpg_479ea7b4-ebed-4ebc-9ae3-5ea02abc6130.jpg\n",
            "Working on file  /content/gdrive/MyDrive/Data training/Nonenhanced Image/Nonenhanced_original_image79.jpg_591e8a6f-a2be-4369-9194-c1db89817b83.jpg\n",
            "Working on file  /content/gdrive/MyDrive/Data training/Nonenhanced Image/Nonenhanced_original_image79.jpg_75a2322a-b24f-4336-822b-a8c8b24c6394.jpg\n",
            "Working on file  /content/gdrive/MyDrive/Data training/Nonenhanced Image/Nonenhanced_original_image79.jpg_7ed47735-03ee-441d-999c-4f2327bd3a8e.jpg\n",
            "Working on file  /content/gdrive/MyDrive/Data training/Nonenhanced Image/Nonenhanced_original_image79.jpg_b126ae7c-4601-4400-8073-7087935cceae.jpg\n",
            "Working on file  /content/gdrive/MyDrive/Data training/Nonenhanced Image/Nonenhanced_original_image79.jpg_c9db35cb-2d78-4be3-a694-329bad97106c.jpg\n",
            "Working on file  /content/gdrive/MyDrive/Data training/Nonenhanced Image/Nonenhanced_original_image79.jpg_f717cb8c-1013-48e4-b4bf-286db7f4bcf3.jpg\n",
            "Working on file  /content/gdrive/MyDrive/Data training/Nonenhanced Image/Nonenhanced_original_image79.jpg_fb990e88-17cd-40af-9dea-d77a785f2428.jpg\n",
            "Working on file  /content/gdrive/MyDrive/Data training/Nonenhanced Image/Nonenhanced_original_image8.jpg_23b69695-7705-4e9b-b7df-2d14f7b78a02.jpg\n",
            "Working on file  /content/gdrive/MyDrive/Data training/Nonenhanced Image/Nonenhanced_original_image8.jpg_2aa3e812-7a08-4237-b6cf-7083be544b5b.jpg\n",
            "Working on file  /content/gdrive/MyDrive/Data training/Nonenhanced Image/Nonenhanced_original_image8.jpg_39972d68-3005-4fe9-a81a-56047eaa93ca.jpg\n",
            "Working on file  /content/gdrive/MyDrive/Data training/Nonenhanced Image/Nonenhanced_original_image8.jpg_81028ffc-3d27-4147-86f1-3aba3257308f.jpg\n",
            "Working on file  /content/gdrive/MyDrive/Data training/Nonenhanced Image/Nonenhanced_original_image8.jpg_876e3798-c8e0-4484-aaa3-9aa1960e6702.jpg\n",
            "Working on file  /content/gdrive/MyDrive/Data training/Nonenhanced Image/Nonenhanced_original_image8.jpg_87d1478e-8b05-42f9-99f3-2f79c3f77ab5.jpg\n",
            "Working on file  /content/gdrive/MyDrive/Data training/Nonenhanced Image/Nonenhanced_original_image8.jpg_9a4dc33b-a37f-47cb-b7d8-e7107ed974db.jpg\n",
            "Working on file  /content/gdrive/MyDrive/Data training/Nonenhanced Image/Nonenhanced_original_image8.jpg_b2e52ca8-aa77-408f-a505-8bd749d89d6a.jpg\n",
            "Working on file  /content/gdrive/MyDrive/Data training/Nonenhanced Image/Nonenhanced_original_image8.jpg_b436902f-7f6f-49a4-bcb2-339f3672b4a8.jpg\n",
            "Working on file  /content/gdrive/MyDrive/Data training/Nonenhanced Image/Nonenhanced_original_image80.jpg_383491cd-8f7d-4b6f-b26c-59ce001d3a85.jpg\n",
            "Working on file  /content/gdrive/MyDrive/Data training/Nonenhanced Image/Nonenhanced_original_image80.jpg_3e0bd69f-1285-42fb-bedb-05e163f7ab51.jpg\n",
            "Working on file  /content/gdrive/MyDrive/Data training/Nonenhanced Image/Nonenhanced_original_image80.jpg_4bb370af-0899-4007-92ee-b7deec9fb719.jpg\n",
            "Working on file  /content/gdrive/MyDrive/Data training/Nonenhanced Image/Nonenhanced_original_image80.jpg_6186c737-0c8f-48ca-815c-233a0ebdaccf.jpg\n",
            "Working on file  /content/gdrive/MyDrive/Data training/Nonenhanced Image/Nonenhanced_original_image80.jpg_72f60e17-636f-49c7-a028-ddcc18ff1cf5.jpg\n",
            "Working on file  /content/gdrive/MyDrive/Data training/Nonenhanced Image/Nonenhanced_original_image80.jpg_92383135-e571-4e53-a454-41aeabafbc22.jpg\n",
            "Working on file  /content/gdrive/MyDrive/Data training/Nonenhanced Image/Nonenhanced_original_image80.jpg_af1e6e8f-22fa-4e94-8285-37ddcfd9519d.jpg\n",
            "Working on file  /content/gdrive/MyDrive/Data training/Nonenhanced Image/Nonenhanced_original_image80.jpg_b098b0d5-be71-441d-97b3-955c1275ab04.jpg\n",
            "Working on file  /content/gdrive/MyDrive/Data training/Nonenhanced Image/Nonenhanced_original_image80.jpg_bebbf71e-73c6-4dac-b154-42f9c4de5c07.jpg\n",
            "Working on file  /content/gdrive/MyDrive/Data training/Nonenhanced Image/Nonenhanced_original_image80.jpg_cdc1ee98-a8b1-4670-ba83-c4560e2ef8d8.jpg\n",
            "Working on file  /content/gdrive/MyDrive/Data training/Nonenhanced Image/Nonenhanced_original_image81.jpg_05224fee-bc90-47da-87ee-8f5fbbbb1743.jpg\n",
            "Working on file  /content/gdrive/MyDrive/Data training/Nonenhanced Image/Nonenhanced_original_image81.jpg_0d9ed071-6589-43f1-b0ad-eba13f164576.jpg\n",
            "Working on file  /content/gdrive/MyDrive/Data training/Nonenhanced Image/Nonenhanced_original_image81.jpg_1519f900-924a-40a8-8ee2-8230d586b9ab.jpg\n",
            "Working on file  /content/gdrive/MyDrive/Data training/Nonenhanced Image/Nonenhanced_original_image81.jpg_6421006a-e058-432b-90dc-008ed859f6b4.jpg\n",
            "Working on file  /content/gdrive/MyDrive/Data training/Nonenhanced Image/Nonenhanced_original_image81.jpg_7cc0db39-3eb9-44eb-aad7-3815df3cb4de.jpg\n",
            "Working on file  /content/gdrive/MyDrive/Data training/Nonenhanced Image/Nonenhanced_original_image81.jpg_acabd4ce-8a04-4036-b97f-2c94ad24736b.jpg\n",
            "Working on file  /content/gdrive/MyDrive/Data training/Nonenhanced Image/Nonenhanced_original_image81.jpg_e0292582-c1f5-40d4-a127-3d2df5cc4d72.jpg\n",
            "Working on file  /content/gdrive/MyDrive/Data training/Nonenhanced Image/Nonenhanced_original_image81.jpg_e9be7b43-4845-4ca1-8974-bf73bc628244.jpg\n",
            "Working on file  /content/gdrive/MyDrive/Data training/Nonenhanced Image/Nonenhanced_original_image81.jpg_fbe0dfde-ece3-4144-9213-6fc18e8d8d39.jpg\n",
            "Working on file  /content/gdrive/MyDrive/Data training/Nonenhanced Image/Nonenhanced_original_image81.jpg_ff87b530-0f25-4aca-bf12-56de364236ed.jpg\n",
            "Working on file  /content/gdrive/MyDrive/Data training/Nonenhanced Image/Nonenhanced_original_image82.jpg_0e1c2e7e-34aa-41e5-b0ef-2cbba0e15617.jpg\n",
            "Working on file  /content/gdrive/MyDrive/Data training/Nonenhanced Image/Nonenhanced_original_image82.jpg_147868c7-c036-4b77-adea-abd20d09a35c.jpg\n",
            "Working on file  /content/gdrive/MyDrive/Data training/Nonenhanced Image/Nonenhanced_original_image82.jpg_200c52ac-79df-4eb3-a93c-96764f73a7e0.jpg\n",
            "Working on file  /content/gdrive/MyDrive/Data training/Nonenhanced Image/Nonenhanced_original_image82.jpg_3567719e-61bc-4f2f-9a5a-52d142154cee.jpg\n",
            "Working on file  /content/gdrive/MyDrive/Data training/Nonenhanced Image/Nonenhanced_original_image82.jpg_41e27908-9c65-43b2-b169-0606bc87832e.jpg\n",
            "Working on file  /content/gdrive/MyDrive/Data training/Nonenhanced Image/Nonenhanced_original_image82.jpg_424f2775-22c8-4576-8080-063380f23f54.jpg\n",
            "Working on file  /content/gdrive/MyDrive/Data training/Nonenhanced Image/Nonenhanced_original_image82.jpg_50c3dea7-4f7b-4ca2-ae7b-176be18db4b1.jpg\n",
            "Working on file  /content/gdrive/MyDrive/Data training/Nonenhanced Image/Nonenhanced_original_image82.jpg_7bd40186-4be0-491b-835e-59fb145f8328.jpg\n",
            "Working on file  /content/gdrive/MyDrive/Data training/Nonenhanced Image/Nonenhanced_original_image82.jpg_850154d5-fe3f-438e-9f0e-207b712ef17f.jpg\n",
            "Working on file  /content/gdrive/MyDrive/Data training/Nonenhanced Image/Nonenhanced_original_image82.jpg_97c93792-0530-4eee-8191-1ae7e8c67ff0.jpg\n",
            "Working on file  /content/gdrive/MyDrive/Data training/Nonenhanced Image/Nonenhanced_original_image82.jpg_a32c2ab0-c434-486b-bbec-fb2609b0f0da.jpg\n",
            "Working on file  /content/gdrive/MyDrive/Data training/Nonenhanced Image/Nonenhanced_original_image82.jpg_a9a7e63c-12f3-4d28-95e3-6cc9f2d4b25d.jpg\n",
            "Working on file  /content/gdrive/MyDrive/Data training/Nonenhanced Image/Nonenhanced_original_image82.jpg_bf811fd6-3edd-49d9-bc04-4ffb1d0aa958.jpg\n",
            "Working on file  /content/gdrive/MyDrive/Data training/Nonenhanced Image/Nonenhanced_original_image82.jpg_cb92a088-51b5-4de4-8bf8-5c19df8a485b.jpg\n",
            "Working on file  /content/gdrive/MyDrive/Data training/Nonenhanced Image/Nonenhanced_original_image82.jpg_e9e8e314-eda3-43b4-9c52-e2d9dd51098d.jpg\n",
            "Working on file  /content/gdrive/MyDrive/Data training/Nonenhanced Image/Nonenhanced_original_image82.jpg_f81ca206-dd96-4745-8265-d3d44c10c0c1.jpg\n",
            "Working on file  /content/gdrive/MyDrive/Data training/Nonenhanced Image/Nonenhanced_original_image83.jpg_0a127fa7-4715-4648-b294-57f5cc8674e9.jpg\n",
            "Working on file  /content/gdrive/MyDrive/Data training/Nonenhanced Image/Nonenhanced_original_image83.jpg_42e7f8e6-5912-4680-98b1-eaf114dc6b45.jpg\n",
            "Working on file  /content/gdrive/MyDrive/Data training/Nonenhanced Image/Nonenhanced_original_image83.jpg_505e590a-586a-426a-bfd2-6ee736b45129.jpg\n",
            "Working on file  /content/gdrive/MyDrive/Data training/Nonenhanced Image/Nonenhanced_original_image83.jpg_6d1b91d8-fdfb-44f8-b0c6-e13025fdfe00.jpg\n",
            "Working on file  /content/gdrive/MyDrive/Data training/Nonenhanced Image/Nonenhanced_original_image83.jpg_7c65d987-9311-48ca-8ef4-fd6621ed542c.jpg\n",
            "Working on file  /content/gdrive/MyDrive/Data training/Nonenhanced Image/Nonenhanced_original_image83.jpg_9addc6a4-de2a-410a-9bed-7401239e4ca5.jpg\n",
            "Working on file  /content/gdrive/MyDrive/Data training/Nonenhanced Image/Nonenhanced_original_image83.jpg_a33e816e-502c-4e1e-99ad-05f909f83780.jpg\n",
            "Working on file  /content/gdrive/MyDrive/Data training/Nonenhanced Image/Nonenhanced_original_image83.jpg_beea4ed9-1a37-43b4-a670-5006629aef3d.jpg\n",
            "Working on file  /content/gdrive/MyDrive/Data training/Nonenhanced Image/Nonenhanced_original_image83.jpg_c57971bf-76ab-4066-b47e-5978bd022928.jpg\n",
            "Working on file  /content/gdrive/MyDrive/Data training/Nonenhanced Image/Nonenhanced_original_image83.jpg_c84b2350-555c-4494-a65f-68defc12e11b.jpg\n",
            "Working on file  /content/gdrive/MyDrive/Data training/Nonenhanced Image/Nonenhanced_original_image83.jpg_ea2aec3d-fd67-4e9b-b589-a72261a09bcd.jpg\n",
            "Working on file  /content/gdrive/MyDrive/Data training/Nonenhanced Image/Nonenhanced_original_image83.jpg_f44c39ea-5c5b-4a9c-8b5e-1659865e5b9b.jpg\n",
            "Working on file  /content/gdrive/MyDrive/Data training/Nonenhanced Image/Nonenhanced_original_image84.jpg_01d75bc8-3bb1-4587-a656-4a362ca68f30.jpg\n",
            "Working on file  /content/gdrive/MyDrive/Data training/Nonenhanced Image/Nonenhanced_original_image84.jpg_06b1d8d1-23c4-4cab-bc82-dddd753c1972.jpg\n",
            "Working on file  /content/gdrive/MyDrive/Data training/Nonenhanced Image/Nonenhanced_original_image84.jpg_083d5ad4-ca2d-41b0-ab5e-7405c0a277ca.jpg\n",
            "Working on file  /content/gdrive/MyDrive/Data training/Nonenhanced Image/Nonenhanced_original_image84.jpg_18a655ea-de8f-4a86-aad7-883c622a147d.jpg\n",
            "Working on file  /content/gdrive/MyDrive/Data training/Nonenhanced Image/Nonenhanced_original_image84.jpg_267d16bd-dd54-40db-a36a-1d9e8eb1501d.jpg\n",
            "Working on file  /content/gdrive/MyDrive/Data training/Nonenhanced Image/Nonenhanced_original_image84.jpg_50c093c9-26da-4222-8593-d1655036f072.jpg\n",
            "Working on file  /content/gdrive/MyDrive/Data training/Nonenhanced Image/Nonenhanced_original_image84.jpg_6efcd205-5ee7-4c54-b6d6-e3ea176713f8.jpg\n",
            "Working on file  /content/gdrive/MyDrive/Data training/Nonenhanced Image/Nonenhanced_original_image84.jpg_73fe418a-30f3-4e4e-812f-e19fdb9fe958.jpg\n",
            "Working on file  /content/gdrive/MyDrive/Data training/Nonenhanced Image/Nonenhanced_original_image84.jpg_a5e541eb-3d28-47c7-bd53-6c70aebeadf2.jpg\n",
            "Working on file  /content/gdrive/MyDrive/Data training/Nonenhanced Image/Nonenhanced_original_image84.jpg_bdd89079-4730-419c-b314-42a534a00081.jpg\n",
            "Working on file  /content/gdrive/MyDrive/Data training/Nonenhanced Image/Nonenhanced_original_image84.jpg_ca58d3a5-d68c-48fe-a1fa-8622e1fef069.jpg\n",
            "Working on file  /content/gdrive/MyDrive/Data training/Nonenhanced Image/Nonenhanced_original_image84.jpg_e15c4373-1e99-4a5f-ab7f-2a1726fa468c.jpg\n",
            "Working on file  /content/gdrive/MyDrive/Data training/Nonenhanced Image/Nonenhanced_original_image84.jpg_f77d5b16-14b4-4584-8a61-904d8dec7c17.jpg\n",
            "Working on file  /content/gdrive/MyDrive/Data training/Nonenhanced Image/Nonenhanced_original_image84.jpg_f7891935-18c4-46de-b755-ccdb76d519e3.jpg\n",
            "Working on file  /content/gdrive/MyDrive/Data training/Nonenhanced Image/Nonenhanced_original_image85.jpg_15e8f4d3-b0e5-4cbd-a967-70d63bca9e3e.jpg\n",
            "Working on file  /content/gdrive/MyDrive/Data training/Nonenhanced Image/Nonenhanced_original_image85.jpg_171de1c4-8573-441c-86e3-a1964c6ee514.jpg\n",
            "Working on file  /content/gdrive/MyDrive/Data training/Nonenhanced Image/Nonenhanced_original_image85.jpg_712a3cae-daf7-4323-9a93-fd26ef721776.jpg\n",
            "Working on file  /content/gdrive/MyDrive/Data training/Nonenhanced Image/Nonenhanced_original_image85.jpg_7872af8c-c274-41e6-a33a-0ca3cf0be47c.jpg\n",
            "Working on file  /content/gdrive/MyDrive/Data training/Nonenhanced Image/Nonenhanced_original_image85.jpg_84845eca-0be8-41ae-a4cd-46138a77527a.jpg\n",
            "Working on file  /content/gdrive/MyDrive/Data training/Nonenhanced Image/Nonenhanced_original_image85.jpg_b7e509b5-f22f-4e8a-ae42-061eba63a7ec.jpg\n",
            "Working on file  /content/gdrive/MyDrive/Data training/Nonenhanced Image/Nonenhanced_original_image85.jpg_ba767016-05c5-4aef-b532-6667b676737a.jpg\n",
            "Working on file  /content/gdrive/MyDrive/Data training/Nonenhanced Image/Nonenhanced_original_image85.jpg_ce19c0d0-ab9e-4e6f-9fcc-74f91e4222c0.jpg\n",
            "Working on file  /content/gdrive/MyDrive/Data training/Nonenhanced Image/Nonenhanced_original_image85.jpg_d9a60198-4945-43d9-b117-d372f33949b9.jpg\n",
            "Working on file  /content/gdrive/MyDrive/Data training/Nonenhanced Image/Nonenhanced_original_image85.jpg_e28d60a2-a274-4976-a6f3-642cf686db6e.jpg\n",
            "Working on file  /content/gdrive/MyDrive/Data training/Nonenhanced Image/Nonenhanced_original_image85.jpg_e8317d41-3ca9-4c43-acc1-208a039a58b9.jpg\n",
            "Working on file  /content/gdrive/MyDrive/Data training/Nonenhanced Image/Nonenhanced_original_image85.jpg_e8aa5b0a-6779-4122-b51b-03597562be76.jpg\n",
            "Working on file  /content/gdrive/MyDrive/Data training/Nonenhanced Image/Nonenhanced_original_image86.jpg_1df4a6a3-a718-46ff-8cfe-4db411a278fa.jpg\n",
            "Working on file  /content/gdrive/MyDrive/Data training/Nonenhanced Image/Nonenhanced_original_image86.jpg_3dcb03c9-3b39-42b0-9ade-11e26fc796d0.jpg\n",
            "Working on file  /content/gdrive/MyDrive/Data training/Nonenhanced Image/Nonenhanced_original_image86.jpg_856bfb6a-38e0-4b70-aed0-f5085cfb2092.jpg\n",
            "Working on file  /content/gdrive/MyDrive/Data training/Nonenhanced Image/Nonenhanced_original_image86.jpg_8c5e2464-6908-40d5-9b23-947eaadf78ac.jpg\n",
            "Working on file  /content/gdrive/MyDrive/Data training/Nonenhanced Image/Nonenhanced_original_image86.jpg_b18e7f9b-53f2-4027-82d1-72ecd9363b65.jpg\n",
            "Working on file  /content/gdrive/MyDrive/Data training/Nonenhanced Image/Nonenhanced_original_image86.jpg_b68028f1-157f-4bce-a7bc-854077875b64.jpg\n",
            "Working on file  /content/gdrive/MyDrive/Data training/Nonenhanced Image/Nonenhanced_original_image86.jpg_bce7964c-956c-4a7e-8183-19c64d7bd7dd.jpg\n",
            "Working on file  /content/gdrive/MyDrive/Data training/Nonenhanced Image/Nonenhanced_original_image86.jpg_f65cef08-359c-4e32-bd50-964cffe974df.jpg\n",
            "Working on file  /content/gdrive/MyDrive/Data training/Nonenhanced Image/Nonenhanced_original_image86.jpg_f87558b9-46ac-4525-9ac4-fa7a9deaa06e.jpg\n",
            "Working on file  /content/gdrive/MyDrive/Data training/Nonenhanced Image/Nonenhanced_original_image87.jpg_2d256599-87d2-4a59-874d-875fb85d2088.jpg\n",
            "Working on file  /content/gdrive/MyDrive/Data training/Nonenhanced Image/Nonenhanced_original_image87.jpg_3f32a760-8b09-4a46-98e4-f641799ffa6d.jpg\n",
            "Working on file  /content/gdrive/MyDrive/Data training/Nonenhanced Image/Nonenhanced_original_image87.jpg_60c2ed6f-40f7-4147-82bb-1328a0b342b3.jpg\n",
            "Working on file  /content/gdrive/MyDrive/Data training/Nonenhanced Image/Nonenhanced_original_image87.jpg_92bc087e-3a75-46cc-8f63-fc91086fad05.jpg\n",
            "Working on file  /content/gdrive/MyDrive/Data training/Nonenhanced Image/Nonenhanced_original_image87.jpg_ad3ec154-0aac-4847-af2c-f48363fb1299.jpg\n",
            "Working on file  /content/gdrive/MyDrive/Data training/Nonenhanced Image/Nonenhanced_original_image87.jpg_b58873ec-6c1d-4266-a857-f759fad1e415.jpg\n",
            "Working on file  /content/gdrive/MyDrive/Data training/Nonenhanced Image/Nonenhanced_original_image87.jpg_eb567498-a33b-4ca8-89f2-38e1ad9fdef0.jpg\n",
            "Working on file  /content/gdrive/MyDrive/Data training/Nonenhanced Image/Nonenhanced_original_image9.jpg_0a308910-d04c-4f1d-b4dd-3bcb977d77e0.jpg\n",
            "Working on file  /content/gdrive/MyDrive/Data training/Nonenhanced Image/Nonenhanced_original_image9.jpg_31973c37-8e11-40f8-ac53-d3d32194e289.jpg\n",
            "Working on file  /content/gdrive/MyDrive/Data training/Nonenhanced Image/Nonenhanced_original_image9.jpg_3e068c27-8919-4990-a04f-3b4e0c42b7cc.jpg\n",
            "Working on file  /content/gdrive/MyDrive/Data training/Nonenhanced Image/Nonenhanced_original_image9.jpg_5cc08e4a-6281-4031-92d7-b814025d0f57.jpg\n",
            "Working on file  /content/gdrive/MyDrive/Data training/Nonenhanced Image/Nonenhanced_original_image9.jpg_7fb23342-7479-4cc8-89c7-276f93248567.jpg\n",
            "Working on file  /content/gdrive/MyDrive/Data training/Nonenhanced Image/Nonenhanced_original_image9.jpg_80b71fd7-5fe5-4f80-90e7-947037200bf0.jpg\n",
            "Working on file  /content/gdrive/MyDrive/Data training/Nonenhanced Image/Nonenhanced_original_image9.jpg_b3e76c12-42fc-4b59-a2ba-5d0dec0cc4b9.jpg\n",
            "Working on file  /content/gdrive/MyDrive/Data training/Nonenhanced Image/Nonenhanced_original_image9.jpg_d18e1ec2-3e07-452a-a0ea-2930f9b48089.jpg\n",
            "Working on file  /content/gdrive/MyDrive/Data training/Nonenhanced Image/Nonenhanced_original_image9.jpg_d38bf655-4f61-47af-b93b-e75eb82d5ae1.jpg\n",
            "Working on file  /content/gdrive/MyDrive/Data training/Nonenhanced Mask/_groundtruth_(1)_Nonenhanced_image1.jpg_115bb501-f424-44ec-b88b-2c40945edbc8.jpg\n",
            "Working on file  /content/gdrive/MyDrive/Data training/Nonenhanced Mask/_groundtruth_(1)_Nonenhanced_image1.jpg_21b4d3b8-b744-4eb3-a377-5f62f82fb5f6.jpg\n",
            "Working on file  /content/gdrive/MyDrive/Data training/Nonenhanced Mask/_groundtruth_(1)_Nonenhanced_image1.jpg_351719f8-980b-4b57-ade4-3e6c6afe1a85.jpg\n",
            "Working on file  /content/gdrive/MyDrive/Data training/Nonenhanced Mask/_groundtruth_(1)_Nonenhanced_image1.jpg_410a28d6-8cfa-4ad0-847f-dd148e3cb269.jpg\n",
            "Working on file  /content/gdrive/MyDrive/Data training/Nonenhanced Mask/_groundtruth_(1)_Nonenhanced_image1.jpg_5dd586a9-0c03-4afc-a7e9-21265aa8da9e.jpg\n",
            "Working on file  /content/gdrive/MyDrive/Data training/Nonenhanced Mask/_groundtruth_(1)_Nonenhanced_image1.jpg_75e90ffe-881d-45b9-88eb-5eed24837ba1.jpg\n",
            "Working on file  /content/gdrive/MyDrive/Data training/Nonenhanced Mask/_groundtruth_(1)_Nonenhanced_image1.jpg_7e005cbe-4974-4d00-93f9-631938186eb9.jpg\n",
            "Working on file  /content/gdrive/MyDrive/Data training/Nonenhanced Mask/_groundtruth_(1)_Nonenhanced_image1.jpg_996cdddc-b634-4f75-8d3e-3dd5b4130c8e.jpg\n",
            "Working on file  /content/gdrive/MyDrive/Data training/Nonenhanced Mask/_groundtruth_(1)_Nonenhanced_image1.jpg_9e699eb8-1af7-4c7a-ba76-46da223f7144.jpg\n",
            "Working on file  /content/gdrive/MyDrive/Data training/Nonenhanced Mask/_groundtruth_(1)_Nonenhanced_image1.jpg_c4fef8c1-1a5a-4010-97aa-edeb5575360a.jpg\n",
            "Working on file  /content/gdrive/MyDrive/Data training/Nonenhanced Mask/_groundtruth_(1)_Nonenhanced_image1.jpg_f2357ebf-3976-468c-a186-8aa07773c06c.jpg\n",
            "Working on file  /content/gdrive/MyDrive/Data training/Nonenhanced Mask/_groundtruth_(1)_Nonenhanced_image10.jpg_0d016f85-31b5-4c64-8549-53013ecd3d95.jpg\n",
            "Working on file  /content/gdrive/MyDrive/Data training/Nonenhanced Mask/_groundtruth_(1)_Nonenhanced_image10.jpg_19458484-9e37-467b-9ba8-2e40e7d60a37.jpg\n",
            "Working on file  /content/gdrive/MyDrive/Data training/Nonenhanced Mask/_groundtruth_(1)_Nonenhanced_image10.jpg_1f9fdb12-8be2-41a3-84b7-30137dc9997d.jpg\n",
            "Working on file  /content/gdrive/MyDrive/Data training/Nonenhanced Mask/_groundtruth_(1)_Nonenhanced_image10.jpg_2ecc8261-aedd-4331-bf16-6128a0f1d188.jpg\n",
            "Working on file  /content/gdrive/MyDrive/Data training/Nonenhanced Mask/_groundtruth_(1)_Nonenhanced_image10.jpg_37aa4e42-1fdf-4e53-bab9-ea4c254c5826.jpg\n",
            "Working on file  /content/gdrive/MyDrive/Data training/Nonenhanced Mask/_groundtruth_(1)_Nonenhanced_image10.jpg_5d805ad4-e163-4636-b34f-9188eff758cb.jpg\n",
            "Working on file  /content/gdrive/MyDrive/Data training/Nonenhanced Mask/_groundtruth_(1)_Nonenhanced_image10.jpg_5e747f0a-efbd-4e9e-9024-fecc95f2c1ff.jpg\n",
            "Working on file  /content/gdrive/MyDrive/Data training/Nonenhanced Mask/_groundtruth_(1)_Nonenhanced_image10.jpg_7c3ca5b1-b507-4826-9ac9-6ee2e921a669.jpg\n",
            "Working on file  /content/gdrive/MyDrive/Data training/Nonenhanced Mask/_groundtruth_(1)_Nonenhanced_image10.jpg_8363ec80-051b-4fe0-b94b-ed26fedebe3e.jpg\n",
            "Working on file  /content/gdrive/MyDrive/Data training/Nonenhanced Mask/_groundtruth_(1)_Nonenhanced_image10.jpg_d41dc334-6d11-4889-b252-1ecfc653a1fb.jpg\n",
            "Working on file  /content/gdrive/MyDrive/Data training/Nonenhanced Mask/_groundtruth_(1)_Nonenhanced_image10.jpg_deb6d58d-fb0b-4015-ae17-765c2d5bba19.jpg\n",
            "Working on file  /content/gdrive/MyDrive/Data training/Nonenhanced Mask/_groundtruth_(1)_Nonenhanced_image10.jpg_df2dad63-c21b-4892-ae9d-1ab839d7c952.jpg\n",
            "Working on file  /content/gdrive/MyDrive/Data training/Nonenhanced Mask/_groundtruth_(1)_Nonenhanced_image10.jpg_f0a40bb7-7a28-426f-b2b6-9bd35d03ad2a.jpg\n",
            "Working on file  /content/gdrive/MyDrive/Data training/Nonenhanced Mask/_groundtruth_(1)_Nonenhanced_image10.jpg_f7c51fa3-b30d-49c8-85dc-ee3f45ded6d6.jpg\n",
            "Working on file  /content/gdrive/MyDrive/Data training/Nonenhanced Mask/_groundtruth_(1)_Nonenhanced_image11.jpg_080ab60f-43df-4d1c-904e-d21145d46be0.jpg\n",
            "Working on file  /content/gdrive/MyDrive/Data training/Nonenhanced Mask/_groundtruth_(1)_Nonenhanced_image11.jpg_64d748c2-3446-4385-b5bb-755c56c51f89.jpg\n",
            "Working on file  /content/gdrive/MyDrive/Data training/Nonenhanced Mask/_groundtruth_(1)_Nonenhanced_image11.jpg_731cbefe-aac5-492c-9e1a-d651373ec065.jpg\n",
            "Working on file  /content/gdrive/MyDrive/Data training/Nonenhanced Mask/_groundtruth_(1)_Nonenhanced_image11.jpg_8f1e76f3-21a9-4683-9b33-37ecc827eb51.jpg\n",
            "Working on file  /content/gdrive/MyDrive/Data training/Nonenhanced Mask/_groundtruth_(1)_Nonenhanced_image11.jpg_9419462a-3349-4e6d-85dd-ad31cbf492f8.jpg\n",
            "Working on file  /content/gdrive/MyDrive/Data training/Nonenhanced Mask/_groundtruth_(1)_Nonenhanced_image11.jpg_ab6c263d-5467-4cc5-a460-b01e844e6d27.jpg\n",
            "Working on file  /content/gdrive/MyDrive/Data training/Nonenhanced Mask/_groundtruth_(1)_Nonenhanced_image11.jpg_c4abf324-2247-46c8-a5df-91fb3727e80c.jpg\n",
            "Working on file  /content/gdrive/MyDrive/Data training/Nonenhanced Mask/_groundtruth_(1)_Nonenhanced_image11.jpg_c6523eb2-b4b9-4e4c-b0e7-8271b4c72373.jpg\n",
            "Working on file  /content/gdrive/MyDrive/Data training/Nonenhanced Mask/_groundtruth_(1)_Nonenhanced_image11.jpg_f70b011d-cf9a-4f12-903a-cb7a420dde79.jpg\n",
            "Working on file  /content/gdrive/MyDrive/Data training/Nonenhanced Mask/_groundtruth_(1)_Nonenhanced_image12.jpg_06e6e301-4fc5-483f-81e3-c9a42f67ba0d.jpg\n",
            "Working on file  /content/gdrive/MyDrive/Data training/Nonenhanced Mask/_groundtruth_(1)_Nonenhanced_image12.jpg_09f7bf05-8105-4c5a-9c4b-23e50e04f287.jpg\n",
            "Working on file  /content/gdrive/MyDrive/Data training/Nonenhanced Mask/_groundtruth_(1)_Nonenhanced_image12.jpg_2638bb9a-2159-48f4-b561-74772bc0e535.jpg\n",
            "Working on file  /content/gdrive/MyDrive/Data training/Nonenhanced Mask/_groundtruth_(1)_Nonenhanced_image12.jpg_270b58e3-d758-4493-9e0f-33f7cbe61275.jpg\n",
            "Working on file  /content/gdrive/MyDrive/Data training/Nonenhanced Mask/_groundtruth_(1)_Nonenhanced_image12.jpg_3974c9bc-9def-425e-929e-10cfee1a7b7a.jpg\n",
            "Working on file  /content/gdrive/MyDrive/Data training/Nonenhanced Mask/_groundtruth_(1)_Nonenhanced_image12.jpg_43ca9a3a-4c62-4114-8c57-5167e2c88f7c.jpg\n",
            "Working on file  /content/gdrive/MyDrive/Data training/Nonenhanced Mask/_groundtruth_(1)_Nonenhanced_image12.jpg_914d7a3c-328c-44ac-8099-37aab1dc8cb5.jpg\n",
            "Working on file  /content/gdrive/MyDrive/Data training/Nonenhanced Mask/_groundtruth_(1)_Nonenhanced_image12.jpg_9e34e336-8b3f-4c42-aaef-13b70a9763d4.jpg\n",
            "Working on file  /content/gdrive/MyDrive/Data training/Nonenhanced Mask/_groundtruth_(1)_Nonenhanced_image12.jpg_aa5ff4a3-02c2-4158-8e09-bd814f11393e.jpg\n",
            "Working on file  /content/gdrive/MyDrive/Data training/Nonenhanced Mask/_groundtruth_(1)_Nonenhanced_image12.jpg_b026862a-7739-4365-a52f-83bd006cd748.jpg\n",
            "Working on file  /content/gdrive/MyDrive/Data training/Nonenhanced Mask/_groundtruth_(1)_Nonenhanced_image12.jpg_db7738f2-bae8-4eb4-9ef8-d6857e39dbe9.jpg\n",
            "Working on file  /content/gdrive/MyDrive/Data training/Nonenhanced Mask/_groundtruth_(1)_Nonenhanced_image12.jpg_fa18f2f0-1bf4-46dc-889e-cdc0972da1b0.jpg\n",
            "Working on file  /content/gdrive/MyDrive/Data training/Nonenhanced Mask/_groundtruth_(1)_Nonenhanced_image13.jpg_0243a5fe-b453-46bb-aedd-bcc67f3fa2ae.jpg\n",
            "Working on file  /content/gdrive/MyDrive/Data training/Nonenhanced Mask/_groundtruth_(1)_Nonenhanced_image13.jpg_1b0a14ca-315e-4411-aace-4406712f3432.jpg\n",
            "Working on file  /content/gdrive/MyDrive/Data training/Nonenhanced Mask/_groundtruth_(1)_Nonenhanced_image13.jpg_2c7a62b2-3a94-40c1-992c-32e06aaf8a6a.jpg\n",
            "Working on file  /content/gdrive/MyDrive/Data training/Nonenhanced Mask/_groundtruth_(1)_Nonenhanced_image13.jpg_2f5b1ce5-5d58-4d33-b5e5-337446499cfb.jpg\n",
            "Working on file  /content/gdrive/MyDrive/Data training/Nonenhanced Mask/_groundtruth_(1)_Nonenhanced_image13.jpg_315b9527-9a55-440e-8a71-13675cd3bd7b.jpg\n",
            "Working on file  /content/gdrive/MyDrive/Data training/Nonenhanced Mask/_groundtruth_(1)_Nonenhanced_image13.jpg_319c3333-fa31-46d2-83f5-5f124ff5a1e0.jpg\n",
            "Working on file  /content/gdrive/MyDrive/Data training/Nonenhanced Mask/_groundtruth_(1)_Nonenhanced_image13.jpg_329d4238-31ed-4861-9565-76401a2efda4.jpg\n",
            "Working on file  /content/gdrive/MyDrive/Data training/Nonenhanced Mask/_groundtruth_(1)_Nonenhanced_image13.jpg_59848634-6bcd-4cd5-9c71-0bde862df2db.jpg\n",
            "Working on file  /content/gdrive/MyDrive/Data training/Nonenhanced Mask/_groundtruth_(1)_Nonenhanced_image13.jpg_66320c13-07fb-4619-85dd-919e23814ece.jpg\n",
            "Working on file  /content/gdrive/MyDrive/Data training/Nonenhanced Mask/_groundtruth_(1)_Nonenhanced_image13.jpg_735f7861-5bf8-4a36-8938-122d23ae2d1b.jpg\n",
            "Working on file  /content/gdrive/MyDrive/Data training/Nonenhanced Mask/_groundtruth_(1)_Nonenhanced_image13.jpg_76407c68-6913-43be-99be-057a330ca343.jpg\n",
            "Working on file  /content/gdrive/MyDrive/Data training/Nonenhanced Mask/_groundtruth_(1)_Nonenhanced_image13.jpg_cd3be4f7-f794-4eed-8423-f49213398968.jpg\n",
            "Working on file  /content/gdrive/MyDrive/Data training/Nonenhanced Mask/_groundtruth_(1)_Nonenhanced_image13.jpg_ce3ba46e-c3be-4177-b174-86f6911006dd.jpg\n",
            "Working on file  /content/gdrive/MyDrive/Data training/Nonenhanced Mask/_groundtruth_(1)_Nonenhanced_image13.jpg_f01d259e-5582-49be-911d-aa86e2f03548.jpg\n",
            "Working on file  /content/gdrive/MyDrive/Data training/Nonenhanced Mask/_groundtruth_(1)_Nonenhanced_image13.jpg_f6daac95-7e0f-483c-aee0-0be6aea58565.jpg\n",
            "Working on file  /content/gdrive/MyDrive/Data training/Nonenhanced Mask/_groundtruth_(1)_Nonenhanced_image14.jpg_0dad6a6b-60b7-48ab-9032-1cdfb8ced453.jpg\n",
            "Working on file  /content/gdrive/MyDrive/Data training/Nonenhanced Mask/_groundtruth_(1)_Nonenhanced_image14.jpg_2b9b7de2-1051-45a3-bf25-a671eacbbbfd.jpg\n",
            "Working on file  /content/gdrive/MyDrive/Data training/Nonenhanced Mask/_groundtruth_(1)_Nonenhanced_image14.jpg_69b5f1a9-5391-460f-bb2e-13c2c711321a.jpg\n",
            "Working on file  /content/gdrive/MyDrive/Data training/Nonenhanced Mask/_groundtruth_(1)_Nonenhanced_image14.jpg_78c7dc33-5338-475f-8acd-06409c1c1283.jpg\n",
            "Working on file  /content/gdrive/MyDrive/Data training/Nonenhanced Mask/_groundtruth_(1)_Nonenhanced_image14.jpg_b403d5cc-5cb8-4308-8748-abdcd5a1f6e7.jpg\n",
            "Working on file  /content/gdrive/MyDrive/Data training/Nonenhanced Mask/_groundtruth_(1)_Nonenhanced_image14.jpg_ba05c429-8ac1-49e1-8e0c-c660401f0b17.jpg\n",
            "Working on file  /content/gdrive/MyDrive/Data training/Nonenhanced Mask/_groundtruth_(1)_Nonenhanced_image14.jpg_d7a3b2b8-edba-4730-bcad-07e14e7c4a1c.jpg\n",
            "Working on file  /content/gdrive/MyDrive/Data training/Nonenhanced Mask/_groundtruth_(1)_Nonenhanced_image15.jpg_353141fc-bf6f-4944-a23d-5d5c62992fdd.jpg\n",
            "Working on file  /content/gdrive/MyDrive/Data training/Nonenhanced Mask/_groundtruth_(1)_Nonenhanced_image15.jpg_37513b03-39fa-4088-8dc7-e0b0bc6f84d0.jpg\n",
            "Working on file  /content/gdrive/MyDrive/Data training/Nonenhanced Mask/_groundtruth_(1)_Nonenhanced_image15.jpg_3f9c27ea-91c9-4744-8cdb-5a8d4242c375.jpg\n",
            "Working on file  /content/gdrive/MyDrive/Data training/Nonenhanced Mask/_groundtruth_(1)_Nonenhanced_image15.jpg_6bcf5de9-4176-4aee-95a4-f508fd9ebcd9.jpg\n",
            "Working on file  /content/gdrive/MyDrive/Data training/Nonenhanced Mask/_groundtruth_(1)_Nonenhanced_image15.jpg_84633cfc-f672-4e6b-b9a1-c0377ce6983c.jpg\n",
            "Working on file  /content/gdrive/MyDrive/Data training/Nonenhanced Mask/_groundtruth_(1)_Nonenhanced_image15.jpg_9019d6eb-7317-441b-b6db-060404f57c7a.jpg\n",
            "Working on file  /content/gdrive/MyDrive/Data training/Nonenhanced Mask/_groundtruth_(1)_Nonenhanced_image15.jpg_97eb9f88-ee90-45ae-bc83-b000c343b2c0.jpg\n",
            "Working on file  /content/gdrive/MyDrive/Data training/Nonenhanced Mask/_groundtruth_(1)_Nonenhanced_image15.jpg_a7a63241-4747-4242-967f-74d9a08c3024.jpg\n",
            "Working on file  /content/gdrive/MyDrive/Data training/Nonenhanced Mask/_groundtruth_(1)_Nonenhanced_image15.jpg_f00e6bdd-8d5d-4e5b-9bea-f3717efa09b1.jpg\n",
            "Working on file  /content/gdrive/MyDrive/Data training/Nonenhanced Mask/_groundtruth_(1)_Nonenhanced_image16.jpg_20ab1ea8-8157-44e0-9b45-0a46e046f331.jpg\n",
            "Working on file  /content/gdrive/MyDrive/Data training/Nonenhanced Mask/_groundtruth_(1)_Nonenhanced_image16.jpg_24cbefa7-4116-4853-a875-17f7c4c32b50.jpg\n",
            "Working on file  /content/gdrive/MyDrive/Data training/Nonenhanced Mask/_groundtruth_(1)_Nonenhanced_image16.jpg_2b2256fa-25a3-45e2-99be-2fbe2b44fe0b.jpg\n",
            "Working on file  /content/gdrive/MyDrive/Data training/Nonenhanced Mask/_groundtruth_(1)_Nonenhanced_image16.jpg_3b1758b4-592d-45be-8725-4f4747bd2dd9.jpg\n",
            "Working on file  /content/gdrive/MyDrive/Data training/Nonenhanced Mask/_groundtruth_(1)_Nonenhanced_image16.jpg_473a507d-3e8f-4cb7-9346-1e38bd0ae36f.jpg\n",
            "Working on file  /content/gdrive/MyDrive/Data training/Nonenhanced Mask/_groundtruth_(1)_Nonenhanced_image16.jpg_6125be2b-5ce1-4d98-8c85-960152594bbc.jpg\n",
            "Working on file  /content/gdrive/MyDrive/Data training/Nonenhanced Mask/_groundtruth_(1)_Nonenhanced_image16.jpg_690ba3a0-dc65-4b94-9396-c3714f2c15dd.jpg\n",
            "Working on file  /content/gdrive/MyDrive/Data training/Nonenhanced Mask/_groundtruth_(1)_Nonenhanced_image16.jpg_72d67d74-a134-46d9-87c8-35313c5d9ec1.jpg\n",
            "Working on file  /content/gdrive/MyDrive/Data training/Nonenhanced Mask/_groundtruth_(1)_Nonenhanced_image16.jpg_80d176ee-7bad-4b1e-a550-2f98ad9b01bc.jpg\n",
            "Working on file  /content/gdrive/MyDrive/Data training/Nonenhanced Mask/_groundtruth_(1)_Nonenhanced_image16.jpg_cc464f0f-8b96-4ec6-8e3c-1af2104879c0.jpg\n",
            "Working on file  /content/gdrive/MyDrive/Data training/Nonenhanced Mask/_groundtruth_(1)_Nonenhanced_image16.jpg_de44fd54-cde2-44d4-a571-ec3a4f3bffc0.jpg\n",
            "Working on file  /content/gdrive/MyDrive/Data training/Nonenhanced Mask/_groundtruth_(1)_Nonenhanced_image16.jpg_de50816d-a4dd-4d89-b544-70dea6c83fd7.jpg\n",
            "Working on file  /content/gdrive/MyDrive/Data training/Nonenhanced Mask/_groundtruth_(1)_Nonenhanced_image17.jpg_0e686fc6-4919-4635-bf66-47141bb0d05a.jpg\n",
            "Working on file  /content/gdrive/MyDrive/Data training/Nonenhanced Mask/_groundtruth_(1)_Nonenhanced_image17.jpg_1f837671-435c-439e-8279-40c300909ffe.jpg\n",
            "Working on file  /content/gdrive/MyDrive/Data training/Nonenhanced Mask/_groundtruth_(1)_Nonenhanced_image17.jpg_4b5b4035-4ad2-463c-878c-f97d30e9fb25.jpg\n",
            "Working on file  /content/gdrive/MyDrive/Data training/Nonenhanced Mask/_groundtruth_(1)_Nonenhanced_image17.jpg_6372dcd9-3487-4c19-912a-3736fa43252d.jpg\n",
            "Working on file  /content/gdrive/MyDrive/Data training/Nonenhanced Mask/_groundtruth_(1)_Nonenhanced_image17.jpg_6a4c51f5-030a-4c36-9d86-f23b0d496f85.jpg\n",
            "Working on file  /content/gdrive/MyDrive/Data training/Nonenhanced Mask/_groundtruth_(1)_Nonenhanced_image17.jpg_6c5d954e-d1fa-4ee2-ad75-0eaaef7e788a.jpg\n",
            "Working on file  /content/gdrive/MyDrive/Data training/Nonenhanced Mask/_groundtruth_(1)_Nonenhanced_image17.jpg_7f330aa2-8967-4e66-8df9-35c84ef54e8d.jpg\n",
            "Working on file  /content/gdrive/MyDrive/Data training/Nonenhanced Mask/_groundtruth_(1)_Nonenhanced_image17.jpg_854b5968-7a6c-41a3-a36d-32b8d028b200.jpg\n",
            "Working on file  /content/gdrive/MyDrive/Data training/Nonenhanced Mask/_groundtruth_(1)_Nonenhanced_image17.jpg_88bd765f-5673-485c-8c91-7ba2a02fe7d9.jpg\n",
            "Working on file  /content/gdrive/MyDrive/Data training/Nonenhanced Mask/_groundtruth_(1)_Nonenhanced_image17.jpg_b54a7e91-f686-4324-a9f0-5a5bea06b232.jpg\n",
            "Working on file  /content/gdrive/MyDrive/Data training/Nonenhanced Mask/_groundtruth_(1)_Nonenhanced_image17.jpg_c7699cde-b703-42da-9179-234374802f51.jpg\n",
            "Working on file  /content/gdrive/MyDrive/Data training/Nonenhanced Mask/_groundtruth_(1)_Nonenhanced_image18.jpg_0ccc8c8a-657d-4a1a-87d5-ad7d60cb2013.jpg\n",
            "Working on file  /content/gdrive/MyDrive/Data training/Nonenhanced Mask/_groundtruth_(1)_Nonenhanced_image18.jpg_2438afa2-cc8c-4ef6-8845-107400dc0e4d.jpg\n",
            "Working on file  /content/gdrive/MyDrive/Data training/Nonenhanced Mask/_groundtruth_(1)_Nonenhanced_image18.jpg_2be2863a-536a-41c3-8985-b379c237ce7d.jpg\n",
            "Working on file  /content/gdrive/MyDrive/Data training/Nonenhanced Mask/_groundtruth_(1)_Nonenhanced_image18.jpg_3634a62b-67c3-4aa4-a7eb-d6758e9c053c.jpg\n",
            "Working on file  /content/gdrive/MyDrive/Data training/Nonenhanced Mask/_groundtruth_(1)_Nonenhanced_image18.jpg_3a52971a-7587-41a6-8053-15f6321caf2a.jpg\n",
            "Working on file  /content/gdrive/MyDrive/Data training/Nonenhanced Mask/_groundtruth_(1)_Nonenhanced_image18.jpg_3fd3d04c-85fd-4e67-9547-88bdae88e682.jpg\n",
            "Working on file  /content/gdrive/MyDrive/Data training/Nonenhanced Mask/_groundtruth_(1)_Nonenhanced_image18.jpg_4ddcb344-d3f6-427f-9abd-3319ca4e30b4.jpg\n",
            "Working on file  /content/gdrive/MyDrive/Data training/Nonenhanced Mask/_groundtruth_(1)_Nonenhanced_image18.jpg_7e292689-f97c-4616-84cc-86a5526628c5.jpg\n",
            "Working on file  /content/gdrive/MyDrive/Data training/Nonenhanced Mask/_groundtruth_(1)_Nonenhanced_image18.jpg_95e8a281-56c5-43b1-97f1-c6b8ebd7be0b.jpg\n",
            "Working on file  /content/gdrive/MyDrive/Data training/Nonenhanced Mask/_groundtruth_(1)_Nonenhanced_image18.jpg_bc366bae-a032-4073-874d-be33840c5d98.jpg\n",
            "Working on file  /content/gdrive/MyDrive/Data training/Nonenhanced Mask/_groundtruth_(1)_Nonenhanced_image18.jpg_e72f1924-8d38-4409-9f94-0db951dd28df.jpg\n",
            "Working on file  /content/gdrive/MyDrive/Data training/Nonenhanced Mask/_groundtruth_(1)_Nonenhanced_image19.jpg_15598bb8-9942-491c-b85f-0e4224b46c5b.jpg\n",
            "Working on file  /content/gdrive/MyDrive/Data training/Nonenhanced Mask/_groundtruth_(1)_Nonenhanced_image19.jpg_1c59e4cd-1c63-41b8-9b96-3408bbc280d5.jpg\n",
            "Working on file  /content/gdrive/MyDrive/Data training/Nonenhanced Mask/_groundtruth_(1)_Nonenhanced_image19.jpg_242d6fd6-60d0-48b7-8510-1a1bcbf0f398.jpg\n",
            "Working on file  /content/gdrive/MyDrive/Data training/Nonenhanced Mask/_groundtruth_(1)_Nonenhanced_image19.jpg_38674f50-a92f-4691-b72e-f53c2b73f983.jpg\n",
            "Working on file  /content/gdrive/MyDrive/Data training/Nonenhanced Mask/_groundtruth_(1)_Nonenhanced_image19.jpg_3c395462-9ad7-4fd1-a23e-f811c7ac1ce1.jpg\n",
            "Working on file  /content/gdrive/MyDrive/Data training/Nonenhanced Mask/_groundtruth_(1)_Nonenhanced_image19.jpg_415694fd-dc32-4842-aeb9-567c0653af16.jpg\n",
            "Working on file  /content/gdrive/MyDrive/Data training/Nonenhanced Mask/_groundtruth_(1)_Nonenhanced_image19.jpg_52d6897c-9a04-4872-9021-b46eb4fb13a3.jpg\n",
            "Working on file  /content/gdrive/MyDrive/Data training/Nonenhanced Mask/_groundtruth_(1)_Nonenhanced_image19.jpg_57455df9-11c8-4dba-9df1-2006c0afa950.jpg\n",
            "Working on file  /content/gdrive/MyDrive/Data training/Nonenhanced Mask/_groundtruth_(1)_Nonenhanced_image19.jpg_722c641c-329d-4d30-accd-589e22038f50.jpg\n",
            "Working on file  /content/gdrive/MyDrive/Data training/Nonenhanced Mask/_groundtruth_(1)_Nonenhanced_image19.jpg_a18b202b-ae97-4d37-a37c-3d277b69804d.jpg\n",
            "Working on file  /content/gdrive/MyDrive/Data training/Nonenhanced Mask/_groundtruth_(1)_Nonenhanced_image19.jpg_ad6162b1-45be-4dba-8a2e-def7ae70de98.jpg\n",
            "Working on file  /content/gdrive/MyDrive/Data training/Nonenhanced Mask/_groundtruth_(1)_Nonenhanced_image19.jpg_c778eb7d-afaf-4378-acfb-2f1e6a6a5de4.jpg\n",
            "Working on file  /content/gdrive/MyDrive/Data training/Nonenhanced Mask/_groundtruth_(1)_Nonenhanced_image19.jpg_db2660fe-8f27-41e2-98b0-774099f63992.jpg\n",
            "Working on file  /content/gdrive/MyDrive/Data training/Nonenhanced Mask/_groundtruth_(1)_Nonenhanced_image19.jpg_de59979a-26a7-4599-bb6c-40e71a4404ed.jpg\n",
            "Working on file  /content/gdrive/MyDrive/Data training/Nonenhanced Mask/_groundtruth_(1)_Nonenhanced_image19.jpg_e2698dca-2391-4516-83d9-69a3b19abef9.jpg\n",
            "Working on file  /content/gdrive/MyDrive/Data training/Nonenhanced Mask/_groundtruth_(1)_Nonenhanced_image2.jpg_09f26959-23c6-4f2c-b44b-67e4fc9f56ae.jpg\n",
            "Working on file  /content/gdrive/MyDrive/Data training/Nonenhanced Mask/_groundtruth_(1)_Nonenhanced_image2.jpg_18ae07b6-bb75-4bb3-bf46-8b1b926e4e0d.jpg\n",
            "Working on file  /content/gdrive/MyDrive/Data training/Nonenhanced Mask/_groundtruth_(1)_Nonenhanced_image2.jpg_77496eae-81f5-4f1b-9506-c8b3a83e89c7.jpg\n",
            "Working on file  /content/gdrive/MyDrive/Data training/Nonenhanced Mask/_groundtruth_(1)_Nonenhanced_image2.jpg_8ca9281b-b354-452b-8777-5ca3aebfa238.jpg\n",
            "Working on file  /content/gdrive/MyDrive/Data training/Nonenhanced Mask/_groundtruth_(1)_Nonenhanced_image2.jpg_8d25f9af-fb19-4296-99a7-c6fbdc503119.jpg\n",
            "Working on file  /content/gdrive/MyDrive/Data training/Nonenhanced Mask/_groundtruth_(1)_Nonenhanced_image2.jpg_945d94d6-3c72-4078-a704-829bc02a6c4d.jpg\n",
            "Working on file  /content/gdrive/MyDrive/Data training/Nonenhanced Mask/_groundtruth_(1)_Nonenhanced_image2.jpg_9ba7e555-de28-4d13-a3a7-7078b0bba3ed.jpg\n",
            "Working on file  /content/gdrive/MyDrive/Data training/Nonenhanced Mask/_groundtruth_(1)_Nonenhanced_image2.jpg_9f645e8b-5942-4db1-bf98-2063932ce85d.jpg\n",
            "Working on file  /content/gdrive/MyDrive/Data training/Nonenhanced Mask/_groundtruth_(1)_Nonenhanced_image2.jpg_a615c906-566b-42e0-bf92-bad93d4e0bc0.jpg\n",
            "Working on file  /content/gdrive/MyDrive/Data training/Nonenhanced Mask/_groundtruth_(1)_Nonenhanced_image2.jpg_b3ebcbf0-e23a-4c7e-88c4-fd4eeefd56e3.jpg\n",
            "Working on file  /content/gdrive/MyDrive/Data training/Nonenhanced Mask/_groundtruth_(1)_Nonenhanced_image2.jpg_db0472c5-a119-4bfb-b6a0-e4b9db642559.jpg\n",
            "Working on file  /content/gdrive/MyDrive/Data training/Nonenhanced Mask/_groundtruth_(1)_Nonenhanced_image2.jpg_e366244e-9a92-4891-9b3e-1f449c58b4d8.jpg\n",
            "Working on file  /content/gdrive/MyDrive/Data training/Nonenhanced Mask/_groundtruth_(1)_Nonenhanced_image2.jpg_f2fb5b04-7e61-48a4-82c9-fcbdb83de09d.jpg\n",
            "Working on file  /content/gdrive/MyDrive/Data training/Nonenhanced Mask/_groundtruth_(1)_Nonenhanced_image20.jpg_2949c00f-aabb-46cb-af01-0b23c45bbf89.jpg\n",
            "Working on file  /content/gdrive/MyDrive/Data training/Nonenhanced Mask/_groundtruth_(1)_Nonenhanced_image20.jpg_57e36711-bab8-455f-b3db-73b7ba566ff2.jpg\n",
            "Working on file  /content/gdrive/MyDrive/Data training/Nonenhanced Mask/_groundtruth_(1)_Nonenhanced_image20.jpg_67378974-0ae5-482e-88da-9ad79bbba810.jpg\n",
            "Working on file  /content/gdrive/MyDrive/Data training/Nonenhanced Mask/_groundtruth_(1)_Nonenhanced_image20.jpg_a372df16-3c1e-41f0-880e-ce284d8d03c2.jpg\n",
            "Working on file  /content/gdrive/MyDrive/Data training/Nonenhanced Mask/_groundtruth_(1)_Nonenhanced_image20.jpg_b8a7c26f-5c2a-4dec-b200-f48b99a3e93a.jpg\n",
            "Working on file  /content/gdrive/MyDrive/Data training/Nonenhanced Mask/_groundtruth_(1)_Nonenhanced_image20.jpg_b9677ef1-4e26-448d-8441-31f956da3a97.jpg\n",
            "Working on file  /content/gdrive/MyDrive/Data training/Nonenhanced Mask/_groundtruth_(1)_Nonenhanced_image20.jpg_bb519b8e-1f2d-4f63-9468-d457d1aedd1e.jpg\n",
            "Working on file  /content/gdrive/MyDrive/Data training/Nonenhanced Mask/_groundtruth_(1)_Nonenhanced_image20.jpg_d2651210-6114-473d-a924-6ceca367aee1.jpg\n",
            "Working on file  /content/gdrive/MyDrive/Data training/Nonenhanced Mask/_groundtruth_(1)_Nonenhanced_image20.jpg_e505a835-2111-419f-a32f-0a8ef49db342.jpg\n",
            "Working on file  /content/gdrive/MyDrive/Data training/Nonenhanced Mask/_groundtruth_(1)_Nonenhanced_image21.jpg_0a1a3967-f81d-4e6f-a928-ae082de66cf2.jpg\n",
            "Working on file  /content/gdrive/MyDrive/Data training/Nonenhanced Mask/_groundtruth_(1)_Nonenhanced_image21.jpg_34f98c2b-66ab-4cde-8058-c875f82287f4.jpg\n",
            "Working on file  /content/gdrive/MyDrive/Data training/Nonenhanced Mask/_groundtruth_(1)_Nonenhanced_image21.jpg_39170894-3074-415e-92d9-9d3541e617c4.jpg\n",
            "Working on file  /content/gdrive/MyDrive/Data training/Nonenhanced Mask/_groundtruth_(1)_Nonenhanced_image21.jpg_73dc2e28-dbc8-4eb1-b414-8a524f04138a.jpg\n",
            "Working on file  /content/gdrive/MyDrive/Data training/Nonenhanced Mask/_groundtruth_(1)_Nonenhanced_image21.jpg_8549abde-0c09-4f1a-84cc-c72fbfd7b079.jpg\n",
            "Working on file  /content/gdrive/MyDrive/Data training/Nonenhanced Mask/_groundtruth_(1)_Nonenhanced_image21.jpg_915b8d54-4016-4d78-955b-ae4bf5b0f57a.jpg\n",
            "Working on file  /content/gdrive/MyDrive/Data training/Nonenhanced Mask/_groundtruth_(1)_Nonenhanced_image21.jpg_abbf5aee-98b2-40f2-b0b7-736b4ed686ff.jpg\n",
            "Working on file  /content/gdrive/MyDrive/Data training/Nonenhanced Mask/_groundtruth_(1)_Nonenhanced_image21.jpg_bcf4f72b-7f57-465e-b392-9d05166efd90.jpg\n",
            "Working on file  /content/gdrive/MyDrive/Data training/Nonenhanced Mask/_groundtruth_(1)_Nonenhanced_image21.jpg_d0700cb5-b084-4eb9-acf2-bf5ec10fb7f3.jpg\n",
            "Working on file  /content/gdrive/MyDrive/Data training/Nonenhanced Mask/_groundtruth_(1)_Nonenhanced_image21.jpg_d1a92f09-bbe2-4419-afe7-24b44544777c.jpg\n",
            "Working on file  /content/gdrive/MyDrive/Data training/Nonenhanced Mask/_groundtruth_(1)_Nonenhanced_image21.jpg_d38ebe64-3069-4d29-99f1-6602cc159ff7.jpg\n",
            "Working on file  /content/gdrive/MyDrive/Data training/Nonenhanced Mask/_groundtruth_(1)_Nonenhanced_image21.jpg_f0471445-8274-4ad5-8108-3269e4b46659.jpg\n",
            "Working on file  /content/gdrive/MyDrive/Data training/Nonenhanced Mask/_groundtruth_(1)_Nonenhanced_image22.jpg_0689610e-e30f-47ec-943d-518a5cbe25b7.jpg\n",
            "Working on file  /content/gdrive/MyDrive/Data training/Nonenhanced Mask/_groundtruth_(1)_Nonenhanced_image22.jpg_24252211-07f1-490f-8b37-7afd43095742.jpg\n",
            "Working on file  /content/gdrive/MyDrive/Data training/Nonenhanced Mask/_groundtruth_(1)_Nonenhanced_image22.jpg_2b3616a3-f7d6-4530-bf7a-3ce76fc25d5e.jpg\n",
            "Working on file  /content/gdrive/MyDrive/Data training/Nonenhanced Mask/_groundtruth_(1)_Nonenhanced_image22.jpg_34b3b944-5a25-4e52-b77a-d9101a17e645.jpg\n",
            "Working on file  /content/gdrive/MyDrive/Data training/Nonenhanced Mask/_groundtruth_(1)_Nonenhanced_image22.jpg_50427b05-89ff-4d60-982c-5270216270b6.jpg\n",
            "Working on file  /content/gdrive/MyDrive/Data training/Nonenhanced Mask/_groundtruth_(1)_Nonenhanced_image22.jpg_580f5d85-08aa-4e0b-92dc-63f3fed5d413.jpg\n",
            "Working on file  /content/gdrive/MyDrive/Data training/Nonenhanced Mask/_groundtruth_(1)_Nonenhanced_image22.jpg_6c4fa145-81dc-4dd7-8b94-71eaa5ad1a23.jpg\n",
            "Working on file  /content/gdrive/MyDrive/Data training/Nonenhanced Mask/_groundtruth_(1)_Nonenhanced_image22.jpg_729e3d9b-e85d-498c-b464-d904ea1d32bc.jpg\n",
            "Working on file  /content/gdrive/MyDrive/Data training/Nonenhanced Mask/_groundtruth_(1)_Nonenhanced_image22.jpg_a450e3f4-96ff-4e94-b14c-0785ad2ff0da.jpg\n",
            "Working on file  /content/gdrive/MyDrive/Data training/Nonenhanced Mask/_groundtruth_(1)_Nonenhanced_image22.jpg_a900353a-7012-41f2-924c-a71064ef0103.jpg\n",
            "Working on file  /content/gdrive/MyDrive/Data training/Nonenhanced Mask/_groundtruth_(1)_Nonenhanced_image22.jpg_b1013a24-4824-46e5-9755-a86be7ae6107.jpg\n",
            "Working on file  /content/gdrive/MyDrive/Data training/Nonenhanced Mask/_groundtruth_(1)_Nonenhanced_image22.jpg_cb8cee5e-123a-4991-9df3-6052e86fa779.jpg\n",
            "Working on file  /content/gdrive/MyDrive/Data training/Nonenhanced Mask/_groundtruth_(1)_Nonenhanced_image22.jpg_cc51961c-7d59-48ed-b946-a7ff81e208d5.jpg\n",
            "Working on file  /content/gdrive/MyDrive/Data training/Nonenhanced Mask/_groundtruth_(1)_Nonenhanced_image22.jpg_d7668db5-9d14-42cc-90fc-c5915e8c7026.jpg\n",
            "Working on file  /content/gdrive/MyDrive/Data training/Nonenhanced Mask/_groundtruth_(1)_Nonenhanced_image22.jpg_f73f2f1b-b79c-4ac0-8959-c04a4138c1a1.jpg\n",
            "Working on file  /content/gdrive/MyDrive/Data training/Nonenhanced Mask/_groundtruth_(1)_Nonenhanced_image22.jpg_f9e49304-46f1-4d69-b917-8fa7c6846460.jpg\n",
            "Working on file  /content/gdrive/MyDrive/Data training/Nonenhanced Mask/_groundtruth_(1)_Nonenhanced_image23.jpg_0671dc98-e0c0-49b5-8b89-b84ab45ad85c.jpg\n",
            "Working on file  /content/gdrive/MyDrive/Data training/Nonenhanced Mask/_groundtruth_(1)_Nonenhanced_image23.jpg_157225c8-b042-4a00-b03d-0857398540bc.jpg\n",
            "Working on file  /content/gdrive/MyDrive/Data training/Nonenhanced Mask/_groundtruth_(1)_Nonenhanced_image23.jpg_3a76cb6f-e761-4f73-acbe-8ac6eb16c940.jpg\n",
            "Working on file  /content/gdrive/MyDrive/Data training/Nonenhanced Mask/_groundtruth_(1)_Nonenhanced_image23.jpg_71d53c25-22e6-4dcd-a461-189ae835fa45.jpg\n",
            "Working on file  /content/gdrive/MyDrive/Data training/Nonenhanced Mask/_groundtruth_(1)_Nonenhanced_image23.jpg_90c76010-1a5d-4f81-9192-8baa6fead62d.jpg\n",
            "Working on file  /content/gdrive/MyDrive/Data training/Nonenhanced Mask/_groundtruth_(1)_Nonenhanced_image23.jpg_a57ab5c9-5e8c-4045-b096-6699a3d3a932.jpg\n",
            "Working on file  /content/gdrive/MyDrive/Data training/Nonenhanced Mask/_groundtruth_(1)_Nonenhanced_image23.jpg_ab3688bc-5825-4bf5-b38a-a90b66351f3a.jpg\n",
            "Working on file  /content/gdrive/MyDrive/Data training/Nonenhanced Mask/_groundtruth_(1)_Nonenhanced_image23.jpg_c442ab20-643b-4018-bbe5-c849fba1718e.jpg\n",
            "Working on file  /content/gdrive/MyDrive/Data training/Nonenhanced Mask/_groundtruth_(1)_Nonenhanced_image23.jpg_d204620f-ed16-4746-b53a-b06a9bf00349.jpg\n",
            "Working on file  /content/gdrive/MyDrive/Data training/Nonenhanced Mask/_groundtruth_(1)_Nonenhanced_image23.jpg_e59557d8-ecc7-4cbc-8e29-2b5c0901c1d3.jpg\n",
            "Working on file  /content/gdrive/MyDrive/Data training/Nonenhanced Mask/_groundtruth_(1)_Nonenhanced_image24.jpg_11530733-fd00-45f8-8891-7e0edba00f33.jpg\n",
            "Working on file  /content/gdrive/MyDrive/Data training/Nonenhanced Mask/_groundtruth_(1)_Nonenhanced_image24.jpg_20c002e3-7a9b-4a6b-b818-1e4129189dc4.jpg\n",
            "Working on file  /content/gdrive/MyDrive/Data training/Nonenhanced Mask/_groundtruth_(1)_Nonenhanced_image24.jpg_2ec8f698-d5e1-42c8-840a-f43b5d239e7d.jpg\n",
            "Working on file  /content/gdrive/MyDrive/Data training/Nonenhanced Mask/_groundtruth_(1)_Nonenhanced_image24.jpg_32b1a0b1-17d2-4bcc-b9ec-eab5b73e0e00.jpg\n",
            "Working on file  /content/gdrive/MyDrive/Data training/Nonenhanced Mask/_groundtruth_(1)_Nonenhanced_image24.jpg_3dd5212c-d76b-4f8b-a000-76e2bded83f5.jpg\n",
            "Working on file  /content/gdrive/MyDrive/Data training/Nonenhanced Mask/_groundtruth_(1)_Nonenhanced_image24.jpg_b53c2e52-921a-4126-b069-c21077d30d40.jpg\n",
            "Working on file  /content/gdrive/MyDrive/Data training/Nonenhanced Mask/_groundtruth_(1)_Nonenhanced_image24.jpg_ce4bec0e-f7bd-48ad-8219-baff19b074aa.jpg\n",
            "Working on file  /content/gdrive/MyDrive/Data training/Nonenhanced Mask/_groundtruth_(1)_Nonenhanced_image24.jpg_e7638ff5-6ccd-4555-a83b-9a5c2e290fe5.jpg\n",
            "Working on file  /content/gdrive/MyDrive/Data training/Nonenhanced Mask/_groundtruth_(1)_Nonenhanced_image25.jpg_053ad4c0-0bb6-4a8e-9db2-19cc900c1b81.jpg\n",
            "Working on file  /content/gdrive/MyDrive/Data training/Nonenhanced Mask/_groundtruth_(1)_Nonenhanced_image25.jpg_0b60aa34-c870-4171-966e-2e6dcf16af41.jpg\n",
            "Working on file  /content/gdrive/MyDrive/Data training/Nonenhanced Mask/_groundtruth_(1)_Nonenhanced_image25.jpg_2f48a621-ede7-44d1-9f72-cd7776c6d66d.jpg\n",
            "Working on file  /content/gdrive/MyDrive/Data training/Nonenhanced Mask/_groundtruth_(1)_Nonenhanced_image25.jpg_3c08b2b4-ca0e-4714-9168-a29d2dc5a6d6.jpg\n",
            "Working on file  /content/gdrive/MyDrive/Data training/Nonenhanced Mask/_groundtruth_(1)_Nonenhanced_image25.jpg_4995640e-de1c-461c-9042-c81e63a8e5d5.jpg\n",
            "Working on file  /content/gdrive/MyDrive/Data training/Nonenhanced Mask/_groundtruth_(1)_Nonenhanced_image25.jpg_5b791ad4-f626-4cc6-86e3-dfb2503e06d1.jpg\n",
            "Working on file  /content/gdrive/MyDrive/Data training/Nonenhanced Mask/_groundtruth_(1)_Nonenhanced_image25.jpg_78faa6b8-456c-4a78-9969-b7ea43f34478.jpg\n",
            "Working on file  /content/gdrive/MyDrive/Data training/Nonenhanced Mask/_groundtruth_(1)_Nonenhanced_image25.jpg_9b235073-c568-457f-99e0-693eb3031c63.jpg\n",
            "Working on file  /content/gdrive/MyDrive/Data training/Nonenhanced Mask/_groundtruth_(1)_Nonenhanced_image25.jpg_d6d617e7-5333-48c3-b334-4c29f6bddb7f.jpg\n",
            "Working on file  /content/gdrive/MyDrive/Data training/Nonenhanced Mask/_groundtruth_(1)_Nonenhanced_image25.jpg_dbb9a604-f377-434c-ba79-fa3464c76a9e.jpg\n",
            "Working on file  /content/gdrive/MyDrive/Data training/Nonenhanced Mask/_groundtruth_(1)_Nonenhanced_image26.jpg_00e74abb-bf67-4fac-9c17-79080b5c7de9.jpg\n",
            "Working on file  /content/gdrive/MyDrive/Data training/Nonenhanced Mask/_groundtruth_(1)_Nonenhanced_image26.jpg_31c4c5fa-0220-4889-a9e3-5a6c4bafb4c8.jpg\n",
            "Working on file  /content/gdrive/MyDrive/Data training/Nonenhanced Mask/_groundtruth_(1)_Nonenhanced_image26.jpg_38065c4b-c6bc-4821-849f-4f6e0f8fcb86.jpg\n",
            "Working on file  /content/gdrive/MyDrive/Data training/Nonenhanced Mask/_groundtruth_(1)_Nonenhanced_image26.jpg_3dba8610-91f8-40d1-84b1-fa5b86b37709.jpg\n",
            "Working on file  /content/gdrive/MyDrive/Data training/Nonenhanced Mask/_groundtruth_(1)_Nonenhanced_image26.jpg_72362a99-b9c7-4007-846b-6c33424d4813.jpg\n",
            "Working on file  /content/gdrive/MyDrive/Data training/Nonenhanced Mask/_groundtruth_(1)_Nonenhanced_image26.jpg_9608d785-ed73-4ddb-b0a7-af4775081ac1.jpg\n",
            "Working on file  /content/gdrive/MyDrive/Data training/Nonenhanced Mask/_groundtruth_(1)_Nonenhanced_image26.jpg_a953f2a0-d6c8-4b45-87b7-95af352b318d.jpg\n",
            "Working on file  /content/gdrive/MyDrive/Data training/Nonenhanced Mask/_groundtruth_(1)_Nonenhanced_image26.jpg_d57eb7dc-c90c-4419-b4e4-aa9a207f4d7f.jpg\n",
            "Working on file  /content/gdrive/MyDrive/Data training/Nonenhanced Mask/_groundtruth_(1)_Nonenhanced_image26.jpg_ec2586ab-d58a-4a97-ba64-3541258bf468.jpg\n",
            "Working on file  /content/gdrive/MyDrive/Data training/Nonenhanced Mask/_groundtruth_(1)_Nonenhanced_image26.jpg_fa1f5848-f099-4218-9c8c-604b79661a4c.jpg\n",
            "Working on file  /content/gdrive/MyDrive/Data training/Nonenhanced Mask/_groundtruth_(1)_Nonenhanced_image27.jpg_21434510-21fa-4e15-b8df-c19af3ba284d.jpg\n",
            "Working on file  /content/gdrive/MyDrive/Data training/Nonenhanced Mask/_groundtruth_(1)_Nonenhanced_image27.jpg_2fc26d15-4592-4694-a25f-52ffceafa2d4.jpg\n",
            "Working on file  /content/gdrive/MyDrive/Data training/Nonenhanced Mask/_groundtruth_(1)_Nonenhanced_image27.jpg_37dd2157-5022-4317-b8c8-2c2fe39833eb.jpg\n",
            "Working on file  /content/gdrive/MyDrive/Data training/Nonenhanced Mask/_groundtruth_(1)_Nonenhanced_image27.jpg_98c7d087-0503-4a23-a705-d38ceb7067ca.jpg\n",
            "Working on file  /content/gdrive/MyDrive/Data training/Nonenhanced Mask/_groundtruth_(1)_Nonenhanced_image27.jpg_a25bb599-f0ae-4a58-9a7e-572309e4605e.jpg\n",
            "Working on file  /content/gdrive/MyDrive/Data training/Nonenhanced Mask/_groundtruth_(1)_Nonenhanced_image27.jpg_b166845b-ec41-4e98-860e-183a014ddf3f.jpg\n",
            "Working on file  /content/gdrive/MyDrive/Data training/Nonenhanced Mask/_groundtruth_(1)_Nonenhanced_image27.jpg_c0b0f8d4-bb60-4805-92b7-6162f5e5da8b.jpg\n",
            "Working on file  /content/gdrive/MyDrive/Data training/Nonenhanced Mask/_groundtruth_(1)_Nonenhanced_image27.jpg_c17cc5bf-19f4-4f77-9ed3-e7c62af48a33.jpg\n",
            "Working on file  /content/gdrive/MyDrive/Data training/Nonenhanced Mask/_groundtruth_(1)_Nonenhanced_image27.jpg_c5f0d17e-3890-4a62-b69a-de14c8d60e08.jpg\n",
            "Working on file  /content/gdrive/MyDrive/Data training/Nonenhanced Mask/_groundtruth_(1)_Nonenhanced_image27.jpg_c964dd54-c010-4444-bd12-c24b0ecf4de2.jpg\n",
            "Working on file  /content/gdrive/MyDrive/Data training/Nonenhanced Mask/_groundtruth_(1)_Nonenhanced_image27.jpg_cf98c82b-3f68-40b8-979e-9089109ea885.jpg\n",
            "Working on file  /content/gdrive/MyDrive/Data training/Nonenhanced Mask/_groundtruth_(1)_Nonenhanced_image27.jpg_d4b57a93-fd3f-4144-939e-6d5a912393bb.jpg\n",
            "Working on file  /content/gdrive/MyDrive/Data training/Nonenhanced Mask/_groundtruth_(1)_Nonenhanced_image28.jpg_0717a4d6-9714-4a7f-b921-14c0b8499dd3.jpg\n",
            "Working on file  /content/gdrive/MyDrive/Data training/Nonenhanced Mask/_groundtruth_(1)_Nonenhanced_image28.jpg_24fd5e7e-b92c-4d52-9a96-d3a7311d23fb.jpg\n",
            "Working on file  /content/gdrive/MyDrive/Data training/Nonenhanced Mask/_groundtruth_(1)_Nonenhanced_image28.jpg_2739b855-cc90-401b-8a17-caa99939e29f.jpg\n",
            "Working on file  /content/gdrive/MyDrive/Data training/Nonenhanced Mask/_groundtruth_(1)_Nonenhanced_image28.jpg_2b81a9a1-74b6-4cfa-906b-97959ba810dd.jpg\n",
            "Working on file  /content/gdrive/MyDrive/Data training/Nonenhanced Mask/_groundtruth_(1)_Nonenhanced_image28.jpg_41fcb238-b5b4-430a-b0da-d6037adec9a6.jpg\n",
            "Working on file  /content/gdrive/MyDrive/Data training/Nonenhanced Mask/_groundtruth_(1)_Nonenhanced_image28.jpg_6c1f27be-e58b-4734-8a37-ac60bcedd18c.jpg\n",
            "Working on file  /content/gdrive/MyDrive/Data training/Nonenhanced Mask/_groundtruth_(1)_Nonenhanced_image28.jpg_80b50c32-1ffc-4134-baab-ca2de76460d7.jpg\n",
            "Working on file  /content/gdrive/MyDrive/Data training/Nonenhanced Mask/_groundtruth_(1)_Nonenhanced_image28.jpg_90b6603a-abe9-46ef-a21f-4e7fe6d395c4.jpg\n",
            "Working on file  /content/gdrive/MyDrive/Data training/Nonenhanced Mask/_groundtruth_(1)_Nonenhanced_image28.jpg_9925e25d-6d19-4820-a778-44d71fade863.jpg\n",
            "Working on file  /content/gdrive/MyDrive/Data training/Nonenhanced Mask/_groundtruth_(1)_Nonenhanced_image28.jpg_de6b643f-9bc7-4c47-b52f-4358fcd251da.jpg\n",
            "Working on file  /content/gdrive/MyDrive/Data training/Nonenhanced Mask/_groundtruth_(1)_Nonenhanced_image28.jpg_f11abfea-c13c-43c3-8c14-76415605bb3a.jpg\n",
            "Working on file  /content/gdrive/MyDrive/Data training/Nonenhanced Mask/_groundtruth_(1)_Nonenhanced_image28.jpg_f813dab6-92b0-4740-b6f6-5c8472855f5f.jpg\n",
            "Working on file  /content/gdrive/MyDrive/Data training/Nonenhanced Mask/_groundtruth_(1)_Nonenhanced_image28.jpg_f9e1d68b-58e7-4c53-8d83-8f1e51b3efc3.jpg\n",
            "Working on file  /content/gdrive/MyDrive/Data training/Nonenhanced Mask/_groundtruth_(1)_Nonenhanced_image28.jpg_fc9236fc-0885-459e-b949-31e04eeea33f.jpg\n",
            "Working on file  /content/gdrive/MyDrive/Data training/Nonenhanced Mask/_groundtruth_(1)_Nonenhanced_image29.jpg_15278960-7dd4-424b-84d6-4993b9d73218.jpg\n",
            "Working on file  /content/gdrive/MyDrive/Data training/Nonenhanced Mask/_groundtruth_(1)_Nonenhanced_image29.jpg_18ba471a-779a-425b-b987-26a2cbe19496.jpg\n",
            "Working on file  /content/gdrive/MyDrive/Data training/Nonenhanced Mask/_groundtruth_(1)_Nonenhanced_image29.jpg_487199da-c2e5-4f55-8167-5b73087d9e5d.jpg\n",
            "Working on file  /content/gdrive/MyDrive/Data training/Nonenhanced Mask/_groundtruth_(1)_Nonenhanced_image29.jpg_610de13b-dbb2-4342-801b-b1289c540601.jpg\n",
            "Working on file  /content/gdrive/MyDrive/Data training/Nonenhanced Mask/_groundtruth_(1)_Nonenhanced_image29.jpg_85157fac-f01a-4d38-be5b-123f91415745.jpg\n",
            "Working on file  /content/gdrive/MyDrive/Data training/Nonenhanced Mask/_groundtruth_(1)_Nonenhanced_image29.jpg_88286e10-ce98-4901-bac3-b52b3694fd2d.jpg\n",
            "Working on file  /content/gdrive/MyDrive/Data training/Nonenhanced Mask/_groundtruth_(1)_Nonenhanced_image29.jpg_ab30ea3d-2f50-4a14-a874-855c0b03ce36.jpg\n",
            "Working on file  /content/gdrive/MyDrive/Data training/Nonenhanced Mask/_groundtruth_(1)_Nonenhanced_image29.jpg_b9e50e12-5c8a-4bbd-a076-ea8714647a30.jpg\n",
            "Working on file  /content/gdrive/MyDrive/Data training/Nonenhanced Mask/_groundtruth_(1)_Nonenhanced_image29.jpg_ca275b6d-7578-4e9b-a91f-0f22de0020a4.jpg\n",
            "Working on file  /content/gdrive/MyDrive/Data training/Nonenhanced Mask/_groundtruth_(1)_Nonenhanced_image29.jpg_e63a2542-f4c7-4f6e-9b46-59fa0469b715.jpg\n",
            "Working on file  /content/gdrive/MyDrive/Data training/Nonenhanced Mask/_groundtruth_(1)_Nonenhanced_image29.jpg_ebbee7a9-44f6-45b4-896c-352e86163c2c.jpg\n",
            "Working on file  /content/gdrive/MyDrive/Data training/Nonenhanced Mask/_groundtruth_(1)_Nonenhanced_image29.jpg_fb240ecf-7092-42ce-9b41-99dfc39eacd6.jpg\n",
            "Working on file  /content/gdrive/MyDrive/Data training/Nonenhanced Mask/_groundtruth_(1)_Nonenhanced_image3.jpg_063b9956-6d42-435a-8343-38b97ac8a9d0.jpg\n",
            "Working on file  /content/gdrive/MyDrive/Data training/Nonenhanced Mask/_groundtruth_(1)_Nonenhanced_image3.jpg_19e511b3-5a30-4268-b5de-93b816c28d12.jpg\n",
            "Working on file  /content/gdrive/MyDrive/Data training/Nonenhanced Mask/_groundtruth_(1)_Nonenhanced_image3.jpg_1f154d35-ac5f-4180-95ca-a6c6f6690581.jpg\n",
            "Working on file  /content/gdrive/MyDrive/Data training/Nonenhanced Mask/_groundtruth_(1)_Nonenhanced_image3.jpg_3100be2c-a3ab-4c6a-a575-bc1260b35f3c.jpg\n",
            "Working on file  /content/gdrive/MyDrive/Data training/Nonenhanced Mask/_groundtruth_(1)_Nonenhanced_image3.jpg_3f22c794-1866-4090-a03b-ed00265623ee.jpg\n",
            "Working on file  /content/gdrive/MyDrive/Data training/Nonenhanced Mask/_groundtruth_(1)_Nonenhanced_image3.jpg_46aabdb8-1008-47ad-af37-de23ea53abe3.jpg\n",
            "Working on file  /content/gdrive/MyDrive/Data training/Nonenhanced Mask/_groundtruth_(1)_Nonenhanced_image3.jpg_7bbbf422-3acb-4991-bf20-03a76362ddb9.jpg\n",
            "Working on file  /content/gdrive/MyDrive/Data training/Nonenhanced Mask/_groundtruth_(1)_Nonenhanced_image3.jpg_801821e4-c78e-461f-b911-6d955a789708.jpg\n",
            "Working on file  /content/gdrive/MyDrive/Data training/Nonenhanced Mask/_groundtruth_(1)_Nonenhanced_image3.jpg_839b14a2-9e93-44ac-aa37-7523256321e3.jpg\n",
            "Working on file  /content/gdrive/MyDrive/Data training/Nonenhanced Mask/_groundtruth_(1)_Nonenhanced_image3.jpg_8afcf184-f4c1-49f8-b242-0d87939e9fe7.jpg\n",
            "Working on file  /content/gdrive/MyDrive/Data training/Nonenhanced Mask/_groundtruth_(1)_Nonenhanced_image3.jpg_941e4a67-8544-4652-9500-18057b3dd0e3.jpg\n",
            "Working on file  /content/gdrive/MyDrive/Data training/Nonenhanced Mask/_groundtruth_(1)_Nonenhanced_image3.jpg_a3f5536c-893e-4818-83a9-5e97f6f8c231.jpg\n",
            "Working on file  /content/gdrive/MyDrive/Data training/Nonenhanced Mask/_groundtruth_(1)_Nonenhanced_image3.jpg_b2a525e4-1aa3-4241-bb62-8bbeadbd3966.jpg\n",
            "Working on file  /content/gdrive/MyDrive/Data training/Nonenhanced Mask/_groundtruth_(1)_Nonenhanced_image3.jpg_da09f828-006c-4607-9406-d8a6ec63e652.jpg\n",
            "Working on file  /content/gdrive/MyDrive/Data training/Nonenhanced Mask/_groundtruth_(1)_Nonenhanced_image30.jpg_077a4dd9-ccbe-4998-91ae-9775e097ed72.jpg\n",
            "Working on file  /content/gdrive/MyDrive/Data training/Nonenhanced Mask/_groundtruth_(1)_Nonenhanced_image30.jpg_10f44b39-4c71-4fe3-98df-0adfaccec19d.jpg\n",
            "Working on file  /content/gdrive/MyDrive/Data training/Nonenhanced Mask/_groundtruth_(1)_Nonenhanced_image30.jpg_23a011d6-2bed-4151-a0ba-4fe7fe33265a.jpg\n",
            "Working on file  /content/gdrive/MyDrive/Data training/Nonenhanced Mask/_groundtruth_(1)_Nonenhanced_image30.jpg_2a6762b2-3b6f-4a14-b47e-840cd362dcb5.jpg\n",
            "Working on file  /content/gdrive/MyDrive/Data training/Nonenhanced Mask/_groundtruth_(1)_Nonenhanced_image30.jpg_5949d575-e7a4-4eb2-a12a-82f495956ca9.jpg\n",
            "Working on file  /content/gdrive/MyDrive/Data training/Nonenhanced Mask/_groundtruth_(1)_Nonenhanced_image30.jpg_86f32681-88ec-4dc6-b44f-f236fb730715.jpg\n",
            "Working on file  /content/gdrive/MyDrive/Data training/Nonenhanced Mask/_groundtruth_(1)_Nonenhanced_image30.jpg_a8f564cf-d5b3-41c7-8094-6195062822a7.jpg\n",
            "Working on file  /content/gdrive/MyDrive/Data training/Nonenhanced Mask/_groundtruth_(1)_Nonenhanced_image30.jpg_c1c3200d-0103-4c68-8229-cba20239a593.jpg\n",
            "Working on file  /content/gdrive/MyDrive/Data training/Nonenhanced Mask/_groundtruth_(1)_Nonenhanced_image30.jpg_cd6d0e51-37b6-4468-9647-2b9ebac23a89.jpg\n",
            "Working on file  /content/gdrive/MyDrive/Data training/Nonenhanced Mask/_groundtruth_(1)_Nonenhanced_image31.jpg_094caf87-1470-4057-ab2a-7fe1fddb7fed.jpg\n",
            "Working on file  /content/gdrive/MyDrive/Data training/Nonenhanced Mask/_groundtruth_(1)_Nonenhanced_image31.jpg_1383fdfc-9110-4d82-a50a-1d37cde8115e.jpg\n",
            "Working on file  /content/gdrive/MyDrive/Data training/Nonenhanced Mask/_groundtruth_(1)_Nonenhanced_image31.jpg_24f01e9a-57c8-40e6-ae0f-00868f299041.jpg\n",
            "Working on file  /content/gdrive/MyDrive/Data training/Nonenhanced Mask/_groundtruth_(1)_Nonenhanced_image31.jpg_2c9e24be-694c-4d2d-a895-2641672c6fa7.jpg\n",
            "Working on file  /content/gdrive/MyDrive/Data training/Nonenhanced Mask/_groundtruth_(1)_Nonenhanced_image31.jpg_31b8801e-eb18-45d8-bb00-13b12dc2b610.jpg\n",
            "Working on file  /content/gdrive/MyDrive/Data training/Nonenhanced Mask/_groundtruth_(1)_Nonenhanced_image31.jpg_39e557a8-0321-4a5a-890e-fda188aac8e1.jpg\n",
            "Working on file  /content/gdrive/MyDrive/Data training/Nonenhanced Mask/_groundtruth_(1)_Nonenhanced_image31.jpg_403dcde6-026f-4189-a851-b7ed09cd1267.jpg\n",
            "Working on file  /content/gdrive/MyDrive/Data training/Nonenhanced Mask/_groundtruth_(1)_Nonenhanced_image31.jpg_74991f0b-fe33-40bd-8fc8-db14adb20639.jpg\n",
            "Working on file  /content/gdrive/MyDrive/Data training/Nonenhanced Mask/_groundtruth_(1)_Nonenhanced_image31.jpg_7bc9e4bd-7b78-480e-b8a6-31344334632e.jpg\n",
            "Working on file  /content/gdrive/MyDrive/Data training/Nonenhanced Mask/_groundtruth_(1)_Nonenhanced_image31.jpg_91bcb90a-e5c8-4e97-b34d-1af04b095898.jpg\n",
            "Working on file  /content/gdrive/MyDrive/Data training/Nonenhanced Mask/_groundtruth_(1)_Nonenhanced_image31.jpg_9541a514-c0d6-46d9-bc54-486af65965ff.jpg\n",
            "Working on file  /content/gdrive/MyDrive/Data training/Nonenhanced Mask/_groundtruth_(1)_Nonenhanced_image31.jpg_a7373e44-ce68-4ac3-b2df-6a9549c124f5.jpg\n",
            "Working on file  /content/gdrive/MyDrive/Data training/Nonenhanced Mask/_groundtruth_(1)_Nonenhanced_image31.jpg_b43cf908-8059-4eb4-bc6d-fc3ebed0231a.jpg\n",
            "Working on file  /content/gdrive/MyDrive/Data training/Nonenhanced Mask/_groundtruth_(1)_Nonenhanced_image31.jpg_d9f52678-35a4-4c1a-a710-2e7117dbda85.jpg\n",
            "Working on file  /content/gdrive/MyDrive/Data training/Nonenhanced Mask/_groundtruth_(1)_Nonenhanced_image31.jpg_da9dd8d0-94f6-42fa-8faf-fc4336e5acf5.jpg\n",
            "Working on file  /content/gdrive/MyDrive/Data training/Nonenhanced Mask/_groundtruth_(1)_Nonenhanced_image31.jpg_e5b0a436-7be7-4e51-b316-200786801f37.jpg\n",
            "Working on file  /content/gdrive/MyDrive/Data training/Nonenhanced Mask/_groundtruth_(1)_Nonenhanced_image31.jpg_f058d3d1-4e53-4f5c-8c5d-8538797c9122.jpg\n",
            "Working on file  /content/gdrive/MyDrive/Data training/Nonenhanced Mask/_groundtruth_(1)_Nonenhanced_image31.jpg_fd27d729-b37e-41e6-9de7-6b3f9db723f6.jpg\n",
            "Working on file  /content/gdrive/MyDrive/Data training/Nonenhanced Mask/_groundtruth_(1)_Nonenhanced_image31.jpg_fdba4530-0d7a-4f76-891c-be4a5738c459.jpg\n",
            "Working on file  /content/gdrive/MyDrive/Data training/Nonenhanced Mask/_groundtruth_(1)_Nonenhanced_image32.jpg_166c6792-d84e-47e2-818a-3a7398722404.jpg\n",
            "Working on file  /content/gdrive/MyDrive/Data training/Nonenhanced Mask/_groundtruth_(1)_Nonenhanced_image32.jpg_29b84d2c-502e-4b92-b4f3-af4cd2555878.jpg\n",
            "Working on file  /content/gdrive/MyDrive/Data training/Nonenhanced Mask/_groundtruth_(1)_Nonenhanced_image32.jpg_2c750668-923d-495e-9757-7ad9d384a3b9.jpg\n",
            "Working on file  /content/gdrive/MyDrive/Data training/Nonenhanced Mask/_groundtruth_(1)_Nonenhanced_image32.jpg_2eebce91-1cbf-4ead-86f9-468bf4e2df90.jpg\n",
            "Working on file  /content/gdrive/MyDrive/Data training/Nonenhanced Mask/_groundtruth_(1)_Nonenhanced_image32.jpg_49bb3c81-9a30-4d1e-b531-cf74a0a9b796.jpg\n",
            "Working on file  /content/gdrive/MyDrive/Data training/Nonenhanced Mask/_groundtruth_(1)_Nonenhanced_image32.jpg_63f45cb1-beb4-4afe-9d6d-cec39021d66b.jpg\n",
            "Working on file  /content/gdrive/MyDrive/Data training/Nonenhanced Mask/_groundtruth_(1)_Nonenhanced_image32.jpg_73163cef-d202-4556-96e5-6669c30667dd.jpg\n",
            "Working on file  /content/gdrive/MyDrive/Data training/Nonenhanced Mask/_groundtruth_(1)_Nonenhanced_image32.jpg_79a696af-c085-4552-8a1c-41791e712009.jpg\n",
            "Working on file  /content/gdrive/MyDrive/Data training/Nonenhanced Mask/_groundtruth_(1)_Nonenhanced_image32.jpg_814bbd01-9c98-43cd-8abd-8ffd885ddbc1.jpg\n",
            "Working on file  /content/gdrive/MyDrive/Data training/Nonenhanced Mask/_groundtruth_(1)_Nonenhanced_image32.jpg_93631937-8ffc-4b0a-a8b5-03e16f1de159.jpg\n",
            "Working on file  /content/gdrive/MyDrive/Data training/Nonenhanced Mask/_groundtruth_(1)_Nonenhanced_image32.jpg_95b54026-e119-49bc-9bbf-fc057c358d91.jpg\n",
            "Working on file  /content/gdrive/MyDrive/Data training/Nonenhanced Mask/_groundtruth_(1)_Nonenhanced_image32.jpg_b34fb5b4-8be0-413d-ac8f-fde80a9462d4.jpg\n",
            "Working on file  /content/gdrive/MyDrive/Data training/Nonenhanced Mask/_groundtruth_(1)_Nonenhanced_image32.jpg_df6a5c7f-3e50-49fb-8d42-6a04b8754f45.jpg\n",
            "Working on file  /content/gdrive/MyDrive/Data training/Nonenhanced Mask/_groundtruth_(1)_Nonenhanced_image33.jpg_28c5c93b-e738-4c0b-a4ac-a11372b698ad.jpg\n",
            "Working on file  /content/gdrive/MyDrive/Data training/Nonenhanced Mask/_groundtruth_(1)_Nonenhanced_image33.jpg_3d9bf4db-0f97-45c4-b708-b386322310d9.jpg\n",
            "Working on file  /content/gdrive/MyDrive/Data training/Nonenhanced Mask/_groundtruth_(1)_Nonenhanced_image33.jpg_45658700-ed19-47fe-8e0c-e06a26be82ea.jpg\n",
            "Working on file  /content/gdrive/MyDrive/Data training/Nonenhanced Mask/_groundtruth_(1)_Nonenhanced_image33.jpg_4a7787d9-c2ff-4d7e-9b67-c9775701aab8.jpg\n",
            "Working on file  /content/gdrive/MyDrive/Data training/Nonenhanced Mask/_groundtruth_(1)_Nonenhanced_image33.jpg_68c7d6ee-8c53-4fad-afd1-6f399b3d4135.jpg\n",
            "Working on file  /content/gdrive/MyDrive/Data training/Nonenhanced Mask/_groundtruth_(1)_Nonenhanced_image33.jpg_967ab1ef-a68a-4983-b479-4c8aa60efbf4.jpg\n",
            "Working on file  /content/gdrive/MyDrive/Data training/Nonenhanced Mask/_groundtruth_(1)_Nonenhanced_image33.jpg_9afb30ce-3c22-4b2b-9094-a689476dfb7c.jpg\n",
            "Working on file  /content/gdrive/MyDrive/Data training/Nonenhanced Mask/_groundtruth_(1)_Nonenhanced_image33.jpg_c77a8217-3db1-4892-b252-87ea88e5c00d.jpg\n",
            "Working on file  /content/gdrive/MyDrive/Data training/Nonenhanced Mask/_groundtruth_(1)_Nonenhanced_image34.jpg_039327d8-aa5a-4aab-8b54-b0ed5dcb4ad3.jpg\n",
            "Working on file  /content/gdrive/MyDrive/Data training/Nonenhanced Mask/_groundtruth_(1)_Nonenhanced_image34.jpg_0ad92ff6-93c0-4863-a8b5-9ddb45af071a.jpg\n",
            "Working on file  /content/gdrive/MyDrive/Data training/Nonenhanced Mask/_groundtruth_(1)_Nonenhanced_image34.jpg_13119787-b1fd-4efe-bc69-f45ed06285fb.jpg\n",
            "Working on file  /content/gdrive/MyDrive/Data training/Nonenhanced Mask/_groundtruth_(1)_Nonenhanced_image34.jpg_13b05b16-c910-443e-8676-8bb067ab9bfa.jpg\n",
            "Working on file  /content/gdrive/MyDrive/Data training/Nonenhanced Mask/_groundtruth_(1)_Nonenhanced_image34.jpg_18d86299-facf-43e1-b321-321621e3ec5b.jpg\n",
            "Working on file  /content/gdrive/MyDrive/Data training/Nonenhanced Mask/_groundtruth_(1)_Nonenhanced_image34.jpg_1cb41e59-77dd-45fa-b930-0c4d3ecef5c1.jpg\n",
            "Working on file  /content/gdrive/MyDrive/Data training/Nonenhanced Mask/_groundtruth_(1)_Nonenhanced_image34.jpg_818c5152-4a10-484f-9582-bab723cb31dd.jpg\n",
            "Working on file  /content/gdrive/MyDrive/Data training/Nonenhanced Mask/_groundtruth_(1)_Nonenhanced_image34.jpg_84268240-e3d3-4b46-aec1-f9b78bfa2f8f.jpg\n",
            "Working on file  /content/gdrive/MyDrive/Data training/Nonenhanced Mask/_groundtruth_(1)_Nonenhanced_image34.jpg_8800a08f-7f80-41d1-9fdd-11688d785bf6.jpg\n",
            "Working on file  /content/gdrive/MyDrive/Data training/Nonenhanced Mask/_groundtruth_(1)_Nonenhanced_image34.jpg_8ab56065-0c1e-4fb3-80ef-2c7f81972a9e.jpg\n",
            "Working on file  /content/gdrive/MyDrive/Data training/Nonenhanced Mask/_groundtruth_(1)_Nonenhanced_image34.jpg_9c2ca608-15b9-40c2-8291-eed20f995ce2.jpg\n",
            "Working on file  /content/gdrive/MyDrive/Data training/Nonenhanced Mask/_groundtruth_(1)_Nonenhanced_image34.jpg_a26154d3-d502-4afc-82b4-4a0fdf738640.jpg\n",
            "Working on file  /content/gdrive/MyDrive/Data training/Nonenhanced Mask/_groundtruth_(1)_Nonenhanced_image34.jpg_a3380716-e0f6-4d71-8015-f94fb7303023.jpg\n",
            "Working on file  /content/gdrive/MyDrive/Data training/Nonenhanced Mask/_groundtruth_(1)_Nonenhanced_image34.jpg_af8b51a9-a9ff-4568-89ac-7ddeb8d30c7a.jpg\n",
            "Working on file  /content/gdrive/MyDrive/Data training/Nonenhanced Mask/_groundtruth_(1)_Nonenhanced_image34.jpg_b6376f53-c699-4b7d-9e68-a737ed5a4674.jpg\n",
            "Working on file  /content/gdrive/MyDrive/Data training/Nonenhanced Mask/_groundtruth_(1)_Nonenhanced_image34.jpg_cab90774-1206-4b5f-8b27-32eaa09b4387.jpg\n",
            "Working on file  /content/gdrive/MyDrive/Data training/Nonenhanced Mask/_groundtruth_(1)_Nonenhanced_image34.jpg_ccc421c1-4498-45b2-a00f-ca84f33fa822.jpg\n",
            "Working on file  /content/gdrive/MyDrive/Data training/Nonenhanced Mask/_groundtruth_(1)_Nonenhanced_image34.jpg_f62f5079-9cc8-44b4-be85-1fc45f319b6d.jpg\n",
            "Working on file  /content/gdrive/MyDrive/Data training/Nonenhanced Mask/_groundtruth_(1)_Nonenhanced_image34.jpg_fded6605-8a5b-427a-8c83-c046a2157644.jpg\n",
            "Working on file  /content/gdrive/MyDrive/Data training/Nonenhanced Mask/_groundtruth_(1)_Nonenhanced_image35.jpg_1e6774a6-0faa-439f-95c6-82667114dd71.jpg\n",
            "Working on file  /content/gdrive/MyDrive/Data training/Nonenhanced Mask/_groundtruth_(1)_Nonenhanced_image35.jpg_1f75f273-4d67-4263-91d0-5590c4b0957a.jpg\n",
            "Working on file  /content/gdrive/MyDrive/Data training/Nonenhanced Mask/_groundtruth_(1)_Nonenhanced_image35.jpg_28a07565-48ae-4de1-bb4a-c6474aae4973.jpg\n",
            "Working on file  /content/gdrive/MyDrive/Data training/Nonenhanced Mask/_groundtruth_(1)_Nonenhanced_image35.jpg_645d8508-c9e6-49b0-b8e7-c33de39ff83c.jpg\n",
            "Working on file  /content/gdrive/MyDrive/Data training/Nonenhanced Mask/_groundtruth_(1)_Nonenhanced_image35.jpg_b7e15e9e-24bc-4ea7-8e05-f6976569b6c5.jpg\n",
            "Working on file  /content/gdrive/MyDrive/Data training/Nonenhanced Mask/_groundtruth_(1)_Nonenhanced_image35.jpg_d99b0609-b5a9-4d13-9c9d-cdbbdd9ecc95.jpg\n",
            "Working on file  /content/gdrive/MyDrive/Data training/Nonenhanced Mask/_groundtruth_(1)_Nonenhanced_image35.jpg_f2f14b1b-289a-4126-b596-feb2cecd1e20.jpg\n",
            "Working on file  /content/gdrive/MyDrive/Data training/Nonenhanced Mask/_groundtruth_(1)_Nonenhanced_image35.jpg_fc58fbcf-e34e-4a83-81b6-796e1aa3e482.jpg\n",
            "Working on file  /content/gdrive/MyDrive/Data training/Nonenhanced Mask/_groundtruth_(1)_Nonenhanced_image36.jpg_155694ff-12ad-461a-b3f2-68e40246d17b.jpg\n",
            "Working on file  /content/gdrive/MyDrive/Data training/Nonenhanced Mask/_groundtruth_(1)_Nonenhanced_image36.jpg_6493ea13-ef89-4582-9422-50c3cf24ac66.jpg\n",
            "Working on file  /content/gdrive/MyDrive/Data training/Nonenhanced Mask/_groundtruth_(1)_Nonenhanced_image36.jpg_6e3c6cf8-069d-4dbb-a06a-f4e6cf1c97be.jpg\n",
            "Working on file  /content/gdrive/MyDrive/Data training/Nonenhanced Mask/_groundtruth_(1)_Nonenhanced_image36.jpg_872d3d9e-90b9-4674-b176-ecaec8c081d1.jpg\n",
            "Working on file  /content/gdrive/MyDrive/Data training/Nonenhanced Mask/_groundtruth_(1)_Nonenhanced_image36.jpg_88f13df7-61ec-4fea-ad1a-0cf0d02d9c88.jpg\n",
            "Working on file  /content/gdrive/MyDrive/Data training/Nonenhanced Mask/_groundtruth_(1)_Nonenhanced_image36.jpg_eb9b1aff-1976-441c-9cd3-752e87dc81ba.jpg\n",
            "Working on file  /content/gdrive/MyDrive/Data training/Nonenhanced Mask/_groundtruth_(1)_Nonenhanced_image37.jpg_2c8e74b4-34d4-40a2-a8b7-ba600430df7a.jpg\n",
            "Working on file  /content/gdrive/MyDrive/Data training/Nonenhanced Mask/_groundtruth_(1)_Nonenhanced_image37.jpg_4e18f50f-40b3-4b4f-8e6e-655f96b054e4.jpg\n",
            "Working on file  /content/gdrive/MyDrive/Data training/Nonenhanced Mask/_groundtruth_(1)_Nonenhanced_image37.jpg_5d770dde-d294-47e1-aa2b-478607a20ac4.jpg\n",
            "Working on file  /content/gdrive/MyDrive/Data training/Nonenhanced Mask/_groundtruth_(1)_Nonenhanced_image37.jpg_68add3e6-bd64-4bf5-8b4d-e1f071b15459.jpg\n",
            "Working on file  /content/gdrive/MyDrive/Data training/Nonenhanced Mask/_groundtruth_(1)_Nonenhanced_image37.jpg_848f9d70-2a89-40ea-8c6b-f4eeb321738e.jpg\n",
            "Working on file  /content/gdrive/MyDrive/Data training/Nonenhanced Mask/_groundtruth_(1)_Nonenhanced_image37.jpg_8f045336-9296-40d8-881d-15f596fc8575.jpg\n",
            "Working on file  /content/gdrive/MyDrive/Data training/Nonenhanced Mask/_groundtruth_(1)_Nonenhanced_image37.jpg_a36d87e9-1aff-46c1-9691-5c3e19e404ef.jpg\n",
            "Working on file  /content/gdrive/MyDrive/Data training/Nonenhanced Mask/_groundtruth_(1)_Nonenhanced_image37.jpg_b485e1e6-5241-4bd4-a1d0-c300d5649784.jpg\n",
            "Working on file  /content/gdrive/MyDrive/Data training/Nonenhanced Mask/_groundtruth_(1)_Nonenhanced_image37.jpg_b8aea03f-79fc-4f77-99fc-7f8797be81b6.jpg\n",
            "Working on file  /content/gdrive/MyDrive/Data training/Nonenhanced Mask/_groundtruth_(1)_Nonenhanced_image37.jpg_e442fde3-a219-4a4d-a5ff-89ef7f61fb94.jpg\n",
            "Working on file  /content/gdrive/MyDrive/Data training/Nonenhanced Mask/_groundtruth_(1)_Nonenhanced_image37.jpg_f96b310d-0808-4d9e-986a-dd57f998651a.jpg\n",
            "Working on file  /content/gdrive/MyDrive/Data training/Nonenhanced Mask/_groundtruth_(1)_Nonenhanced_image38.jpg_345c447a-3f03-4dbc-ac4d-c2ee9e44663a.jpg\n",
            "Working on file  /content/gdrive/MyDrive/Data training/Nonenhanced Mask/_groundtruth_(1)_Nonenhanced_image38.jpg_361654fd-16da-4d41-b333-2ae8f584223d.jpg\n",
            "Working on file  /content/gdrive/MyDrive/Data training/Nonenhanced Mask/_groundtruth_(1)_Nonenhanced_image38.jpg_5d5b06f7-e3f3-4de6-a67a-c0dbfe27d628.jpg\n",
            "Working on file  /content/gdrive/MyDrive/Data training/Nonenhanced Mask/_groundtruth_(1)_Nonenhanced_image38.jpg_63af7c8c-3605-4aeb-97eb-2019798922a3.jpg\n",
            "Working on file  /content/gdrive/MyDrive/Data training/Nonenhanced Mask/_groundtruth_(1)_Nonenhanced_image38.jpg_6f586842-8088-418d-bb15-89e0a6279343.jpg\n",
            "Working on file  /content/gdrive/MyDrive/Data training/Nonenhanced Mask/_groundtruth_(1)_Nonenhanced_image38.jpg_734317bd-8d17-454f-8705-3fc52895aafb.jpg\n",
            "Working on file  /content/gdrive/MyDrive/Data training/Nonenhanced Mask/_groundtruth_(1)_Nonenhanced_image38.jpg_8e017e22-7495-4db1-8ef4-6273690605e6.jpg\n",
            "Working on file  /content/gdrive/MyDrive/Data training/Nonenhanced Mask/_groundtruth_(1)_Nonenhanced_image38.jpg_c0818885-4a32-4bd1-bf97-13dda05454fe.jpg\n",
            "Working on file  /content/gdrive/MyDrive/Data training/Nonenhanced Mask/_groundtruth_(1)_Nonenhanced_image38.jpg_c188fdec-b414-4bde-9ed3-926e12ae4389.jpg\n",
            "Working on file  /content/gdrive/MyDrive/Data training/Nonenhanced Mask/_groundtruth_(1)_Nonenhanced_image38.jpg_c1f90863-821d-40d8-bfe9-63e3d46de865.jpg\n",
            "Working on file  /content/gdrive/MyDrive/Data training/Nonenhanced Mask/_groundtruth_(1)_Nonenhanced_image38.jpg_ce515024-a64b-4dc2-b104-695ad4013038.jpg\n",
            "Working on file  /content/gdrive/MyDrive/Data training/Nonenhanced Mask/_groundtruth_(1)_Nonenhanced_image38.jpg_dd2716ae-a7a7-4df6-8bf0-bbe0830c9138.jpg\n",
            "Working on file  /content/gdrive/MyDrive/Data training/Nonenhanced Mask/_groundtruth_(1)_Nonenhanced_image38.jpg_fe281c2f-322b-42eb-af09-28bb6be66dfc.jpg\n",
            "Working on file  /content/gdrive/MyDrive/Data training/Nonenhanced Mask/_groundtruth_(1)_Nonenhanced_image39.jpg_1752d5b4-0bb8-4b91-b09e-44e0a5212367.jpg\n",
            "Working on file  /content/gdrive/MyDrive/Data training/Nonenhanced Mask/_groundtruth_(1)_Nonenhanced_image39.jpg_1bbcd307-81ea-47fe-b6f2-ee3aecda3438.jpg\n",
            "Working on file  /content/gdrive/MyDrive/Data training/Nonenhanced Mask/_groundtruth_(1)_Nonenhanced_image39.jpg_33c84e0c-af62-4439-b832-949082d8fa93.jpg\n",
            "Working on file  /content/gdrive/MyDrive/Data training/Nonenhanced Mask/_groundtruth_(1)_Nonenhanced_image39.jpg_616e9e67-d93c-4c07-86ec-cb6ac9c3a43f.jpg\n",
            "Working on file  /content/gdrive/MyDrive/Data training/Nonenhanced Mask/_groundtruth_(1)_Nonenhanced_image39.jpg_728b0c38-e8bc-4929-8ef0-db348adbc4c4.jpg\n",
            "Working on file  /content/gdrive/MyDrive/Data training/Nonenhanced Mask/_groundtruth_(1)_Nonenhanced_image39.jpg_745aaabd-b768-416d-a2d5-365228c446ad.jpg\n",
            "Working on file  /content/gdrive/MyDrive/Data training/Nonenhanced Mask/_groundtruth_(1)_Nonenhanced_image39.jpg_8def232a-7f3a-40bf-b4ff-3e06868431d1.jpg\n",
            "Working on file  /content/gdrive/MyDrive/Data training/Nonenhanced Mask/_groundtruth_(1)_Nonenhanced_image39.jpg_acd5349f-1e91-41d8-876a-3e190df1cce7.jpg\n",
            "Working on file  /content/gdrive/MyDrive/Data training/Nonenhanced Mask/_groundtruth_(1)_Nonenhanced_image39.jpg_bd26f1ea-c324-4784-a3f4-3361015dad78.jpg\n",
            "Working on file  /content/gdrive/MyDrive/Data training/Nonenhanced Mask/_groundtruth_(1)_Nonenhanced_image39.jpg_cf18594a-72b4-411f-a161-0aabc57122d9.jpg\n",
            "Working on file  /content/gdrive/MyDrive/Data training/Nonenhanced Mask/_groundtruth_(1)_Nonenhanced_image39.jpg_ebe2c392-0d02-47a7-9a45-f0a42b90a010.jpg\n",
            "Working on file  /content/gdrive/MyDrive/Data training/Nonenhanced Mask/_groundtruth_(1)_Nonenhanced_image39.jpg_f1fd7d2b-4633-47ef-916e-ff5f7bc51cf8.jpg\n",
            "Working on file  /content/gdrive/MyDrive/Data training/Nonenhanced Mask/_groundtruth_(1)_Nonenhanced_image39.jpg_ff3b5ffe-f62b-4663-862b-210a0deb295e.jpg\n",
            "Working on file  /content/gdrive/MyDrive/Data training/Nonenhanced Mask/_groundtruth_(1)_Nonenhanced_image4.jpg_36bc662a-2a9a-4ea3-94d2-529b58d7da7c.jpg\n",
            "Working on file  /content/gdrive/MyDrive/Data training/Nonenhanced Mask/_groundtruth_(1)_Nonenhanced_image4.jpg_4792defb-9584-4901-a1cd-9e1acadeab3a.jpg\n",
            "Working on file  /content/gdrive/MyDrive/Data training/Nonenhanced Mask/_groundtruth_(1)_Nonenhanced_image4.jpg_551b1c87-491a-4729-b9f9-134c928d50cc.jpg\n",
            "Working on file  /content/gdrive/MyDrive/Data training/Nonenhanced Mask/_groundtruth_(1)_Nonenhanced_image4.jpg_55cdcf37-016b-47a6-a408-c1e15ea86e4a.jpg\n",
            "Working on file  /content/gdrive/MyDrive/Data training/Nonenhanced Mask/_groundtruth_(1)_Nonenhanced_image4.jpg_6d83dbe8-51fb-4253-b5a0-682151eef6ac.jpg\n",
            "Working on file  /content/gdrive/MyDrive/Data training/Nonenhanced Mask/_groundtruth_(1)_Nonenhanced_image4.jpg_899e8d57-e417-4293-8320-637da4683cb4.jpg\n",
            "Working on file  /content/gdrive/MyDrive/Data training/Nonenhanced Mask/_groundtruth_(1)_Nonenhanced_image4.jpg_94fba73d-331c-4934-a24f-fc1b0a8e7141.jpg\n",
            "Working on file  /content/gdrive/MyDrive/Data training/Nonenhanced Mask/_groundtruth_(1)_Nonenhanced_image4.jpg_a1763440-6ff0-4770-9f57-8d4896f3e3c6.jpg\n",
            "Working on file  /content/gdrive/MyDrive/Data training/Nonenhanced Mask/_groundtruth_(1)_Nonenhanced_image4.jpg_c63fa80b-0bcb-4fd5-b65f-5a51b257eab9.jpg\n",
            "Working on file  /content/gdrive/MyDrive/Data training/Nonenhanced Mask/_groundtruth_(1)_Nonenhanced_image4.jpg_d056cfef-2637-4301-8fbd-1809e9666bf1.jpg\n",
            "Working on file  /content/gdrive/MyDrive/Data training/Nonenhanced Mask/_groundtruth_(1)_Nonenhanced_image4.jpg_dc808313-a239-4eeb-85ad-0796e357df83.jpg\n",
            "Working on file  /content/gdrive/MyDrive/Data training/Nonenhanced Mask/_groundtruth_(1)_Nonenhanced_image4.jpg_ed5f8f9c-a7cf-4fc0-9d37-9425e2f8b77d.jpg\n",
            "Working on file  /content/gdrive/MyDrive/Data training/Nonenhanced Mask/_groundtruth_(1)_Nonenhanced_image40.jpg_4857153e-0bb2-4229-a910-ad486105dcef.jpg\n",
            "Working on file  /content/gdrive/MyDrive/Data training/Nonenhanced Mask/_groundtruth_(1)_Nonenhanced_image40.jpg_6fdf0df2-37af-4fb3-8fa6-76c59b6f1c64.jpg\n",
            "Working on file  /content/gdrive/MyDrive/Data training/Nonenhanced Mask/_groundtruth_(1)_Nonenhanced_image40.jpg_9654cff6-e457-4a3c-97ad-745d67330d68.jpg\n",
            "Working on file  /content/gdrive/MyDrive/Data training/Nonenhanced Mask/_groundtruth_(1)_Nonenhanced_image40.jpg_a148b0b9-535b-4007-a099-ccb9b63ce18d.jpg\n",
            "Working on file  /content/gdrive/MyDrive/Data training/Nonenhanced Mask/_groundtruth_(1)_Nonenhanced_image40.jpg_a6e05e5a-5e25-4b52-bf42-599b175765a1.jpg\n",
            "Working on file  /content/gdrive/MyDrive/Data training/Nonenhanced Mask/_groundtruth_(1)_Nonenhanced_image40.jpg_c723dcf5-ff7e-421a-8e51-2f6a579ece41.jpg\n",
            "Working on file  /content/gdrive/MyDrive/Data training/Nonenhanced Mask/_groundtruth_(1)_Nonenhanced_image40.jpg_cd2cae06-34df-43d1-89a3-4739e42c3081.jpg\n",
            "Working on file  /content/gdrive/MyDrive/Data training/Nonenhanced Mask/_groundtruth_(1)_Nonenhanced_image40.jpg_cfd6c7e0-0721-4964-bf3b-229caa7305a9.jpg\n",
            "Working on file  /content/gdrive/MyDrive/Data training/Nonenhanced Mask/_groundtruth_(1)_Nonenhanced_image40.jpg_d7eea5fc-c709-42eb-a5bf-72521990c7b3.jpg\n",
            "Working on file  /content/gdrive/MyDrive/Data training/Nonenhanced Mask/_groundtruth_(1)_Nonenhanced_image40.jpg_de29b9da-a16c-40da-a0b0-be0e8c5f00ab.jpg\n",
            "Working on file  /content/gdrive/MyDrive/Data training/Nonenhanced Mask/_groundtruth_(1)_Nonenhanced_image41.jpg_2b6e7b01-6623-42fc-b787-36fa15424387.jpg\n",
            "Working on file  /content/gdrive/MyDrive/Data training/Nonenhanced Mask/_groundtruth_(1)_Nonenhanced_image41.jpg_47f53ddf-fee2-4207-88db-d82dd9a7a7a5.jpg\n",
            "Working on file  /content/gdrive/MyDrive/Data training/Nonenhanced Mask/_groundtruth_(1)_Nonenhanced_image41.jpg_6f16f3a3-9241-4db9-a7ed-2710cec44ebe.jpg\n",
            "Working on file  /content/gdrive/MyDrive/Data training/Nonenhanced Mask/_groundtruth_(1)_Nonenhanced_image41.jpg_83c41a7d-ae5b-4cec-91c4-90370798f05b.jpg\n",
            "Working on file  /content/gdrive/MyDrive/Data training/Nonenhanced Mask/_groundtruth_(1)_Nonenhanced_image41.jpg_9679a870-6ae0-43a4-9a6a-71e3e8a01eb0.jpg\n",
            "Working on file  /content/gdrive/MyDrive/Data training/Nonenhanced Mask/_groundtruth_(1)_Nonenhanced_image41.jpg_b6a437f0-3311-45de-80c2-a511c899374d.jpg\n",
            "Working on file  /content/gdrive/MyDrive/Data training/Nonenhanced Mask/_groundtruth_(1)_Nonenhanced_image41.jpg_d1e160f9-ff55-44a5-82f6-93bc96bec25e.jpg\n",
            "Working on file  /content/gdrive/MyDrive/Data training/Nonenhanced Mask/_groundtruth_(1)_Nonenhanced_image41.jpg_d46433b8-134d-498e-bccd-6a3ac1612b76.jpg\n",
            "Working on file  /content/gdrive/MyDrive/Data training/Nonenhanced Mask/_groundtruth_(1)_Nonenhanced_image41.jpg_d887b11c-b3b4-4f65-a07d-94c58453f757.jpg\n",
            "Working on file  /content/gdrive/MyDrive/Data training/Nonenhanced Mask/_groundtruth_(1)_Nonenhanced_image41.jpg_fa5d2a0c-6f4f-48ad-a72f-a0cbe51849d9.jpg\n",
            "Working on file  /content/gdrive/MyDrive/Data training/Nonenhanced Mask/_groundtruth_(1)_Nonenhanced_image41.jpg_fde08c85-6f87-4883-a61d-468285d92cc2.jpg\n",
            "Working on file  /content/gdrive/MyDrive/Data training/Nonenhanced Mask/_groundtruth_(1)_Nonenhanced_image42.jpg_01c8de89-51ff-4e75-8593-dd66372d03c0.jpg\n",
            "Working on file  /content/gdrive/MyDrive/Data training/Nonenhanced Mask/_groundtruth_(1)_Nonenhanced_image42.jpg_5d3618b3-000b-48d6-af49-398a6b9dd663.jpg\n",
            "Working on file  /content/gdrive/MyDrive/Data training/Nonenhanced Mask/_groundtruth_(1)_Nonenhanced_image42.jpg_5fe5a843-9edd-4343-a154-af3166c99f95.jpg\n",
            "Working on file  /content/gdrive/MyDrive/Data training/Nonenhanced Mask/_groundtruth_(1)_Nonenhanced_image42.jpg_91016357-1d1f-4ba8-a4e0-294423f5ef8c.jpg\n",
            "Working on file  /content/gdrive/MyDrive/Data training/Nonenhanced Mask/_groundtruth_(1)_Nonenhanced_image42.jpg_92e97228-d91b-41db-98ab-f4562b6dc44b.jpg\n",
            "Working on file  /content/gdrive/MyDrive/Data training/Nonenhanced Mask/_groundtruth_(1)_Nonenhanced_image42.jpg_9da96b93-0b9c-4761-b220-76b4ae03a71a.jpg\n",
            "Working on file  /content/gdrive/MyDrive/Data training/Nonenhanced Mask/_groundtruth_(1)_Nonenhanced_image42.jpg_b567b415-7096-4854-a91b-bf8668f44eec.jpg\n",
            "Working on file  /content/gdrive/MyDrive/Data training/Nonenhanced Mask/_groundtruth_(1)_Nonenhanced_image42.jpg_be6538d1-9c7c-400f-ab23-3c5ac38b1c5d.jpg\n",
            "Working on file  /content/gdrive/MyDrive/Data training/Nonenhanced Mask/_groundtruth_(1)_Nonenhanced_image42.jpg_cc966530-3804-44cb-8003-5d4e9ea0fd36.jpg\n",
            "Working on file  /content/gdrive/MyDrive/Data training/Nonenhanced Mask/_groundtruth_(1)_Nonenhanced_image42.jpg_e3c10ef3-0c0f-4a51-9555-ba0003bcead5.jpg\n",
            "Working on file  /content/gdrive/MyDrive/Data training/Nonenhanced Mask/_groundtruth_(1)_Nonenhanced_image42.jpg_ef7512b3-3560-4fdd-935f-526d535203ce.jpg\n",
            "Working on file  /content/gdrive/MyDrive/Data training/Nonenhanced Mask/_groundtruth_(1)_Nonenhanced_image43.jpg_03964df6-a0a1-4da0-992f-dffe04af15b3.jpg\n",
            "Working on file  /content/gdrive/MyDrive/Data training/Nonenhanced Mask/_groundtruth_(1)_Nonenhanced_image43.jpg_15be26f0-4a6a-4499-8cdd-9d8ea72a546d.jpg\n",
            "Working on file  /content/gdrive/MyDrive/Data training/Nonenhanced Mask/_groundtruth_(1)_Nonenhanced_image43.jpg_1a7e6aff-ad9b-4770-8b48-e90e7a7407ed.jpg\n",
            "Working on file  /content/gdrive/MyDrive/Data training/Nonenhanced Mask/_groundtruth_(1)_Nonenhanced_image43.jpg_1dc5db02-360f-43c6-bb23-e752ad7b103b.jpg\n",
            "Working on file  /content/gdrive/MyDrive/Data training/Nonenhanced Mask/_groundtruth_(1)_Nonenhanced_image43.jpg_20049286-3bd8-414e-a332-078d9e4b5279.jpg\n",
            "Working on file  /content/gdrive/MyDrive/Data training/Nonenhanced Mask/_groundtruth_(1)_Nonenhanced_image43.jpg_3aa78cf5-17f9-4075-8add-5f6c8163daf1.jpg\n",
            "Working on file  /content/gdrive/MyDrive/Data training/Nonenhanced Mask/_groundtruth_(1)_Nonenhanced_image43.jpg_744d2fe9-85c5-4538-adc6-d6002134397f.jpg\n",
            "Working on file  /content/gdrive/MyDrive/Data training/Nonenhanced Mask/_groundtruth_(1)_Nonenhanced_image43.jpg_909e6f73-dabd-42cd-bd9d-5b0967b584d4.jpg\n",
            "Working on file  /content/gdrive/MyDrive/Data training/Nonenhanced Mask/_groundtruth_(1)_Nonenhanced_image43.jpg_98cef0de-7d40-4ac4-8611-a3371834b232.jpg\n",
            "Working on file  /content/gdrive/MyDrive/Data training/Nonenhanced Mask/_groundtruth_(1)_Nonenhanced_image43.jpg_9f23b169-fe66-4927-9f5c-da5f042bb5a0.jpg\n",
            "Working on file  /content/gdrive/MyDrive/Data training/Nonenhanced Mask/_groundtruth_(1)_Nonenhanced_image43.jpg_a4437aff-67ab-432a-ba44-806b543a9b48.jpg\n",
            "Working on file  /content/gdrive/MyDrive/Data training/Nonenhanced Mask/_groundtruth_(1)_Nonenhanced_image43.jpg_b2fa8b7a-6f9e-4afe-b390-d367b69b851c.jpg\n",
            "Working on file  /content/gdrive/MyDrive/Data training/Nonenhanced Mask/_groundtruth_(1)_Nonenhanced_image43.jpg_bf98b5d2-189a-42ab-9859-414a32ce1989.jpg\n",
            "Working on file  /content/gdrive/MyDrive/Data training/Nonenhanced Mask/_groundtruth_(1)_Nonenhanced_image43.jpg_c472518a-38e4-4014-8829-d87db99abc89.jpg\n",
            "Working on file  /content/gdrive/MyDrive/Data training/Nonenhanced Mask/_groundtruth_(1)_Nonenhanced_image43.jpg_da6aea46-603b-42a4-9064-1e4a3bcb35f6.jpg\n",
            "Working on file  /content/gdrive/MyDrive/Data training/Nonenhanced Mask/_groundtruth_(1)_Nonenhanced_image43.jpg_f83bbd25-459f-4456-94af-01e864f628ae.jpg\n",
            "Working on file  /content/gdrive/MyDrive/Data training/Nonenhanced Mask/_groundtruth_(1)_Nonenhanced_image44.jpg_1167543d-b848-4013-bd0b-07d5361a7f42.jpg\n",
            "Working on file  /content/gdrive/MyDrive/Data training/Nonenhanced Mask/_groundtruth_(1)_Nonenhanced_image44.jpg_2729e32e-3d0f-43e1-a057-ecb00ff30b4f.jpg\n",
            "Working on file  /content/gdrive/MyDrive/Data training/Nonenhanced Mask/_groundtruth_(1)_Nonenhanced_image44.jpg_2a2e2177-2170-4e6a-9b64-7b32e2d8c83c.jpg\n",
            "Working on file  /content/gdrive/MyDrive/Data training/Nonenhanced Mask/_groundtruth_(1)_Nonenhanced_image44.jpg_3f3b2d27-a273-4d52-8f91-005c387a12c5.jpg\n",
            "Working on file  /content/gdrive/MyDrive/Data training/Nonenhanced Mask/_groundtruth_(1)_Nonenhanced_image44.jpg_62b185df-3ba7-4bbf-aaab-7e9ab13f47e1.jpg\n",
            "Working on file  /content/gdrive/MyDrive/Data training/Nonenhanced Mask/_groundtruth_(1)_Nonenhanced_image44.jpg_70c6ba71-9cc9-45ec-8669-a27d6c6e16cc.jpg\n",
            "Working on file  /content/gdrive/MyDrive/Data training/Nonenhanced Mask/_groundtruth_(1)_Nonenhanced_image44.jpg_7c5d0bbe-06b9-44fd-91d1-56dea61390de.jpg\n",
            "Working on file  /content/gdrive/MyDrive/Data training/Nonenhanced Mask/_groundtruth_(1)_Nonenhanced_image44.jpg_bd78e469-5d11-4f4c-aebb-533f0a43bb6d.jpg\n",
            "Working on file  /content/gdrive/MyDrive/Data training/Nonenhanced Mask/_groundtruth_(1)_Nonenhanced_image45.jpg_04a7f810-d432-420e-852e-22606f66e6ba.jpg\n",
            "Working on file  /content/gdrive/MyDrive/Data training/Nonenhanced Mask/_groundtruth_(1)_Nonenhanced_image45.jpg_2673367d-7128-4076-9a05-afb1e52eddc6.jpg\n",
            "Working on file  /content/gdrive/MyDrive/Data training/Nonenhanced Mask/_groundtruth_(1)_Nonenhanced_image45.jpg_2730e616-511e-4102-bb16-cebe91be6e83.jpg\n",
            "Working on file  /content/gdrive/MyDrive/Data training/Nonenhanced Mask/_groundtruth_(1)_Nonenhanced_image45.jpg_35c387d3-04bb-4213-8202-a2b8046aebb9.jpg\n",
            "Working on file  /content/gdrive/MyDrive/Data training/Nonenhanced Mask/_groundtruth_(1)_Nonenhanced_image45.jpg_567a711d-a353-4d56-8f5b-35d0db275e21.jpg\n",
            "Working on file  /content/gdrive/MyDrive/Data training/Nonenhanced Mask/_groundtruth_(1)_Nonenhanced_image45.jpg_5ea4b793-145f-4341-9934-1b8d08889da5.jpg\n",
            "Working on file  /content/gdrive/MyDrive/Data training/Nonenhanced Mask/_groundtruth_(1)_Nonenhanced_image45.jpg_71dfb4e7-9458-4c37-bf35-94f4a6b59dfe.jpg\n",
            "Working on file  /content/gdrive/MyDrive/Data training/Nonenhanced Mask/_groundtruth_(1)_Nonenhanced_image45.jpg_74105190-9adb-4de0-8c29-f57c1a5116eb.jpg\n",
            "Working on file  /content/gdrive/MyDrive/Data training/Nonenhanced Mask/_groundtruth_(1)_Nonenhanced_image45.jpg_7d697062-d012-4b97-ab8e-8eee2db46e1e.jpg\n",
            "Working on file  /content/gdrive/MyDrive/Data training/Nonenhanced Mask/_groundtruth_(1)_Nonenhanced_image45.jpg_801a5b41-82dd-47d1-85b1-c187fa1d17b5.jpg\n",
            "Working on file  /content/gdrive/MyDrive/Data training/Nonenhanced Mask/_groundtruth_(1)_Nonenhanced_image45.jpg_86b09db7-5531-4a77-a017-d21b52d26853.jpg\n",
            "Working on file  /content/gdrive/MyDrive/Data training/Nonenhanced Mask/_groundtruth_(1)_Nonenhanced_image45.jpg_abeb0eb8-c418-4b5a-8d5d-6d531fddec91.jpg\n",
            "Working on file  /content/gdrive/MyDrive/Data training/Nonenhanced Mask/_groundtruth_(1)_Nonenhanced_image45.jpg_b8e3225f-af53-479a-b23a-05cde863c836.jpg\n",
            "Working on file  /content/gdrive/MyDrive/Data training/Nonenhanced Mask/_groundtruth_(1)_Nonenhanced_image45.jpg_d081e57e-7178-4e23-9bbf-92198a8b8172.jpg\n",
            "Working on file  /content/gdrive/MyDrive/Data training/Nonenhanced Mask/_groundtruth_(1)_Nonenhanced_image45.jpg_fa49c5d8-2427-48e5-b424-53a0dcff1be5.jpg\n",
            "Working on file  /content/gdrive/MyDrive/Data training/Nonenhanced Mask/_groundtruth_(1)_Nonenhanced_image45.jpg_fbc97016-0929-4ac1-a1c3-32d7dbba9ed7.jpg\n",
            "Working on file  /content/gdrive/MyDrive/Data training/Nonenhanced Mask/_groundtruth_(1)_Nonenhanced_image46.jpg_02baf316-5612-47b7-a1db-0cf1cf9ff91e.jpg\n",
            "Working on file  /content/gdrive/MyDrive/Data training/Nonenhanced Mask/_groundtruth_(1)_Nonenhanced_image46.jpg_091b3f0c-2be9-4b3c-abf5-101bca2a3042.jpg\n",
            "Working on file  /content/gdrive/MyDrive/Data training/Nonenhanced Mask/_groundtruth_(1)_Nonenhanced_image46.jpg_0e62998a-f314-4bf1-bc6f-c8ced71452e7.jpg\n",
            "Working on file  /content/gdrive/MyDrive/Data training/Nonenhanced Mask/_groundtruth_(1)_Nonenhanced_image46.jpg_11a65f2a-b34e-4f68-b11b-71501c0a71e4.jpg\n",
            "Working on file  /content/gdrive/MyDrive/Data training/Nonenhanced Mask/_groundtruth_(1)_Nonenhanced_image46.jpg_4a69a31b-b97d-4c41-b437-37727fd3d166.jpg\n",
            "Working on file  /content/gdrive/MyDrive/Data training/Nonenhanced Mask/_groundtruth_(1)_Nonenhanced_image46.jpg_4f81b198-37e3-478b-965d-7da33e77e537.jpg\n",
            "Working on file  /content/gdrive/MyDrive/Data training/Nonenhanced Mask/_groundtruth_(1)_Nonenhanced_image46.jpg_59439d9e-7388-4fa0-b60a-8054a6e61503.jpg\n",
            "Working on file  /content/gdrive/MyDrive/Data training/Nonenhanced Mask/_groundtruth_(1)_Nonenhanced_image46.jpg_6677cd03-a907-478c-a367-ab4c2c574ebb.jpg\n",
            "Working on file  /content/gdrive/MyDrive/Data training/Nonenhanced Mask/_groundtruth_(1)_Nonenhanced_image46.jpg_93127d4b-3685-440c-bac2-93dc7d9c33c3.jpg\n",
            "Working on file  /content/gdrive/MyDrive/Data training/Nonenhanced Mask/_groundtruth_(1)_Nonenhanced_image46.jpg_a4ec6ddd-20cf-4071-8913-51e1df6747a0.jpg\n",
            "Working on file  /content/gdrive/MyDrive/Data training/Nonenhanced Mask/_groundtruth_(1)_Nonenhanced_image46.jpg_bf4e0969-6113-484e-bb71-bd727c327e9b.jpg\n",
            "Working on file  /content/gdrive/MyDrive/Data training/Nonenhanced Mask/_groundtruth_(1)_Nonenhanced_image46.jpg_e07c9460-f7d3-4f00-8843-414a7c5808b1.jpg\n",
            "Working on file  /content/gdrive/MyDrive/Data training/Nonenhanced Mask/_groundtruth_(1)_Nonenhanced_image46.jpg_ec0b49e9-8a46-43d8-9ecc-fff349df6120.jpg\n",
            "Working on file  /content/gdrive/MyDrive/Data training/Nonenhanced Mask/_groundtruth_(1)_Nonenhanced_image46.jpg_f3e9528f-48d6-4e08-a248-183e7bd295c6.jpg\n",
            "Working on file  /content/gdrive/MyDrive/Data training/Nonenhanced Mask/_groundtruth_(1)_Nonenhanced_image46.jpg_f4b8b360-622f-49b7-afd8-8a3940cde44e.jpg\n",
            "Working on file  /content/gdrive/MyDrive/Data training/Nonenhanced Mask/_groundtruth_(1)_Nonenhanced_image46.jpg_f9fcde61-fcc9-428e-b2ce-d0be0ef31863.jpg\n",
            "Working on file  /content/gdrive/MyDrive/Data training/Nonenhanced Mask/_groundtruth_(1)_Nonenhanced_image47.jpg_0d42c020-f13e-4bb9-a9ab-6801373e7c5f.jpg\n",
            "Working on file  /content/gdrive/MyDrive/Data training/Nonenhanced Mask/_groundtruth_(1)_Nonenhanced_image47.jpg_35474544-bd22-4bfd-beff-ec71c25fa9ac.jpg\n",
            "Working on file  /content/gdrive/MyDrive/Data training/Nonenhanced Mask/_groundtruth_(1)_Nonenhanced_image47.jpg_8deebb65-4792-4b13-a88a-b7b939dc5b22.jpg\n",
            "Working on file  /content/gdrive/MyDrive/Data training/Nonenhanced Mask/_groundtruth_(1)_Nonenhanced_image47.jpg_95aa704e-9aa0-448a-b512-44e8f0ef0e14.jpg\n",
            "Working on file  /content/gdrive/MyDrive/Data training/Nonenhanced Mask/_groundtruth_(1)_Nonenhanced_image47.jpg_a4e7f720-a302-4f97-ac45-82a4c48a7a96.jpg\n",
            "Working on file  /content/gdrive/MyDrive/Data training/Nonenhanced Mask/_groundtruth_(1)_Nonenhanced_image47.jpg_b0bb982f-0a60-409f-a02f-03116e10b2ee.jpg\n",
            "Working on file  /content/gdrive/MyDrive/Data training/Nonenhanced Mask/_groundtruth_(1)_Nonenhanced_image47.jpg_d3695303-4eaf-4466-8d65-d88e82463676.jpg\n",
            "Working on file  /content/gdrive/MyDrive/Data training/Nonenhanced Mask/_groundtruth_(1)_Nonenhanced_image48.jpg_1c45eba6-ec8b-4d1c-b73a-f71fd4c172fe.jpg\n",
            "Working on file  /content/gdrive/MyDrive/Data training/Nonenhanced Mask/_groundtruth_(1)_Nonenhanced_image48.jpg_49e330d8-164f-4a98-9e9c-bddc01d7aa88.jpg\n",
            "Working on file  /content/gdrive/MyDrive/Data training/Nonenhanced Mask/_groundtruth_(1)_Nonenhanced_image48.jpg_631c8fb6-171a-43bb-b413-10a01d77f297.jpg\n",
            "Working on file  /content/gdrive/MyDrive/Data training/Nonenhanced Mask/_groundtruth_(1)_Nonenhanced_image48.jpg_69915c4e-ede0-4258-9647-9c63bfa420cd.jpg\n",
            "Working on file  /content/gdrive/MyDrive/Data training/Nonenhanced Mask/_groundtruth_(1)_Nonenhanced_image48.jpg_7b40228f-daed-4ad2-bd75-31707ea23b44.jpg\n",
            "Working on file  /content/gdrive/MyDrive/Data training/Nonenhanced Mask/_groundtruth_(1)_Nonenhanced_image48.jpg_af78e8d8-a18b-430f-8d6f-7e48c5d94015.jpg\n",
            "Working on file  /content/gdrive/MyDrive/Data training/Nonenhanced Mask/_groundtruth_(1)_Nonenhanced_image48.jpg_e33a89f1-5d63-4b7b-ba65-1648ffb469b3.jpg\n",
            "Working on file  /content/gdrive/MyDrive/Data training/Nonenhanced Mask/_groundtruth_(1)_Nonenhanced_image49.jpg_030839eb-af3c-4912-b57b-bdf009a99be8.jpg\n",
            "Working on file  /content/gdrive/MyDrive/Data training/Nonenhanced Mask/_groundtruth_(1)_Nonenhanced_image49.jpg_0f86403b-f1fb-4d03-bdbe-76bcc8886640.jpg\n",
            "Working on file  /content/gdrive/MyDrive/Data training/Nonenhanced Mask/_groundtruth_(1)_Nonenhanced_image49.jpg_1e0c470c-533f-4c66-97b5-af681049a9ee.jpg\n",
            "Working on file  /content/gdrive/MyDrive/Data training/Nonenhanced Mask/_groundtruth_(1)_Nonenhanced_image49.jpg_1effea14-c39f-40b7-b450-cc888c4cf657.jpg\n",
            "Working on file  /content/gdrive/MyDrive/Data training/Nonenhanced Mask/_groundtruth_(1)_Nonenhanced_image49.jpg_27a8c152-158b-4676-9d79-4f35d9a85cdb.jpg\n",
            "Working on file  /content/gdrive/MyDrive/Data training/Nonenhanced Mask/_groundtruth_(1)_Nonenhanced_image49.jpg_34eb304f-89cf-48bf-98d9-4c6416cd7f51.jpg\n",
            "Working on file  /content/gdrive/MyDrive/Data training/Nonenhanced Mask/_groundtruth_(1)_Nonenhanced_image49.jpg_53a6a41e-6d4c-4251-b50e-8189a38ef45b.jpg\n",
            "Working on file  /content/gdrive/MyDrive/Data training/Nonenhanced Mask/_groundtruth_(1)_Nonenhanced_image49.jpg_5b5b7d4b-f158-4bcf-bee0-beef96807fca.jpg\n",
            "Working on file  /content/gdrive/MyDrive/Data training/Nonenhanced Mask/_groundtruth_(1)_Nonenhanced_image49.jpg_5e45d7c9-3dcc-40a9-bfe1-7f702d2538fa.jpg\n",
            "Working on file  /content/gdrive/MyDrive/Data training/Nonenhanced Mask/_groundtruth_(1)_Nonenhanced_image49.jpg_5f125a3d-3d98-4ecf-9857-9bb4ec99e25b.jpg\n",
            "Working on file  /content/gdrive/MyDrive/Data training/Nonenhanced Mask/_groundtruth_(1)_Nonenhanced_image49.jpg_6c31c9fa-972c-4cb1-a23c-82beaa0d7adc.jpg\n",
            "Working on file  /content/gdrive/MyDrive/Data training/Nonenhanced Mask/_groundtruth_(1)_Nonenhanced_image49.jpg_741df210-0abb-44eb-91d5-f7ddf0006d36.jpg\n",
            "Working on file  /content/gdrive/MyDrive/Data training/Nonenhanced Mask/_groundtruth_(1)_Nonenhanced_image49.jpg_75c26695-b09a-4d22-8e29-3e4d491f343f.jpg\n",
            "Working on file  /content/gdrive/MyDrive/Data training/Nonenhanced Mask/_groundtruth_(1)_Nonenhanced_image49.jpg_7c2f48ef-6c8d-4639-90cf-1ea3ee8c3a9d.jpg\n",
            "Working on file  /content/gdrive/MyDrive/Data training/Nonenhanced Mask/_groundtruth_(1)_Nonenhanced_image49.jpg_af11b3d9-b10f-4759-8972-2d1d7fe04207.jpg\n",
            "Working on file  /content/gdrive/MyDrive/Data training/Nonenhanced Mask/_groundtruth_(1)_Nonenhanced_image49.jpg_ce63b7c4-138c-4242-87bf-38033ef21e55.jpg\n",
            "Working on file  /content/gdrive/MyDrive/Data training/Nonenhanced Mask/_groundtruth_(1)_Nonenhanced_image49.jpg_ec10ef1b-5791-4644-aefa-203fdec0c0a3.jpg\n",
            "Working on file  /content/gdrive/MyDrive/Data training/Nonenhanced Mask/_groundtruth_(1)_Nonenhanced_image5.jpg_10b51356-5b93-4b22-a905-b032733151dc.jpg\n",
            "Working on file  /content/gdrive/MyDrive/Data training/Nonenhanced Mask/_groundtruth_(1)_Nonenhanced_image5.jpg_713fa3b5-bb8a-4683-8442-96a660c047a1.jpg\n",
            "Working on file  /content/gdrive/MyDrive/Data training/Nonenhanced Mask/_groundtruth_(1)_Nonenhanced_image5.jpg_a30f249c-9fa2-47c0-a186-c91ae21ad21c.jpg\n",
            "Working on file  /content/gdrive/MyDrive/Data training/Nonenhanced Mask/_groundtruth_(1)_Nonenhanced_image5.jpg_aa3f9ddb-9083-44ec-91f4-3a8179709308.jpg\n",
            "Working on file  /content/gdrive/MyDrive/Data training/Nonenhanced Mask/_groundtruth_(1)_Nonenhanced_image5.jpg_be5c4edb-42da-4daf-b18e-7e9828cfb133.jpg\n",
            "Working on file  /content/gdrive/MyDrive/Data training/Nonenhanced Mask/_groundtruth_(1)_Nonenhanced_image5.jpg_d98a1c1b-853a-4ba7-ab7f-c95ab6db6703.jpg\n",
            "Working on file  /content/gdrive/MyDrive/Data training/Nonenhanced Mask/_groundtruth_(1)_Nonenhanced_image5.jpg_e1e02bd9-00bc-415a-afc6-df5fb790b601.jpg\n",
            "Working on file  /content/gdrive/MyDrive/Data training/Nonenhanced Mask/_groundtruth_(1)_Nonenhanced_image5.jpg_f15aac84-87d8-4dba-9a51-812cf6ec789c.jpg\n",
            "Working on file  /content/gdrive/MyDrive/Data training/Nonenhanced Mask/_groundtruth_(1)_Nonenhanced_image5.jpg_f25cdc6f-4f7f-4886-8cb0-9048f75f0898.jpg\n",
            "Working on file  /content/gdrive/MyDrive/Data training/Nonenhanced Mask/_groundtruth_(1)_Nonenhanced_image5.jpg_ff557a0f-8c98-4135-abfe-bc6f33c8230b.jpg\n",
            "Working on file  /content/gdrive/MyDrive/Data training/Nonenhanced Mask/_groundtruth_(1)_Nonenhanced_image50.jpg_026649c9-9827-4500-8db1-7f24727a5f0c.jpg\n",
            "Working on file  /content/gdrive/MyDrive/Data training/Nonenhanced Mask/_groundtruth_(1)_Nonenhanced_image50.jpg_0630bce7-ffe8-491d-98aa-10eee5019748.jpg\n",
            "Working on file  /content/gdrive/MyDrive/Data training/Nonenhanced Mask/_groundtruth_(1)_Nonenhanced_image50.jpg_2c9b9135-4710-4c65-916e-91565c09230c.jpg\n",
            "Working on file  /content/gdrive/MyDrive/Data training/Nonenhanced Mask/_groundtruth_(1)_Nonenhanced_image50.jpg_59424e9b-b7aa-4333-9294-a28099448f25.jpg\n",
            "Working on file  /content/gdrive/MyDrive/Data training/Nonenhanced Mask/_groundtruth_(1)_Nonenhanced_image50.jpg_8af7bec9-29f5-4d4c-b3c3-d64ea3c82d39.jpg\n",
            "Working on file  /content/gdrive/MyDrive/Data training/Nonenhanced Mask/_groundtruth_(1)_Nonenhanced_image50.jpg_92741973-d16f-4d37-b5b1-c36fa1fa3dcd.jpg\n",
            "Working on file  /content/gdrive/MyDrive/Data training/Nonenhanced Mask/_groundtruth_(1)_Nonenhanced_image50.jpg_985a4f44-8f5d-47cf-a166-f0b44985251f.jpg\n",
            "Working on file  /content/gdrive/MyDrive/Data training/Nonenhanced Mask/_groundtruth_(1)_Nonenhanced_image50.jpg_c71b8700-1784-4193-b34d-2d8a44b65e2f.jpg\n",
            "Working on file  /content/gdrive/MyDrive/Data training/Nonenhanced Mask/_groundtruth_(1)_Nonenhanced_image50.jpg_d317ea03-5ce8-4b42-86d2-0975d73e2c2a.jpg\n",
            "Working on file  /content/gdrive/MyDrive/Data training/Nonenhanced Mask/_groundtruth_(1)_Nonenhanced_image50.jpg_e20fd110-8179-4e44-a5ce-4cd0def281c0.jpg\n",
            "Working on file  /content/gdrive/MyDrive/Data training/Nonenhanced Mask/_groundtruth_(1)_Nonenhanced_image50.jpg_f655293e-c28d-4583-a606-6628a515258a.jpg\n",
            "Working on file  /content/gdrive/MyDrive/Data training/Nonenhanced Mask/_groundtruth_(1)_Nonenhanced_image51.jpg_01fcafc2-024e-45f4-8060-09e36c4022ad.jpg\n",
            "Working on file  /content/gdrive/MyDrive/Data training/Nonenhanced Mask/_groundtruth_(1)_Nonenhanced_image51.jpg_1ea06c2b-3862-41a7-92f5-cc5bc5c91dbe.jpg\n",
            "Working on file  /content/gdrive/MyDrive/Data training/Nonenhanced Mask/_groundtruth_(1)_Nonenhanced_image51.jpg_2405a815-33bf-401e-9569-3a5a69fa1abe.jpg\n",
            "Working on file  /content/gdrive/MyDrive/Data training/Nonenhanced Mask/_groundtruth_(1)_Nonenhanced_image51.jpg_2e7c94b6-6e44-4926-a03d-f2feaf368cbb.jpg\n",
            "Working on file  /content/gdrive/MyDrive/Data training/Nonenhanced Mask/_groundtruth_(1)_Nonenhanced_image51.jpg_5735b3c7-9822-40e0-8b7c-011676136ede.jpg\n",
            "Working on file  /content/gdrive/MyDrive/Data training/Nonenhanced Mask/_groundtruth_(1)_Nonenhanced_image51.jpg_6c4c27ce-7730-4ae6-b276-79c9862dde81.jpg\n",
            "Working on file  /content/gdrive/MyDrive/Data training/Nonenhanced Mask/_groundtruth_(1)_Nonenhanced_image51.jpg_79646a7c-2620-43ef-aaad-9596d5a70817.jpg\n",
            "Working on file  /content/gdrive/MyDrive/Data training/Nonenhanced Mask/_groundtruth_(1)_Nonenhanced_image51.jpg_7d7d4037-3920-4bc2-9ba6-f8143120d56b.jpg\n",
            "Working on file  /content/gdrive/MyDrive/Data training/Nonenhanced Mask/_groundtruth_(1)_Nonenhanced_image51.jpg_7ef0e3a5-6b8b-45ed-862a-6446e4956c55.jpg\n",
            "Working on file  /content/gdrive/MyDrive/Data training/Nonenhanced Mask/_groundtruth_(1)_Nonenhanced_image51.jpg_84e48f1c-a1c1-43c4-991f-cebff8e66144.jpg\n",
            "Working on file  /content/gdrive/MyDrive/Data training/Nonenhanced Mask/_groundtruth_(1)_Nonenhanced_image51.jpg_87391267-c32a-4829-ae8e-3e7c0ad7ea6f.jpg\n",
            "Working on file  /content/gdrive/MyDrive/Data training/Nonenhanced Mask/_groundtruth_(1)_Nonenhanced_image51.jpg_9463b1ec-d0e2-429f-8095-dfc8209602be.jpg\n",
            "Working on file  /content/gdrive/MyDrive/Data training/Nonenhanced Mask/_groundtruth_(1)_Nonenhanced_image51.jpg_a4134a63-1162-4075-9e75-2f7ca9b1ab9e.jpg\n",
            "Working on file  /content/gdrive/MyDrive/Data training/Nonenhanced Mask/_groundtruth_(1)_Nonenhanced_image51.jpg_aebd12ed-0bee-4c88-b5a4-7c022ad284a5.jpg\n",
            "Working on file  /content/gdrive/MyDrive/Data training/Nonenhanced Mask/_groundtruth_(1)_Nonenhanced_image51.jpg_b404c226-1ff4-45ea-824f-0f91c34d6605.jpg\n",
            "Working on file  /content/gdrive/MyDrive/Data training/Nonenhanced Mask/_groundtruth_(1)_Nonenhanced_image51.jpg_c85ffe82-4ef4-4674-aad9-7aadd3b40d3d.jpg\n",
            "Working on file  /content/gdrive/MyDrive/Data training/Nonenhanced Mask/_groundtruth_(1)_Nonenhanced_image51.jpg_d1bfd5e1-70d4-439d-90dd-8cf87119a75c.jpg\n",
            "Working on file  /content/gdrive/MyDrive/Data training/Nonenhanced Mask/_groundtruth_(1)_Nonenhanced_image51.jpg_fadb8ecb-cca3-4d38-a29a-5e58ab767ff0.jpg\n",
            "Working on file  /content/gdrive/MyDrive/Data training/Nonenhanced Mask/_groundtruth_(1)_Nonenhanced_image51.jpg_fd68571e-79b7-4094-a417-8ddb70dee9a3.jpg\n",
            "Working on file  /content/gdrive/MyDrive/Data training/Nonenhanced Mask/_groundtruth_(1)_Nonenhanced_image52.jpg_0b773da8-9e39-4d6a-bbce-7c1ea80ebe5f.jpg\n",
            "Working on file  /content/gdrive/MyDrive/Data training/Nonenhanced Mask/_groundtruth_(1)_Nonenhanced_image52.jpg_133a1324-2b17-4686-aa30-2cc3f36fe485.jpg\n",
            "Working on file  /content/gdrive/MyDrive/Data training/Nonenhanced Mask/_groundtruth_(1)_Nonenhanced_image52.jpg_3f0153a8-4a5a-4216-bfb8-74d0972b5b14.jpg\n",
            "Working on file  /content/gdrive/MyDrive/Data training/Nonenhanced Mask/_groundtruth_(1)_Nonenhanced_image52.jpg_4d3c7f26-95a9-4624-bd34-5617cd6019df.jpg\n",
            "Working on file  /content/gdrive/MyDrive/Data training/Nonenhanced Mask/_groundtruth_(1)_Nonenhanced_image52.jpg_4e278501-9b96-4280-bb8f-dfe8362048e1.jpg\n",
            "Working on file  /content/gdrive/MyDrive/Data training/Nonenhanced Mask/_groundtruth_(1)_Nonenhanced_image52.jpg_6c56eb6a-343b-4406-b80c-0ead6b5d4f0e.jpg\n",
            "Working on file  /content/gdrive/MyDrive/Data training/Nonenhanced Mask/_groundtruth_(1)_Nonenhanced_image52.jpg_71284b71-7f6c-4c40-a05e-b8bf3c7baad7.jpg\n",
            "Working on file  /content/gdrive/MyDrive/Data training/Nonenhanced Mask/_groundtruth_(1)_Nonenhanced_image52.jpg_9f62e27c-ef11-473c-8bd0-984d243790e8.jpg\n",
            "Working on file  /content/gdrive/MyDrive/Data training/Nonenhanced Mask/_groundtruth_(1)_Nonenhanced_image52.jpg_a3ee1379-62ee-4273-a7b3-cd4a94ed53d0.jpg\n",
            "Working on file  /content/gdrive/MyDrive/Data training/Nonenhanced Mask/_groundtruth_(1)_Nonenhanced_image52.jpg_aff62552-871a-429d-9138-6b5eb937dc81.jpg\n",
            "Working on file  /content/gdrive/MyDrive/Data training/Nonenhanced Mask/_groundtruth_(1)_Nonenhanced_image52.jpg_bf5bb1b6-2596-4b21-ba5e-b2e78609be97.jpg\n",
            "Working on file  /content/gdrive/MyDrive/Data training/Nonenhanced Mask/_groundtruth_(1)_Nonenhanced_image52.jpg_ef2241cf-4256-4c84-8a68-473bc9cb8505.jpg\n",
            "Working on file  /content/gdrive/MyDrive/Data training/Nonenhanced Mask/_groundtruth_(1)_Nonenhanced_image53.jpg_1d950566-6d38-4b9a-8ce9-a8e051960aac.jpg\n",
            "Working on file  /content/gdrive/MyDrive/Data training/Nonenhanced Mask/_groundtruth_(1)_Nonenhanced_image53.jpg_200ec12a-5dc7-413e-afce-aac182196423.jpg\n",
            "Working on file  /content/gdrive/MyDrive/Data training/Nonenhanced Mask/_groundtruth_(1)_Nonenhanced_image53.jpg_23fd1e83-2ce3-4276-9a3e-9a61a695a057.jpg\n",
            "Working on file  /content/gdrive/MyDrive/Data training/Nonenhanced Mask/_groundtruth_(1)_Nonenhanced_image53.jpg_43cefa33-2658-4a08-95d3-7b0c21ed5a04.jpg\n",
            "Working on file  /content/gdrive/MyDrive/Data training/Nonenhanced Mask/_groundtruth_(1)_Nonenhanced_image53.jpg_59cb4c7c-d3a9-4de7-9943-d5b2557ad514.jpg\n",
            "Working on file  /content/gdrive/MyDrive/Data training/Nonenhanced Mask/_groundtruth_(1)_Nonenhanced_image53.jpg_6851edd7-8235-4998-baed-ec4c6b656f6a.jpg\n",
            "Working on file  /content/gdrive/MyDrive/Data training/Nonenhanced Mask/_groundtruth_(1)_Nonenhanced_image53.jpg_8332b70a-3b54-41cd-97d9-81f14b3a6cba.jpg\n",
            "Working on file  /content/gdrive/MyDrive/Data training/Nonenhanced Mask/_groundtruth_(1)_Nonenhanced_image53.jpg_a1f509c3-9653-406a-9e6c-2a629f38678f.jpg\n",
            "Working on file  /content/gdrive/MyDrive/Data training/Nonenhanced Mask/_groundtruth_(1)_Nonenhanced_image53.jpg_a399bf0c-fb85-4f6b-af5a-ec734ac8d72b.jpg\n",
            "Working on file  /content/gdrive/MyDrive/Data training/Nonenhanced Mask/_groundtruth_(1)_Nonenhanced_image53.jpg_afbd161e-fe57-4e80-b718-ad162cc92380.jpg\n",
            "Working on file  /content/gdrive/MyDrive/Data training/Nonenhanced Mask/_groundtruth_(1)_Nonenhanced_image53.jpg_b108aef2-e3d5-46da-a680-741aa9bea1d6.jpg\n",
            "Working on file  /content/gdrive/MyDrive/Data training/Nonenhanced Mask/_groundtruth_(1)_Nonenhanced_image53.jpg_bb181067-db1a-48c9-a39a-dd202ff90a76.jpg\n",
            "Working on file  /content/gdrive/MyDrive/Data training/Nonenhanced Mask/_groundtruth_(1)_Nonenhanced_image53.jpg_d7c4a465-45ff-4096-8f75-35234f75f885.jpg\n",
            "Working on file  /content/gdrive/MyDrive/Data training/Nonenhanced Mask/_groundtruth_(1)_Nonenhanced_image53.jpg_d97033a3-403a-4dad-b4cf-95b7a251b5b4.jpg\n",
            "Working on file  /content/gdrive/MyDrive/Data training/Nonenhanced Mask/_groundtruth_(1)_Nonenhanced_image53.jpg_e2a37434-6cb4-4c2d-9556-632a7a5db5c3.jpg\n",
            "Working on file  /content/gdrive/MyDrive/Data training/Nonenhanced Mask/_groundtruth_(1)_Nonenhanced_image53.jpg_e32e3b2d-4be9-4ca2-b7c7-98741d29f7a5.jpg\n",
            "Working on file  /content/gdrive/MyDrive/Data training/Nonenhanced Mask/_groundtruth_(1)_Nonenhanced_image54.jpg_064c533f-e00a-465a-ab4b-4a5390da38e9.jpg\n",
            "Working on file  /content/gdrive/MyDrive/Data training/Nonenhanced Mask/_groundtruth_(1)_Nonenhanced_image54.jpg_197c2d48-f91e-406f-8a17-8017a90a85c1.jpg\n",
            "Working on file  /content/gdrive/MyDrive/Data training/Nonenhanced Mask/_groundtruth_(1)_Nonenhanced_image54.jpg_24530e92-34f9-4ef6-94e3-5780ba111433.jpg\n",
            "Working on file  /content/gdrive/MyDrive/Data training/Nonenhanced Mask/_groundtruth_(1)_Nonenhanced_image54.jpg_77eaf872-82bb-4a39-acb6-51ab87fef411.jpg\n",
            "Working on file  /content/gdrive/MyDrive/Data training/Nonenhanced Mask/_groundtruth_(1)_Nonenhanced_image54.jpg_78650d5f-51f3-4f84-8b88-1b1924eabfce.jpg\n",
            "Working on file  /content/gdrive/MyDrive/Data training/Nonenhanced Mask/_groundtruth_(1)_Nonenhanced_image54.jpg_b7508e75-8f19-4c90-8903-3621343da9a0.jpg\n",
            "Working on file  /content/gdrive/MyDrive/Data training/Nonenhanced Mask/_groundtruth_(1)_Nonenhanced_image54.jpg_e0ff78b0-6a59-40da-bf64-f30772a0f97e.jpg\n",
            "Working on file  /content/gdrive/MyDrive/Data training/Nonenhanced Mask/_groundtruth_(1)_Nonenhanced_image54.jpg_e6e1f6be-129e-42ce-9cae-06bf8b245d62.jpg\n",
            "Working on file  /content/gdrive/MyDrive/Data training/Nonenhanced Mask/_groundtruth_(1)_Nonenhanced_image54.jpg_e7bd3108-1c21-4aee-9e3e-88c181cd093e.jpg\n",
            "Working on file  /content/gdrive/MyDrive/Data training/Nonenhanced Mask/_groundtruth_(1)_Nonenhanced_image55.jpg_2f606b5b-a53f-4d40-9e62-fed12f6a6215.jpg\n",
            "Working on file  /content/gdrive/MyDrive/Data training/Nonenhanced Mask/_groundtruth_(1)_Nonenhanced_image55.jpg_3e2d5816-5429-484b-8e6f-cd28f5931f7a.jpg\n",
            "Working on file  /content/gdrive/MyDrive/Data training/Nonenhanced Mask/_groundtruth_(1)_Nonenhanced_image55.jpg_49f6a8e0-f6c1-4db6-afe9-fe8410f94520.jpg\n",
            "Working on file  /content/gdrive/MyDrive/Data training/Nonenhanced Mask/_groundtruth_(1)_Nonenhanced_image55.jpg_5d58e748-f40e-44fd-930a-eda94c885281.jpg\n",
            "Working on file  /content/gdrive/MyDrive/Data training/Nonenhanced Mask/_groundtruth_(1)_Nonenhanced_image55.jpg_60a52ea3-f9a7-4c36-a662-b2beaa240158.jpg\n",
            "Working on file  /content/gdrive/MyDrive/Data training/Nonenhanced Mask/_groundtruth_(1)_Nonenhanced_image55.jpg_64ef6c43-1f56-4661-a1fc-206ba4d4c269.jpg\n",
            "Working on file  /content/gdrive/MyDrive/Data training/Nonenhanced Mask/_groundtruth_(1)_Nonenhanced_image55.jpg_6bd80f55-62ff-4de3-b728-000bea078616.jpg\n",
            "Working on file  /content/gdrive/MyDrive/Data training/Nonenhanced Mask/_groundtruth_(1)_Nonenhanced_image55.jpg_97d823ae-4a08-4d4e-8a03-6c3e62665eb4.jpg\n",
            "Working on file  /content/gdrive/MyDrive/Data training/Nonenhanced Mask/_groundtruth_(1)_Nonenhanced_image55.jpg_a879e021-3e6d-4735-83e2-61aa648fe5d9.jpg\n",
            "Working on file  /content/gdrive/MyDrive/Data training/Nonenhanced Mask/_groundtruth_(1)_Nonenhanced_image55.jpg_d830a1b6-18a4-44de-b292-fa1680af081d.jpg\n",
            "Working on file  /content/gdrive/MyDrive/Data training/Nonenhanced Mask/_groundtruth_(1)_Nonenhanced_image55.jpg_dedf276d-aed6-43e3-9d75-684228cc8036.jpg\n",
            "Working on file  /content/gdrive/MyDrive/Data training/Nonenhanced Mask/_groundtruth_(1)_Nonenhanced_image55.jpg_e94cce90-1c08-4d38-bfb1-c9b1f0efc927.jpg\n",
            "Working on file  /content/gdrive/MyDrive/Data training/Nonenhanced Mask/_groundtruth_(1)_Nonenhanced_image56.jpg_084f4ffd-238c-4947-9d34-0e4bf85707c6.jpg\n",
            "Working on file  /content/gdrive/MyDrive/Data training/Nonenhanced Mask/_groundtruth_(1)_Nonenhanced_image56.jpg_09c18ada-30ba-42c7-b80e-a69ab35842b4.jpg\n",
            "Working on file  /content/gdrive/MyDrive/Data training/Nonenhanced Mask/_groundtruth_(1)_Nonenhanced_image56.jpg_0a5bf755-ff43-4d16-bcbe-532b28ae5743.jpg\n",
            "Working on file  /content/gdrive/MyDrive/Data training/Nonenhanced Mask/_groundtruth_(1)_Nonenhanced_image56.jpg_0ee5a290-9f24-46a9-b63c-9323db71d1e8.jpg\n",
            "Working on file  /content/gdrive/MyDrive/Data training/Nonenhanced Mask/_groundtruth_(1)_Nonenhanced_image56.jpg_1676c2cb-4161-45ed-8c51-32a453bc0278.jpg\n",
            "Working on file  /content/gdrive/MyDrive/Data training/Nonenhanced Mask/_groundtruth_(1)_Nonenhanced_image56.jpg_31f4710b-f9dd-4caa-80e6-635cd636aed0.jpg\n",
            "Working on file  /content/gdrive/MyDrive/Data training/Nonenhanced Mask/_groundtruth_(1)_Nonenhanced_image56.jpg_356b2fd2-b5ce-4c3a-b733-f31faf2918e9.jpg\n",
            "Working on file  /content/gdrive/MyDrive/Data training/Nonenhanced Mask/_groundtruth_(1)_Nonenhanced_image56.jpg_49cbd3cb-790e-4800-8c48-9b0b941f1492.jpg\n",
            "Working on file  /content/gdrive/MyDrive/Data training/Nonenhanced Mask/_groundtruth_(1)_Nonenhanced_image56.jpg_69dd8d1e-4eeb-4f47-8b42-2021770a96b2.jpg\n",
            "Working on file  /content/gdrive/MyDrive/Data training/Nonenhanced Mask/_groundtruth_(1)_Nonenhanced_image56.jpg_730a98ac-0013-4550-8cea-1ad64d084142.jpg\n",
            "Working on file  /content/gdrive/MyDrive/Data training/Nonenhanced Mask/_groundtruth_(1)_Nonenhanced_image56.jpg_7add211e-bf98-4765-8d2d-515b50b77266.jpg\n",
            "Working on file  /content/gdrive/MyDrive/Data training/Nonenhanced Mask/_groundtruth_(1)_Nonenhanced_image56.jpg_7fb1efd4-4423-4068-ba04-c7c95cb7d759.jpg\n",
            "Working on file  /content/gdrive/MyDrive/Data training/Nonenhanced Mask/_groundtruth_(1)_Nonenhanced_image56.jpg_8daed242-182d-4fab-9eb1-7cca44286583.jpg\n",
            "Working on file  /content/gdrive/MyDrive/Data training/Nonenhanced Mask/_groundtruth_(1)_Nonenhanced_image56.jpg_ae2955eb-2965-4ad6-a91e-aed39eb3c8e1.jpg\n",
            "Working on file  /content/gdrive/MyDrive/Data training/Nonenhanced Mask/_groundtruth_(1)_Nonenhanced_image56.jpg_c8ba5eba-0a06-45bd-a0d1-66f42322b74f.jpg\n",
            "Working on file  /content/gdrive/MyDrive/Data training/Nonenhanced Mask/_groundtruth_(1)_Nonenhanced_image56.jpg_e87b08e4-0346-4fd5-bc97-d6680b3f589e.jpg\n",
            "Working on file  /content/gdrive/MyDrive/Data training/Nonenhanced Mask/_groundtruth_(1)_Nonenhanced_image57.jpg_124f9b08-6a1b-485f-9dbe-65af0fcdee85.jpg\n",
            "Working on file  /content/gdrive/MyDrive/Data training/Nonenhanced Mask/_groundtruth_(1)_Nonenhanced_image57.jpg_35774145-dfb3-49d8-ba41-7cbf28338d03.jpg\n",
            "Working on file  /content/gdrive/MyDrive/Data training/Nonenhanced Mask/_groundtruth_(1)_Nonenhanced_image57.jpg_430051a4-6b9d-4044-8be0-8466b863bff0.jpg\n",
            "Working on file  /content/gdrive/MyDrive/Data training/Nonenhanced Mask/_groundtruth_(1)_Nonenhanced_image57.jpg_487bdef5-4d92-4b92-bf13-af52217cd7c8.jpg\n",
            "Working on file  /content/gdrive/MyDrive/Data training/Nonenhanced Mask/_groundtruth_(1)_Nonenhanced_image57.jpg_55a2bf99-3f9a-4b90-a9b0-fb45583cd7b4.jpg\n",
            "Working on file  /content/gdrive/MyDrive/Data training/Nonenhanced Mask/_groundtruth_(1)_Nonenhanced_image57.jpg_587b1d14-57e0-4e63-abaa-fa496d7de290.jpg\n",
            "Working on file  /content/gdrive/MyDrive/Data training/Nonenhanced Mask/_groundtruth_(1)_Nonenhanced_image57.jpg_70e4f064-7fbe-4054-8c3d-26d77c5cbbb7.jpg\n",
            "Working on file  /content/gdrive/MyDrive/Data training/Nonenhanced Mask/_groundtruth_(1)_Nonenhanced_image57.jpg_9e17ec2c-ced2-484c-8844-1d7b8e35c38e.jpg\n",
            "Working on file  /content/gdrive/MyDrive/Data training/Nonenhanced Mask/_groundtruth_(1)_Nonenhanced_image57.jpg_ae31c1e9-2bc9-4819-9fab-8a3f60080020.jpg\n",
            "Working on file  /content/gdrive/MyDrive/Data training/Nonenhanced Mask/_groundtruth_(1)_Nonenhanced_image57.jpg_b7441a69-270a-4829-9228-715fdc68c105.jpg\n",
            "Working on file  /content/gdrive/MyDrive/Data training/Nonenhanced Mask/_groundtruth_(1)_Nonenhanced_image57.jpg_c3b6a518-576c-425b-8f8d-c05d00a3bdf3.jpg\n",
            "Working on file  /content/gdrive/MyDrive/Data training/Nonenhanced Mask/_groundtruth_(1)_Nonenhanced_image57.jpg_fd16b71d-3bcf-4d40-8497-77f4eb7b0a51.jpg\n",
            "Working on file  /content/gdrive/MyDrive/Data training/Nonenhanced Mask/_groundtruth_(1)_Nonenhanced_image58.jpg_17fa1e14-5a92-48b2-a036-edcc7712960f.jpg\n",
            "Working on file  /content/gdrive/MyDrive/Data training/Nonenhanced Mask/_groundtruth_(1)_Nonenhanced_image58.jpg_2f434698-c70a-4d08-9ccf-f61b745c846f.jpg\n",
            "Working on file  /content/gdrive/MyDrive/Data training/Nonenhanced Mask/_groundtruth_(1)_Nonenhanced_image58.jpg_46cd58b0-4591-4fc5-9771-11d3fc989cab.jpg\n",
            "Working on file  /content/gdrive/MyDrive/Data training/Nonenhanced Mask/_groundtruth_(1)_Nonenhanced_image58.jpg_7ec8bbd5-5e71-4587-bd17-19594858ec99.jpg\n",
            "Working on file  /content/gdrive/MyDrive/Data training/Nonenhanced Mask/_groundtruth_(1)_Nonenhanced_image58.jpg_b7b75b6e-e8af-4c2e-bf98-e059ee73040d.jpg\n",
            "Working on file  /content/gdrive/MyDrive/Data training/Nonenhanced Mask/_groundtruth_(1)_Nonenhanced_image58.jpg_c5f9ed27-4f9a-412d-a8f1-104bb19c8454.jpg\n",
            "Working on file  /content/gdrive/MyDrive/Data training/Nonenhanced Mask/_groundtruth_(1)_Nonenhanced_image58.jpg_da71cab6-2cdd-43f8-bcbf-d809734e99b8.jpg\n",
            "Working on file  /content/gdrive/MyDrive/Data training/Nonenhanced Mask/_groundtruth_(1)_Nonenhanced_image58.jpg_e7307ade-85d7-4d20-b539-4aabc30e2c48.jpg\n",
            "Working on file  /content/gdrive/MyDrive/Data training/Nonenhanced Mask/_groundtruth_(1)_Nonenhanced_image59.jpg_022c5585-a41b-4902-92a8-a10d1f937569.jpg\n",
            "Working on file  /content/gdrive/MyDrive/Data training/Nonenhanced Mask/_groundtruth_(1)_Nonenhanced_image59.jpg_1860b335-c3d1-40f7-aedd-60218d445385.jpg\n",
            "Working on file  /content/gdrive/MyDrive/Data training/Nonenhanced Mask/_groundtruth_(1)_Nonenhanced_image59.jpg_37947aa1-7775-4a29-aa37-c05b788d9d9a.jpg\n",
            "Working on file  /content/gdrive/MyDrive/Data training/Nonenhanced Mask/_groundtruth_(1)_Nonenhanced_image59.jpg_831da131-a226-4f78-9fb5-bd2ee716e5ba.jpg\n",
            "Working on file  /content/gdrive/MyDrive/Data training/Nonenhanced Mask/_groundtruth_(1)_Nonenhanced_image59.jpg_882c2b0f-2fdc-4133-aa49-9fdb4f515419.jpg\n",
            "Working on file  /content/gdrive/MyDrive/Data training/Nonenhanced Mask/_groundtruth_(1)_Nonenhanced_image6.jpg_15ab04ca-d8b6-48f0-9278-170b7857abdf.jpg\n",
            "Working on file  /content/gdrive/MyDrive/Data training/Nonenhanced Mask/_groundtruth_(1)_Nonenhanced_image6.jpg_24030ba7-14db-4b15-a7c2-cea582a4485d.jpg\n",
            "Working on file  /content/gdrive/MyDrive/Data training/Nonenhanced Mask/_groundtruth_(1)_Nonenhanced_image6.jpg_3756d245-7067-416e-b07c-1d113df77e02.jpg\n",
            "Working on file  /content/gdrive/MyDrive/Data training/Nonenhanced Mask/_groundtruth_(1)_Nonenhanced_image6.jpg_488e2d92-57cf-4d2e-abd7-ddc92458adc6.jpg\n",
            "Working on file  /content/gdrive/MyDrive/Data training/Nonenhanced Mask/_groundtruth_(1)_Nonenhanced_image6.jpg_667bb718-4f57-4f88-8b4f-e3b321510c30.jpg\n",
            "Working on file  /content/gdrive/MyDrive/Data training/Nonenhanced Mask/_groundtruth_(1)_Nonenhanced_image6.jpg_720b4374-e660-4468-b38f-1164bdaaf78e.jpg\n",
            "Working on file  /content/gdrive/MyDrive/Data training/Nonenhanced Mask/_groundtruth_(1)_Nonenhanced_image6.jpg_8e7c79bc-5f6f-41d1-9578-21ab61b0c937.jpg\n",
            "Working on file  /content/gdrive/MyDrive/Data training/Nonenhanced Mask/_groundtruth_(1)_Nonenhanced_image6.jpg_978ea241-afda-42c3-b7b5-bf0b2276d321.jpg\n",
            "Working on file  /content/gdrive/MyDrive/Data training/Nonenhanced Mask/_groundtruth_(1)_Nonenhanced_image6.jpg_a9cbb920-7a79-4b05-a8e0-2225b57e7fb2.jpg\n",
            "Working on file  /content/gdrive/MyDrive/Data training/Nonenhanced Mask/_groundtruth_(1)_Nonenhanced_image6.jpg_ac98e56a-d4f1-4b93-b8ec-16bb29cb423e.jpg\n",
            "Working on file  /content/gdrive/MyDrive/Data training/Nonenhanced Mask/_groundtruth_(1)_Nonenhanced_image6.jpg_bb09c21b-ccf7-45d0-ab6c-601a34dba455.jpg\n",
            "Working on file  /content/gdrive/MyDrive/Data training/Nonenhanced Mask/_groundtruth_(1)_Nonenhanced_image6.jpg_cd9e9d86-4b8c-4809-a191-4f1d88536364.jpg\n",
            "Working on file  /content/gdrive/MyDrive/Data training/Nonenhanced Mask/_groundtruth_(1)_Nonenhanced_image6.jpg_d06317d9-64a1-4e7f-bca8-ebccb765a827.jpg\n",
            "Working on file  /content/gdrive/MyDrive/Data training/Nonenhanced Mask/_groundtruth_(1)_Nonenhanced_image6.jpg_fda4de44-5540-4c04-a5f6-cec70694a232.jpg\n",
            "Working on file  /content/gdrive/MyDrive/Data training/Nonenhanced Mask/_groundtruth_(1)_Nonenhanced_image60.jpg_04c57129-8471-4fc7-83a7-bb469c1c9d9c.jpg\n",
            "Working on file  /content/gdrive/MyDrive/Data training/Nonenhanced Mask/_groundtruth_(1)_Nonenhanced_image60.jpg_139b547d-350d-4b13-856f-6ac0458204d0.jpg\n",
            "Working on file  /content/gdrive/MyDrive/Data training/Nonenhanced Mask/_groundtruth_(1)_Nonenhanced_image60.jpg_27853f1b-8407-4a0a-aec7-beb12014edef.jpg\n",
            "Working on file  /content/gdrive/MyDrive/Data training/Nonenhanced Mask/_groundtruth_(1)_Nonenhanced_image60.jpg_55cc1c0d-1425-484c-b36c-8e5e5aa937ba.jpg\n",
            "Working on file  /content/gdrive/MyDrive/Data training/Nonenhanced Mask/_groundtruth_(1)_Nonenhanced_image60.jpg_58f3f62f-4de6-4dce-99ac-fbe880b6f70d.jpg\n",
            "Working on file  /content/gdrive/MyDrive/Data training/Nonenhanced Mask/_groundtruth_(1)_Nonenhanced_image60.jpg_693c2c01-f3f0-402f-ac6e-6da634a77678.jpg\n",
            "Working on file  /content/gdrive/MyDrive/Data training/Nonenhanced Mask/_groundtruth_(1)_Nonenhanced_image60.jpg_b59021cb-04ec-40ac-bc78-9bf859f04cb2.jpg\n",
            "Working on file  /content/gdrive/MyDrive/Data training/Nonenhanced Mask/_groundtruth_(1)_Nonenhanced_image60.jpg_d9e144e5-5e8e-4db1-9e85-f02555d6334c.jpg\n",
            "Working on file  /content/gdrive/MyDrive/Data training/Nonenhanced Mask/_groundtruth_(1)_Nonenhanced_image61.jpg_053e2ca4-7938-4242-aceb-f1b1ea8debb7.jpg\n",
            "Working on file  /content/gdrive/MyDrive/Data training/Nonenhanced Mask/_groundtruth_(1)_Nonenhanced_image61.jpg_32f0a06d-a0f8-48a2-b466-fb0c04843f9a.jpg\n",
            "Working on file  /content/gdrive/MyDrive/Data training/Nonenhanced Mask/_groundtruth_(1)_Nonenhanced_image61.jpg_3a901c2d-7b44-4cd2-ae5f-6430e549bd2c.jpg\n",
            "Working on file  /content/gdrive/MyDrive/Data training/Nonenhanced Mask/_groundtruth_(1)_Nonenhanced_image61.jpg_55de865b-94ca-4b0b-93fb-6d33333633c0.jpg\n",
            "Working on file  /content/gdrive/MyDrive/Data training/Nonenhanced Mask/_groundtruth_(1)_Nonenhanced_image61.jpg_869e55aa-20bb-4b36-8925-7c49618eb3c8.jpg\n",
            "Working on file  /content/gdrive/MyDrive/Data training/Nonenhanced Mask/_groundtruth_(1)_Nonenhanced_image61.jpg_af2eb282-b4ce-4ce5-a3a8-3d7efe4fa16e.jpg\n",
            "Working on file  /content/gdrive/MyDrive/Data training/Nonenhanced Mask/_groundtruth_(1)_Nonenhanced_image61.jpg_c1662727-57ea-4862-816f-91932ea2a7ed.jpg\n",
            "Working on file  /content/gdrive/MyDrive/Data training/Nonenhanced Mask/_groundtruth_(1)_Nonenhanced_image61.jpg_d1982c46-f2f7-42ba-9391-35b1ad1d79b9.jpg\n",
            "Working on file  /content/gdrive/MyDrive/Data training/Nonenhanced Mask/_groundtruth_(1)_Nonenhanced_image61.jpg_dbd2781a-b4ab-48a1-a182-7fe639681ed9.jpg\n",
            "Working on file  /content/gdrive/MyDrive/Data training/Nonenhanced Mask/_groundtruth_(1)_Nonenhanced_image61.jpg_e3b41765-22e9-4ebd-b01c-6b168eb0dad6.jpg\n",
            "Working on file  /content/gdrive/MyDrive/Data training/Nonenhanced Mask/_groundtruth_(1)_Nonenhanced_image61.jpg_e7530d7d-6212-4930-a63a-259bc12f59d7.jpg\n",
            "Working on file  /content/gdrive/MyDrive/Data training/Nonenhanced Mask/_groundtruth_(1)_Nonenhanced_image61.jpg_f17d5c95-a7fa-42c1-b59c-534674e36cb1.jpg\n",
            "Working on file  /content/gdrive/MyDrive/Data training/Nonenhanced Mask/_groundtruth_(1)_Nonenhanced_image61.jpg_ff968895-9e97-44ad-9e7b-7c05e17008ed.jpg\n",
            "Working on file  /content/gdrive/MyDrive/Data training/Nonenhanced Mask/_groundtruth_(1)_Nonenhanced_image62.jpg_09327ff2-4155-431a-8e19-8f275b8b8fb5.jpg\n",
            "Working on file  /content/gdrive/MyDrive/Data training/Nonenhanced Mask/_groundtruth_(1)_Nonenhanced_image62.jpg_38464b44-cac4-415d-8e27-d3ad2e6ab893.jpg\n",
            "Working on file  /content/gdrive/MyDrive/Data training/Nonenhanced Mask/_groundtruth_(1)_Nonenhanced_image62.jpg_3ad84e16-1975-434a-9bba-dbf0ce0edce2.jpg\n",
            "Working on file  /content/gdrive/MyDrive/Data training/Nonenhanced Mask/_groundtruth_(1)_Nonenhanced_image62.jpg_9727c692-7964-4bee-823e-41255b293316.jpg\n",
            "Working on file  /content/gdrive/MyDrive/Data training/Nonenhanced Mask/_groundtruth_(1)_Nonenhanced_image62.jpg_ba0c3122-6d92-4439-b93c-62734595eb73.jpg\n",
            "Working on file  /content/gdrive/MyDrive/Data training/Nonenhanced Mask/_groundtruth_(1)_Nonenhanced_image62.jpg_c50dd797-fa2b-448c-96df-a178a013bd5c.jpg\n",
            "Working on file  /content/gdrive/MyDrive/Data training/Nonenhanced Mask/_groundtruth_(1)_Nonenhanced_image62.jpg_c87792fb-fe71-4be7-bd88-ba7fbe43b0bc.jpg\n",
            "Working on file  /content/gdrive/MyDrive/Data training/Nonenhanced Mask/_groundtruth_(1)_Nonenhanced_image63.jpg_0240d501-1b93-4186-a754-40f4190db9ed.jpg\n",
            "Working on file  /content/gdrive/MyDrive/Data training/Nonenhanced Mask/_groundtruth_(1)_Nonenhanced_image63.jpg_232b1546-e20b-4817-acc6-12190dfcfc5f.jpg\n",
            "Working on file  /content/gdrive/MyDrive/Data training/Nonenhanced Mask/_groundtruth_(1)_Nonenhanced_image63.jpg_4db3f59c-b1e0-44ae-ace7-cf6288738a0d.jpg\n",
            "Working on file  /content/gdrive/MyDrive/Data training/Nonenhanced Mask/_groundtruth_(1)_Nonenhanced_image63.jpg_88a4e2b8-9936-49fb-aa55-8ca0988d8dd1.jpg\n",
            "Working on file  /content/gdrive/MyDrive/Data training/Nonenhanced Mask/_groundtruth_(1)_Nonenhanced_image63.jpg_b798e8dc-667a-4c94-a95e-3e0ff65351bc.jpg\n",
            "Working on file  /content/gdrive/MyDrive/Data training/Nonenhanced Mask/_groundtruth_(1)_Nonenhanced_image63.jpg_d81fece9-bab5-4cbf-9426-97cebf8c91af.jpg\n",
            "Working on file  /content/gdrive/MyDrive/Data training/Nonenhanced Mask/_groundtruth_(1)_Nonenhanced_image63.jpg_f0416cb0-7e30-4016-bb7d-39a7c523f93c.jpg\n",
            "Working on file  /content/gdrive/MyDrive/Data training/Nonenhanced Mask/_groundtruth_(1)_Nonenhanced_image64.jpg_17863ab3-e2a2-4d7e-8470-3d0cbdaff245.jpg\n",
            "Working on file  /content/gdrive/MyDrive/Data training/Nonenhanced Mask/_groundtruth_(1)_Nonenhanced_image64.jpg_1bd7c2b7-20e0-4d7a-ba9e-2de0f43143be.jpg\n",
            "Working on file  /content/gdrive/MyDrive/Data training/Nonenhanced Mask/_groundtruth_(1)_Nonenhanced_image64.jpg_64aee48a-f1ca-4898-a859-7e6d96e982a1.jpg\n",
            "Working on file  /content/gdrive/MyDrive/Data training/Nonenhanced Mask/_groundtruth_(1)_Nonenhanced_image64.jpg_91e49480-95a4-4057-b516-e46d176dee64.jpg\n",
            "Working on file  /content/gdrive/MyDrive/Data training/Nonenhanced Mask/_groundtruth_(1)_Nonenhanced_image64.jpg_a138c0c8-99b2-45ce-8f7e-64a7385adf3a.jpg\n",
            "Working on file  /content/gdrive/MyDrive/Data training/Nonenhanced Mask/_groundtruth_(1)_Nonenhanced_image64.jpg_ad7b0ec9-48d2-46bf-b3d9-ebc68b4ddeba.jpg\n",
            "Working on file  /content/gdrive/MyDrive/Data training/Nonenhanced Mask/_groundtruth_(1)_Nonenhanced_image64.jpg_cbe2ee0e-6e41-41ea-a46c-e35d280d94a4.jpg\n",
            "Working on file  /content/gdrive/MyDrive/Data training/Nonenhanced Mask/_groundtruth_(1)_Nonenhanced_image64.jpg_dbe3a926-97a4-4eaf-8fe6-4ed3bbf780f4.jpg\n",
            "Working on file  /content/gdrive/MyDrive/Data training/Nonenhanced Mask/_groundtruth_(1)_Nonenhanced_image64.jpg_e70f5832-d389-4896-ad2b-de713062a2d5.jpg\n",
            "Working on file  /content/gdrive/MyDrive/Data training/Nonenhanced Mask/_groundtruth_(1)_Nonenhanced_image65.jpg_0563202f-58bd-492c-a4ed-fd25b614af8d.jpg\n",
            "Working on file  /content/gdrive/MyDrive/Data training/Nonenhanced Mask/_groundtruth_(1)_Nonenhanced_image65.jpg_0b13b3b1-dd5f-4f2b-afa2-dbf2018b43cb.jpg\n",
            "Working on file  /content/gdrive/MyDrive/Data training/Nonenhanced Mask/_groundtruth_(1)_Nonenhanced_image65.jpg_0bfa10d9-fefa-454f-8973-cc36405d4a7a.jpg\n",
            "Working on file  /content/gdrive/MyDrive/Data training/Nonenhanced Mask/_groundtruth_(1)_Nonenhanced_image65.jpg_1cd09c1e-1da2-433b-9cd8-ed35526f6999.jpg\n",
            "Working on file  /content/gdrive/MyDrive/Data training/Nonenhanced Mask/_groundtruth_(1)_Nonenhanced_image65.jpg_34e0e6c6-5111-49cf-9e1e-09f671b851ba.jpg\n",
            "Working on file  /content/gdrive/MyDrive/Data training/Nonenhanced Mask/_groundtruth_(1)_Nonenhanced_image65.jpg_490c9c11-d7a0-432c-b5d8-740df331e9f6.jpg\n",
            "Working on file  /content/gdrive/MyDrive/Data training/Nonenhanced Mask/_groundtruth_(1)_Nonenhanced_image65.jpg_63861748-df98-4faf-b290-264d1a72d7b3.jpg\n",
            "Working on file  /content/gdrive/MyDrive/Data training/Nonenhanced Mask/_groundtruth_(1)_Nonenhanced_image65.jpg_83f6e408-f0cc-4a81-974e-d25af3beacea.jpg\n",
            "Working on file  /content/gdrive/MyDrive/Data training/Nonenhanced Mask/_groundtruth_(1)_Nonenhanced_image65.jpg_a16bda60-9027-4786-9be9-ab103257d9bb.jpg\n",
            "Working on file  /content/gdrive/MyDrive/Data training/Nonenhanced Mask/_groundtruth_(1)_Nonenhanced_image65.jpg_b3a64663-86c2-43b2-96ec-0630995d44d9.jpg\n",
            "Working on file  /content/gdrive/MyDrive/Data training/Nonenhanced Mask/_groundtruth_(1)_Nonenhanced_image65.jpg_c49db202-a6a4-43e7-a21a-a99eb5ad82c8.jpg\n",
            "Working on file  /content/gdrive/MyDrive/Data training/Nonenhanced Mask/_groundtruth_(1)_Nonenhanced_image66.jpg_02559e51-cd52-4ab6-b890-71fe64fbb6e4.jpg\n",
            "Working on file  /content/gdrive/MyDrive/Data training/Nonenhanced Mask/_groundtruth_(1)_Nonenhanced_image66.jpg_40195c68-73f7-49d7-b081-d8a11bc6f64c.jpg\n",
            "Working on file  /content/gdrive/MyDrive/Data training/Nonenhanced Mask/_groundtruth_(1)_Nonenhanced_image66.jpg_6c353431-b157-4f1b-a7e3-c74cb5878cef.jpg\n",
            "Working on file  /content/gdrive/MyDrive/Data training/Nonenhanced Mask/_groundtruth_(1)_Nonenhanced_image66.jpg_94393168-1757-4778-8e0f-641efd0a104f.jpg\n",
            "Working on file  /content/gdrive/MyDrive/Data training/Nonenhanced Mask/_groundtruth_(1)_Nonenhanced_image66.jpg_94a9d8ab-66fe-4d97-880e-21b7bc4ad23d.jpg\n",
            "Working on file  /content/gdrive/MyDrive/Data training/Nonenhanced Mask/_groundtruth_(1)_Nonenhanced_image66.jpg_b3c3fafa-71f0-4fd6-ba63-5ba0ebead561.jpg\n",
            "Working on file  /content/gdrive/MyDrive/Data training/Nonenhanced Mask/_groundtruth_(1)_Nonenhanced_image66.jpg_eb6a0710-912e-4245-be69-149c3c9a960a.jpg\n",
            "Working on file  /content/gdrive/MyDrive/Data training/Nonenhanced Mask/_groundtruth_(1)_Nonenhanced_image66.jpg_fe51ce99-8e17-432f-b221-b8329496126a.jpg\n",
            "Working on file  /content/gdrive/MyDrive/Data training/Nonenhanced Mask/_groundtruth_(1)_Nonenhanced_image67.jpg_02cceba5-bb69-440e-8887-184e2ecfe8c4.jpg\n",
            "Working on file  /content/gdrive/MyDrive/Data training/Nonenhanced Mask/_groundtruth_(1)_Nonenhanced_image67.jpg_135c29a6-7ae1-4ffb-a0ff-61429d050c76.jpg\n",
            "Working on file  /content/gdrive/MyDrive/Data training/Nonenhanced Mask/_groundtruth_(1)_Nonenhanced_image67.jpg_2212ba43-71c8-4b38-9499-aa9a82f11fc3.jpg\n",
            "Working on file  /content/gdrive/MyDrive/Data training/Nonenhanced Mask/_groundtruth_(1)_Nonenhanced_image67.jpg_30ec1407-ea15-4330-b2ed-7718cfba4238.jpg\n",
            "Working on file  /content/gdrive/MyDrive/Data training/Nonenhanced Mask/_groundtruth_(1)_Nonenhanced_image67.jpg_31d5ae2a-c392-4302-aed2-667e2bcf4b22.jpg\n",
            "Working on file  /content/gdrive/MyDrive/Data training/Nonenhanced Mask/_groundtruth_(1)_Nonenhanced_image67.jpg_35227e05-6869-4a40-b824-a211a6c2f421.jpg\n",
            "Working on file  /content/gdrive/MyDrive/Data training/Nonenhanced Mask/_groundtruth_(1)_Nonenhanced_image67.jpg_40a65862-0128-46d8-ae72-31c7daa36755.jpg\n",
            "Working on file  /content/gdrive/MyDrive/Data training/Nonenhanced Mask/_groundtruth_(1)_Nonenhanced_image67.jpg_57d35ac0-06d4-4d1b-b013-941a9a2ce210.jpg\n",
            "Working on file  /content/gdrive/MyDrive/Data training/Nonenhanced Mask/_groundtruth_(1)_Nonenhanced_image67.jpg_73b5f761-5551-4afd-a4c3-bf01638e7db2.jpg\n",
            "Working on file  /content/gdrive/MyDrive/Data training/Nonenhanced Mask/_groundtruth_(1)_Nonenhanced_image67.jpg_7c708b8f-c5e6-494d-a608-a79e8aeb04d7.jpg\n",
            "Working on file  /content/gdrive/MyDrive/Data training/Nonenhanced Mask/_groundtruth_(1)_Nonenhanced_image67.jpg_8789144d-4309-40f6-8123-98faebb3c58f.jpg\n",
            "Working on file  /content/gdrive/MyDrive/Data training/Nonenhanced Mask/_groundtruth_(1)_Nonenhanced_image67.jpg_b2b46c45-3796-4423-bb0a-acb2702ac75c.jpg\n",
            "Working on file  /content/gdrive/MyDrive/Data training/Nonenhanced Mask/_groundtruth_(1)_Nonenhanced_image67.jpg_c3db4b89-fa94-4afe-a2f4-34f2b3492928.jpg\n",
            "Working on file  /content/gdrive/MyDrive/Data training/Nonenhanced Mask/_groundtruth_(1)_Nonenhanced_image67.jpg_d3fb4fa4-6f57-4182-9592-e1ba855b881e.jpg\n",
            "Working on file  /content/gdrive/MyDrive/Data training/Nonenhanced Mask/_groundtruth_(1)_Nonenhanced_image67.jpg_e4338ae8-f3dc-4a3f-a2be-efc3e875be95.jpg\n",
            "Working on file  /content/gdrive/MyDrive/Data training/Nonenhanced Mask/_groundtruth_(1)_Nonenhanced_image67.jpg_e45d9c9c-2f5f-483a-bc1b-6a3dd239c3c0.jpg\n",
            "Working on file  /content/gdrive/MyDrive/Data training/Nonenhanced Mask/_groundtruth_(1)_Nonenhanced_image67.jpg_e9aecb5d-af65-4594-95b4-0072be830a13.jpg\n",
            "Working on file  /content/gdrive/MyDrive/Data training/Nonenhanced Mask/_groundtruth_(1)_Nonenhanced_image67.jpg_fa1d4450-3c40-41ce-bf52-e666e298b38f.jpg\n",
            "Working on file  /content/gdrive/MyDrive/Data training/Nonenhanced Mask/_groundtruth_(1)_Nonenhanced_image68.jpg_0d77caa7-140f-413a-b831-120f171d2f90.jpg\n",
            "Working on file  /content/gdrive/MyDrive/Data training/Nonenhanced Mask/_groundtruth_(1)_Nonenhanced_image68.jpg_1cfda702-2a9e-4ee9-9183-14207902e0ef.jpg\n",
            "Working on file  /content/gdrive/MyDrive/Data training/Nonenhanced Mask/_groundtruth_(1)_Nonenhanced_image68.jpg_20357f23-679d-4460-a282-30892065e813.jpg\n",
            "Working on file  /content/gdrive/MyDrive/Data training/Nonenhanced Mask/_groundtruth_(1)_Nonenhanced_image68.jpg_2751afb2-151d-4720-9eab-1ea97eee3cd7.jpg\n",
            "Working on file  /content/gdrive/MyDrive/Data training/Nonenhanced Mask/_groundtruth_(1)_Nonenhanced_image68.jpg_337b3160-2bf7-4460-9453-65b3e2d97b2e.jpg\n",
            "Working on file  /content/gdrive/MyDrive/Data training/Nonenhanced Mask/_groundtruth_(1)_Nonenhanced_image68.jpg_3785da43-419a-4aa6-9d4b-658d6e1ea0ac.jpg\n",
            "Working on file  /content/gdrive/MyDrive/Data training/Nonenhanced Mask/_groundtruth_(1)_Nonenhanced_image68.jpg_4a77fa2d-628e-4e83-a263-56db8a7189fb.jpg\n",
            "Working on file  /content/gdrive/MyDrive/Data training/Nonenhanced Mask/_groundtruth_(1)_Nonenhanced_image68.jpg_608ad821-3267-440b-9288-07bd5ce2bfc1.jpg\n",
            "Working on file  /content/gdrive/MyDrive/Data training/Nonenhanced Mask/_groundtruth_(1)_Nonenhanced_image68.jpg_622997dc-1962-4b0e-a0f2-440ff3fedba1.jpg\n",
            "Working on file  /content/gdrive/MyDrive/Data training/Nonenhanced Mask/_groundtruth_(1)_Nonenhanced_image68.jpg_67c03078-656e-4079-9531-3c2fa9b74d20.jpg\n",
            "Working on file  /content/gdrive/MyDrive/Data training/Nonenhanced Mask/_groundtruth_(1)_Nonenhanced_image68.jpg_735e5975-5022-4d7f-978a-051cdcae1c52.jpg\n",
            "Working on file  /content/gdrive/MyDrive/Data training/Nonenhanced Mask/_groundtruth_(1)_Nonenhanced_image68.jpg_ac853419-cd9a-416a-92b1-354e1fe41486.jpg\n",
            "Working on file  /content/gdrive/MyDrive/Data training/Nonenhanced Mask/_groundtruth_(1)_Nonenhanced_image68.jpg_ad57cb9b-3fcb-4b7f-8786-4b6201787a62.jpg\n",
            "Working on file  /content/gdrive/MyDrive/Data training/Nonenhanced Mask/_groundtruth_(1)_Nonenhanced_image68.jpg_bc9e341a-fc22-458a-bf7e-7766531ef37b.jpg\n",
            "Working on file  /content/gdrive/MyDrive/Data training/Nonenhanced Mask/_groundtruth_(1)_Nonenhanced_image68.jpg_df194169-b4c8-4a31-b8c5-4b3e7062e246.jpg\n",
            "Working on file  /content/gdrive/MyDrive/Data training/Nonenhanced Mask/_groundtruth_(1)_Nonenhanced_image68.jpg_eb33e5cc-9a54-4301-94b7-d83978fbfb13.jpg\n",
            "Working on file  /content/gdrive/MyDrive/Data training/Nonenhanced Mask/_groundtruth_(1)_Nonenhanced_image68.jpg_f56c942e-c284-4b66-9264-e411eaa874d2.jpg\n",
            "Working on file  /content/gdrive/MyDrive/Data training/Nonenhanced Mask/_groundtruth_(1)_Nonenhanced_image69.jpg_047bb0ba-9281-45a6-a6b2-649aea843c1b.jpg\n",
            "Working on file  /content/gdrive/MyDrive/Data training/Nonenhanced Mask/_groundtruth_(1)_Nonenhanced_image69.jpg_125bcd61-c60e-4251-9b5e-084973755614.jpg\n",
            "Working on file  /content/gdrive/MyDrive/Data training/Nonenhanced Mask/_groundtruth_(1)_Nonenhanced_image69.jpg_26ee4197-4bf4-4571-9c05-71b6719f429e.jpg\n",
            "Working on file  /content/gdrive/MyDrive/Data training/Nonenhanced Mask/_groundtruth_(1)_Nonenhanced_image69.jpg_54eb6190-7c37-45a4-9bc2-eeaa1aa640f5.jpg\n",
            "Working on file  /content/gdrive/MyDrive/Data training/Nonenhanced Mask/_groundtruth_(1)_Nonenhanced_image69.jpg_554c4b2c-55f6-40ac-ae86-d24bcee8d9e0.jpg\n",
            "Working on file  /content/gdrive/MyDrive/Data training/Nonenhanced Mask/_groundtruth_(1)_Nonenhanced_image69.jpg_5c521c9f-9e14-4665-b005-801a08f209c7.jpg\n",
            "Working on file  /content/gdrive/MyDrive/Data training/Nonenhanced Mask/_groundtruth_(1)_Nonenhanced_image69.jpg_626bee8e-1a55-4746-bedf-c1dc122bc1d6.jpg\n",
            "Working on file  /content/gdrive/MyDrive/Data training/Nonenhanced Mask/_groundtruth_(1)_Nonenhanced_image69.jpg_73d51b3a-8627-455e-b8c9-6639b084443b.jpg\n",
            "Working on file  /content/gdrive/MyDrive/Data training/Nonenhanced Mask/_groundtruth_(1)_Nonenhanced_image69.jpg_8adf7ff6-4064-4e24-9584-2724852cbfa3.jpg\n",
            "Working on file  /content/gdrive/MyDrive/Data training/Nonenhanced Mask/_groundtruth_(1)_Nonenhanced_image69.jpg_9af44b9f-811b-4a57-89d2-83f233c550c8.jpg\n",
            "Working on file  /content/gdrive/MyDrive/Data training/Nonenhanced Mask/_groundtruth_(1)_Nonenhanced_image69.jpg_cab30393-9040-4b4e-ab41-a8bd0419af11.jpg\n",
            "Working on file  /content/gdrive/MyDrive/Data training/Nonenhanced Mask/_groundtruth_(1)_Nonenhanced_image69.jpg_ce72a5a3-9f03-4ca0-b07b-d717a9f5d64d.jpg\n",
            "Working on file  /content/gdrive/MyDrive/Data training/Nonenhanced Mask/_groundtruth_(1)_Nonenhanced_image69.jpg_dad02988-1f4c-4763-a3a2-e7f20347ad06.jpg\n",
            "Working on file  /content/gdrive/MyDrive/Data training/Nonenhanced Mask/_groundtruth_(1)_Nonenhanced_image7.jpg_0c13646f-b2ac-4be1-8391-13cdfc38cfc4.jpg\n",
            "Working on file  /content/gdrive/MyDrive/Data training/Nonenhanced Mask/_groundtruth_(1)_Nonenhanced_image7.jpg_1f0f68bb-e03e-4696-97c8-eaf9784514d8.jpg\n",
            "Working on file  /content/gdrive/MyDrive/Data training/Nonenhanced Mask/_groundtruth_(1)_Nonenhanced_image7.jpg_3c985542-b979-49ec-88e8-452100878fad.jpg\n",
            "Working on file  /content/gdrive/MyDrive/Data training/Nonenhanced Mask/_groundtruth_(1)_Nonenhanced_image7.jpg_60420c84-04a7-4062-97c9-5be265c750b9.jpg\n",
            "Working on file  /content/gdrive/MyDrive/Data training/Nonenhanced Mask/_groundtruth_(1)_Nonenhanced_image7.jpg_620019eb-3002-48c0-a7e3-4f3f6ad4a69b.jpg\n",
            "Working on file  /content/gdrive/MyDrive/Data training/Nonenhanced Mask/_groundtruth_(1)_Nonenhanced_image7.jpg_6a2ed6f3-d132-4a52-8083-6677ac0f27d9.jpg\n",
            "Working on file  /content/gdrive/MyDrive/Data training/Nonenhanced Mask/_groundtruth_(1)_Nonenhanced_image7.jpg_72ccbf31-6a6d-479c-a8ff-1db0bbd33b18.jpg\n",
            "Working on file  /content/gdrive/MyDrive/Data training/Nonenhanced Mask/_groundtruth_(1)_Nonenhanced_image7.jpg_817bcb72-3bae-47e1-aed2-227d4a2aa440.jpg\n",
            "Working on file  /content/gdrive/MyDrive/Data training/Nonenhanced Mask/_groundtruth_(1)_Nonenhanced_image7.jpg_8ac23551-99e7-4601-b0a4-a9769d4b79a2.jpg\n",
            "Working on file  /content/gdrive/MyDrive/Data training/Nonenhanced Mask/_groundtruth_(1)_Nonenhanced_image7.jpg_a52dcf90-57d5-4a8d-be5d-4736452fbf15.jpg\n",
            "Working on file  /content/gdrive/MyDrive/Data training/Nonenhanced Mask/_groundtruth_(1)_Nonenhanced_image7.jpg_a7a59ac1-2902-463b-b6b5-5eeab87f4a1f.jpg\n",
            "Working on file  /content/gdrive/MyDrive/Data training/Nonenhanced Mask/_groundtruth_(1)_Nonenhanced_image7.jpg_f717e8fa-f3e2-4ba0-ac36-9ec5e4b0b99a.jpg\n",
            "Working on file  /content/gdrive/MyDrive/Data training/Nonenhanced Mask/_groundtruth_(1)_Nonenhanced_image7.jpg_f71f3931-254d-498c-9859-1d72a3bfa759.jpg\n",
            "Working on file  /content/gdrive/MyDrive/Data training/Nonenhanced Mask/_groundtruth_(1)_Nonenhanced_image70.jpg_0fb3d9ba-02d2-4aa4-80cc-d9f9cbc42a71.jpg\n",
            "Working on file  /content/gdrive/MyDrive/Data training/Nonenhanced Mask/_groundtruth_(1)_Nonenhanced_image70.jpg_12ba1cf2-76fa-4eb4-9803-e326c91d2595.jpg\n",
            "Working on file  /content/gdrive/MyDrive/Data training/Nonenhanced Mask/_groundtruth_(1)_Nonenhanced_image70.jpg_37f3361b-dea2-4856-81c2-54f58bb9666b.jpg\n",
            "Working on file  /content/gdrive/MyDrive/Data training/Nonenhanced Mask/_groundtruth_(1)_Nonenhanced_image70.jpg_42f2eeb1-f260-4dae-b8e9-ea21b714ddf6.jpg\n",
            "Working on file  /content/gdrive/MyDrive/Data training/Nonenhanced Mask/_groundtruth_(1)_Nonenhanced_image70.jpg_5be7df15-0656-4b23-bfc2-e6ad74e29884.jpg\n",
            "Working on file  /content/gdrive/MyDrive/Data training/Nonenhanced Mask/_groundtruth_(1)_Nonenhanced_image70.jpg_6378a77a-6985-4472-ab89-d0c87e23badd.jpg\n",
            "Working on file  /content/gdrive/MyDrive/Data training/Nonenhanced Mask/_groundtruth_(1)_Nonenhanced_image70.jpg_91a65e5a-c518-4bfe-9e99-8a995f0a899f.jpg\n",
            "Working on file  /content/gdrive/MyDrive/Data training/Nonenhanced Mask/_groundtruth_(1)_Nonenhanced_image70.jpg_c347a73f-2a8a-4f0c-b094-7774b5de55e0.jpg\n",
            "Working on file  /content/gdrive/MyDrive/Data training/Nonenhanced Mask/_groundtruth_(1)_Nonenhanced_image70.jpg_c9fe967a-c8cc-45a4-a106-038fb5a6bd10.jpg\n",
            "Working on file  /content/gdrive/MyDrive/Data training/Nonenhanced Mask/_groundtruth_(1)_Nonenhanced_image70.jpg_e770f89e-cb92-468a-a6f0-3857b066415c.jpg\n",
            "Working on file  /content/gdrive/MyDrive/Data training/Nonenhanced Mask/_groundtruth_(1)_Nonenhanced_image70.jpg_f24a168b-c33b-4b07-9fe8-af8a9367c3d5.jpg\n",
            "Working on file  /content/gdrive/MyDrive/Data training/Nonenhanced Mask/_groundtruth_(1)_Nonenhanced_image70.jpg_fb6b270e-7f2f-4d2a-be65-0a9838e5163e.jpg\n",
            "Working on file  /content/gdrive/MyDrive/Data training/Nonenhanced Mask/_groundtruth_(1)_Nonenhanced_image71.jpg_0275f3a1-8b3b-4f9f-8505-a6dea777ef11.jpg\n",
            "Working on file  /content/gdrive/MyDrive/Data training/Nonenhanced Mask/_groundtruth_(1)_Nonenhanced_image71.jpg_0c17e532-b0f9-442f-9a65-5481cbaa5e8b.jpg\n",
            "Working on file  /content/gdrive/MyDrive/Data training/Nonenhanced Mask/_groundtruth_(1)_Nonenhanced_image71.jpg_0cb9e996-b869-44b0-8912-32a005663366.jpg\n",
            "Working on file  /content/gdrive/MyDrive/Data training/Nonenhanced Mask/_groundtruth_(1)_Nonenhanced_image71.jpg_16331bb4-0c7d-4b03-877a-233f148e1f9b.jpg\n",
            "Working on file  /content/gdrive/MyDrive/Data training/Nonenhanced Mask/_groundtruth_(1)_Nonenhanced_image71.jpg_25c1f61c-960b-4f8b-bf0a-eb1d894151c7.jpg\n",
            "Working on file  /content/gdrive/MyDrive/Data training/Nonenhanced Mask/_groundtruth_(1)_Nonenhanced_image71.jpg_390c8156-5e97-4e0a-827a-3099ad230e35.jpg\n",
            "Working on file  /content/gdrive/MyDrive/Data training/Nonenhanced Mask/_groundtruth_(1)_Nonenhanced_image71.jpg_39dac830-496e-4986-960a-e657bc12af26.jpg\n",
            "Working on file  /content/gdrive/MyDrive/Data training/Nonenhanced Mask/_groundtruth_(1)_Nonenhanced_image71.jpg_4c39ab4e-f8f3-4848-b535-43081ce8d6f3.jpg\n",
            "Working on file  /content/gdrive/MyDrive/Data training/Nonenhanced Mask/_groundtruth_(1)_Nonenhanced_image71.jpg_54e8cc67-f2f2-49ea-b074-91c7f5b461d0.jpg\n",
            "Working on file  /content/gdrive/MyDrive/Data training/Nonenhanced Mask/_groundtruth_(1)_Nonenhanced_image71.jpg_596fa0c9-d989-4f0a-a7ba-3e5d4ef5adcf.jpg\n",
            "Working on file  /content/gdrive/MyDrive/Data training/Nonenhanced Mask/_groundtruth_(1)_Nonenhanced_image71.jpg_6c073700-347b-4654-b1e1-3c932d7a6f04.jpg\n",
            "Working on file  /content/gdrive/MyDrive/Data training/Nonenhanced Mask/_groundtruth_(1)_Nonenhanced_image71.jpg_726c8890-2b87-4c70-8fb7-47dd32d2476b.jpg\n",
            "Working on file  /content/gdrive/MyDrive/Data training/Nonenhanced Mask/_groundtruth_(1)_Nonenhanced_image71.jpg_9b8b4964-298b-44b5-88a4-21cdcf464062.jpg\n",
            "Working on file  /content/gdrive/MyDrive/Data training/Nonenhanced Mask/_groundtruth_(1)_Nonenhanced_image71.jpg_a282c0bf-2fef-44d6-a1ed-087007a989ce.jpg\n",
            "Working on file  /content/gdrive/MyDrive/Data training/Nonenhanced Mask/_groundtruth_(1)_Nonenhanced_image71.jpg_b6033bb5-176b-4565-b37b-63fe95281348.jpg\n",
            "Working on file  /content/gdrive/MyDrive/Data training/Nonenhanced Mask/_groundtruth_(1)_Nonenhanced_image71.jpg_bb9dbc6a-25fc-4115-b85e-e654b6d4430d.jpg\n",
            "Working on file  /content/gdrive/MyDrive/Data training/Nonenhanced Mask/_groundtruth_(1)_Nonenhanced_image71.jpg_ccc64e6b-e876-415d-b0d5-99da27060bf4.jpg\n",
            "Working on file  /content/gdrive/MyDrive/Data training/Nonenhanced Mask/_groundtruth_(1)_Nonenhanced_image71.jpg_d2659327-4042-4ae2-a9f4-55f2b2cc8e55.jpg\n",
            "Working on file  /content/gdrive/MyDrive/Data training/Nonenhanced Mask/_groundtruth_(1)_Nonenhanced_image71.jpg_daa6a804-0047-4954-8529-17c0e6f31058.jpg\n",
            "Working on file  /content/gdrive/MyDrive/Data training/Nonenhanced Mask/_groundtruth_(1)_Nonenhanced_image71.jpg_e10fff94-795f-424b-99be-dc3ef2091c9b.jpg\n",
            "Working on file  /content/gdrive/MyDrive/Data training/Nonenhanced Mask/_groundtruth_(1)_Nonenhanced_image71.jpg_f5887c92-4601-4c73-9b3f-05520b93be5e.jpg\n",
            "Working on file  /content/gdrive/MyDrive/Data training/Nonenhanced Mask/_groundtruth_(1)_Nonenhanced_image72.jpg_152882e5-76e9-4d84-ad37-59cf1032f24a.jpg\n",
            "Working on file  /content/gdrive/MyDrive/Data training/Nonenhanced Mask/_groundtruth_(1)_Nonenhanced_image72.jpg_26e7a940-1c68-45ca-816f-567e1fd93dc8.jpg\n",
            "Working on file  /content/gdrive/MyDrive/Data training/Nonenhanced Mask/_groundtruth_(1)_Nonenhanced_image72.jpg_4987bd8f-e122-4363-bef3-cb757e2d887c.jpg\n",
            "Working on file  /content/gdrive/MyDrive/Data training/Nonenhanced Mask/_groundtruth_(1)_Nonenhanced_image72.jpg_6b17bb47-e5e9-4740-8eba-d42bda90b7b1.jpg\n",
            "Working on file  /content/gdrive/MyDrive/Data training/Nonenhanced Mask/_groundtruth_(1)_Nonenhanced_image72.jpg_78ff96c6-1520-4755-94f9-1f56fc3ad7b3.jpg\n",
            "Working on file  /content/gdrive/MyDrive/Data training/Nonenhanced Mask/_groundtruth_(1)_Nonenhanced_image72.jpg_8a776663-8cb0-4df1-a97e-9b0afd950024.jpg\n",
            "Working on file  /content/gdrive/MyDrive/Data training/Nonenhanced Mask/_groundtruth_(1)_Nonenhanced_image72.jpg_af18c479-515a-4624-af9e-2a79180e3fb4.jpg\n",
            "Working on file  /content/gdrive/MyDrive/Data training/Nonenhanced Mask/_groundtruth_(1)_Nonenhanced_image72.jpg_ebe9a1c3-8486-4202-a411-a06780369dc1.jpg\n",
            "Working on file  /content/gdrive/MyDrive/Data training/Nonenhanced Mask/_groundtruth_(1)_Nonenhanced_image72.jpg_f269ed11-5de0-4b4e-b752-42dd143d1d59.jpg\n",
            "Working on file  /content/gdrive/MyDrive/Data training/Nonenhanced Mask/_groundtruth_(1)_Nonenhanced_image73.jpg_0a5c184e-0037-42ab-9000-4408edeea199.jpg\n",
            "Working on file  /content/gdrive/MyDrive/Data training/Nonenhanced Mask/_groundtruth_(1)_Nonenhanced_image73.jpg_1af0cb0f-456a-4f30-a664-6dfb526e0700.jpg\n",
            "Working on file  /content/gdrive/MyDrive/Data training/Nonenhanced Mask/_groundtruth_(1)_Nonenhanced_image73.jpg_20c07e72-4830-4407-80b0-31ebff001af8.jpg\n",
            "Working on file  /content/gdrive/MyDrive/Data training/Nonenhanced Mask/_groundtruth_(1)_Nonenhanced_image73.jpg_27146c04-4d87-4912-8b06-3d09c4377366.jpg\n",
            "Working on file  /content/gdrive/MyDrive/Data training/Nonenhanced Mask/_groundtruth_(1)_Nonenhanced_image73.jpg_3af18dd1-c0d1-4b52-925a-4cc0a711b02e.jpg\n",
            "Working on file  /content/gdrive/MyDrive/Data training/Nonenhanced Mask/_groundtruth_(1)_Nonenhanced_image73.jpg_68ac9b83-ab0b-4bbc-9c0f-a725ac759f2e.jpg\n",
            "Working on file  /content/gdrive/MyDrive/Data training/Nonenhanced Mask/_groundtruth_(1)_Nonenhanced_image73.jpg_87b88d21-7210-411c-b5d9-cfc021914b61.jpg\n",
            "Working on file  /content/gdrive/MyDrive/Data training/Nonenhanced Mask/_groundtruth_(1)_Nonenhanced_image73.jpg_9bce5e81-fe66-4854-9598-946f85fc2876.jpg\n",
            "Working on file  /content/gdrive/MyDrive/Data training/Nonenhanced Mask/_groundtruth_(1)_Nonenhanced_image73.jpg_f7816ad1-48fc-4277-a7ab-f7d3008fabda.jpg\n",
            "Working on file  /content/gdrive/MyDrive/Data training/Nonenhanced Mask/_groundtruth_(1)_Nonenhanced_image74.jpg_21480b0c-cd48-4ab3-be33-6062caf1f6ac.jpg\n",
            "Working on file  /content/gdrive/MyDrive/Data training/Nonenhanced Mask/_groundtruth_(1)_Nonenhanced_image74.jpg_275e6767-d146-4b7e-be6e-3e6980c39d19.jpg\n",
            "Working on file  /content/gdrive/MyDrive/Data training/Nonenhanced Mask/_groundtruth_(1)_Nonenhanced_image74.jpg_3b445d32-64c8-4da1-b77b-cac2101acff5.jpg\n",
            "Working on file  /content/gdrive/MyDrive/Data training/Nonenhanced Mask/_groundtruth_(1)_Nonenhanced_image74.jpg_5857ba81-ff7e-4826-b69a-a3db6bcc686c.jpg\n",
            "Working on file  /content/gdrive/MyDrive/Data training/Nonenhanced Mask/_groundtruth_(1)_Nonenhanced_image74.jpg_5c3a79c9-5fd7-448a-a5e7-63acde3cc23e.jpg\n",
            "Working on file  /content/gdrive/MyDrive/Data training/Nonenhanced Mask/_groundtruth_(1)_Nonenhanced_image74.jpg_6a192837-1e4f-446e-af53-26b23011fa3e.jpg\n",
            "Working on file  /content/gdrive/MyDrive/Data training/Nonenhanced Mask/_groundtruth_(1)_Nonenhanced_image74.jpg_7ecc7e37-0b65-409a-a1e5-485e086c73a3.jpg\n",
            "Working on file  /content/gdrive/MyDrive/Data training/Nonenhanced Mask/_groundtruth_(1)_Nonenhanced_image74.jpg_ae84af5d-16ac-4bb4-a32c-554f7ed6953b.jpg\n",
            "Working on file  /content/gdrive/MyDrive/Data training/Nonenhanced Mask/_groundtruth_(1)_Nonenhanced_image74.jpg_b92f5bc0-0aae-4e04-a21c-cd9093e2c784.jpg\n",
            "Working on file  /content/gdrive/MyDrive/Data training/Nonenhanced Mask/_groundtruth_(1)_Nonenhanced_image74.jpg_ed3913e7-988c-4bf1-834f-73da71104a99.jpg\n",
            "Working on file  /content/gdrive/MyDrive/Data training/Nonenhanced Mask/_groundtruth_(1)_Nonenhanced_image75.jpg_004dfb54-38c2-40c7-9355-4160e0ac4cc7.jpg\n",
            "Working on file  /content/gdrive/MyDrive/Data training/Nonenhanced Mask/_groundtruth_(1)_Nonenhanced_image75.jpg_1540b485-a7e6-455e-9093-79d603c501ad.jpg\n",
            "Working on file  /content/gdrive/MyDrive/Data training/Nonenhanced Mask/_groundtruth_(1)_Nonenhanced_image75.jpg_44a8968e-4a40-4c3e-b303-63d2e97ddffb.jpg\n",
            "Working on file  /content/gdrive/MyDrive/Data training/Nonenhanced Mask/_groundtruth_(1)_Nonenhanced_image75.jpg_990ff09f-d4f4-4573-9159-4afcb3c69a3f.jpg\n",
            "Working on file  /content/gdrive/MyDrive/Data training/Nonenhanced Mask/_groundtruth_(1)_Nonenhanced_image75.jpg_9fe4fc37-547a-4cc7-91d9-cd5b24f5974f.jpg\n",
            "Working on file  /content/gdrive/MyDrive/Data training/Nonenhanced Mask/_groundtruth_(1)_Nonenhanced_image75.jpg_d9e81f9d-4db0-4047-92e4-b76b7960f2ee.jpg\n",
            "Working on file  /content/gdrive/MyDrive/Data training/Nonenhanced Mask/_groundtruth_(1)_Nonenhanced_image75.jpg_daa58f36-7181-442f-afda-0c26224d6602.jpg\n",
            "Working on file  /content/gdrive/MyDrive/Data training/Nonenhanced Mask/_groundtruth_(1)_Nonenhanced_image75.jpg_dbc76750-e16e-43c7-b08e-15eb06a4f566.jpg\n",
            "Working on file  /content/gdrive/MyDrive/Data training/Nonenhanced Mask/_groundtruth_(1)_Nonenhanced_image76.jpg_55f9b695-a4ac-4e15-b6fe-fb375ae72a2d.jpg\n",
            "Working on file  /content/gdrive/MyDrive/Data training/Nonenhanced Mask/_groundtruth_(1)_Nonenhanced_image76.jpg_7e48026e-d4dd-423e-aa35-a64a43ae34d3.jpg\n",
            "Working on file  /content/gdrive/MyDrive/Data training/Nonenhanced Mask/_groundtruth_(1)_Nonenhanced_image76.jpg_907db5c1-70c7-49fa-aa4a-e3d1cfb540a6.jpg\n",
            "Working on file  /content/gdrive/MyDrive/Data training/Nonenhanced Mask/_groundtruth_(1)_Nonenhanced_image76.jpg_d75538df-c9af-4842-b906-539c0fdae8ac.jpg\n",
            "Working on file  /content/gdrive/MyDrive/Data training/Nonenhanced Mask/_groundtruth_(1)_Nonenhanced_image76.jpg_eac01b07-6040-4f4e-81a1-875d0e6b95c4.jpg\n",
            "Working on file  /content/gdrive/MyDrive/Data training/Nonenhanced Mask/_groundtruth_(1)_Nonenhanced_image77.jpg_0332c7f0-3b10-4445-97d5-99b3216ce37f.jpg\n",
            "Working on file  /content/gdrive/MyDrive/Data training/Nonenhanced Mask/_groundtruth_(1)_Nonenhanced_image77.jpg_0cd5a18d-6ee5-4669-b0ff-2967ad764ec7.jpg\n",
            "Working on file  /content/gdrive/MyDrive/Data training/Nonenhanced Mask/_groundtruth_(1)_Nonenhanced_image77.jpg_105888f8-3dae-496c-b65d-3dbdd578d68b.jpg\n",
            "Working on file  /content/gdrive/MyDrive/Data training/Nonenhanced Mask/_groundtruth_(1)_Nonenhanced_image77.jpg_49e88fa2-1611-4fb3-bc6f-07f6bf0f09a5.jpg\n",
            "Working on file  /content/gdrive/MyDrive/Data training/Nonenhanced Mask/_groundtruth_(1)_Nonenhanced_image77.jpg_7ff5dd9f-d233-4367-b3a5-aa865e18a386.jpg\n",
            "Working on file  /content/gdrive/MyDrive/Data training/Nonenhanced Mask/_groundtruth_(1)_Nonenhanced_image77.jpg_961f380e-1d17-4fe0-9599-26e7c3246ef4.jpg\n",
            "Working on file  /content/gdrive/MyDrive/Data training/Nonenhanced Mask/_groundtruth_(1)_Nonenhanced_image77.jpg_a3109876-12cd-423d-8638-aa891d302681.jpg\n",
            "Working on file  /content/gdrive/MyDrive/Data training/Nonenhanced Mask/_groundtruth_(1)_Nonenhanced_image77.jpg_d62f5ef6-382e-4b8e-8612-125fc4c80532.jpg\n",
            "Working on file  /content/gdrive/MyDrive/Data training/Nonenhanced Mask/_groundtruth_(1)_Nonenhanced_image78.jpg_28c47356-ca83-4666-a912-578c972c09c1.jpg\n",
            "Working on file  /content/gdrive/MyDrive/Data training/Nonenhanced Mask/_groundtruth_(1)_Nonenhanced_image78.jpg_2ce03617-521e-4496-aa34-5052efba460e.jpg\n",
            "Working on file  /content/gdrive/MyDrive/Data training/Nonenhanced Mask/_groundtruth_(1)_Nonenhanced_image78.jpg_3072c8af-9874-48e5-8927-a9277216a506.jpg\n",
            "Working on file  /content/gdrive/MyDrive/Data training/Nonenhanced Mask/_groundtruth_(1)_Nonenhanced_image78.jpg_35b3b86b-b5e2-4395-a9c2-1c5a2c6c0e0d.jpg\n",
            "Working on file  /content/gdrive/MyDrive/Data training/Nonenhanced Mask/_groundtruth_(1)_Nonenhanced_image78.jpg_4cded05d-16ea-44e6-95c1-216c5e417042.jpg\n",
            "Working on file  /content/gdrive/MyDrive/Data training/Nonenhanced Mask/_groundtruth_(1)_Nonenhanced_image78.jpg_7c99eaba-e369-4b67-970d-0022211a1ec0.jpg\n",
            "Working on file  /content/gdrive/MyDrive/Data training/Nonenhanced Mask/_groundtruth_(1)_Nonenhanced_image78.jpg_8db78fb9-0ab0-46b9-9bd7-447d89daea28.jpg\n",
            "Working on file  /content/gdrive/MyDrive/Data training/Nonenhanced Mask/_groundtruth_(1)_Nonenhanced_image78.jpg_93f7c16e-ed5c-4249-aa39-8ee6e4607a9b.jpg\n",
            "Working on file  /content/gdrive/MyDrive/Data training/Nonenhanced Mask/_groundtruth_(1)_Nonenhanced_image78.jpg_9eb5de39-0b55-4848-8bc5-4059dd90a774.jpg\n",
            "Working on file  /content/gdrive/MyDrive/Data training/Nonenhanced Mask/_groundtruth_(1)_Nonenhanced_image78.jpg_b847f493-7ff0-4612-bb17-787cb8c9aa89.jpg\n",
            "Working on file  /content/gdrive/MyDrive/Data training/Nonenhanced Mask/_groundtruth_(1)_Nonenhanced_image78.jpg_f3be8154-2e4c-41e1-9167-d396e0707c37.jpg\n",
            "Working on file  /content/gdrive/MyDrive/Data training/Nonenhanced Mask/_groundtruth_(1)_Nonenhanced_image78.jpg_fb93ff03-ec74-45de-9f20-7010add1f589.jpg\n",
            "Working on file  /content/gdrive/MyDrive/Data training/Nonenhanced Mask/_groundtruth_(1)_Nonenhanced_image78.jpg_fca75ceb-b3ce-4076-9d33-89c87cfffd38.jpg\n",
            "Working on file  /content/gdrive/MyDrive/Data training/Nonenhanced Mask/_groundtruth_(1)_Nonenhanced_image78.jpg_fe1d093b-ca77-4420-a846-2d5225147115.jpg\n",
            "Working on file  /content/gdrive/MyDrive/Data training/Nonenhanced Mask/_groundtruth_(1)_Nonenhanced_image79.jpg_0fb93f6d-4093-4c11-878f-a2dc9a44054f.jpg\n",
            "Working on file  /content/gdrive/MyDrive/Data training/Nonenhanced Mask/_groundtruth_(1)_Nonenhanced_image79.jpg_336760ea-6cd8-4c8b-9734-d7e7db6e9cea.jpg\n",
            "Working on file  /content/gdrive/MyDrive/Data training/Nonenhanced Mask/_groundtruth_(1)_Nonenhanced_image79.jpg_40545f3b-d3ed-4baf-9251-689ab97b2440.jpg\n",
            "Working on file  /content/gdrive/MyDrive/Data training/Nonenhanced Mask/_groundtruth_(1)_Nonenhanced_image79.jpg_447368ae-a57c-4033-b2c7-7a50813b96d2.jpg\n",
            "Working on file  /content/gdrive/MyDrive/Data training/Nonenhanced Mask/_groundtruth_(1)_Nonenhanced_image79.jpg_479ea7b4-ebed-4ebc-9ae3-5ea02abc6130.jpg\n",
            "Working on file  /content/gdrive/MyDrive/Data training/Nonenhanced Mask/_groundtruth_(1)_Nonenhanced_image79.jpg_591e8a6f-a2be-4369-9194-c1db89817b83.jpg\n",
            "Working on file  /content/gdrive/MyDrive/Data training/Nonenhanced Mask/_groundtruth_(1)_Nonenhanced_image79.jpg_75a2322a-b24f-4336-822b-a8c8b24c6394.jpg\n",
            "Working on file  /content/gdrive/MyDrive/Data training/Nonenhanced Mask/_groundtruth_(1)_Nonenhanced_image79.jpg_7ed47735-03ee-441d-999c-4f2327bd3a8e.jpg\n",
            "Working on file  /content/gdrive/MyDrive/Data training/Nonenhanced Mask/_groundtruth_(1)_Nonenhanced_image79.jpg_b126ae7c-4601-4400-8073-7087935cceae.jpg\n",
            "Working on file  /content/gdrive/MyDrive/Data training/Nonenhanced Mask/_groundtruth_(1)_Nonenhanced_image79.jpg_c9db35cb-2d78-4be3-a694-329bad97106c.jpg\n",
            "Working on file  /content/gdrive/MyDrive/Data training/Nonenhanced Mask/_groundtruth_(1)_Nonenhanced_image79.jpg_f717cb8c-1013-48e4-b4bf-286db7f4bcf3.jpg\n",
            "Working on file  /content/gdrive/MyDrive/Data training/Nonenhanced Mask/_groundtruth_(1)_Nonenhanced_image79.jpg_fb990e88-17cd-40af-9dea-d77a785f2428.jpg\n",
            "Working on file  /content/gdrive/MyDrive/Data training/Nonenhanced Mask/_groundtruth_(1)_Nonenhanced_image8.jpg_23b69695-7705-4e9b-b7df-2d14f7b78a02.jpg\n",
            "Working on file  /content/gdrive/MyDrive/Data training/Nonenhanced Mask/_groundtruth_(1)_Nonenhanced_image8.jpg_2aa3e812-7a08-4237-b6cf-7083be544b5b.jpg\n",
            "Working on file  /content/gdrive/MyDrive/Data training/Nonenhanced Mask/_groundtruth_(1)_Nonenhanced_image8.jpg_39972d68-3005-4fe9-a81a-56047eaa93ca.jpg\n",
            "Working on file  /content/gdrive/MyDrive/Data training/Nonenhanced Mask/_groundtruth_(1)_Nonenhanced_image8.jpg_81028ffc-3d27-4147-86f1-3aba3257308f.jpg\n",
            "Working on file  /content/gdrive/MyDrive/Data training/Nonenhanced Mask/_groundtruth_(1)_Nonenhanced_image8.jpg_876e3798-c8e0-4484-aaa3-9aa1960e6702.jpg\n",
            "Working on file  /content/gdrive/MyDrive/Data training/Nonenhanced Mask/_groundtruth_(1)_Nonenhanced_image8.jpg_87d1478e-8b05-42f9-99f3-2f79c3f77ab5.jpg\n",
            "Working on file  /content/gdrive/MyDrive/Data training/Nonenhanced Mask/_groundtruth_(1)_Nonenhanced_image8.jpg_9a4dc33b-a37f-47cb-b7d8-e7107ed974db.jpg\n",
            "Working on file  /content/gdrive/MyDrive/Data training/Nonenhanced Mask/_groundtruth_(1)_Nonenhanced_image8.jpg_b2e52ca8-aa77-408f-a505-8bd749d89d6a.jpg\n",
            "Working on file  /content/gdrive/MyDrive/Data training/Nonenhanced Mask/_groundtruth_(1)_Nonenhanced_image8.jpg_b436902f-7f6f-49a4-bcb2-339f3672b4a8.jpg\n",
            "Working on file  /content/gdrive/MyDrive/Data training/Nonenhanced Mask/_groundtruth_(1)_Nonenhanced_image80.jpg_383491cd-8f7d-4b6f-b26c-59ce001d3a85.jpg\n",
            "Working on file  /content/gdrive/MyDrive/Data training/Nonenhanced Mask/_groundtruth_(1)_Nonenhanced_image80.jpg_3e0bd69f-1285-42fb-bedb-05e163f7ab51.jpg\n",
            "Working on file  /content/gdrive/MyDrive/Data training/Nonenhanced Mask/_groundtruth_(1)_Nonenhanced_image80.jpg_4bb370af-0899-4007-92ee-b7deec9fb719.jpg\n",
            "Working on file  /content/gdrive/MyDrive/Data training/Nonenhanced Mask/_groundtruth_(1)_Nonenhanced_image80.jpg_6186c737-0c8f-48ca-815c-233a0ebdaccf.jpg\n",
            "Working on file  /content/gdrive/MyDrive/Data training/Nonenhanced Mask/_groundtruth_(1)_Nonenhanced_image80.jpg_72f60e17-636f-49c7-a028-ddcc18ff1cf5.jpg\n",
            "Working on file  /content/gdrive/MyDrive/Data training/Nonenhanced Mask/_groundtruth_(1)_Nonenhanced_image80.jpg_92383135-e571-4e53-a454-41aeabafbc22.jpg\n",
            "Working on file  /content/gdrive/MyDrive/Data training/Nonenhanced Mask/_groundtruth_(1)_Nonenhanced_image80.jpg_af1e6e8f-22fa-4e94-8285-37ddcfd9519d.jpg\n",
            "Working on file  /content/gdrive/MyDrive/Data training/Nonenhanced Mask/_groundtruth_(1)_Nonenhanced_image80.jpg_b098b0d5-be71-441d-97b3-955c1275ab04.jpg\n",
            "Working on file  /content/gdrive/MyDrive/Data training/Nonenhanced Mask/_groundtruth_(1)_Nonenhanced_image80.jpg_bebbf71e-73c6-4dac-b154-42f9c4de5c07.jpg\n",
            "Working on file  /content/gdrive/MyDrive/Data training/Nonenhanced Mask/_groundtruth_(1)_Nonenhanced_image80.jpg_cdc1ee98-a8b1-4670-ba83-c4560e2ef8d8.jpg\n",
            "Working on file  /content/gdrive/MyDrive/Data training/Nonenhanced Mask/_groundtruth_(1)_Nonenhanced_image81.jpg_05224fee-bc90-47da-87ee-8f5fbbbb1743.jpg\n",
            "Working on file  /content/gdrive/MyDrive/Data training/Nonenhanced Mask/_groundtruth_(1)_Nonenhanced_image81.jpg_0d9ed071-6589-43f1-b0ad-eba13f164576.jpg\n",
            "Working on file  /content/gdrive/MyDrive/Data training/Nonenhanced Mask/_groundtruth_(1)_Nonenhanced_image81.jpg_1519f900-924a-40a8-8ee2-8230d586b9ab.jpg\n",
            "Working on file  /content/gdrive/MyDrive/Data training/Nonenhanced Mask/_groundtruth_(1)_Nonenhanced_image81.jpg_6421006a-e058-432b-90dc-008ed859f6b4.jpg\n",
            "Working on file  /content/gdrive/MyDrive/Data training/Nonenhanced Mask/_groundtruth_(1)_Nonenhanced_image81.jpg_7cc0db39-3eb9-44eb-aad7-3815df3cb4de.jpg\n",
            "Working on file  /content/gdrive/MyDrive/Data training/Nonenhanced Mask/_groundtruth_(1)_Nonenhanced_image81.jpg_acabd4ce-8a04-4036-b97f-2c94ad24736b.jpg\n",
            "Working on file  /content/gdrive/MyDrive/Data training/Nonenhanced Mask/_groundtruth_(1)_Nonenhanced_image81.jpg_e0292582-c1f5-40d4-a127-3d2df5cc4d72.jpg\n",
            "Working on file  /content/gdrive/MyDrive/Data training/Nonenhanced Mask/_groundtruth_(1)_Nonenhanced_image81.jpg_e9be7b43-4845-4ca1-8974-bf73bc628244.jpg\n",
            "Working on file  /content/gdrive/MyDrive/Data training/Nonenhanced Mask/_groundtruth_(1)_Nonenhanced_image81.jpg_fbe0dfde-ece3-4144-9213-6fc18e8d8d39.jpg\n",
            "Working on file  /content/gdrive/MyDrive/Data training/Nonenhanced Mask/_groundtruth_(1)_Nonenhanced_image81.jpg_ff87b530-0f25-4aca-bf12-56de364236ed.jpg\n",
            "Working on file  /content/gdrive/MyDrive/Data training/Nonenhanced Mask/_groundtruth_(1)_Nonenhanced_image82.jpg_0e1c2e7e-34aa-41e5-b0ef-2cbba0e15617.jpg\n",
            "Working on file  /content/gdrive/MyDrive/Data training/Nonenhanced Mask/_groundtruth_(1)_Nonenhanced_image82.jpg_147868c7-c036-4b77-adea-abd20d09a35c.jpg\n",
            "Working on file  /content/gdrive/MyDrive/Data training/Nonenhanced Mask/_groundtruth_(1)_Nonenhanced_image82.jpg_200c52ac-79df-4eb3-a93c-96764f73a7e0.jpg\n",
            "Working on file  /content/gdrive/MyDrive/Data training/Nonenhanced Mask/_groundtruth_(1)_Nonenhanced_image82.jpg_3567719e-61bc-4f2f-9a5a-52d142154cee.jpg\n",
            "Working on file  /content/gdrive/MyDrive/Data training/Nonenhanced Mask/_groundtruth_(1)_Nonenhanced_image82.jpg_41e27908-9c65-43b2-b169-0606bc87832e.jpg\n",
            "Working on file  /content/gdrive/MyDrive/Data training/Nonenhanced Mask/_groundtruth_(1)_Nonenhanced_image82.jpg_424f2775-22c8-4576-8080-063380f23f54.jpg\n",
            "Working on file  /content/gdrive/MyDrive/Data training/Nonenhanced Mask/_groundtruth_(1)_Nonenhanced_image82.jpg_50c3dea7-4f7b-4ca2-ae7b-176be18db4b1.jpg\n",
            "Working on file  /content/gdrive/MyDrive/Data training/Nonenhanced Mask/_groundtruth_(1)_Nonenhanced_image82.jpg_7bd40186-4be0-491b-835e-59fb145f8328.jpg\n",
            "Working on file  /content/gdrive/MyDrive/Data training/Nonenhanced Mask/_groundtruth_(1)_Nonenhanced_image82.jpg_850154d5-fe3f-438e-9f0e-207b712ef17f.jpg\n",
            "Working on file  /content/gdrive/MyDrive/Data training/Nonenhanced Mask/_groundtruth_(1)_Nonenhanced_image82.jpg_97c93792-0530-4eee-8191-1ae7e8c67ff0.jpg\n",
            "Working on file  /content/gdrive/MyDrive/Data training/Nonenhanced Mask/_groundtruth_(1)_Nonenhanced_image82.jpg_a32c2ab0-c434-486b-bbec-fb2609b0f0da.jpg\n",
            "Working on file  /content/gdrive/MyDrive/Data training/Nonenhanced Mask/_groundtruth_(1)_Nonenhanced_image82.jpg_a9a7e63c-12f3-4d28-95e3-6cc9f2d4b25d.jpg\n",
            "Working on file  /content/gdrive/MyDrive/Data training/Nonenhanced Mask/_groundtruth_(1)_Nonenhanced_image82.jpg_bf811fd6-3edd-49d9-bc04-4ffb1d0aa958.jpg\n",
            "Working on file  /content/gdrive/MyDrive/Data training/Nonenhanced Mask/_groundtruth_(1)_Nonenhanced_image82.jpg_cb92a088-51b5-4de4-8bf8-5c19df8a485b.jpg\n",
            "Working on file  /content/gdrive/MyDrive/Data training/Nonenhanced Mask/_groundtruth_(1)_Nonenhanced_image82.jpg_e9e8e314-eda3-43b4-9c52-e2d9dd51098d.jpg\n",
            "Working on file  /content/gdrive/MyDrive/Data training/Nonenhanced Mask/_groundtruth_(1)_Nonenhanced_image82.jpg_f81ca206-dd96-4745-8265-d3d44c10c0c1.jpg\n",
            "Working on file  /content/gdrive/MyDrive/Data training/Nonenhanced Mask/_groundtruth_(1)_Nonenhanced_image83.jpg_0a127fa7-4715-4648-b294-57f5cc8674e9.jpg\n",
            "Working on file  /content/gdrive/MyDrive/Data training/Nonenhanced Mask/_groundtruth_(1)_Nonenhanced_image83.jpg_42e7f8e6-5912-4680-98b1-eaf114dc6b45.jpg\n",
            "Working on file  /content/gdrive/MyDrive/Data training/Nonenhanced Mask/_groundtruth_(1)_Nonenhanced_image83.jpg_505e590a-586a-426a-bfd2-6ee736b45129.jpg\n",
            "Working on file  /content/gdrive/MyDrive/Data training/Nonenhanced Mask/_groundtruth_(1)_Nonenhanced_image83.jpg_6d1b91d8-fdfb-44f8-b0c6-e13025fdfe00.jpg\n",
            "Working on file  /content/gdrive/MyDrive/Data training/Nonenhanced Mask/_groundtruth_(1)_Nonenhanced_image83.jpg_7c65d987-9311-48ca-8ef4-fd6621ed542c.jpg\n",
            "Working on file  /content/gdrive/MyDrive/Data training/Nonenhanced Mask/_groundtruth_(1)_Nonenhanced_image83.jpg_9addc6a4-de2a-410a-9bed-7401239e4ca5.jpg\n",
            "Working on file  /content/gdrive/MyDrive/Data training/Nonenhanced Mask/_groundtruth_(1)_Nonenhanced_image83.jpg_a33e816e-502c-4e1e-99ad-05f909f83780.jpg\n",
            "Working on file  /content/gdrive/MyDrive/Data training/Nonenhanced Mask/_groundtruth_(1)_Nonenhanced_image83.jpg_beea4ed9-1a37-43b4-a670-5006629aef3d.jpg\n",
            "Working on file  /content/gdrive/MyDrive/Data training/Nonenhanced Mask/_groundtruth_(1)_Nonenhanced_image83.jpg_c57971bf-76ab-4066-b47e-5978bd022928.jpg\n",
            "Working on file  /content/gdrive/MyDrive/Data training/Nonenhanced Mask/_groundtruth_(1)_Nonenhanced_image83.jpg_c84b2350-555c-4494-a65f-68defc12e11b.jpg\n",
            "Working on file  /content/gdrive/MyDrive/Data training/Nonenhanced Mask/_groundtruth_(1)_Nonenhanced_image83.jpg_ea2aec3d-fd67-4e9b-b589-a72261a09bcd.jpg\n",
            "Working on file  /content/gdrive/MyDrive/Data training/Nonenhanced Mask/_groundtruth_(1)_Nonenhanced_image83.jpg_f44c39ea-5c5b-4a9c-8b5e-1659865e5b9b.jpg\n",
            "Working on file  /content/gdrive/MyDrive/Data training/Nonenhanced Mask/_groundtruth_(1)_Nonenhanced_image84.jpg_01d75bc8-3bb1-4587-a656-4a362ca68f30.jpg\n",
            "Working on file  /content/gdrive/MyDrive/Data training/Nonenhanced Mask/_groundtruth_(1)_Nonenhanced_image84.jpg_06b1d8d1-23c4-4cab-bc82-dddd753c1972.jpg\n",
            "Working on file  /content/gdrive/MyDrive/Data training/Nonenhanced Mask/_groundtruth_(1)_Nonenhanced_image84.jpg_083d5ad4-ca2d-41b0-ab5e-7405c0a277ca.jpg\n",
            "Working on file  /content/gdrive/MyDrive/Data training/Nonenhanced Mask/_groundtruth_(1)_Nonenhanced_image84.jpg_18a655ea-de8f-4a86-aad7-883c622a147d.jpg\n",
            "Working on file  /content/gdrive/MyDrive/Data training/Nonenhanced Mask/_groundtruth_(1)_Nonenhanced_image84.jpg_267d16bd-dd54-40db-a36a-1d9e8eb1501d.jpg\n",
            "Working on file  /content/gdrive/MyDrive/Data training/Nonenhanced Mask/_groundtruth_(1)_Nonenhanced_image84.jpg_50c093c9-26da-4222-8593-d1655036f072.jpg\n",
            "Working on file  /content/gdrive/MyDrive/Data training/Nonenhanced Mask/_groundtruth_(1)_Nonenhanced_image84.jpg_6efcd205-5ee7-4c54-b6d6-e3ea176713f8.jpg\n",
            "Working on file  /content/gdrive/MyDrive/Data training/Nonenhanced Mask/_groundtruth_(1)_Nonenhanced_image84.jpg_73fe418a-30f3-4e4e-812f-e19fdb9fe958.jpg\n",
            "Working on file  /content/gdrive/MyDrive/Data training/Nonenhanced Mask/_groundtruth_(1)_Nonenhanced_image84.jpg_a5e541eb-3d28-47c7-bd53-6c70aebeadf2.jpg\n",
            "Working on file  /content/gdrive/MyDrive/Data training/Nonenhanced Mask/_groundtruth_(1)_Nonenhanced_image84.jpg_bdd89079-4730-419c-b314-42a534a00081.jpg\n",
            "Working on file  /content/gdrive/MyDrive/Data training/Nonenhanced Mask/_groundtruth_(1)_Nonenhanced_image84.jpg_ca58d3a5-d68c-48fe-a1fa-8622e1fef069.jpg\n",
            "Working on file  /content/gdrive/MyDrive/Data training/Nonenhanced Mask/_groundtruth_(1)_Nonenhanced_image84.jpg_e15c4373-1e99-4a5f-ab7f-2a1726fa468c.jpg\n",
            "Working on file  /content/gdrive/MyDrive/Data training/Nonenhanced Mask/_groundtruth_(1)_Nonenhanced_image84.jpg_f77d5b16-14b4-4584-8a61-904d8dec7c17.jpg\n",
            "Working on file  /content/gdrive/MyDrive/Data training/Nonenhanced Mask/_groundtruth_(1)_Nonenhanced_image84.jpg_f7891935-18c4-46de-b755-ccdb76d519e3.jpg\n",
            "Working on file  /content/gdrive/MyDrive/Data training/Nonenhanced Mask/_groundtruth_(1)_Nonenhanced_image85.jpg_15e8f4d3-b0e5-4cbd-a967-70d63bca9e3e.jpg\n",
            "Working on file  /content/gdrive/MyDrive/Data training/Nonenhanced Mask/_groundtruth_(1)_Nonenhanced_image85.jpg_171de1c4-8573-441c-86e3-a1964c6ee514.jpg\n",
            "Working on file  /content/gdrive/MyDrive/Data training/Nonenhanced Mask/_groundtruth_(1)_Nonenhanced_image85.jpg_712a3cae-daf7-4323-9a93-fd26ef721776.jpg\n",
            "Working on file  /content/gdrive/MyDrive/Data training/Nonenhanced Mask/_groundtruth_(1)_Nonenhanced_image85.jpg_7872af8c-c274-41e6-a33a-0ca3cf0be47c.jpg\n",
            "Working on file  /content/gdrive/MyDrive/Data training/Nonenhanced Mask/_groundtruth_(1)_Nonenhanced_image85.jpg_84845eca-0be8-41ae-a4cd-46138a77527a.jpg\n",
            "Working on file  /content/gdrive/MyDrive/Data training/Nonenhanced Mask/_groundtruth_(1)_Nonenhanced_image85.jpg_b7e509b5-f22f-4e8a-ae42-061eba63a7ec.jpg\n",
            "Working on file  /content/gdrive/MyDrive/Data training/Nonenhanced Mask/_groundtruth_(1)_Nonenhanced_image85.jpg_ba767016-05c5-4aef-b532-6667b676737a.jpg\n",
            "Working on file  /content/gdrive/MyDrive/Data training/Nonenhanced Mask/_groundtruth_(1)_Nonenhanced_image85.jpg_ce19c0d0-ab9e-4e6f-9fcc-74f91e4222c0.jpg\n",
            "Working on file  /content/gdrive/MyDrive/Data training/Nonenhanced Mask/_groundtruth_(1)_Nonenhanced_image85.jpg_d9a60198-4945-43d9-b117-d372f33949b9.jpg\n",
            "Working on file  /content/gdrive/MyDrive/Data training/Nonenhanced Mask/_groundtruth_(1)_Nonenhanced_image85.jpg_e28d60a2-a274-4976-a6f3-642cf686db6e.jpg\n",
            "Working on file  /content/gdrive/MyDrive/Data training/Nonenhanced Mask/_groundtruth_(1)_Nonenhanced_image85.jpg_e8317d41-3ca9-4c43-acc1-208a039a58b9.jpg\n",
            "Working on file  /content/gdrive/MyDrive/Data training/Nonenhanced Mask/_groundtruth_(1)_Nonenhanced_image85.jpg_e8aa5b0a-6779-4122-b51b-03597562be76.jpg\n",
            "Working on file  /content/gdrive/MyDrive/Data training/Nonenhanced Mask/_groundtruth_(1)_Nonenhanced_image86.jpg_1df4a6a3-a718-46ff-8cfe-4db411a278fa.jpg\n",
            "Working on file  /content/gdrive/MyDrive/Data training/Nonenhanced Mask/_groundtruth_(1)_Nonenhanced_image86.jpg_3dcb03c9-3b39-42b0-9ade-11e26fc796d0.jpg\n",
            "Working on file  /content/gdrive/MyDrive/Data training/Nonenhanced Mask/_groundtruth_(1)_Nonenhanced_image86.jpg_856bfb6a-38e0-4b70-aed0-f5085cfb2092.jpg\n",
            "Working on file  /content/gdrive/MyDrive/Data training/Nonenhanced Mask/_groundtruth_(1)_Nonenhanced_image86.jpg_8c5e2464-6908-40d5-9b23-947eaadf78ac.jpg\n",
            "Working on file  /content/gdrive/MyDrive/Data training/Nonenhanced Mask/_groundtruth_(1)_Nonenhanced_image86.jpg_b18e7f9b-53f2-4027-82d1-72ecd9363b65.jpg\n",
            "Working on file  /content/gdrive/MyDrive/Data training/Nonenhanced Mask/_groundtruth_(1)_Nonenhanced_image86.jpg_b68028f1-157f-4bce-a7bc-854077875b64.jpg\n",
            "Working on file  /content/gdrive/MyDrive/Data training/Nonenhanced Mask/_groundtruth_(1)_Nonenhanced_image86.jpg_bce7964c-956c-4a7e-8183-19c64d7bd7dd.jpg\n",
            "Working on file  /content/gdrive/MyDrive/Data training/Nonenhanced Mask/_groundtruth_(1)_Nonenhanced_image86.jpg_f65cef08-359c-4e32-bd50-964cffe974df.jpg\n",
            "Working on file  /content/gdrive/MyDrive/Data training/Nonenhanced Mask/_groundtruth_(1)_Nonenhanced_image86.jpg_f87558b9-46ac-4525-9ac4-fa7a9deaa06e.jpg\n",
            "Working on file  /content/gdrive/MyDrive/Data training/Nonenhanced Mask/_groundtruth_(1)_Nonenhanced_image87.jpg_2d256599-87d2-4a59-874d-875fb85d2088.jpg\n",
            "Working on file  /content/gdrive/MyDrive/Data training/Nonenhanced Mask/_groundtruth_(1)_Nonenhanced_image87.jpg_3f32a760-8b09-4a46-98e4-f641799ffa6d.jpg\n",
            "Working on file  /content/gdrive/MyDrive/Data training/Nonenhanced Mask/_groundtruth_(1)_Nonenhanced_image87.jpg_60c2ed6f-40f7-4147-82bb-1328a0b342b3.jpg\n",
            "Working on file  /content/gdrive/MyDrive/Data training/Nonenhanced Mask/_groundtruth_(1)_Nonenhanced_image87.jpg_92bc087e-3a75-46cc-8f63-fc91086fad05.jpg\n",
            "Working on file  /content/gdrive/MyDrive/Data training/Nonenhanced Mask/_groundtruth_(1)_Nonenhanced_image87.jpg_ad3ec154-0aac-4847-af2c-f48363fb1299.jpg\n",
            "Working on file  /content/gdrive/MyDrive/Data training/Nonenhanced Mask/_groundtruth_(1)_Nonenhanced_image87.jpg_b58873ec-6c1d-4266-a857-f759fad1e415.jpg\n",
            "Working on file  /content/gdrive/MyDrive/Data training/Nonenhanced Mask/_groundtruth_(1)_Nonenhanced_image87.jpg_eb567498-a33b-4ca8-89f2-38e1ad9fdef0.jpg\n",
            "Working on file  /content/gdrive/MyDrive/Data training/Nonenhanced Mask/_groundtruth_(1)_Nonenhanced_image9.jpg_0a308910-d04c-4f1d-b4dd-3bcb977d77e0.jpg\n",
            "Working on file  /content/gdrive/MyDrive/Data training/Nonenhanced Mask/_groundtruth_(1)_Nonenhanced_image9.jpg_31973c37-8e11-40f8-ac53-d3d32194e289.jpg\n",
            "Working on file  /content/gdrive/MyDrive/Data training/Nonenhanced Mask/_groundtruth_(1)_Nonenhanced_image9.jpg_3e068c27-8919-4990-a04f-3b4e0c42b7cc.jpg\n",
            "Working on file  /content/gdrive/MyDrive/Data training/Nonenhanced Mask/_groundtruth_(1)_Nonenhanced_image9.jpg_5cc08e4a-6281-4031-92d7-b814025d0f57.jpg\n",
            "Working on file  /content/gdrive/MyDrive/Data training/Nonenhanced Mask/_groundtruth_(1)_Nonenhanced_image9.jpg_7fb23342-7479-4cc8-89c7-276f93248567.jpg\n",
            "Working on file  /content/gdrive/MyDrive/Data training/Nonenhanced Mask/_groundtruth_(1)_Nonenhanced_image9.jpg_80b71fd7-5fe5-4f80-90e7-947037200bf0.jpg\n",
            "Working on file  /content/gdrive/MyDrive/Data training/Nonenhanced Mask/_groundtruth_(1)_Nonenhanced_image9.jpg_b3e76c12-42fc-4b59-a2ba-5d0dec0cc4b9.jpg\n",
            "Working on file  /content/gdrive/MyDrive/Data training/Nonenhanced Mask/_groundtruth_(1)_Nonenhanced_image9.jpg_d18e1ec2-3e07-452a-a0ea-2930f9b48089.jpg\n",
            "Working on file  /content/gdrive/MyDrive/Data training/Nonenhanced Mask/_groundtruth_(1)_Nonenhanced_image9.jpg_d38bf655-4f61-47af-b93b-e75eb82d5ae1.jpg\n",
            "(1000, 512, 512, 3)\n",
            "(1000, 512, 512)\n"
          ],
          "name": "stdout"
        }
      ]
    },
    {
      "cell_type": "code",
      "metadata": {
        "colab": {
          "base_uri": "https://localhost:8080/",
          "height": 356
        },
        "id": "p9iQDETGTYmb",
        "outputId": "d11403c4-09c8-46e5-a3fb-1e230ae28ade"
      },
      "source": [
        "image_number=random.randint(0,len(train_images))\n",
        "plt.figure(figsize=(12,6))\n",
        "plt.subplot(121)\n",
        "plt.imshow(train_images[image_number,:, :, 0], cmap='gray')\n",
        "plt.subplot(122)\n",
        "plt.imshow(np.reshape(train_mask[image_number], (512,512)), cmap='gray')\n",
        "plt.show()"
      ],
      "execution_count": null,
      "outputs": [
        {
          "output_type": "display_data",
          "data": {
            "image/png": "[encoded data removed]",
            "text/plain": [
              "<Figure size 864x432 with 2 Axes>"
            ]
          },
          "metadata": {
            "tags": [],
            "needs_background": "light"
          }
        }
      ]
    },
    {
      "cell_type": "code",
      "metadata": {
        "id": "vkf1gkzDTcbb"
      },
      "source": [
        "from sklearn.model_selection import train_test_split\n",
        "x_train, x_val, y_train, y_val = train_test_split(X, Y, test_size=0.25, random_state=42)\n",
        "np.save(out_dir+\"x_train.npy\",x_train)\n",
        "np.save(out_dir+\"y_train.npy\",y_train)\n",
        "np.save(out_dir+\"x_val.npy\",x_val)\n",
        "np.save(out_dir+\"y_val.npy\",y_val)\n",
        "print(x_train.shape)\n",
        "print(x_val.shape)\n",
        "print(y_train.shape)\n",
        "print(y_val.shape)\n",
        "#del train_images, train_mask, x_train, x_val, y_train, y_val"
      ],
      "execution_count": null,
      "outputs": []
    },
    {
      "cell_type": "code",
      "metadata": {
        "id": "IK3bBQNiTfQ0"
      },
      "source": [
        "BACKBONE='resnet34'\n",
        "preprocess_input=sm.get_preprocessing(BACKBONE)"
      ],
      "execution_count": null,
      "outputs": []
    },
    {
      "cell_type": "code",
      "metadata": {
        "id": "e8cDqDqLTjGb"
      },
      "source": [
        "x_train=np.load(out_dir + \"x_train.npy\").astype(np.float32)\n",
        "y_train=np.load(out_dir + \"y_train.npy\").astype(np.float32)\n",
        "x_val=np.load(out_dir + \"x_val.npy\").astype(np.float32)\n",
        "y_val=np.load(out_dir + \"y_val.npy\").astype(np.float32)\n"
      ],
      "execution_count": null,
      "outputs": []
    },
    {
      "cell_type": "code",
      "metadata": {
        "colab": {
          "base_uri": "https://localhost:8080/",
          "height": 356
        },
        "id": "oEmsaNLZnSaq",
        "outputId": "4e18cb77-bb6b-4e06-a9f9-9c2b941f1628"
      },
      "source": [
        "image_number=random.randint(0,len(x_train))\n",
        "plt.figure(figsize=(12,6))\n",
        "plt.subplot(121)\n",
        "plt.imshow(x_train[image_number,:,:,0], cmap='gray')\n",
        "plt.subplot(122)\n",
        "plt.imshow(np.reshape(y_train[image_number], (512,512)), cmap='gray')\n",
        "plt.show()"
      ],
      "execution_count": null,
      "outputs": [
        {
          "output_type": "display_data",
          "data": {
            "image/png": "[encoded data removed]",
            "text/plain": [
              "<Figure size 864x432 with 2 Axes>"
            ]
          },
          "metadata": {
            "tags": [],
            "needs_background": "light"
          }
        }
      ]
    },
    {
      "cell_type": "code",
      "metadata": {
        "colab": {
          "base_uri": "https://localhost:8080/"
        },
        "id": "M2nWRjLj7amI",
        "outputId": "138ad3a8-4678-449a-fb56-389829175590"
      },
      "source": [
        "from keras.callbacks import ModelCheckpoint, LearningRateScheduler, TensorBoard\n",
        "model=sm.Unet(BACKBONE, encoder_weights='imagenet')"
      ],
      "execution_count": null,
      "outputs": [
        {
          "output_type": "stream",
          "text": [
            "WARNING:tensorflow:From /tensorflow-1.15.2/python3.7/tensorflow_core/python/ops/resource_variable_ops.py:1630: calling BaseResourceVariable.__init__ (from tensorflow.python.ops.resource_variable_ops) with constraint is deprecated and will be removed in a future version.\n",
            "Instructions for updating:\n",
            "If using Keras pass *_constraint arguments to layers.\n",
            "Downloading data from https://github.com/qubvel/classification_models/releases/download/0.0.1/resnet34_imagenet_1000_no_top.h5\n",
            "85524480/85521592 [==============================] - 1s 0us/step\n"
          ],
          "name": "stdout"
        }
      ]
    },
    {
      "cell_type": "code",
      "metadata": {
        "colab": {
          "base_uri": "https://localhost:8080/"
        },
        "id": "bAIzA_p0TlQb",
        "outputId": "18b9cd19-f902-4a37-97d0-f26de2be50db"
      },
      "source": [
        "\n",
        "model.compile('Adam', loss=sm.losses.bce_jaccard_loss, metrics=[sm.metrics.iou_score])\n",
        "filepath=\"/content/gdrive/MyDrive/Weight/unet_weight_28.hdf5\"\n",
        "model_checkpoint = ModelCheckpoint(filepath, monitor='loss', save_best_only=True)\n",
        "\n",
        "print(model.summary())\n",
        "\n",
        "history=model.fit(x_train, \n",
        "                  y_train,\n",
        "                  batch_size=2,\n",
        "                  epochs=150,\n",
        "                  verbose=1, \n",
        "                  callbacks=[model_checkpoint],\n",
        "                  validation_data=(x_val, y_val))"
      ],
      "execution_count": null,
      "outputs": [
        {
          "output_type": "stream",
          "text": [
            "Model: \"model_7\"\n",
            "__________________________________________________________________________________________________\n",
            "Layer (type)                    Output Shape         Param #     Connected to                     \n",
            "==================================================================================================\n",
            "data (InputLayer)               [(None, None, None,  0                                            \n",
            "__________________________________________________________________________________________________\n",
            "bn_data (BatchNormalization)    (None, None, None, 3 9           data[0][0]                       \n",
            "__________________________________________________________________________________________________\n",
            "zero_padding2d_102 (ZeroPadding (None, None, None, 3 0           bn_data[0][0]                    \n",
            "__________________________________________________________________________________________________\n",
            "conv0 (Conv2D)                  (None, None, None, 6 9408        zero_padding2d_102[0][0]         \n",
            "__________________________________________________________________________________________________\n",
            "bn0 (BatchNormalization)        (None, None, None, 6 256         conv0[0][0]                      \n",
            "__________________________________________________________________________________________________\n",
            "relu0 (Activation)              (None, None, None, 6 0           bn0[0][0]                        \n",
            "__________________________________________________________________________________________________\n",
            "zero_padding2d_103 (ZeroPadding (None, None, None, 6 0           relu0[0][0]                      \n",
            "__________________________________________________________________________________________________\n",
            "pooling0 (MaxPooling2D)         (None, None, None, 6 0           zero_padding2d_103[0][0]         \n",
            "__________________________________________________________________________________________________\n",
            "stage1_unit1_bn1 (BatchNormaliz (None, None, None, 6 256         pooling0[0][0]                   \n",
            "__________________________________________________________________________________________________\n",
            "stage1_unit1_relu1 (Activation) (None, None, None, 6 0           stage1_unit1_bn1[0][0]           \n",
            "__________________________________________________________________________________________________\n",
            "zero_padding2d_104 (ZeroPadding (None, None, None, 6 0           stage1_unit1_relu1[0][0]         \n",
            "__________________________________________________________________________________________________\n",
            "stage1_unit1_conv1 (Conv2D)     (None, None, None, 6 36864       zero_padding2d_104[0][0]         \n",
            "__________________________________________________________________________________________________\n",
            "stage1_unit1_bn2 (BatchNormaliz (None, None, None, 6 256         stage1_unit1_conv1[0][0]         \n",
            "__________________________________________________________________________________________________\n",
            "stage1_unit1_relu2 (Activation) (None, None, None, 6 0           stage1_unit1_bn2[0][0]           \n",
            "__________________________________________________________________________________________________\n",
            "zero_padding2d_105 (ZeroPadding (None, None, None, 6 0           stage1_unit1_relu2[0][0]         \n",
            "__________________________________________________________________________________________________\n",
            "stage1_unit1_conv2 (Conv2D)     (None, None, None, 6 36864       zero_padding2d_105[0][0]         \n",
            "__________________________________________________________________________________________________\n",
            "stage1_unit1_sc (Conv2D)        (None, None, None, 6 4096        stage1_unit1_relu1[0][0]         \n",
            "__________________________________________________________________________________________________\n",
            "add_48 (Add)                    (None, None, None, 6 0           stage1_unit1_conv2[0][0]         \n",
            "                                                                 stage1_unit1_sc[0][0]            \n",
            "__________________________________________________________________________________________________\n",
            "stage1_unit2_bn1 (BatchNormaliz (None, None, None, 6 256         add_48[0][0]                     \n",
            "__________________________________________________________________________________________________\n",
            "stage1_unit2_relu1 (Activation) (None, None, None, 6 0           stage1_unit2_bn1[0][0]           \n",
            "__________________________________________________________________________________________________\n",
            "zero_padding2d_106 (ZeroPadding (None, None, None, 6 0           stage1_unit2_relu1[0][0]         \n",
            "__________________________________________________________________________________________________\n",
            "stage1_unit2_conv1 (Conv2D)     (None, None, None, 6 36864       zero_padding2d_106[0][0]         \n",
            "__________________________________________________________________________________________________\n",
            "stage1_unit2_bn2 (BatchNormaliz (None, None, None, 6 256         stage1_unit2_conv1[0][0]         \n",
            "__________________________________________________________________________________________________\n",
            "stage1_unit2_relu2 (Activation) (None, None, None, 6 0           stage1_unit2_bn2[0][0]           \n",
            "__________________________________________________________________________________________________\n",
            "zero_padding2d_107 (ZeroPadding (None, None, None, 6 0           stage1_unit2_relu2[0][0]         \n",
            "__________________________________________________________________________________________________\n",
            "stage1_unit2_conv2 (Conv2D)     (None, None, None, 6 36864       zero_padding2d_107[0][0]         \n",
            "__________________________________________________________________________________________________\n",
            "add_49 (Add)                    (None, None, None, 6 0           stage1_unit2_conv2[0][0]         \n",
            "                                                                 add_48[0][0]                     \n",
            "__________________________________________________________________________________________________\n",
            "stage1_unit3_bn1 (BatchNormaliz (None, None, None, 6 256         add_49[0][0]                     \n",
            "__________________________________________________________________________________________________\n",
            "stage1_unit3_relu1 (Activation) (None, None, None, 6 0           stage1_unit3_bn1[0][0]           \n",
            "__________________________________________________________________________________________________\n",
            "zero_padding2d_108 (ZeroPadding (None, None, None, 6 0           stage1_unit3_relu1[0][0]         \n",
            "__________________________________________________________________________________________________\n",
            "stage1_unit3_conv1 (Conv2D)     (None, None, None, 6 36864       zero_padding2d_108[0][0]         \n",
            "__________________________________________________________________________________________________\n",
            "stage1_unit3_bn2 (BatchNormaliz (None, None, None, 6 256         stage1_unit3_conv1[0][0]         \n",
            "__________________________________________________________________________________________________\n",
            "stage1_unit3_relu2 (Activation) (None, None, None, 6 0           stage1_unit3_bn2[0][0]           \n",
            "__________________________________________________________________________________________________\n",
            "zero_padding2d_109 (ZeroPadding (None, None, None, 6 0           stage1_unit3_relu2[0][0]         \n",
            "__________________________________________________________________________________________________\n",
            "stage1_unit3_conv2 (Conv2D)     (None, None, None, 6 36864       zero_padding2d_109[0][0]         \n",
            "__________________________________________________________________________________________________\n",
            "add_50 (Add)                    (None, None, None, 6 0           stage1_unit3_conv2[0][0]         \n",
            "                                                                 add_49[0][0]                     \n",
            "__________________________________________________________________________________________________\n",
            "stage2_unit1_bn1 (BatchNormaliz (None, None, None, 6 256         add_50[0][0]                     \n",
            "__________________________________________________________________________________________________\n",
            "stage2_unit1_relu1 (Activation) (None, None, None, 6 0           stage2_unit1_bn1[0][0]           \n",
            "__________________________________________________________________________________________________\n",
            "zero_padding2d_110 (ZeroPadding (None, None, None, 6 0           stage2_unit1_relu1[0][0]         \n",
            "__________________________________________________________________________________________________\n",
            "stage2_unit1_conv1 (Conv2D)     (None, None, None, 1 73728       zero_padding2d_110[0][0]         \n",
            "__________________________________________________________________________________________________\n",
            "stage2_unit1_bn2 (BatchNormaliz (None, None, None, 1 512         stage2_unit1_conv1[0][0]         \n",
            "__________________________________________________________________________________________________\n",
            "stage2_unit1_relu2 (Activation) (None, None, None, 1 0           stage2_unit1_bn2[0][0]           \n",
            "__________________________________________________________________________________________________\n",
            "zero_padding2d_111 (ZeroPadding (None, None, None, 1 0           stage2_unit1_relu2[0][0]         \n",
            "__________________________________________________________________________________________________\n",
            "stage2_unit1_conv2 (Conv2D)     (None, None, None, 1 147456      zero_padding2d_111[0][0]         \n",
            "__________________________________________________________________________________________________\n",
            "stage2_unit1_sc (Conv2D)        (None, None, None, 1 8192        stage2_unit1_relu1[0][0]         \n",
            "__________________________________________________________________________________________________\n",
            "add_51 (Add)                    (None, None, None, 1 0           stage2_unit1_conv2[0][0]         \n",
            "                                                                 stage2_unit1_sc[0][0]            \n",
            "__________________________________________________________________________________________________\n",
            "stage2_unit2_bn1 (BatchNormaliz (None, None, None, 1 512         add_51[0][0]                     \n",
            "__________________________________________________________________________________________________\n",
            "stage2_unit2_relu1 (Activation) (None, None, None, 1 0           stage2_unit2_bn1[0][0]           \n",
            "__________________________________________________________________________________________________\n",
            "zero_padding2d_112 (ZeroPadding (None, None, None, 1 0           stage2_unit2_relu1[0][0]         \n",
            "__________________________________________________________________________________________________\n",
            "stage2_unit2_conv1 (Conv2D)     (None, None, None, 1 147456      zero_padding2d_112[0][0]         \n",
            "__________________________________________________________________________________________________\n",
            "stage2_unit2_bn2 (BatchNormaliz (None, None, None, 1 512         stage2_unit2_conv1[0][0]         \n",
            "__________________________________________________________________________________________________\n",
            "stage2_unit2_relu2 (Activation) (None, None, None, 1 0           stage2_unit2_bn2[0][0]           \n",
            "__________________________________________________________________________________________________\n",
            "zero_padding2d_113 (ZeroPadding (None, None, None, 1 0           stage2_unit2_relu2[0][0]         \n",
            "__________________________________________________________________________________________________\n",
            "stage2_unit2_conv2 (Conv2D)     (None, None, None, 1 147456      zero_padding2d_113[0][0]         \n",
            "__________________________________________________________________________________________________\n",
            "add_52 (Add)                    (None, None, None, 1 0           stage2_unit2_conv2[0][0]         \n",
            "                                                                 add_51[0][0]                     \n",
            "__________________________________________________________________________________________________\n",
            "stage2_unit3_bn1 (BatchNormaliz (None, None, None, 1 512         add_52[0][0]                     \n",
            "__________________________________________________________________________________________________\n",
            "stage2_unit3_relu1 (Activation) (None, None, None, 1 0           stage2_unit3_bn1[0][0]           \n",
            "__________________________________________________________________________________________________\n",
            "zero_padding2d_114 (ZeroPadding (None, None, None, 1 0           stage2_unit3_relu1[0][0]         \n",
            "__________________________________________________________________________________________________\n",
            "stage2_unit3_conv1 (Conv2D)     (None, None, None, 1 147456      zero_padding2d_114[0][0]         \n",
            "__________________________________________________________________________________________________\n",
            "stage2_unit3_bn2 (BatchNormaliz (None, None, None, 1 512         stage2_unit3_conv1[0][0]         \n",
            "__________________________________________________________________________________________________\n",
            "stage2_unit3_relu2 (Activation) (None, None, None, 1 0           stage2_unit3_bn2[0][0]           \n",
            "__________________________________________________________________________________________________\n",
            "zero_padding2d_115 (ZeroPadding (None, None, None, 1 0           stage2_unit3_relu2[0][0]         \n",
            "__________________________________________________________________________________________________\n",
            "stage2_unit3_conv2 (Conv2D)     (None, None, None, 1 147456      zero_padding2d_115[0][0]         \n",
            "__________________________________________________________________________________________________\n",
            "add_53 (Add)                    (None, None, None, 1 0           stage2_unit3_conv2[0][0]         \n",
            "                                                                 add_52[0][0]                     \n",
            "__________________________________________________________________________________________________\n",
            "stage2_unit4_bn1 (BatchNormaliz (None, None, None, 1 512         add_53[0][0]                     \n",
            "__________________________________________________________________________________________________\n",
            "stage2_unit4_relu1 (Activation) (None, None, None, 1 0           stage2_unit4_bn1[0][0]           \n",
            "__________________________________________________________________________________________________\n",
            "zero_padding2d_116 (ZeroPadding (None, None, None, 1 0           stage2_unit4_relu1[0][0]         \n",
            "__________________________________________________________________________________________________\n",
            "stage2_unit4_conv1 (Conv2D)     (None, None, None, 1 147456      zero_padding2d_116[0][0]         \n",
            "__________________________________________________________________________________________________\n",
            "stage2_unit4_bn2 (BatchNormaliz (None, None, None, 1 512         stage2_unit4_conv1[0][0]         \n",
            "__________________________________________________________________________________________________\n",
            "stage2_unit4_relu2 (Activation) (None, None, None, 1 0           stage2_unit4_bn2[0][0]           \n",
            "__________________________________________________________________________________________________\n",
            "zero_padding2d_117 (ZeroPadding (None, None, None, 1 0           stage2_unit4_relu2[0][0]         \n",
            "__________________________________________________________________________________________________\n",
            "stage2_unit4_conv2 (Conv2D)     (None, None, None, 1 147456      zero_padding2d_117[0][0]         \n",
            "__________________________________________________________________________________________________\n",
            "add_54 (Add)                    (None, None, None, 1 0           stage2_unit4_conv2[0][0]         \n",
            "                                                                 add_53[0][0]                     \n",
            "__________________________________________________________________________________________________\n",
            "stage3_unit1_bn1 (BatchNormaliz (None, None, None, 1 512         add_54[0][0]                     \n",
            "__________________________________________________________________________________________________\n",
            "stage3_unit1_relu1 (Activation) (None, None, None, 1 0           stage3_unit1_bn1[0][0]           \n",
            "__________________________________________________________________________________________________\n",
            "zero_padding2d_118 (ZeroPadding (None, None, None, 1 0           stage3_unit1_relu1[0][0]         \n",
            "__________________________________________________________________________________________________\n",
            "stage3_unit1_conv1 (Conv2D)     (None, None, None, 2 294912      zero_padding2d_118[0][0]         \n",
            "__________________________________________________________________________________________________\n",
            "stage3_unit1_bn2 (BatchNormaliz (None, None, None, 2 1024        stage3_unit1_conv1[0][0]         \n",
            "__________________________________________________________________________________________________\n",
            "stage3_unit1_relu2 (Activation) (None, None, None, 2 0           stage3_unit1_bn2[0][0]           \n",
            "__________________________________________________________________________________________________\n",
            "zero_padding2d_119 (ZeroPadding (None, None, None, 2 0           stage3_unit1_relu2[0][0]         \n",
            "__________________________________________________________________________________________________\n",
            "stage3_unit1_conv2 (Conv2D)     (None, None, None, 2 589824      zero_padding2d_119[0][0]         \n",
            "__________________________________________________________________________________________________\n",
            "stage3_unit1_sc (Conv2D)        (None, None, None, 2 32768       stage3_unit1_relu1[0][0]         \n",
            "__________________________________________________________________________________________________\n",
            "add_55 (Add)                    (None, None, None, 2 0           stage3_unit1_conv2[0][0]         \n",
            "                                                                 stage3_unit1_sc[0][0]            \n",
            "__________________________________________________________________________________________________\n",
            "stage3_unit2_bn1 (BatchNormaliz (None, None, None, 2 1024        add_55[0][0]                     \n",
            "__________________________________________________________________________________________________\n",
            "stage3_unit2_relu1 (Activation) (None, None, None, 2 0           stage3_unit2_bn1[0][0]           \n",
            "__________________________________________________________________________________________________\n",
            "zero_padding2d_120 (ZeroPadding (None, None, None, 2 0           stage3_unit2_relu1[0][0]         \n",
            "__________________________________________________________________________________________________\n",
            "stage3_unit2_conv1 (Conv2D)     (None, None, None, 2 589824      zero_padding2d_120[0][0]         \n",
            "__________________________________________________________________________________________________\n",
            "stage3_unit2_bn2 (BatchNormaliz (None, None, None, 2 1024        stage3_unit2_conv1[0][0]         \n",
            "__________________________________________________________________________________________________\n",
            "stage3_unit2_relu2 (Activation) (None, None, None, 2 0           stage3_unit2_bn2[0][0]           \n",
            "__________________________________________________________________________________________________\n",
            "zero_padding2d_121 (ZeroPadding (None, None, None, 2 0           stage3_unit2_relu2[0][0]         \n",
            "__________________________________________________________________________________________________\n",
            "stage3_unit2_conv2 (Conv2D)     (None, None, None, 2 589824      zero_padding2d_121[0][0]         \n",
            "__________________________________________________________________________________________________\n",
            "add_56 (Add)                    (None, None, None, 2 0           stage3_unit2_conv2[0][0]         \n",
            "                                                                 add_55[0][0]                     \n",
            "__________________________________________________________________________________________________\n",
            "stage3_unit3_bn1 (BatchNormaliz (None, None, None, 2 1024        add_56[0][0]                     \n",
            "__________________________________________________________________________________________________\n",
            "stage3_unit3_relu1 (Activation) (None, None, None, 2 0           stage3_unit3_bn1[0][0]           \n",
            "__________________________________________________________________________________________________\n",
            "zero_padding2d_122 (ZeroPadding (None, None, None, 2 0           stage3_unit3_relu1[0][0]         \n",
            "__________________________________________________________________________________________________\n",
            "stage3_unit3_conv1 (Conv2D)     (None, None, None, 2 589824      zero_padding2d_122[0][0]         \n",
            "__________________________________________________________________________________________________\n",
            "stage3_unit3_bn2 (BatchNormaliz (None, None, None, 2 1024        stage3_unit3_conv1[0][0]         \n",
            "__________________________________________________________________________________________________\n",
            "stage3_unit3_relu2 (Activation) (None, None, None, 2 0           stage3_unit3_bn2[0][0]           \n",
            "__________________________________________________________________________________________________\n",
            "zero_padding2d_123 (ZeroPadding (None, None, None, 2 0           stage3_unit3_relu2[0][0]         \n",
            "__________________________________________________________________________________________________\n",
            "stage3_unit3_conv2 (Conv2D)     (None, None, None, 2 589824      zero_padding2d_123[0][0]         \n",
            "__________________________________________________________________________________________________\n",
            "add_57 (Add)                    (None, None, None, 2 0           stage3_unit3_conv2[0][0]         \n",
            "                                                                 add_56[0][0]                     \n",
            "__________________________________________________________________________________________________\n",
            "stage3_unit4_bn1 (BatchNormaliz (None, None, None, 2 1024        add_57[0][0]                     \n",
            "__________________________________________________________________________________________________\n",
            "stage3_unit4_relu1 (Activation) (None, None, None, 2 0           stage3_unit4_bn1[0][0]           \n",
            "__________________________________________________________________________________________________\n",
            "zero_padding2d_124 (ZeroPadding (None, None, None, 2 0           stage3_unit4_relu1[0][0]         \n",
            "__________________________________________________________________________________________________\n",
            "stage3_unit4_conv1 (Conv2D)     (None, None, None, 2 589824      zero_padding2d_124[0][0]         \n",
            "__________________________________________________________________________________________________\n",
            "stage3_unit4_bn2 (BatchNormaliz (None, None, None, 2 1024        stage3_unit4_conv1[0][0]         \n",
            "__________________________________________________________________________________________________\n",
            "stage3_unit4_relu2 (Activation) (None, None, None, 2 0           stage3_unit4_bn2[0][0]           \n",
            "__________________________________________________________________________________________________\n",
            "zero_padding2d_125 (ZeroPadding (None, None, None, 2 0           stage3_unit4_relu2[0][0]         \n",
            "__________________________________________________________________________________________________\n",
            "stage3_unit4_conv2 (Conv2D)     (None, None, None, 2 589824      zero_padding2d_125[0][0]         \n",
            "__________________________________________________________________________________________________\n",
            "add_58 (Add)                    (None, None, None, 2 0           stage3_unit4_conv2[0][0]         \n",
            "                                                                 add_57[0][0]                     \n",
            "__________________________________________________________________________________________________\n",
            "stage3_unit5_bn1 (BatchNormaliz (None, None, None, 2 1024        add_58[0][0]                     \n",
            "__________________________________________________________________________________________________\n",
            "stage3_unit5_relu1 (Activation) (None, None, None, 2 0           stage3_unit5_bn1[0][0]           \n",
            "__________________________________________________________________________________________________\n",
            "zero_padding2d_126 (ZeroPadding (None, None, None, 2 0           stage3_unit5_relu1[0][0]         \n",
            "__________________________________________________________________________________________________\n",
            "stage3_unit5_conv1 (Conv2D)     (None, None, None, 2 589824      zero_padding2d_126[0][0]         \n",
            "__________________________________________________________________________________________________\n",
            "stage3_unit5_bn2 (BatchNormaliz (None, None, None, 2 1024        stage3_unit5_conv1[0][0]         \n",
            "__________________________________________________________________________________________________\n",
            "stage3_unit5_relu2 (Activation) (None, None, None, 2 0           stage3_unit5_bn2[0][0]           \n",
            "__________________________________________________________________________________________________\n",
            "zero_padding2d_127 (ZeroPadding (None, None, None, 2 0           stage3_unit5_relu2[0][0]         \n",
            "__________________________________________________________________________________________________\n",
            "stage3_unit5_conv2 (Conv2D)     (None, None, None, 2 589824      zero_padding2d_127[0][0]         \n",
            "__________________________________________________________________________________________________\n",
            "add_59 (Add)                    (None, None, None, 2 0           stage3_unit5_conv2[0][0]         \n",
            "                                                                 add_58[0][0]                     \n",
            "__________________________________________________________________________________________________\n",
            "stage3_unit6_bn1 (BatchNormaliz (None, None, None, 2 1024        add_59[0][0]                     \n",
            "__________________________________________________________________________________________________\n",
            "stage3_unit6_relu1 (Activation) (None, None, None, 2 0           stage3_unit6_bn1[0][0]           \n",
            "__________________________________________________________________________________________________\n",
            "zero_padding2d_128 (ZeroPadding (None, None, None, 2 0           stage3_unit6_relu1[0][0]         \n",
            "__________________________________________________________________________________________________\n",
            "stage3_unit6_conv1 (Conv2D)     (None, None, None, 2 589824      zero_padding2d_128[0][0]         \n",
            "__________________________________________________________________________________________________\n",
            "stage3_unit6_bn2 (BatchNormaliz (None, None, None, 2 1024        stage3_unit6_conv1[0][0]         \n",
            "__________________________________________________________________________________________________\n",
            "stage3_unit6_relu2 (Activation) (None, None, None, 2 0           stage3_unit6_bn2[0][0]           \n",
            "__________________________________________________________________________________________________\n",
            "zero_padding2d_129 (ZeroPadding (None, None, None, 2 0           stage3_unit6_relu2[0][0]         \n",
            "__________________________________________________________________________________________________\n",
            "stage3_unit6_conv2 (Conv2D)     (None, None, None, 2 589824      zero_padding2d_129[0][0]         \n",
            "__________________________________________________________________________________________________\n",
            "add_60 (Add)                    (None, None, None, 2 0           stage3_unit6_conv2[0][0]         \n",
            "                                                                 add_59[0][0]                     \n",
            "__________________________________________________________________________________________________\n",
            "stage4_unit1_bn1 (BatchNormaliz (None, None, None, 2 1024        add_60[0][0]                     \n",
            "__________________________________________________________________________________________________\n",
            "stage4_unit1_relu1 (Activation) (None, None, None, 2 0           stage4_unit1_bn1[0][0]           \n",
            "__________________________________________________________________________________________________\n",
            "zero_padding2d_130 (ZeroPadding (None, None, None, 2 0           stage4_unit1_relu1[0][0]         \n",
            "__________________________________________________________________________________________________\n",
            "stage4_unit1_conv1 (Conv2D)     (None, None, None, 5 1179648     zero_padding2d_130[0][0]         \n",
            "__________________________________________________________________________________________________\n",
            "stage4_unit1_bn2 (BatchNormaliz (None, None, None, 5 2048        stage4_unit1_conv1[0][0]         \n",
            "__________________________________________________________________________________________________\n",
            "stage4_unit1_relu2 (Activation) (None, None, None, 5 0           stage4_unit1_bn2[0][0]           \n",
            "__________________________________________________________________________________________________\n",
            "zero_padding2d_131 (ZeroPadding (None, None, None, 5 0           stage4_unit1_relu2[0][0]         \n",
            "__________________________________________________________________________________________________\n",
            "stage4_unit1_conv2 (Conv2D)     (None, None, None, 5 2359296     zero_padding2d_131[0][0]         \n",
            "__________________________________________________________________________________________________\n",
            "stage4_unit1_sc (Conv2D)        (None, None, None, 5 131072      stage4_unit1_relu1[0][0]         \n",
            "__________________________________________________________________________________________________\n",
            "add_61 (Add)                    (None, None, None, 5 0           stage4_unit1_conv2[0][0]         \n",
            "                                                                 stage4_unit1_sc[0][0]            \n",
            "__________________________________________________________________________________________________\n",
            "stage4_unit2_bn1 (BatchNormaliz (None, None, None, 5 2048        add_61[0][0]                     \n",
            "__________________________________________________________________________________________________\n",
            "stage4_unit2_relu1 (Activation) (None, None, None, 5 0           stage4_unit2_bn1[0][0]           \n",
            "__________________________________________________________________________________________________\n",
            "zero_padding2d_132 (ZeroPadding (None, None, None, 5 0           stage4_unit2_relu1[0][0]         \n",
            "__________________________________________________________________________________________________\n",
            "stage4_unit2_conv1 (Conv2D)     (None, None, None, 5 2359296     zero_padding2d_132[0][0]         \n",
            "__________________________________________________________________________________________________\n",
            "stage4_unit2_bn2 (BatchNormaliz (None, None, None, 5 2048        stage4_unit2_conv1[0][0]         \n",
            "__________________________________________________________________________________________________\n",
            "stage4_unit2_relu2 (Activation) (None, None, None, 5 0           stage4_unit2_bn2[0][0]           \n",
            "__________________________________________________________________________________________________\n",
            "zero_padding2d_133 (ZeroPadding (None, None, None, 5 0           stage4_unit2_relu2[0][0]         \n",
            "__________________________________________________________________________________________________\n",
            "stage4_unit2_conv2 (Conv2D)     (None, None, None, 5 2359296     zero_padding2d_133[0][0]         \n",
            "__________________________________________________________________________________________________\n",
            "add_62 (Add)                    (None, None, None, 5 0           stage4_unit2_conv2[0][0]         \n",
            "                                                                 add_61[0][0]                     \n",
            "__________________________________________________________________________________________________\n",
            "stage4_unit3_bn1 (BatchNormaliz (None, None, None, 5 2048        add_62[0][0]                     \n",
            "__________________________________________________________________________________________________\n",
            "stage4_unit3_relu1 (Activation) (None, None, None, 5 0           stage4_unit3_bn1[0][0]           \n",
            "__________________________________________________________________________________________________\n",
            "zero_padding2d_134 (ZeroPadding (None, None, None, 5 0           stage4_unit3_relu1[0][0]         \n",
            "__________________________________________________________________________________________________\n",
            "stage4_unit3_conv1 (Conv2D)     (None, None, None, 5 2359296     zero_padding2d_134[0][0]         \n",
            "__________________________________________________________________________________________________\n",
            "stage4_unit3_bn2 (BatchNormaliz (None, None, None, 5 2048        stage4_unit3_conv1[0][0]         \n",
            "__________________________________________________________________________________________________\n",
            "stage4_unit3_relu2 (Activation) (None, None, None, 5 0           stage4_unit3_bn2[0][0]           \n",
            "__________________________________________________________________________________________________\n",
            "zero_padding2d_135 (ZeroPadding (None, None, None, 5 0           stage4_unit3_relu2[0][0]         \n",
            "__________________________________________________________________________________________________\n",
            "stage4_unit3_conv2 (Conv2D)     (None, None, None, 5 2359296     zero_padding2d_135[0][0]         \n",
            "__________________________________________________________________________________________________\n",
            "add_63 (Add)                    (None, None, None, 5 0           stage4_unit3_conv2[0][0]         \n",
            "                                                                 add_62[0][0]                     \n",
            "__________________________________________________________________________________________________\n",
            "bn1 (BatchNormalization)        (None, None, None, 5 2048        add_63[0][0]                     \n",
            "__________________________________________________________________________________________________\n",
            "relu1 (Activation)              (None, None, None, 5 0           bn1[0][0]                        \n",
            "__________________________________________________________________________________________________\n",
            "decoder_stage0_upsampling (UpSa (None, None, None, 5 0           relu1[0][0]                      \n",
            "__________________________________________________________________________________________________\n",
            "decoder_stage0_concat (Concaten (None, None, None, 7 0           decoder_stage0_upsampling[0][0]  \n",
            "                                                                 stage4_unit1_relu1[0][0]         \n",
            "__________________________________________________________________________________________________\n",
            "decoder_stage0a_conv (Conv2D)   (None, None, None, 2 1769472     decoder_stage0_concat[0][0]      \n",
            "__________________________________________________________________________________________________\n",
            "decoder_stage0a_bn (BatchNormal (None, None, None, 2 1024        decoder_stage0a_conv[0][0]       \n",
            "__________________________________________________________________________________________________\n",
            "decoder_stage0a_relu (Activatio (None, None, None, 2 0           decoder_stage0a_bn[0][0]         \n",
            "__________________________________________________________________________________________________\n",
            "decoder_stage0b_conv (Conv2D)   (None, None, None, 2 589824      decoder_stage0a_relu[0][0]       \n",
            "__________________________________________________________________________________________________\n",
            "decoder_stage0b_bn (BatchNormal (None, None, None, 2 1024        decoder_stage0b_conv[0][0]       \n",
            "__________________________________________________________________________________________________\n",
            "decoder_stage0b_relu (Activatio (None, None, None, 2 0           decoder_stage0b_bn[0][0]         \n",
            "__________________________________________________________________________________________________\n",
            "decoder_stage1_upsampling (UpSa (None, None, None, 2 0           decoder_stage0b_relu[0][0]       \n",
            "__________________________________________________________________________________________________\n",
            "decoder_stage1_concat (Concaten (None, None, None, 3 0           decoder_stage1_upsampling[0][0]  \n",
            "                                                                 stage3_unit1_relu1[0][0]         \n",
            "__________________________________________________________________________________________________\n",
            "decoder_stage1a_conv (Conv2D)   (None, None, None, 1 442368      decoder_stage1_concat[0][0]      \n",
            "__________________________________________________________________________________________________\n",
            "decoder_stage1a_bn (BatchNormal (None, None, None, 1 512         decoder_stage1a_conv[0][0]       \n",
            "__________________________________________________________________________________________________\n",
            "decoder_stage1a_relu (Activatio (None, None, None, 1 0           decoder_stage1a_bn[0][0]         \n",
            "__________________________________________________________________________________________________\n",
            "decoder_stage1b_conv (Conv2D)   (None, None, None, 1 147456      decoder_stage1a_relu[0][0]       \n",
            "__________________________________________________________________________________________________\n",
            "decoder_stage1b_bn (BatchNormal (None, None, None, 1 512         decoder_stage1b_conv[0][0]       \n",
            "__________________________________________________________________________________________________\n",
            "decoder_stage1b_relu (Activatio (None, None, None, 1 0           decoder_stage1b_bn[0][0]         \n",
            "__________________________________________________________________________________________________\n",
            "decoder_stage2_upsampling (UpSa (None, None, None, 1 0           decoder_stage1b_relu[0][0]       \n",
            "__________________________________________________________________________________________________\n",
            "decoder_stage2_concat (Concaten (None, None, None, 1 0           decoder_stage2_upsampling[0][0]  \n",
            "                                                                 stage2_unit1_relu1[0][0]         \n",
            "__________________________________________________________________________________________________\n",
            "decoder_stage2a_conv (Conv2D)   (None, None, None, 6 110592      decoder_stage2_concat[0][0]      \n",
            "__________________________________________________________________________________________________\n",
            "decoder_stage2a_bn (BatchNormal (None, None, None, 6 256         decoder_stage2a_conv[0][0]       \n",
            "__________________________________________________________________________________________________\n",
            "decoder_stage2a_relu (Activatio (None, None, None, 6 0           decoder_stage2a_bn[0][0]         \n",
            "__________________________________________________________________________________________________\n",
            "decoder_stage2b_conv (Conv2D)   (None, None, None, 6 36864       decoder_stage2a_relu[0][0]       \n",
            "__________________________________________________________________________________________________\n",
            "decoder_stage2b_bn (BatchNormal (None, None, None, 6 256         decoder_stage2b_conv[0][0]       \n",
            "__________________________________________________________________________________________________\n",
            "decoder_stage2b_relu (Activatio (None, None, None, 6 0           decoder_stage2b_bn[0][0]         \n",
            "__________________________________________________________________________________________________\n",
            "decoder_stage3_upsampling (UpSa (None, None, None, 6 0           decoder_stage2b_relu[0][0]       \n",
            "__________________________________________________________________________________________________\n",
            "decoder_stage3_concat (Concaten (None, None, None, 1 0           decoder_stage3_upsampling[0][0]  \n",
            "                                                                 relu0[0][0]                      \n",
            "__________________________________________________________________________________________________\n",
            "decoder_stage3a_conv (Conv2D)   (None, None, None, 3 36864       decoder_stage3_concat[0][0]      \n",
            "__________________________________________________________________________________________________\n",
            "decoder_stage3a_bn (BatchNormal (None, None, None, 3 128         decoder_stage3a_conv[0][0]       \n",
            "__________________________________________________________________________________________________\n",
            "decoder_stage3a_relu (Activatio (None, None, None, 3 0           decoder_stage3a_bn[0][0]         \n",
            "__________________________________________________________________________________________________\n",
            "decoder_stage3b_conv (Conv2D)   (None, None, None, 3 9216        decoder_stage3a_relu[0][0]       \n",
            "__________________________________________________________________________________________________\n",
            "decoder_stage3b_bn (BatchNormal (None, None, None, 3 128         decoder_stage3b_conv[0][0]       \n",
            "__________________________________________________________________________________________________\n",
            "decoder_stage3b_relu (Activatio (None, None, None, 3 0           decoder_stage3b_bn[0][0]         \n",
            "__________________________________________________________________________________________________\n",
            "decoder_stage4_upsampling (UpSa (None, None, None, 3 0           decoder_stage3b_relu[0][0]       \n",
            "__________________________________________________________________________________________________\n",
            "decoder_stage4a_conv (Conv2D)   (None, None, None, 1 4608        decoder_stage4_upsampling[0][0]  \n",
            "__________________________________________________________________________________________________\n",
            "decoder_stage4a_bn (BatchNormal (None, None, None, 1 64          decoder_stage4a_conv[0][0]       \n",
            "__________________________________________________________________________________________________\n",
            "decoder_stage4a_relu (Activatio (None, None, None, 1 0           decoder_stage4a_bn[0][0]         \n",
            "__________________________________________________________________________________________________\n",
            "decoder_stage4b_conv (Conv2D)   (None, None, None, 1 2304        decoder_stage4a_relu[0][0]       \n",
            "__________________________________________________________________________________________________\n",
            "decoder_stage4b_bn (BatchNormal (None, None, None, 1 64          decoder_stage4b_conv[0][0]       \n",
            "__________________________________________________________________________________________________\n",
            "decoder_stage4b_relu (Activatio (None, None, None, 1 0           decoder_stage4b_bn[0][0]         \n",
            "__________________________________________________________________________________________________\n",
            "final_conv (Conv2D)             (None, None, None, 1 145         decoder_stage4b_relu[0][0]       \n",
            "__________________________________________________________________________________________________\n",
            "sigmoid (Activation)            (None, None, None, 1 0           final_conv[0][0]                 \n",
            "==================================================================================================\n",
            "Total params: 24,456,154\n",
            "Trainable params: 24,438,804\n",
            "Non-trainable params: 17,350\n",
            "__________________________________________________________________________________________________\n",
            "None\n",
            "Train on 750 samples, validate on 250 samples\n",
            "Epoch 1/150\n",
            "750/750 [==============================] - 142s 189ms/sample - loss: 0.6757 - iou_score: 0.4871 - val_loss: 1.3685 - val_iou_score: 0.0016\n",
            "Epoch 2/150\n",
            "750/750 [==============================] - 76s 101ms/sample - loss: 0.4814 - iou_score: 0.6310 - val_loss: 13.3388 - val_iou_score: 0.0576\n",
            "Epoch 3/150\n",
            "750/750 [==============================] - 75s 100ms/sample - loss: 0.4686 - iou_score: 0.6429 - val_loss: 5.9652 - val_iou_score: 0.0659\n",
            "Epoch 4/150\n",
            "750/750 [==============================] - 76s 101ms/sample - loss: 0.4358 - iou_score: 0.6664 - val_loss: 0.6270 - val_iou_score: 0.5278\n",
            "Epoch 5/150\n",
            "750/750 [==============================] - 75s 101ms/sample - loss: 0.4198 - iou_score: 0.6783 - val_loss: 1.2458 - val_iou_score: 0.2510\n",
            "Epoch 6/150\n",
            "750/750 [==============================] - 76s 101ms/sample - loss: 0.4040 - iou_score: 0.6872 - val_loss: 0.4505 - val_iou_score: 0.6637\n",
            "Epoch 7/150\n",
            "750/750 [==============================] - 76s 102ms/sample - loss: 0.3872 - iou_score: 0.6992 - val_loss: 0.3962 - val_iou_score: 0.6963\n",
            "Epoch 8/150\n",
            "750/750 [==============================] - 76s 101ms/sample - loss: 0.3806 - iou_score: 0.7069 - val_loss: 0.7282 - val_iou_score: 0.5462\n",
            "Epoch 9/150\n",
            "750/750 [==============================] - 76s 101ms/sample - loss: 0.3624 - iou_score: 0.7173 - val_loss: 1.0765 - val_iou_score: 0.1755\n",
            "Epoch 10/150\n",
            "750/750 [==============================] - 76s 101ms/sample - loss: 0.3521 - iou_score: 0.7249 - val_loss: 0.7057 - val_iou_score: 0.4684\n",
            "Epoch 11/150\n",
            "750/750 [==============================] - 76s 101ms/sample - loss: 0.3427 - iou_score: 0.7336 - val_loss: 2.3174 - val_iou_score: 0.1740\n",
            "Epoch 12/150\n",
            "750/750 [==============================] - 76s 101ms/sample - loss: 0.3301 - iou_score: 0.7415 - val_loss: 0.8871 - val_iou_score: 0.3250\n",
            "Epoch 13/150\n",
            "750/750 [==============================] - 76s 101ms/sample - loss: 0.3041 - iou_score: 0.7610 - val_loss: 3.2171 - val_iou_score: 0.1171\n",
            "Epoch 14/150\n",
            "750/750 [==============================] - 75s 100ms/sample - loss: 0.2933 - iou_score: 0.7681 - val_loss: 3.9274 - val_iou_score: 0.1279\n",
            "Epoch 15/150\n",
            "750/750 [==============================] - 76s 101ms/sample - loss: 0.2785 - iou_score: 0.7799 - val_loss: 0.8830 - val_iou_score: 0.4609\n",
            "Epoch 16/150\n",
            "750/750 [==============================] - 75s 101ms/sample - loss: 0.2561 - iou_score: 0.7971 - val_loss: 0.5692 - val_iou_score: 0.6033\n",
            "Epoch 17/150\n",
            "750/750 [==============================] - 71s 94ms/sample - loss: 0.2876 - iou_score: 0.7730 - val_loss: 0.5171 - val_iou_score: 0.6141\n",
            "Epoch 18/150\n",
            "750/750 [==============================] - 71s 94ms/sample - loss: 0.2708 - iou_score: 0.7850 - val_loss: 0.3588 - val_iou_score: 0.7098\n",
            "Epoch 19/150\n",
            "750/750 [==============================] - 75s 100ms/sample - loss: 0.2457 - iou_score: 0.8041 - val_loss: 0.4043 - val_iou_score: 0.6928\n",
            "Epoch 20/150\n",
            "750/750 [==============================] - 76s 101ms/sample - loss: 0.2438 - iou_score: 0.8057 - val_loss: 1.0754 - val_iou_score: 0.4069\n",
            "Epoch 21/150\n",
            "750/750 [==============================] - 75s 100ms/sample - loss: 0.2359 - iou_score: 0.8115 - val_loss: 0.4639 - val_iou_score: 0.6466\n",
            "Epoch 22/150\n",
            "750/750 [==============================] - 71s 95ms/sample - loss: 0.2394 - iou_score: 0.8080 - val_loss: 0.3812 - val_iou_score: 0.7067\n",
            "Epoch 23/150\n",
            "750/750 [==============================] - 76s 101ms/sample - loss: 0.2146 - iou_score: 0.8276 - val_loss: 0.4144 - val_iou_score: 0.6843\n",
            "Epoch 24/150\n",
            "750/750 [==============================] - 71s 95ms/sample - loss: 0.2198 - iou_score: 0.8232 - val_loss: 0.2777 - val_iou_score: 0.7757\n",
            "Epoch 25/150\n",
            "750/750 [==============================] - 75s 100ms/sample - loss: 0.2114 - iou_score: 0.8298 - val_loss: 0.3963 - val_iou_score: 0.7147\n",
            "Epoch 26/150\n",
            "750/750 [==============================] - 75s 101ms/sample - loss: 0.1920 - iou_score: 0.8450 - val_loss: 0.3209 - val_iou_score: 0.7616\n",
            "Epoch 27/150\n",
            "750/750 [==============================] - 71s 94ms/sample - loss: 0.2034 - iou_score: 0.8375 - val_loss: 0.2772 - val_iou_score: 0.7852\n",
            "Epoch 28/150\n",
            "750/750 [==============================] - 71s 94ms/sample - loss: 0.1951 - iou_score: 0.8435 - val_loss: 2.1137 - val_iou_score: 0.2109\n",
            "Epoch 29/150\n",
            "750/750 [==============================] - 75s 100ms/sample - loss: 0.1858 - iou_score: 0.8503 - val_loss: 0.4632 - val_iou_score: 0.6644\n",
            "Epoch 30/150\n",
            "750/750 [==============================] - 71s 95ms/sample - loss: 0.2315 - iou_score: 0.8162 - val_loss: 0.3622 - val_iou_score: 0.7377\n",
            "Epoch 31/150\n",
            "750/750 [==============================] - 71s 94ms/sample - loss: 0.2000 - iou_score: 0.8393 - val_loss: 0.7757 - val_iou_score: 0.5486\n",
            "Epoch 32/150\n",
            "750/750 [==============================] - 76s 101ms/sample - loss: 0.1837 - iou_score: 0.8513 - val_loss: 0.2294 - val_iou_score: 0.8171\n",
            "Epoch 33/150\n",
            "750/750 [==============================] - 71s 95ms/sample - loss: 0.1984 - iou_score: 0.8405 - val_loss: 1.7583 - val_iou_score: 0.3010\n",
            "Epoch 34/150\n",
            "750/750 [==============================] - 75s 101ms/sample - loss: 0.1830 - iou_score: 0.8525 - val_loss: 0.2713 - val_iou_score: 0.7911\n",
            "Epoch 35/150\n",
            "750/750 [==============================] - 75s 101ms/sample - loss: 0.1698 - iou_score: 0.8621 - val_loss: 0.3127 - val_iou_score: 0.7536\n",
            "Epoch 36/150\n",
            "750/750 [==============================] - 71s 95ms/sample - loss: 0.1749 - iou_score: 0.8585 - val_loss: 0.2603 - val_iou_score: 0.7883\n",
            "Epoch 37/150\n",
            "750/750 [==============================] - 71s 94ms/sample - loss: 0.1845 - iou_score: 0.8518 - val_loss: 0.4375 - val_iou_score: 0.6714\n",
            "Epoch 38/150\n",
            "750/750 [==============================] - 71s 94ms/sample - loss: 0.1738 - iou_score: 0.8593 - val_loss: 0.5173 - val_iou_score: 0.6580\n",
            "Epoch 39/150\n",
            "750/750 [==============================] - 75s 101ms/sample - loss: 0.1619 - iou_score: 0.8683 - val_loss: 1.4074 - val_iou_score: 0.1110\n",
            "Epoch 40/150\n",
            "750/750 [==============================] - 71s 94ms/sample - loss: 0.1785 - iou_score: 0.8563 - val_loss: 0.8518 - val_iou_score: 0.5173\n",
            "Epoch 41/150\n",
            "750/750 [==============================] - 76s 101ms/sample - loss: 0.1524 - iou_score: 0.8759 - val_loss: 0.2004 - val_iou_score: 0.8354\n",
            "Epoch 42/150\n",
            "750/750 [==============================] - 76s 101ms/sample - loss: 0.1502 - iou_score: 0.8776 - val_loss: 0.2303 - val_iou_score: 0.8204\n",
            "Epoch 43/150\n",
            "750/750 [==============================] - 71s 95ms/sample - loss: 0.2098 - iou_score: 0.8349 - val_loss: 0.5997 - val_iou_score: 0.5812\n",
            "Epoch 44/150\n",
            "750/750 [==============================] - 71s 94ms/sample - loss: 0.1631 - iou_score: 0.8672 - val_loss: 0.1916 - val_iou_score: 0.8453\n",
            "Epoch 45/150\n",
            "750/750 [==============================] - 75s 100ms/sample - loss: 0.1452 - iou_score: 0.8817 - val_loss: 0.2833 - val_iou_score: 0.8003\n",
            "Epoch 46/150\n",
            "750/750 [==============================] - 71s 95ms/sample - loss: 0.1767 - iou_score: 0.8581 - val_loss: 0.6106 - val_iou_score: 0.5929\n",
            "Epoch 47/150\n",
            "750/750 [==============================] - 71s 94ms/sample - loss: 0.1781 - iou_score: 0.8564 - val_loss: 0.3120 - val_iou_score: 0.7604\n",
            "Epoch 48/150\n",
            "750/750 [==============================] - 71s 95ms/sample - loss: 0.1484 - iou_score: 0.8788 - val_loss: 0.2143 - val_iou_score: 0.8264\n",
            "Epoch 49/150\n",
            "750/750 [==============================] - 76s 101ms/sample - loss: 0.1360 - iou_score: 0.8892 - val_loss: 0.1642 - val_iou_score: 0.8660\n",
            "Epoch 50/150\n",
            "750/750 [==============================] - 71s 95ms/sample - loss: 0.1365 - iou_score: 0.8887 - val_loss: 0.1993 - val_iou_score: 0.8426\n",
            "Epoch 51/150\n",
            "750/750 [==============================] - 71s 94ms/sample - loss: 0.1390 - iou_score: 0.8868 - val_loss: 0.2355 - val_iou_score: 0.8141\n",
            "Epoch 52/150\n",
            "750/750 [==============================] - 71s 95ms/sample - loss: 0.1633 - iou_score: 0.8697 - val_loss: 0.3500 - val_iou_score: 0.7571\n",
            "Epoch 53/150\n",
            "750/750 [==============================] - 71s 95ms/sample - loss: 0.1388 - iou_score: 0.8869 - val_loss: 0.2956 - val_iou_score: 0.7902\n",
            "Epoch 54/150\n",
            "750/750 [==============================] - 71s 94ms/sample - loss: 0.1412 - iou_score: 0.8852 - val_loss: 0.1902 - val_iou_score: 0.8467\n",
            "Epoch 55/150\n",
            "750/750 [==============================] - 75s 101ms/sample - loss: 0.1291 - iou_score: 0.8950 - val_loss: 0.2076 - val_iou_score: 0.8401\n",
            "Epoch 56/150\n",
            "750/750 [==============================] - 71s 95ms/sample - loss: 0.1426 - iou_score: 0.8849 - val_loss: 0.3772 - val_iou_score: 0.7161\n",
            "Epoch 57/150\n",
            "750/750 [==============================] - 71s 95ms/sample - loss: 0.1297 - iou_score: 0.8941 - val_loss: 0.1742 - val_iou_score: 0.8612\n",
            "Epoch 58/150\n",
            "750/750 [==============================] - 75s 100ms/sample - loss: 0.1260 - iou_score: 0.8974 - val_loss: 0.1904 - val_iou_score: 0.8508\n",
            "Epoch 59/150\n",
            "750/750 [==============================] - 76s 101ms/sample - loss: 0.1257 - iou_score: 0.8977 - val_loss: 0.1978 - val_iou_score: 0.8439\n",
            "Epoch 60/150\n",
            "750/750 [==============================] - 71s 95ms/sample - loss: 0.1329 - iou_score: 0.8924 - val_loss: 1.6570 - val_iou_score: 0.0670\n",
            "Epoch 61/150\n",
            "750/750 [==============================] - 71s 94ms/sample - loss: 0.1638 - iou_score: 0.8676 - val_loss: 0.1767 - val_iou_score: 0.8561\n",
            "Epoch 62/150\n",
            "750/750 [==============================] - 71s 94ms/sample - loss: 0.1273 - iou_score: 0.8963 - val_loss: 0.1735 - val_iou_score: 0.8608\n",
            "Epoch 63/150\n",
            "750/750 [==============================] - 76s 101ms/sample - loss: 0.1231 - iou_score: 0.9000 - val_loss: 0.4428 - val_iou_score: 0.6929\n",
            "Epoch 64/150\n",
            "750/750 [==============================] - 71s 95ms/sample - loss: 0.1721 - iou_score: 0.8628 - val_loss: 0.1852 - val_iou_score: 0.8515\n",
            "Epoch 65/150\n",
            "750/750 [==============================] - 76s 102ms/sample - loss: 0.1161 - iou_score: 0.9055 - val_loss: 0.2301 - val_iou_score: 0.8254\n",
            "Epoch 66/150\n",
            "750/750 [==============================] - 77s 102ms/sample - loss: 0.1150 - iou_score: 0.9060 - val_loss: 0.1538 - val_iou_score: 0.8761\n",
            "Epoch 67/150\n",
            "750/750 [==============================] - 71s 95ms/sample - loss: 0.1163 - iou_score: 0.9055 - val_loss: 0.1910 - val_iou_score: 0.8480\n",
            "Epoch 68/150\n",
            "750/750 [==============================] - 76s 102ms/sample - loss: 0.1135 - iou_score: 0.9075 - val_loss: 0.1857 - val_iou_score: 0.8521\n",
            "Epoch 69/150\n",
            "750/750 [==============================] - 76s 101ms/sample - loss: 0.1075 - iou_score: 0.9125 - val_loss: 0.2260 - val_iou_score: 0.8216\n",
            "Epoch 70/150\n",
            "750/750 [==============================] - 75s 100ms/sample - loss: 0.1073 - iou_score: 0.9125 - val_loss: 0.1572 - val_iou_score: 0.8758\n",
            "Epoch 71/150\n",
            "750/750 [==============================] - 71s 95ms/sample - loss: 0.1139 - iou_score: 0.9081 - val_loss: 1.4854 - val_iou_score: 0.1269\n",
            "Epoch 72/150\n",
            "750/750 [==============================] - 71s 94ms/sample - loss: 0.1590 - iou_score: 0.8728 - val_loss: 0.1891 - val_iou_score: 0.8484\n",
            "Epoch 73/150\n",
            "750/750 [==============================] - 71s 94ms/sample - loss: 0.1319 - iou_score: 0.8933 - val_loss: 0.1619 - val_iou_score: 0.8695\n",
            "Epoch 74/150\n",
            "750/750 [==============================] - 71s 94ms/sample - loss: 0.1106 - iou_score: 0.9102 - val_loss: 0.2243 - val_iou_score: 0.8308\n",
            "Epoch 75/150\n",
            "750/750 [==============================] - 76s 101ms/sample - loss: 0.1038 - iou_score: 0.9154 - val_loss: 0.1519 - val_iou_score: 0.8785\n",
            "Epoch 76/150\n",
            "750/750 [==============================] - 75s 101ms/sample - loss: 0.1011 - iou_score: 0.9176 - val_loss: 0.2392 - val_iou_score: 0.8345\n",
            "Epoch 77/150\n",
            "750/750 [==============================] - 71s 95ms/sample - loss: 0.1115 - iou_score: 0.9095 - val_loss: 0.2351 - val_iou_score: 0.8166\n",
            "Epoch 78/150\n",
            "750/750 [==============================] - 71s 94ms/sample - loss: 0.1037 - iou_score: 0.9156 - val_loss: 0.1656 - val_iou_score: 0.8697\n",
            "Epoch 79/150\n",
            "750/750 [==============================] - 71s 94ms/sample - loss: 0.1305 - iou_score: 0.8959 - val_loss: 0.7512 - val_iou_score: 0.5665\n",
            "Epoch 80/150\n",
            "750/750 [==============================] - 70s 94ms/sample - loss: 0.1524 - iou_score: 0.8773 - val_loss: 0.1911 - val_iou_score: 0.8516\n",
            "Epoch 81/150\n",
            "750/750 [==============================] - 70s 94ms/sample - loss: 0.1163 - iou_score: 0.9060 - val_loss: 0.2457 - val_iou_score: 0.8109\n",
            "Epoch 82/150\n",
            "750/750 [==============================] - 70s 94ms/sample - loss: 0.1050 - iou_score: 0.9142 - val_loss: 0.1702 - val_iou_score: 0.8659\n",
            "Epoch 83/150\n",
            "750/750 [==============================] - 75s 100ms/sample - loss: 0.0973 - iou_score: 0.9204 - val_loss: 0.1480 - val_iou_score: 0.8806\n",
            "Epoch 84/150\n",
            "750/750 [==============================] - 76s 101ms/sample - loss: 0.0947 - iou_score: 0.9225 - val_loss: 0.1515 - val_iou_score: 0.8787\n",
            "Epoch 85/150\n",
            "750/750 [==============================] - 75s 100ms/sample - loss: 0.0912 - iou_score: 0.9259 - val_loss: 0.1568 - val_iou_score: 0.8767\n",
            "Epoch 86/150\n",
            "750/750 [==============================] - 75s 100ms/sample - loss: 0.0908 - iou_score: 0.9258 - val_loss: 0.1439 - val_iou_score: 0.8844\n",
            "Epoch 87/150\n",
            "750/750 [==============================] - 75s 100ms/sample - loss: 0.0903 - iou_score: 0.9262 - val_loss: 0.1566 - val_iou_score: 0.8732\n",
            "Epoch 88/150\n",
            "750/750 [==============================] - 76s 101ms/sample - loss: 0.0876 - iou_score: 0.9285 - val_loss: 0.2240 - val_iou_score: 0.8461\n",
            "Epoch 89/150\n",
            "750/750 [==============================] - 71s 95ms/sample - loss: 0.0902 - iou_score: 0.9264 - val_loss: 0.2116 - val_iou_score: 0.8484\n",
            "Epoch 90/150\n",
            "750/750 [==============================] - 71s 94ms/sample - loss: 0.1321 - iou_score: 0.8939 - val_loss: 0.5939 - val_iou_score: 0.6485\n",
            "Epoch 91/150\n",
            "750/750 [==============================] - 71s 94ms/sample - loss: 0.1284 - iou_score: 0.8961 - val_loss: 0.1531 - val_iou_score: 0.8769\n",
            "Epoch 92/150\n",
            "750/750 [==============================] - 71s 94ms/sample - loss: 0.1067 - iou_score: 0.9132 - val_loss: 0.1586 - val_iou_score: 0.8742\n",
            "Epoch 93/150\n",
            "750/750 [==============================] - 71s 94ms/sample - loss: 0.0903 - iou_score: 0.9264 - val_loss: 0.1577 - val_iou_score: 0.8782\n",
            "Epoch 94/150\n",
            "750/750 [==============================] - 75s 100ms/sample - loss: 0.0870 - iou_score: 0.9289 - val_loss: 0.1603 - val_iou_score: 0.8786\n",
            "Epoch 95/150\n",
            "750/750 [==============================] - 75s 100ms/sample - loss: 0.0820 - iou_score: 0.9331 - val_loss: 0.3061 - val_iou_score: 0.8011\n",
            "Epoch 96/150\n",
            "750/750 [==============================] - 75s 100ms/sample - loss: 0.0805 - iou_score: 0.9343 - val_loss: 0.1477 - val_iou_score: 0.8823\n",
            "Epoch 97/150\n",
            "750/750 [==============================] - 71s 94ms/sample - loss: 0.0828 - iou_score: 0.9324 - val_loss: 0.3891 - val_iou_score: 0.7463\n",
            "Epoch 98/150\n",
            "750/750 [==============================] - 71s 94ms/sample - loss: 0.0941 - iou_score: 0.9237 - val_loss: 0.1864 - val_iou_score: 0.8548\n",
            "Epoch 99/150\n",
            "750/750 [==============================] - 71s 95ms/sample - loss: 0.0813 - iou_score: 0.9337 - val_loss: 0.1900 - val_iou_score: 0.8523\n",
            "Epoch 100/150\n",
            "750/750 [==============================] - 75s 100ms/sample - loss: 0.0786 - iou_score: 0.9356 - val_loss: 0.1423 - val_iou_score: 0.8896\n",
            "Epoch 101/150\n",
            "750/750 [==============================] - 76s 101ms/sample - loss: 0.0759 - iou_score: 0.9381 - val_loss: 0.1431 - val_iou_score: 0.8912\n",
            "Epoch 102/150\n",
            "750/750 [==============================] - 76s 101ms/sample - loss: 0.0738 - iou_score: 0.9399 - val_loss: 0.1578 - val_iou_score: 0.8835\n",
            "Epoch 103/150\n",
            "750/750 [==============================] - 71s 95ms/sample - loss: 0.0739 - iou_score: 0.9398 - val_loss: 0.1439 - val_iou_score: 0.8853\n",
            "Epoch 104/150\n",
            "750/750 [==============================] - 75s 101ms/sample - loss: 0.0732 - iou_score: 0.9403 - val_loss: 0.1455 - val_iou_score: 0.8884\n",
            "Epoch 105/150\n",
            "750/750 [==============================] - 76s 101ms/sample - loss: 0.0713 - iou_score: 0.9419 - val_loss: 0.1387 - val_iou_score: 0.8923\n",
            "Epoch 106/150\n",
            "750/750 [==============================] - 71s 95ms/sample - loss: 0.0736 - iou_score: 0.9401 - val_loss: 0.2015 - val_iou_score: 0.8607\n",
            "Epoch 107/150\n",
            "750/750 [==============================] - 71s 95ms/sample - loss: 0.1571 - iou_score: 0.8766 - val_loss: 0.2608 - val_iou_score: 0.8035\n",
            "Epoch 108/150\n",
            "750/750 [==============================] - 71s 94ms/sample - loss: 0.0921 - iou_score: 0.9249 - val_loss: 0.1563 - val_iou_score: 0.8759\n",
            "Epoch 109/150\n",
            "750/750 [==============================] - 71s 95ms/sample - loss: 0.0791 - iou_score: 0.9356 - val_loss: 0.2661 - val_iou_score: 0.8147\n",
            "Epoch 110/150\n",
            "750/750 [==============================] - 71s 95ms/sample - loss: 0.0729 - iou_score: 0.9406 - val_loss: 0.1684 - val_iou_score: 0.8709\n",
            "Epoch 111/150\n",
            "750/750 [==============================] - 76s 101ms/sample - loss: 0.0691 - iou_score: 0.9437 - val_loss: 0.1531 - val_iou_score: 0.8866\n",
            "Epoch 112/150\n",
            "750/750 [==============================] - 77s 102ms/sample - loss: 0.0676 - iou_score: 0.9448 - val_loss: 0.3042 - val_iou_score: 0.7954\n",
            "Epoch 113/150\n",
            "750/750 [==============================] - 76s 101ms/sample - loss: 0.0657 - iou_score: 0.9465 - val_loss: 0.2498 - val_iou_score: 0.8305\n",
            "Epoch 114/150\n",
            "750/750 [==============================] - 75s 100ms/sample - loss: 0.0655 - iou_score: 0.9466 - val_loss: 0.1925 - val_iou_score: 0.8578\n",
            "Epoch 115/150\n",
            "750/750 [==============================] - 75s 101ms/sample - loss: 0.0634 - iou_score: 0.9484 - val_loss: 0.2056 - val_iou_score: 0.8590\n",
            "Epoch 116/150\n",
            "750/750 [==============================] - 71s 95ms/sample - loss: 0.0642 - iou_score: 0.9477 - val_loss: 0.1594 - val_iou_score: 0.8810\n",
            "Epoch 117/150\n",
            "750/750 [==============================] - 71s 95ms/sample - loss: 0.0638 - iou_score: 0.9481 - val_loss: 0.3368 - val_iou_score: 0.7931\n",
            "Epoch 118/150\n",
            "750/750 [==============================] - 71s 94ms/sample - loss: 0.0677 - iou_score: 0.9448 - val_loss: 0.1774 - val_iou_score: 0.8659\n",
            "Epoch 119/150\n",
            "750/750 [==============================] - 75s 100ms/sample - loss: 0.0631 - iou_score: 0.9487 - val_loss: 0.1937 - val_iou_score: 0.8570\n",
            "Epoch 120/150\n",
            "750/750 [==============================] - 71s 95ms/sample - loss: 0.0672 - iou_score: 0.9455 - val_loss: 0.4222 - val_iou_score: 0.7168\n",
            "Epoch 121/150\n",
            "750/750 [==============================] - 71s 95ms/sample - loss: 0.0989 - iou_score: 0.9197 - val_loss: 0.1704 - val_iou_score: 0.8690\n",
            "Epoch 122/150\n",
            "750/750 [==============================] - 71s 94ms/sample - loss: 0.0676 - iou_score: 0.9449 - val_loss: 0.1333 - val_iou_score: 0.8965\n",
            "Epoch 123/150\n",
            "750/750 [==============================] - 75s 100ms/sample - loss: 0.0611 - iou_score: 0.9503 - val_loss: 0.1262 - val_iou_score: 0.9024\n",
            "Epoch 124/150\n",
            "750/750 [==============================] - 76s 101ms/sample - loss: 0.0595 - iou_score: 0.9514 - val_loss: 0.1279 - val_iou_score: 0.9031\n",
            "Epoch 125/150\n",
            "750/750 [==============================] - 76s 101ms/sample - loss: 0.0575 - iou_score: 0.9532 - val_loss: 0.2217 - val_iou_score: 0.8517\n",
            "Epoch 126/150\n",
            "750/750 [==============================] - 71s 95ms/sample - loss: 0.0575 - iou_score: 0.9532 - val_loss: 0.2194 - val_iou_score: 0.8414\n",
            "Epoch 127/150\n",
            "750/750 [==============================] - 75s 100ms/sample - loss: 0.0574 - iou_score: 0.9533 - val_loss: 0.1562 - val_iou_score: 0.8880\n",
            "Epoch 128/150\n",
            "750/750 [==============================] - 76s 101ms/sample - loss: 0.0562 - iou_score: 0.9543 - val_loss: 0.1701 - val_iou_score: 0.8853\n",
            "Epoch 129/150\n",
            "750/750 [==============================] - 71s 95ms/sample - loss: 0.0570 - iou_score: 0.9537 - val_loss: 0.1314 - val_iou_score: 0.8992\n",
            "Epoch 130/150\n",
            "750/750 [==============================] - 71s 94ms/sample - loss: 0.0579 - iou_score: 0.9529 - val_loss: 0.1815 - val_iou_score: 0.8700\n",
            "Epoch 131/150\n",
            "750/750 [==============================] - 75s 101ms/sample - loss: 0.0560 - iou_score: 0.9544 - val_loss: 0.1760 - val_iou_score: 0.8756\n",
            "Epoch 132/150\n",
            "750/750 [==============================] - 71s 95ms/sample - loss: 0.0573 - iou_score: 0.9533 - val_loss: 0.2421 - val_iou_score: 0.8390\n",
            "Epoch 133/150\n",
            "750/750 [==============================] - 76s 101ms/sample - loss: 0.0558 - iou_score: 0.9547 - val_loss: 0.1770 - val_iou_score: 0.8793\n",
            "Epoch 134/150\n",
            "750/750 [==============================] - 76s 102ms/sample - loss: 0.0550 - iou_score: 0.9554 - val_loss: 0.3906 - val_iou_score: 0.7791\n",
            "Epoch 135/150\n",
            "750/750 [==============================] - 71s 95ms/sample - loss: 0.1292 - iou_score: 0.8975 - val_loss: 0.2380 - val_iou_score: 0.8278\n",
            "Epoch 136/150\n",
            "750/750 [==============================] - 71s 94ms/sample - loss: 0.0700 - iou_score: 0.9430 - val_loss: 0.1329 - val_iou_score: 0.8984\n",
            "Epoch 137/150\n",
            "750/750 [==============================] - 71s 94ms/sample - loss: 0.0582 - iou_score: 0.9526 - val_loss: 0.1431 - val_iou_score: 0.8914\n",
            "Epoch 138/150\n",
            "750/750 [==============================] - 71s 94ms/sample - loss: 0.0604 - iou_score: 0.9508 - val_loss: 0.1306 - val_iou_score: 0.8997\n",
            "Epoch 139/150\n",
            "750/750 [==============================] - 75s 101ms/sample - loss: 0.0537 - iou_score: 0.9563 - val_loss: 0.1513 - val_iou_score: 0.8868\n",
            "Epoch 140/150\n",
            "750/750 [==============================] - 76s 101ms/sample - loss: 0.0521 - iou_score: 0.9576 - val_loss: 0.1232 - val_iou_score: 0.9065\n",
            "Epoch 141/150\n",
            "750/750 [==============================] - 76s 101ms/sample - loss: 0.0506 - iou_score: 0.9589 - val_loss: 0.1203 - val_iou_score: 0.9088\n",
            "Epoch 142/150\n",
            "750/750 [==============================] - 76s 101ms/sample - loss: 0.0504 - iou_score: 0.9591 - val_loss: 0.1383 - val_iou_score: 0.8992\n",
            "Epoch 143/150\n",
            "750/750 [==============================] - 75s 101ms/sample - loss: 0.0500 - iou_score: 0.9594 - val_loss: 0.1282 - val_iou_score: 0.9029\n",
            "Epoch 144/150\n",
            "750/750 [==============================] - 71s 94ms/sample - loss: 0.0503 - iou_score: 0.9591 - val_loss: 0.1201 - val_iou_score: 0.9076\n",
            "Epoch 145/150\n",
            "750/750 [==============================] - 76s 101ms/sample - loss: 0.0493 - iou_score: 0.9599 - val_loss: 0.1399 - val_iou_score: 0.8967\n",
            "Epoch 146/150\n",
            "750/750 [==============================] - 77s 102ms/sample - loss: 0.0492 - iou_score: 0.9601 - val_loss: 0.1209 - val_iou_score: 0.9079\n",
            "Epoch 147/150\n",
            "750/750 [==============================] - 76s 102ms/sample - loss: 0.0492 - iou_score: 0.9601 - val_loss: 0.1195 - val_iou_score: 0.9092\n",
            "Epoch 148/150\n",
            "750/750 [==============================] - 72s 96ms/sample - loss: 0.0492 - iou_score: 0.9601 - val_loss: 0.1510 - val_iou_score: 0.8910\n",
            "Epoch 149/150\n",
            "750/750 [==============================] - 76s 102ms/sample - loss: 0.0490 - iou_score: 0.9602 - val_loss: 0.2016 - val_iou_score: 0.8655\n",
            "Epoch 150/150\n",
            "750/750 [==============================] - 76s 101ms/sample - loss: 0.0487 - iou_score: 0.9605 - val_loss: 0.1217 - val_iou_score: 0.9090\n"
          ],
          "name": "stdout"
        }
      ]
    },
    {
      "cell_type": "code",
      "metadata": {
        "id": "0Ef9JjfFTqdE"
      },
      "source": [
        "#model.save('/content/gdrive/MyDrive/OutputTraining/Model/model2.hdf5')"
      ],
      "execution_count": null,
      "outputs": []
    },
    {
      "cell_type": "code",
      "metadata": {
        "colab": {
          "base_uri": "https://localhost:8080/",
          "height": 573
        },
        "id": "8P010bdGTrEM",
        "outputId": "f502d60a-1137-458d-8d9b-03acd848ffaf"
      },
      "source": [
        "loss=history.history['loss']\n",
        "val_loss=history.history['val_loss']\n",
        "epochs=range(1, len(loss)+1)\n",
        "plt.plot(epochs, loss, 'y', label='Training Loss')\n",
        "plt.plot(epochs, val_loss, 'r', label='Validation Loss')\n",
        "plt.title('Training and validation loss')\n",
        "plt.xlabel('Epochs')\n",
        "plt.ylabel('Loss')\n",
        "plt.legend()\n",
        "plt.show()\n",
        "\n",
        "acc = history.history['iou_score']\n",
        "val_acc = history.history['val_iou_score']\n",
        "plt.plot(epochs, acc, 'y', label='Training IOU')\n",
        "plt.plot(epochs, val_acc, 'r', label='Validation IOU')\n",
        "plt.title('Training and validation IOU')\n",
        "plt.xlabel('Epochs')\n",
        "plt.ylabel('IOU')\n",
        "plt.legend()\n",
        "plt.show()"
      ],
      "execution_count": null,
      "outputs": [
        {
          "output_type": "display_data",
          "data": {
            "image/png": "[encoded data removed]",
            "text/plain": [
              "<Figure size 432x288 with 1 Axes>"
            ]
          },
          "metadata": {
            "tags": [],
            "needs_background": "light"
          }
        },
        {
          "output_type": "display_data",
          "data": {
            "image/png": "[encoded data removed]",
            "text/plain": [
              "<Figure size 432x288 with 1 Axes>"
            ]
          },
          "metadata": {
            "tags": [],
            "needs_background": "light"
          }
        }
      ]
    },
    {
      "cell_type": "code",
      "metadata": {
        "colab": {
          "base_uri": "https://localhost:8080/"
        },
        "id": "uyj3yt7_TvkL",
        "outputId": "8052c863-6097-4ceb-98ba-a4f8b720d053"
      },
      "source": [
        "from skimage import io\n",
        "\n",
        "model.load_weights('/content/gdrive/MyDrive/Weight/unet_weight_28.hdf5')\n",
        "print('-' * 30)\n",
        "print('Predicting masks on test data...')\n",
        "print('-' * 30)\n",
        "out_predict='/content/gdrive/MyDrive/OutputTraining/Enhanced/Epoch 150/'\n",
        "num_test = len(x_val)\n",
        "imgs_mask_test = np.ndarray([num_test,512, 512,1], dtype=np.float32)\n",
        "for i in range(num_test):\n",
        "  imgs_mask_test[i] = model.predict([x_val[i:i + 1]], verbose=1)[0]\n",
        "\n",
        "  #Save dalam bentuk gambar .png\n",
        "  io.imsave(out_predict + '%04d_TestCase.png' % (i), x_val[i,:,:,0])\n",
        "  io.imsave(out_predict + '%04d_Predict.png' % (i), imgs_mask_test[i])\n",
        "  io.imsave(out_predict + '%04d_Mask.png' % (i), y_val[i,:,:,0])\n",
        "\n"
      ],
      "execution_count": null,
      "outputs": [
        {
          "output_type": "stream",
          "text": [
            "------------------------------\n",
            "Predicting masks on test data...\n",
            "------------------------------\n",
            "\r1/1 [==============================] - 0s 36ms/sample\n"
          ],
          "name": "stdout"
        },
        {
          "output_type": "stream",
          "text": [
            "WARNING:root:Lossy conversion from float32 to uint8. Range [0, 1]. Convert image to uint8 prior to saving to suppress this warning.\n",
            "WARNING:root:Lossy conversion from float32 to uint8. Range [0, 1]. Convert image to uint8 prior to saving to suppress this warning.\n",
            "WARNING:root:Lossy conversion from float32 to uint8. Range [0, 1]. Convert image to uint8 prior to saving to suppress this warning.\n"
          ],
          "name": "stderr"
        },
        {
          "output_type": "stream",
          "text": [
            "\r1/1 [==============================] - 0s 36ms/sample\n"
          ],
          "name": "stdout"
        },
        {
          "output_type": "stream",
          "text": [
            "WARNING:root:Lossy conversion from float32 to uint8. Range [0, 1]. Convert image to uint8 prior to saving to suppress this warning.\n",
            "WARNING:root:Lossy conversion from float32 to uint8. Range [0, 1]. Convert image to uint8 prior to saving to suppress this warning.\n",
            "WARNING:root:Lossy conversion from float32 to uint8. Range [0, 1]. Convert image to uint8 prior to saving to suppress this warning.\n"
          ],
          "name": "stderr"
        },
        {
          "output_type": "stream",
          "text": [
            "\r1/1 [==============================] - 0s 36ms/sample\n"
          ],
          "name": "stdout"
        },
        {
          "output_type": "stream",
          "text": [
            "WARNING:root:Lossy conversion from float32 to uint8. Range [0, 1]. Convert image to uint8 prior to saving to suppress this warning.\n",
            "WARNING:root:Lossy conversion from float32 to uint8. Range [0, 1]. Convert image to uint8 prior to saving to suppress this warning.\n",
            "WARNING:root:Lossy conversion from float32 to uint8. Range [0, 1]. Convert image to uint8 prior to saving to suppress this warning.\n"
          ],
          "name": "stderr"
        },
        {
          "output_type": "stream",
          "text": [
            "\r1/1 [==============================] - 0s 36ms/sample\n"
          ],
          "name": "stdout"
        },
        {
          "output_type": "stream",
          "text": [
            "WARNING:root:Lossy conversion from float32 to uint8. Range [0, 1]. Convert image to uint8 prior to saving to suppress this warning.\n",
            "WARNING:root:Lossy conversion from float32 to uint8. Range [0, 1]. Convert image to uint8 prior to saving to suppress this warning.\n",
            "WARNING:root:Lossy conversion from float32 to uint8. Range [0, 1]. Convert image to uint8 prior to saving to suppress this warning.\n"
          ],
          "name": "stderr"
        },
        {
          "output_type": "stream",
          "text": [
            "\r1/1 [==============================] - 0s 37ms/sample\n"
          ],
          "name": "stdout"
        },
        {
          "output_type": "stream",
          "text": [
            "WARNING:root:Lossy conversion from float32 to uint8. Range [0, 1]. Convert image to uint8 prior to saving to suppress this warning.\n",
            "WARNING:root:Lossy conversion from float32 to uint8. Range [0, 1]. Convert image to uint8 prior to saving to suppress this warning.\n",
            "WARNING:root:Lossy conversion from float32 to uint8. Range [0, 1]. Convert image to uint8 prior to saving to suppress this warning.\n"
          ],
          "name": "stderr"
        },
        {
          "output_type": "stream",
          "text": [
            "\r1/1 [==============================] - 0s 36ms/sample\n"
          ],
          "name": "stdout"
        },
        {
          "output_type": "stream",
          "text": [
            "WARNING:root:Lossy conversion from float32 to uint8. Range [0, 1]. Convert image to uint8 prior to saving to suppress this warning.\n",
            "WARNING:root:Lossy conversion from float32 to uint8. Range [0, 1]. Convert image to uint8 prior to saving to suppress this warning.\n",
            "WARNING:root:Lossy conversion from float32 to uint8. Range [0, 1]. Convert image to uint8 prior to saving to suppress this warning.\n"
          ],
          "name": "stderr"
        },
        {
          "output_type": "stream",
          "text": [
            "\r1/1 [==============================] - 0s 37ms/sample\n"
          ],
          "name": "stdout"
        },
        {
          "output_type": "stream",
          "text": [
            "WARNING:root:Lossy conversion from float32 to uint8. Range [0, 1]. Convert image to uint8 prior to saving to suppress this warning.\n",
            "WARNING:root:Lossy conversion from float32 to uint8. Range [0, 1]. Convert image to uint8 prior to saving to suppress this warning.\n",
            "WARNING:root:Lossy conversion from float32 to uint8. Range [0, 1]. Convert image to uint8 prior to saving to suppress this warning.\n"
          ],
          "name": "stderr"
        },
        {
          "output_type": "stream",
          "text": [
            "\r1/1 [==============================] - 0s 37ms/sample\n"
          ],
          "name": "stdout"
        },
        {
          "output_type": "stream",
          "text": [
            "WARNING:root:Lossy conversion from float32 to uint8. Range [0, 1]. Convert image to uint8 prior to saving to suppress this warning.\n",
            "WARNING:root:Lossy conversion from float32 to uint8. Range [0, 1]. Convert image to uint8 prior to saving to suppress this warning.\n",
            "WARNING:root:Lossy conversion from float32 to uint8. Range [0, 1]. Convert image to uint8 prior to saving to suppress this warning.\n"
          ],
          "name": "stderr"
        },
        {
          "output_type": "stream",
          "text": [
            "\r1/1 [==============================] - 0s 36ms/sample\n"
          ],
          "name": "stdout"
        },
        {
          "output_type": "stream",
          "text": [
            "WARNING:root:Lossy conversion from float32 to uint8. Range [0, 1]. Convert image to uint8 prior to saving to suppress this warning.\n",
            "WARNING:root:Lossy conversion from float32 to uint8. Range [0, 1]. Convert image to uint8 prior to saving to suppress this warning.\n",
            "WARNING:root:Lossy conversion from float32 to uint8. Range [0, 1]. Convert image to uint8 prior to saving to suppress this warning.\n"
          ],
          "name": "stderr"
        },
        {
          "output_type": "stream",
          "text": [
            "\r1/1 [==============================] - 0s 36ms/sample\n"
          ],
          "name": "stdout"
        },
        {
          "output_type": "stream",
          "text": [
            "WARNING:root:Lossy conversion from float32 to uint8. Range [0, 1]. Convert image to uint8 prior to saving to suppress this warning.\n",
            "WARNING:root:Lossy conversion from float32 to uint8. Range [0, 1]. Convert image to uint8 prior to saving to suppress this warning.\n",
            "WARNING:root:Lossy conversion from float32 to uint8. Range [0, 1]. Convert image to uint8 prior to saving to suppress this warning.\n"
          ],
          "name": "stderr"
        },
        {
          "output_type": "stream",
          "text": [
            "\r1/1 [==============================] - 0s 37ms/sample\n"
          ],
          "name": "stdout"
        },
        {
          "output_type": "stream",
          "text": [
            "WARNING:root:Lossy conversion from float32 to uint8. Range [0, 1]. Convert image to uint8 prior to saving to suppress this warning.\n",
            "WARNING:root:Lossy conversion from float32 to uint8. Range [0, 1]. Convert image to uint8 prior to saving to suppress this warning.\n",
            "WARNING:root:Lossy conversion from float32 to uint8. Range [0, 1]. Convert image to uint8 prior to saving to suppress this warning.\n"
          ],
          "name": "stderr"
        },
        {
          "output_type": "stream",
          "text": [
            "\r1/1 [==============================] - 0s 37ms/sample\n"
          ],
          "name": "stdout"
        },
        {
          "output_type": "stream",
          "text": [
            "WARNING:root:Lossy conversion from float32 to uint8. Range [0, 1]. Convert image to uint8 prior to saving to suppress this warning.\n",
            "WARNING:root:Lossy conversion from float32 to uint8. Range [0, 1]. Convert image to uint8 prior to saving to suppress this warning.\n",
            "WARNING:root:Lossy conversion from float32 to uint8. Range [0, 1]. Convert image to uint8 prior to saving to suppress this warning.\n"
          ],
          "name": "stderr"
        },
        {
          "output_type": "stream",
          "text": [
            "\r1/1 [==============================] - 0s 37ms/sample\n"
          ],
          "name": "stdout"
        },
        {
          "output_type": "stream",
          "text": [
            "WARNING:root:Lossy conversion from float32 to uint8. Range [0, 1]. Convert image to uint8 prior to saving to suppress this warning.\n",
            "WARNING:root:Lossy conversion from float32 to uint8. Range [0, 1]. Convert image to uint8 prior to saving to suppress this warning.\n",
            "WARNING:root:Lossy conversion from float32 to uint8. Range [0, 1]. Convert image to uint8 prior to saving to suppress this warning.\n"
          ],
          "name": "stderr"
        },
        {
          "output_type": "stream",
          "text": [
            "\r1/1 [==============================] - 0s 36ms/sample\n"
          ],
          "name": "stdout"
        },
        {
          "output_type": "stream",
          "text": [
            "WARNING:root:Lossy conversion from float32 to uint8. Range [0, 1]. Convert image to uint8 prior to saving to suppress this warning.\n",
            "WARNING:root:Lossy conversion from float32 to uint8. Range [0, 1]. Convert image to uint8 prior to saving to suppress this warning.\n",
            "WARNING:root:Lossy conversion from float32 to uint8. Range [0, 1]. Convert image to uint8 prior to saving to suppress this warning.\n"
          ],
          "name": "stderr"
        },
        {
          "output_type": "stream",
          "text": [
            "\r1/1 [==============================] - 0s 36ms/sample\n"
          ],
          "name": "stdout"
        },
        {
          "output_type": "stream",
          "text": [
            "WARNING:root:Lossy conversion from float32 to uint8. Range [0, 1]. Convert image to uint8 prior to saving to suppress this warning.\n",
            "WARNING:root:Lossy conversion from float32 to uint8. Range [0, 1]. Convert image to uint8 prior to saving to suppress this warning.\n",
            "WARNING:root:Lossy conversion from float32 to uint8. Range [0, 1]. Convert image to uint8 prior to saving to suppress this warning.\n"
          ],
          "name": "stderr"
        },
        {
          "output_type": "stream",
          "text": [
            "\r1/1 [==============================] - 0s 36ms/sample\n"
          ],
          "name": "stdout"
        },
        {
          "output_type": "stream",
          "text": [
            "WARNING:root:Lossy conversion from float32 to uint8. Range [0, 1]. Convert image to uint8 prior to saving to suppress this warning.\n",
            "/usr/local/lib/python3.7/dist-packages/ipykernel_launcher.py:15: UserWarning: /content/gdrive/MyDrive/OutputTraining/Enhanced/Epoch 150/0015_Predict.png is a low contrast image\n",
            "  from ipykernel import kernelapp as app\n",
            "WARNING:root:Lossy conversion from float32 to uint8. Range [0, 1]. Convert image to uint8 prior to saving to suppress this warning.\n",
            "WARNING:root:Lossy conversion from float32 to uint8. Range [0, 1]. Convert image to uint8 prior to saving to suppress this warning.\n"
          ],
          "name": "stderr"
        },
        {
          "output_type": "stream",
          "text": [
            "\r1/1 [==============================] - 0s 36ms/sample\n"
          ],
          "name": "stdout"
        },
        {
          "output_type": "stream",
          "text": [
            "WARNING:root:Lossy conversion from float32 to uint8. Range [0, 1]. Convert image to uint8 prior to saving to suppress this warning.\n",
            "WARNING:root:Lossy conversion from float32 to uint8. Range [0, 1]. Convert image to uint8 prior to saving to suppress this warning.\n",
            "WARNING:root:Lossy conversion from float32 to uint8. Range [0, 1]. Convert image to uint8 prior to saving to suppress this warning.\n"
          ],
          "name": "stderr"
        },
        {
          "output_type": "stream",
          "text": [
            "\r1/1 [==============================] - 0s 37ms/sample\n"
          ],
          "name": "stdout"
        },
        {
          "output_type": "stream",
          "text": [
            "WARNING:root:Lossy conversion from float32 to uint8. Range [0, 1]. Convert image to uint8 prior to saving to suppress this warning.\n",
            "WARNING:root:Lossy conversion from float32 to uint8. Range [0, 1]. Convert image to uint8 prior to saving to suppress this warning.\n",
            "WARNING:root:Lossy conversion from float32 to uint8. Range [0, 1]. Convert image to uint8 prior to saving to suppress this warning.\n"
          ],
          "name": "stderr"
        },
        {
          "output_type": "stream",
          "text": [
            "\r1/1 [==============================] - 0s 36ms/sample\n"
          ],
          "name": "stdout"
        },
        {
          "output_type": "stream",
          "text": [
            "WARNING:root:Lossy conversion from float32 to uint8. Range [0, 1]. Convert image to uint8 prior to saving to suppress this warning.\n",
            "WARNING:root:Lossy conversion from float32 to uint8. Range [0, 1]. Convert image to uint8 prior to saving to suppress this warning.\n",
            "WARNING:root:Lossy conversion from float32 to uint8. Range [0, 1]. Convert image to uint8 prior to saving to suppress this warning.\n"
          ],
          "name": "stderr"
        },
        {
          "output_type": "stream",
          "text": [
            "\r1/1 [==============================] - 0s 39ms/sample\n"
          ],
          "name": "stdout"
        },
        {
          "output_type": "stream",
          "text": [
            "WARNING:root:Lossy conversion from float32 to uint8. Range [0, 1]. Convert image to uint8 prior to saving to suppress this warning.\n",
            "WARNING:root:Lossy conversion from float32 to uint8. Range [0, 1]. Convert image to uint8 prior to saving to suppress this warning.\n",
            "WARNING:root:Lossy conversion from float32 to uint8. Range [0, 1]. Convert image to uint8 prior to saving to suppress this warning.\n"
          ],
          "name": "stderr"
        },
        {
          "output_type": "stream",
          "text": [
            "\r1/1 [==============================] - 0s 36ms/sample\n"
          ],
          "name": "stdout"
        },
        {
          "output_type": "stream",
          "text": [
            "WARNING:root:Lossy conversion from float32 to uint8. Range [0, 1]. Convert image to uint8 prior to saving to suppress this warning.\n",
            "WARNING:root:Lossy conversion from float32 to uint8. Range [0, 1]. Convert image to uint8 prior to saving to suppress this warning.\n",
            "WARNING:root:Lossy conversion from float32 to uint8. Range [0, 1]. Convert image to uint8 prior to saving to suppress this warning.\n"
          ],
          "name": "stderr"
        },
        {
          "output_type": "stream",
          "text": [
            "\r1/1 [==============================] - 0s 36ms/sample\n"
          ],
          "name": "stdout"
        },
        {
          "output_type": "stream",
          "text": [
            "WARNING:root:Lossy conversion from float32 to uint8. Range [0, 1]. Convert image to uint8 prior to saving to suppress this warning.\n",
            "WARNING:root:Lossy conversion from float32 to uint8. Range [0, 1]. Convert image to uint8 prior to saving to suppress this warning.\n",
            "WARNING:root:Lossy conversion from float32 to uint8. Range [0, 1]. Convert image to uint8 prior to saving to suppress this warning.\n"
          ],
          "name": "stderr"
        },
        {
          "output_type": "stream",
          "text": [
            "\r1/1 [==============================] - 0s 37ms/sample\n"
          ],
          "name": "stdout"
        },
        {
          "output_type": "stream",
          "text": [
            "WARNING:root:Lossy conversion from float32 to uint8. Range [0, 1]. Convert image to uint8 prior to saving to suppress this warning.\n",
            "WARNING:root:Lossy conversion from float32 to uint8. Range [0, 1]. Convert image to uint8 prior to saving to suppress this warning.\n",
            "WARNING:root:Lossy conversion from float32 to uint8. Range [0, 1]. Convert image to uint8 prior to saving to suppress this warning.\n"
          ],
          "name": "stderr"
        },
        {
          "output_type": "stream",
          "text": [
            "\r1/1 [==============================] - 0s 40ms/sample\n"
          ],
          "name": "stdout"
        },
        {
          "output_type": "stream",
          "text": [
            "WARNING:root:Lossy conversion from float32 to uint8. Range [0, 1]. Convert image to uint8 prior to saving to suppress this warning.\n",
            "WARNING:root:Lossy conversion from float32 to uint8. Range [0, 1]. Convert image to uint8 prior to saving to suppress this warning.\n",
            "WARNING:root:Lossy conversion from float32 to uint8. Range [0, 1]. Convert image to uint8 prior to saving to suppress this warning.\n"
          ],
          "name": "stderr"
        },
        {
          "output_type": "stream",
          "text": [
            "\r1/1 [==============================] - 0s 37ms/sample\n"
          ],
          "name": "stdout"
        },
        {
          "output_type": "stream",
          "text": [
            "WARNING:root:Lossy conversion from float32 to uint8. Range [0, 1]. Convert image to uint8 prior to saving to suppress this warning.\n",
            "WARNING:root:Lossy conversion from float32 to uint8. Range [0, 1]. Convert image to uint8 prior to saving to suppress this warning.\n",
            "WARNING:root:Lossy conversion from float32 to uint8. Range [0, 1]. Convert image to uint8 prior to saving to suppress this warning.\n"
          ],
          "name": "stderr"
        },
        {
          "output_type": "stream",
          "text": [
            "\r1/1 [==============================] - 0s 37ms/sample\n"
          ],
          "name": "stdout"
        },
        {
          "output_type": "stream",
          "text": [
            "WARNING:root:Lossy conversion from float32 to uint8. Range [0, 1]. Convert image to uint8 prior to saving to suppress this warning.\n",
            "WARNING:root:Lossy conversion from float32 to uint8. Range [0, 1]. Convert image to uint8 prior to saving to suppress this warning.\n",
            "WARNING:root:Lossy conversion from float32 to uint8. Range [0, 1]. Convert image to uint8 prior to saving to suppress this warning.\n"
          ],
          "name": "stderr"
        },
        {
          "output_type": "stream",
          "text": [
            "\r1/1 [==============================] - 0s 37ms/sample\n"
          ],
          "name": "stdout"
        },
        {
          "output_type": "stream",
          "text": [
            "WARNING:root:Lossy conversion from float32 to uint8. Range [0, 1]. Convert image to uint8 prior to saving to suppress this warning.\n",
            "WARNING:root:Lossy conversion from float32 to uint8. Range [0, 1]. Convert image to uint8 prior to saving to suppress this warning.\n",
            "WARNING:root:Lossy conversion from float32 to uint8. Range [0, 1]. Convert image to uint8 prior to saving to suppress this warning.\n"
          ],
          "name": "stderr"
        },
        {
          "output_type": "stream",
          "text": [
            "\r1/1 [==============================] - 0s 37ms/sample\n"
          ],
          "name": "stdout"
        },
        {
          "output_type": "stream",
          "text": [
            "WARNING:root:Lossy conversion from float32 to uint8. Range [0, 1]. Convert image to uint8 prior to saving to suppress this warning.\n",
            "WARNING:root:Lossy conversion from float32 to uint8. Range [0, 1]. Convert image to uint8 prior to saving to suppress this warning.\n",
            "WARNING:root:Lossy conversion from float32 to uint8. Range [0, 1]. Convert image to uint8 prior to saving to suppress this warning.\n"
          ],
          "name": "stderr"
        },
        {
          "output_type": "stream",
          "text": [
            "\r1/1 [==============================] - 0s 37ms/sample\n"
          ],
          "name": "stdout"
        },
        {
          "output_type": "stream",
          "text": [
            "WARNING:root:Lossy conversion from float32 to uint8. Range [0, 1]. Convert image to uint8 prior to saving to suppress this warning.\n",
            "WARNING:root:Lossy conversion from float32 to uint8. Range [0, 1]. Convert image to uint8 prior to saving to suppress this warning.\n",
            "WARNING:root:Lossy conversion from float32 to uint8. Range [0, 1]. Convert image to uint8 prior to saving to suppress this warning.\n"
          ],
          "name": "stderr"
        },
        {
          "output_type": "stream",
          "text": [
            "\r1/1 [==============================] - 0s 37ms/sample\n"
          ],
          "name": "stdout"
        },
        {
          "output_type": "stream",
          "text": [
            "WARNING:root:Lossy conversion from float32 to uint8. Range [0, 1]. Convert image to uint8 prior to saving to suppress this warning.\n",
            "WARNING:root:Lossy conversion from float32 to uint8. Range [0, 1]. Convert image to uint8 prior to saving to suppress this warning.\n",
            "WARNING:root:Lossy conversion from float32 to uint8. Range [0, 1]. Convert image to uint8 prior to saving to suppress this warning.\n"
          ],
          "name": "stderr"
        },
        {
          "output_type": "stream",
          "text": [
            "\r1/1 [==============================] - 0s 36ms/sample\n"
          ],
          "name": "stdout"
        },
        {
          "output_type": "stream",
          "text": [
            "WARNING:root:Lossy conversion from float32 to uint8. Range [0, 1]. Convert image to uint8 prior to saving to suppress this warning.\n",
            "WARNING:root:Lossy conversion from float32 to uint8. Range [0, 1]. Convert image to uint8 prior to saving to suppress this warning.\n",
            "WARNING:root:Lossy conversion from float32 to uint8. Range [0, 1]. Convert image to uint8 prior to saving to suppress this warning.\n"
          ],
          "name": "stderr"
        },
        {
          "output_type": "stream",
          "text": [
            "\r1/1 [==============================] - 0s 37ms/sample\n"
          ],
          "name": "stdout"
        },
        {
          "output_type": "stream",
          "text": [
            "WARNING:root:Lossy conversion from float32 to uint8. Range [0, 1]. Convert image to uint8 prior to saving to suppress this warning.\n",
            "WARNING:root:Lossy conversion from float32 to uint8. Range [0, 1]. Convert image to uint8 prior to saving to suppress this warning.\n",
            "WARNING:root:Lossy conversion from float32 to uint8. Range [0, 1]. Convert image to uint8 prior to saving to suppress this warning.\n"
          ],
          "name": "stderr"
        },
        {
          "output_type": "stream",
          "text": [
            "\r1/1 [==============================] - 0s 37ms/sample\n"
          ],
          "name": "stdout"
        },
        {
          "output_type": "stream",
          "text": [
            "WARNING:root:Lossy conversion from float32 to uint8. Range [0, 1]. Convert image to uint8 prior to saving to suppress this warning.\n",
            "WARNING:root:Lossy conversion from float32 to uint8. Range [0, 1]. Convert image to uint8 prior to saving to suppress this warning.\n",
            "WARNING:root:Lossy conversion from float32 to uint8. Range [0, 1]. Convert image to uint8 prior to saving to suppress this warning.\n"
          ],
          "name": "stderr"
        },
        {
          "output_type": "stream",
          "text": [
            "\r1/1 [==============================] - 0s 38ms/sample\n"
          ],
          "name": "stdout"
        },
        {
          "output_type": "stream",
          "text": [
            "WARNING:root:Lossy conversion from float32 to uint8. Range [0, 1]. Convert image to uint8 prior to saving to suppress this warning.\n",
            "WARNING:root:Lossy conversion from float32 to uint8. Range [0, 1]. Convert image to uint8 prior to saving to suppress this warning.\n",
            "WARNING:root:Lossy conversion from float32 to uint8. Range [0, 1]. Convert image to uint8 prior to saving to suppress this warning.\n"
          ],
          "name": "stderr"
        },
        {
          "output_type": "stream",
          "text": [
            "\r1/1 [==============================] - 0s 37ms/sample\n"
          ],
          "name": "stdout"
        },
        {
          "output_type": "stream",
          "text": [
            "WARNING:root:Lossy conversion from float32 to uint8. Range [0, 1]. Convert image to uint8 prior to saving to suppress this warning.\n",
            "WARNING:root:Lossy conversion from float32 to uint8. Range [0, 1]. Convert image to uint8 prior to saving to suppress this warning.\n",
            "WARNING:root:Lossy conversion from float32 to uint8. Range [0, 1]. Convert image to uint8 prior to saving to suppress this warning.\n"
          ],
          "name": "stderr"
        },
        {
          "output_type": "stream",
          "text": [
            "\r1/1 [==============================] - 0s 37ms/sample\n"
          ],
          "name": "stdout"
        },
        {
          "output_type": "stream",
          "text": [
            "WARNING:root:Lossy conversion from float32 to uint8. Range [0, 1]. Convert image to uint8 prior to saving to suppress this warning.\n",
            "WARNING:root:Lossy conversion from float32 to uint8. Range [0, 1]. Convert image to uint8 prior to saving to suppress this warning.\n",
            "WARNING:root:Lossy conversion from float32 to uint8. Range [0, 1]. Convert image to uint8 prior to saving to suppress this warning.\n"
          ],
          "name": "stderr"
        },
        {
          "output_type": "stream",
          "text": [
            "\r1/1 [==============================] - 0s 38ms/sample\n"
          ],
          "name": "stdout"
        },
        {
          "output_type": "stream",
          "text": [
            "WARNING:root:Lossy conversion from float32 to uint8. Range [0, 1]. Convert image to uint8 prior to saving to suppress this warning.\n",
            "WARNING:root:Lossy conversion from float32 to uint8. Range [0, 1]. Convert image to uint8 prior to saving to suppress this warning.\n",
            "WARNING:root:Lossy conversion from float32 to uint8. Range [0, 1]. Convert image to uint8 prior to saving to suppress this warning.\n"
          ],
          "name": "stderr"
        },
        {
          "output_type": "stream",
          "text": [
            "\r1/1 [==============================] - 0s 37ms/sample\n"
          ],
          "name": "stdout"
        },
        {
          "output_type": "stream",
          "text": [
            "WARNING:root:Lossy conversion from float32 to uint8. Range [0, 1]. Convert image to uint8 prior to saving to suppress this warning.\n",
            "WARNING:root:Lossy conversion from float32 to uint8. Range [0, 1]. Convert image to uint8 prior to saving to suppress this warning.\n",
            "WARNING:root:Lossy conversion from float32 to uint8. Range [0, 1]. Convert image to uint8 prior to saving to suppress this warning.\n"
          ],
          "name": "stderr"
        },
        {
          "output_type": "stream",
          "text": [
            "\r1/1 [==============================] - 0s 37ms/sample\n"
          ],
          "name": "stdout"
        },
        {
          "output_type": "stream",
          "text": [
            "WARNING:root:Lossy conversion from float32 to uint8. Range [0, 1]. Convert image to uint8 prior to saving to suppress this warning.\n",
            "WARNING:root:Lossy conversion from float32 to uint8. Range [0, 1]. Convert image to uint8 prior to saving to suppress this warning.\n",
            "WARNING:root:Lossy conversion from float32 to uint8. Range [0, 1]. Convert image to uint8 prior to saving to suppress this warning.\n"
          ],
          "name": "stderr"
        },
        {
          "output_type": "stream",
          "text": [
            "\r1/1 [==============================] - 0s 38ms/sample\n"
          ],
          "name": "stdout"
        },
        {
          "output_type": "stream",
          "text": [
            "WARNING:root:Lossy conversion from float32 to uint8. Range [0, 1]. Convert image to uint8 prior to saving to suppress this warning.\n",
            "WARNING:root:Lossy conversion from float32 to uint8. Range [0, 1]. Convert image to uint8 prior to saving to suppress this warning.\n",
            "WARNING:root:Lossy conversion from float32 to uint8. Range [0, 1]. Convert image to uint8 prior to saving to suppress this warning.\n"
          ],
          "name": "stderr"
        },
        {
          "output_type": "stream",
          "text": [
            "\r1/1 [==============================] - 0s 37ms/sample\n"
          ],
          "name": "stdout"
        },
        {
          "output_type": "stream",
          "text": [
            "WARNING:root:Lossy conversion from float32 to uint8. Range [0, 1]. Convert image to uint8 prior to saving to suppress this warning.\n",
            "WARNING:root:Lossy conversion from float32 to uint8. Range [0, 1]. Convert image to uint8 prior to saving to suppress this warning.\n",
            "WARNING:root:Lossy conversion from float32 to uint8. Range [0, 1]. Convert image to uint8 prior to saving to suppress this warning.\n"
          ],
          "name": "stderr"
        },
        {
          "output_type": "stream",
          "text": [
            "\r1/1 [==============================] - 0s 38ms/sample\n"
          ],
          "name": "stdout"
        },
        {
          "output_type": "stream",
          "text": [
            "WARNING:root:Lossy conversion from float32 to uint8. Range [0, 1]. Convert image to uint8 prior to saving to suppress this warning.\n",
            "WARNING:root:Lossy conversion from float32 to uint8. Range [0, 1]. Convert image to uint8 prior to saving to suppress this warning.\n",
            "WARNING:root:Lossy conversion from float32 to uint8. Range [0, 1]. Convert image to uint8 prior to saving to suppress this warning.\n"
          ],
          "name": "stderr"
        },
        {
          "output_type": "stream",
          "text": [
            "\r1/1 [==============================] - 0s 36ms/sample\n"
          ],
          "name": "stdout"
        },
        {
          "output_type": "stream",
          "text": [
            "WARNING:root:Lossy conversion from float32 to uint8. Range [0, 1]. Convert image to uint8 prior to saving to suppress this warning.\n",
            "WARNING:root:Lossy conversion from float32 to uint8. Range [0, 1]. Convert image to uint8 prior to saving to suppress this warning.\n",
            "WARNING:root:Lossy conversion from float32 to uint8. Range [0, 1]. Convert image to uint8 prior to saving to suppress this warning.\n"
          ],
          "name": "stderr"
        },
        {
          "output_type": "stream",
          "text": [
            "\r1/1 [==============================] - 0s 37ms/sample\n"
          ],
          "name": "stdout"
        },
        {
          "output_type": "stream",
          "text": [
            "WARNING:root:Lossy conversion from float32 to uint8. Range [0, 1]. Convert image to uint8 prior to saving to suppress this warning.\n",
            "WARNING:root:Lossy conversion from float32 to uint8. Range [0, 1]. Convert image to uint8 prior to saving to suppress this warning.\n",
            "WARNING:root:Lossy conversion from float32 to uint8. Range [0, 1]. Convert image to uint8 prior to saving to suppress this warning.\n"
          ],
          "name": "stderr"
        },
        {
          "output_type": "stream",
          "text": [
            "\r1/1 [==============================] - 0s 37ms/sample\n"
          ],
          "name": "stdout"
        },
        {
          "output_type": "stream",
          "text": [
            "WARNING:root:Lossy conversion from float32 to uint8. Range [0, 1]. Convert image to uint8 prior to saving to suppress this warning.\n",
            "WARNING:root:Lossy conversion from float32 to uint8. Range [0, 1]. Convert image to uint8 prior to saving to suppress this warning.\n",
            "WARNING:root:Lossy conversion from float32 to uint8. Range [0, 1]. Convert image to uint8 prior to saving to suppress this warning.\n"
          ],
          "name": "stderr"
        },
        {
          "output_type": "stream",
          "text": [
            "\r1/1 [==============================] - 0s 36ms/sample\n"
          ],
          "name": "stdout"
        },
        {
          "output_type": "stream",
          "text": [
            "WARNING:root:Lossy conversion from float32 to uint8. Range [0, 1]. Convert image to uint8 prior to saving to suppress this warning.\n",
            "WARNING:root:Lossy conversion from float32 to uint8. Range [0, 1]. Convert image to uint8 prior to saving to suppress this warning.\n",
            "WARNING:root:Lossy conversion from float32 to uint8. Range [0, 1]. Convert image to uint8 prior to saving to suppress this warning.\n"
          ],
          "name": "stderr"
        },
        {
          "output_type": "stream",
          "text": [
            "\r1/1 [==============================] - 0s 36ms/sample\n"
          ],
          "name": "stdout"
        },
        {
          "output_type": "stream",
          "text": [
            "WARNING:root:Lossy conversion from float32 to uint8. Range [0, 1]. Convert image to uint8 prior to saving to suppress this warning.\n",
            "WARNING:root:Lossy conversion from float32 to uint8. Range [0, 1]. Convert image to uint8 prior to saving to suppress this warning.\n",
            "WARNING:root:Lossy conversion from float32 to uint8. Range [0, 1]. Convert image to uint8 prior to saving to suppress this warning.\n"
          ],
          "name": "stderr"
        },
        {
          "output_type": "stream",
          "text": [
            "\r1/1 [==============================] - 0s 36ms/sample\n"
          ],
          "name": "stdout"
        },
        {
          "output_type": "stream",
          "text": [
            "WARNING:root:Lossy conversion from float32 to uint8. Range [0, 1]. Convert image to uint8 prior to saving to suppress this warning.\n",
            "/usr/local/lib/python3.7/dist-packages/ipykernel_launcher.py:15: UserWarning: /content/gdrive/MyDrive/OutputTraining/Enhanced/Epoch 150/0047_Predict.png is a low contrast image\n",
            "  from ipykernel import kernelapp as app\n",
            "WARNING:root:Lossy conversion from float32 to uint8. Range [0, 1]. Convert image to uint8 prior to saving to suppress this warning.\n",
            "/usr/local/lib/python3.7/dist-packages/ipykernel_launcher.py:16: UserWarning: /content/gdrive/MyDrive/OutputTraining/Enhanced/Epoch 150/0047_Mask.png is a low contrast image\n",
            "  app.launch_new_instance()\n",
            "WARNING:root:Lossy conversion from float32 to uint8. Range [0, 1]. Convert image to uint8 prior to saving to suppress this warning.\n"
          ],
          "name": "stderr"
        },
        {
          "output_type": "stream",
          "text": [
            "\r1/1 [==============================] - 0s 36ms/sample\n"
          ],
          "name": "stdout"
        },
        {
          "output_type": "stream",
          "text": [
            "WARNING:root:Lossy conversion from float32 to uint8. Range [0, 1]. Convert image to uint8 prior to saving to suppress this warning.\n",
            "WARNING:root:Lossy conversion from float32 to uint8. Range [0, 1]. Convert image to uint8 prior to saving to suppress this warning.\n",
            "WARNING:root:Lossy conversion from float32 to uint8. Range [0, 1]. Convert image to uint8 prior to saving to suppress this warning.\n"
          ],
          "name": "stderr"
        },
        {
          "output_type": "stream",
          "text": [
            "\r1/1 [==============================] - 0s 37ms/sample\n"
          ],
          "name": "stdout"
        },
        {
          "output_type": "stream",
          "text": [
            "WARNING:root:Lossy conversion from float32 to uint8. Range [0, 1]. Convert image to uint8 prior to saving to suppress this warning.\n",
            "WARNING:root:Lossy conversion from float32 to uint8. Range [0, 1]. Convert image to uint8 prior to saving to suppress this warning.\n",
            "WARNING:root:Lossy conversion from float32 to uint8. Range [0, 1]. Convert image to uint8 prior to saving to suppress this warning.\n"
          ],
          "name": "stderr"
        },
        {
          "output_type": "stream",
          "text": [
            "\r1/1 [==============================] - 0s 38ms/sample\n"
          ],
          "name": "stdout"
        },
        {
          "output_type": "stream",
          "text": [
            "WARNING:root:Lossy conversion from float32 to uint8. Range [0, 1]. Convert image to uint8 prior to saving to suppress this warning.\n",
            "WARNING:root:Lossy conversion from float32 to uint8. Range [0, 1]. Convert image to uint8 prior to saving to suppress this warning.\n",
            "WARNING:root:Lossy conversion from float32 to uint8. Range [0, 1]. Convert image to uint8 prior to saving to suppress this warning.\n"
          ],
          "name": "stderr"
        },
        {
          "output_type": "stream",
          "text": [
            "\r1/1 [==============================] - 0s 36ms/sample\n"
          ],
          "name": "stdout"
        },
        {
          "output_type": "stream",
          "text": [
            "WARNING:root:Lossy conversion from float32 to uint8. Range [0, 1]. Convert image to uint8 prior to saving to suppress this warning.\n",
            "WARNING:root:Lossy conversion from float32 to uint8. Range [0, 1]. Convert image to uint8 prior to saving to suppress this warning.\n",
            "WARNING:root:Lossy conversion from float32 to uint8. Range [0, 1]. Convert image to uint8 prior to saving to suppress this warning.\n"
          ],
          "name": "stderr"
        },
        {
          "output_type": "stream",
          "text": [
            "\r1/1 [==============================] - 0s 37ms/sample\n"
          ],
          "name": "stdout"
        },
        {
          "output_type": "stream",
          "text": [
            "WARNING:root:Lossy conversion from float32 to uint8. Range [0, 1]. Convert image to uint8 prior to saving to suppress this warning.\n",
            "WARNING:root:Lossy conversion from float32 to uint8. Range [0, 1]. Convert image to uint8 prior to saving to suppress this warning.\n",
            "WARNING:root:Lossy conversion from float32 to uint8. Range [0, 1]. Convert image to uint8 prior to saving to suppress this warning.\n"
          ],
          "name": "stderr"
        },
        {
          "output_type": "stream",
          "text": [
            "\r1/1 [==============================] - 0s 36ms/sample\n"
          ],
          "name": "stdout"
        },
        {
          "output_type": "stream",
          "text": [
            "WARNING:root:Lossy conversion from float32 to uint8. Range [0, 1]. Convert image to uint8 prior to saving to suppress this warning.\n",
            "WARNING:root:Lossy conversion from float32 to uint8. Range [0, 1]. Convert image to uint8 prior to saving to suppress this warning.\n",
            "WARNING:root:Lossy conversion from float32 to uint8. Range [0, 1]. Convert image to uint8 prior to saving to suppress this warning.\n"
          ],
          "name": "stderr"
        },
        {
          "output_type": "stream",
          "text": [
            "\r1/1 [==============================] - 0s 37ms/sample\n"
          ],
          "name": "stdout"
        },
        {
          "output_type": "stream",
          "text": [
            "WARNING:root:Lossy conversion from float32 to uint8. Range [0, 1]. Convert image to uint8 prior to saving to suppress this warning.\n",
            "WARNING:root:Lossy conversion from float32 to uint8. Range [0, 1]. Convert image to uint8 prior to saving to suppress this warning.\n",
            "/usr/local/lib/python3.7/dist-packages/ipykernel_launcher.py:16: UserWarning: /content/gdrive/MyDrive/OutputTraining/Enhanced/Epoch 150/0054_Mask.png is a low contrast image\n",
            "  app.launch_new_instance()\n",
            "WARNING:root:Lossy conversion from float32 to uint8. Range [0, 1]. Convert image to uint8 prior to saving to suppress this warning.\n"
          ],
          "name": "stderr"
        },
        {
          "output_type": "stream",
          "text": [
            "\r1/1 [==============================] - 0s 37ms/sample\n"
          ],
          "name": "stdout"
        },
        {
          "output_type": "stream",
          "text": [
            "WARNING:root:Lossy conversion from float32 to uint8. Range [0, 1]. Convert image to uint8 prior to saving to suppress this warning.\n",
            "/usr/local/lib/python3.7/dist-packages/ipykernel_launcher.py:15: UserWarning: /content/gdrive/MyDrive/OutputTraining/Enhanced/Epoch 150/0055_Predict.png is a low contrast image\n",
            "  from ipykernel import kernelapp as app\n",
            "WARNING:root:Lossy conversion from float32 to uint8. Range [0, 1]. Convert image to uint8 prior to saving to suppress this warning.\n",
            "WARNING:root:Lossy conversion from float32 to uint8. Range [0, 1]. Convert image to uint8 prior to saving to suppress this warning.\n"
          ],
          "name": "stderr"
        },
        {
          "output_type": "stream",
          "text": [
            "\r1/1 [==============================] - 0s 37ms/sample\n"
          ],
          "name": "stdout"
        },
        {
          "output_type": "stream",
          "text": [
            "WARNING:root:Lossy conversion from float32 to uint8. Range [0, 1]. Convert image to uint8 prior to saving to suppress this warning.\n",
            "WARNING:root:Lossy conversion from float32 to uint8. Range [0, 1]. Convert image to uint8 prior to saving to suppress this warning.\n",
            "WARNING:root:Lossy conversion from float32 to uint8. Range [0, 1]. Convert image to uint8 prior to saving to suppress this warning.\n"
          ],
          "name": "stderr"
        },
        {
          "output_type": "stream",
          "text": [
            "\r1/1 [==============================] - 0s 37ms/sample\n"
          ],
          "name": "stdout"
        },
        {
          "output_type": "stream",
          "text": [
            "WARNING:root:Lossy conversion from float32 to uint8. Range [0, 1]. Convert image to uint8 prior to saving to suppress this warning.\n",
            "WARNING:root:Lossy conversion from float32 to uint8. Range [0, 1]. Convert image to uint8 prior to saving to suppress this warning.\n",
            "WARNING:root:Lossy conversion from float32 to uint8. Range [0, 1]. Convert image to uint8 prior to saving to suppress this warning.\n"
          ],
          "name": "stderr"
        },
        {
          "output_type": "stream",
          "text": [
            "\r1/1 [==============================] - 0s 37ms/sample\n"
          ],
          "name": "stdout"
        },
        {
          "output_type": "stream",
          "text": [
            "WARNING:root:Lossy conversion from float32 to uint8. Range [0, 1]. Convert image to uint8 prior to saving to suppress this warning.\n",
            "WARNING:root:Lossy conversion from float32 to uint8. Range [0, 1]. Convert image to uint8 prior to saving to suppress this warning.\n",
            "WARNING:root:Lossy conversion from float32 to uint8. Range [0, 1]. Convert image to uint8 prior to saving to suppress this warning.\n"
          ],
          "name": "stderr"
        },
        {
          "output_type": "stream",
          "text": [
            "\r1/1 [==============================] - 0s 37ms/sample\n"
          ],
          "name": "stdout"
        },
        {
          "output_type": "stream",
          "text": [
            "WARNING:root:Lossy conversion from float32 to uint8. Range [0, 1]. Convert image to uint8 prior to saving to suppress this warning.\n",
            "WARNING:root:Lossy conversion from float32 to uint8. Range [0, 1]. Convert image to uint8 prior to saving to suppress this warning.\n",
            "WARNING:root:Lossy conversion from float32 to uint8. Range [0, 1]. Convert image to uint8 prior to saving to suppress this warning.\n"
          ],
          "name": "stderr"
        },
        {
          "output_type": "stream",
          "text": [
            "\r1/1 [==============================] - 0s 37ms/sample\n"
          ],
          "name": "stdout"
        },
        {
          "output_type": "stream",
          "text": [
            "WARNING:root:Lossy conversion from float32 to uint8. Range [0, 1]. Convert image to uint8 prior to saving to suppress this warning.\n",
            "WARNING:root:Lossy conversion from float32 to uint8. Range [0, 1]. Convert image to uint8 prior to saving to suppress this warning.\n",
            "WARNING:root:Lossy conversion from float32 to uint8. Range [0, 1]. Convert image to uint8 prior to saving to suppress this warning.\n"
          ],
          "name": "stderr"
        },
        {
          "output_type": "stream",
          "text": [
            "\r1/1 [==============================] - 0s 37ms/sample\n"
          ],
          "name": "stdout"
        },
        {
          "output_type": "stream",
          "text": [
            "WARNING:root:Lossy conversion from float32 to uint8. Range [0, 1]. Convert image to uint8 prior to saving to suppress this warning.\n",
            "WARNING:root:Lossy conversion from float32 to uint8. Range [0, 1]. Convert image to uint8 prior to saving to suppress this warning.\n",
            "WARNING:root:Lossy conversion from float32 to uint8. Range [0, 1]. Convert image to uint8 prior to saving to suppress this warning.\n"
          ],
          "name": "stderr"
        },
        {
          "output_type": "stream",
          "text": [
            "\r1/1 [==============================] - 0s 37ms/sample\n"
          ],
          "name": "stdout"
        },
        {
          "output_type": "stream",
          "text": [
            "WARNING:root:Lossy conversion from float32 to uint8. Range [0, 1]. Convert image to uint8 prior to saving to suppress this warning.\n",
            "WARNING:root:Lossy conversion from float32 to uint8. Range [0, 1]. Convert image to uint8 prior to saving to suppress this warning.\n",
            "WARNING:root:Lossy conversion from float32 to uint8. Range [0, 1]. Convert image to uint8 prior to saving to suppress this warning.\n"
          ],
          "name": "stderr"
        },
        {
          "output_type": "stream",
          "text": [
            "\r1/1 [==============================] - 0s 37ms/sample\n"
          ],
          "name": "stdout"
        },
        {
          "output_type": "stream",
          "text": [
            "WARNING:root:Lossy conversion from float32 to uint8. Range [0, 1]. Convert image to uint8 prior to saving to suppress this warning.\n",
            "WARNING:root:Lossy conversion from float32 to uint8. Range [0, 1]. Convert image to uint8 prior to saving to suppress this warning.\n",
            "WARNING:root:Lossy conversion from float32 to uint8. Range [0, 1]. Convert image to uint8 prior to saving to suppress this warning.\n"
          ],
          "name": "stderr"
        },
        {
          "output_type": "stream",
          "text": [
            "\r1/1 [==============================] - 0s 37ms/sample\n"
          ],
          "name": "stdout"
        },
        {
          "output_type": "stream",
          "text": [
            "WARNING:root:Lossy conversion from float32 to uint8. Range [0, 1]. Convert image to uint8 prior to saving to suppress this warning.\n",
            "/usr/local/lib/python3.7/dist-packages/ipykernel_launcher.py:15: UserWarning: /content/gdrive/MyDrive/OutputTraining/Enhanced/Epoch 150/0064_Predict.png is a low contrast image\n",
            "  from ipykernel import kernelapp as app\n",
            "WARNING:root:Lossy conversion from float32 to uint8. Range [0, 1]. Convert image to uint8 prior to saving to suppress this warning.\n",
            "/usr/local/lib/python3.7/dist-packages/ipykernel_launcher.py:16: UserWarning: /content/gdrive/MyDrive/OutputTraining/Enhanced/Epoch 150/0064_Mask.png is a low contrast image\n",
            "  app.launch_new_instance()\n",
            "WARNING:root:Lossy conversion from float32 to uint8. Range [0, 1]. Convert image to uint8 prior to saving to suppress this warning.\n"
          ],
          "name": "stderr"
        },
        {
          "output_type": "stream",
          "text": [
            "\r1/1 [==============================] - 0s 37ms/sample\n"
          ],
          "name": "stdout"
        },
        {
          "output_type": "stream",
          "text": [
            "WARNING:root:Lossy conversion from float32 to uint8. Range [0, 1]. Convert image to uint8 prior to saving to suppress this warning.\n",
            "WARNING:root:Lossy conversion from float32 to uint8. Range [0, 1]. Convert image to uint8 prior to saving to suppress this warning.\n",
            "WARNING:root:Lossy conversion from float32 to uint8. Range [0, 1]. Convert image to uint8 prior to saving to suppress this warning.\n"
          ],
          "name": "stderr"
        },
        {
          "output_type": "stream",
          "text": [
            "\r1/1 [==============================] - 0s 37ms/sample\n"
          ],
          "name": "stdout"
        },
        {
          "output_type": "stream",
          "text": [
            "WARNING:root:Lossy conversion from float32 to uint8. Range [0, 1]. Convert image to uint8 prior to saving to suppress this warning.\n",
            "WARNING:root:Lossy conversion from float32 to uint8. Range [0, 1]. Convert image to uint8 prior to saving to suppress this warning.\n",
            "WARNING:root:Lossy conversion from float32 to uint8. Range [0, 1]. Convert image to uint8 prior to saving to suppress this warning.\n"
          ],
          "name": "stderr"
        },
        {
          "output_type": "stream",
          "text": [
            "\r1/1 [==============================] - 0s 39ms/sample\n"
          ],
          "name": "stdout"
        },
        {
          "output_type": "stream",
          "text": [
            "WARNING:root:Lossy conversion from float32 to uint8. Range [0, 1]. Convert image to uint8 prior to saving to suppress this warning.\n",
            "WARNING:root:Lossy conversion from float32 to uint8. Range [0, 1]. Convert image to uint8 prior to saving to suppress this warning.\n",
            "WARNING:root:Lossy conversion from float32 to uint8. Range [0, 1]. Convert image to uint8 prior to saving to suppress this warning.\n"
          ],
          "name": "stderr"
        },
        {
          "output_type": "stream",
          "text": [
            "\r1/1 [==============================] - 0s 36ms/sample\n"
          ],
          "name": "stdout"
        },
        {
          "output_type": "stream",
          "text": [
            "WARNING:root:Lossy conversion from float32 to uint8. Range [0, 1]. Convert image to uint8 prior to saving to suppress this warning.\n",
            "WARNING:root:Lossy conversion from float32 to uint8. Range [0, 1]. Convert image to uint8 prior to saving to suppress this warning.\n",
            "WARNING:root:Lossy conversion from float32 to uint8. Range [0, 1]. Convert image to uint8 prior to saving to suppress this warning.\n"
          ],
          "name": "stderr"
        },
        {
          "output_type": "stream",
          "text": [
            "\r1/1 [==============================] - 0s 37ms/sample\n"
          ],
          "name": "stdout"
        },
        {
          "output_type": "stream",
          "text": [
            "WARNING:root:Lossy conversion from float32 to uint8. Range [0, 1]. Convert image to uint8 prior to saving to suppress this warning.\n",
            "WARNING:root:Lossy conversion from float32 to uint8. Range [0, 1]. Convert image to uint8 prior to saving to suppress this warning.\n",
            "WARNING:root:Lossy conversion from float32 to uint8. Range [0, 1]. Convert image to uint8 prior to saving to suppress this warning.\n"
          ],
          "name": "stderr"
        },
        {
          "output_type": "stream",
          "text": [
            "\r1/1 [==============================] - 0s 36ms/sample\n"
          ],
          "name": "stdout"
        },
        {
          "output_type": "stream",
          "text": [
            "WARNING:root:Lossy conversion from float32 to uint8. Range [0, 1]. Convert image to uint8 prior to saving to suppress this warning.\n",
            "WARNING:root:Lossy conversion from float32 to uint8. Range [0, 1]. Convert image to uint8 prior to saving to suppress this warning.\n",
            "WARNING:root:Lossy conversion from float32 to uint8. Range [0, 1]. Convert image to uint8 prior to saving to suppress this warning.\n"
          ],
          "name": "stderr"
        },
        {
          "output_type": "stream",
          "text": [
            "\r1/1 [==============================] - 0s 36ms/sample\n"
          ],
          "name": "stdout"
        },
        {
          "output_type": "stream",
          "text": [
            "WARNING:root:Lossy conversion from float32 to uint8. Range [0, 1]. Convert image to uint8 prior to saving to suppress this warning.\n",
            "WARNING:root:Lossy conversion from float32 to uint8. Range [0, 1]. Convert image to uint8 prior to saving to suppress this warning.\n",
            "WARNING:root:Lossy conversion from float32 to uint8. Range [0, 1]. Convert image to uint8 prior to saving to suppress this warning.\n"
          ],
          "name": "stderr"
        },
        {
          "output_type": "stream",
          "text": [
            "\r1/1 [==============================] - 0s 37ms/sample\n"
          ],
          "name": "stdout"
        },
        {
          "output_type": "stream",
          "text": [
            "WARNING:root:Lossy conversion from float32 to uint8. Range [0, 1]. Convert image to uint8 prior to saving to suppress this warning.\n",
            "/usr/local/lib/python3.7/dist-packages/ipykernel_launcher.py:15: UserWarning: /content/gdrive/MyDrive/OutputTraining/Enhanced/Epoch 150/0072_Predict.png is a low contrast image\n",
            "  from ipykernel import kernelapp as app\n",
            "WARNING:root:Lossy conversion from float32 to uint8. Range [0, 1]. Convert image to uint8 prior to saving to suppress this warning.\n",
            "/usr/local/lib/python3.7/dist-packages/ipykernel_launcher.py:16: UserWarning: /content/gdrive/MyDrive/OutputTraining/Enhanced/Epoch 150/0072_Mask.png is a low contrast image\n",
            "  app.launch_new_instance()\n",
            "WARNING:root:Lossy conversion from float32 to uint8. Range [0, 1]. Convert image to uint8 prior to saving to suppress this warning.\n"
          ],
          "name": "stderr"
        },
        {
          "output_type": "stream",
          "text": [
            "\r1/1 [==============================] - 0s 37ms/sample\n"
          ],
          "name": "stdout"
        },
        {
          "output_type": "stream",
          "text": [
            "WARNING:root:Lossy conversion from float32 to uint8. Range [0, 1]. Convert image to uint8 prior to saving to suppress this warning.\n",
            "WARNING:root:Lossy conversion from float32 to uint8. Range [0, 1]. Convert image to uint8 prior to saving to suppress this warning.\n",
            "WARNING:root:Lossy conversion from float32 to uint8. Range [0, 1]. Convert image to uint8 prior to saving to suppress this warning.\n"
          ],
          "name": "stderr"
        },
        {
          "output_type": "stream",
          "text": [
            "\r1/1 [==============================] - 0s 37ms/sample\n"
          ],
          "name": "stdout"
        },
        {
          "output_type": "stream",
          "text": [
            "WARNING:root:Lossy conversion from float32 to uint8. Range [0, 1]. Convert image to uint8 prior to saving to suppress this warning.\n",
            "WARNING:root:Lossy conversion from float32 to uint8. Range [0, 1]. Convert image to uint8 prior to saving to suppress this warning.\n",
            "WARNING:root:Lossy conversion from float32 to uint8. Range [0, 1]. Convert image to uint8 prior to saving to suppress this warning.\n"
          ],
          "name": "stderr"
        },
        {
          "output_type": "stream",
          "text": [
            "\r1/1 [==============================] - 0s 36ms/sample\n"
          ],
          "name": "stdout"
        },
        {
          "output_type": "stream",
          "text": [
            "WARNING:root:Lossy conversion from float32 to uint8. Range [0, 1]. Convert image to uint8 prior to saving to suppress this warning.\n",
            "WARNING:root:Lossy conversion from float32 to uint8. Range [0, 1]. Convert image to uint8 prior to saving to suppress this warning.\n",
            "WARNING:root:Lossy conversion from float32 to uint8. Range [0, 1]. Convert image to uint8 prior to saving to suppress this warning.\n"
          ],
          "name": "stderr"
        },
        {
          "output_type": "stream",
          "text": [
            "\r1/1 [==============================] - 0s 37ms/sample\n"
          ],
          "name": "stdout"
        },
        {
          "output_type": "stream",
          "text": [
            "WARNING:root:Lossy conversion from float32 to uint8. Range [0, 1]. Convert image to uint8 prior to saving to suppress this warning.\n",
            "WARNING:root:Lossy conversion from float32 to uint8. Range [0, 1]. Convert image to uint8 prior to saving to suppress this warning.\n",
            "WARNING:root:Lossy conversion from float32 to uint8. Range [0, 1]. Convert image to uint8 prior to saving to suppress this warning.\n"
          ],
          "name": "stderr"
        },
        {
          "output_type": "stream",
          "text": [
            "\r1/1 [==============================] - 0s 36ms/sample\n"
          ],
          "name": "stdout"
        },
        {
          "output_type": "stream",
          "text": [
            "WARNING:root:Lossy conversion from float32 to uint8. Range [0, 1]. Convert image to uint8 prior to saving to suppress this warning.\n",
            "WARNING:root:Lossy conversion from float32 to uint8. Range [0, 1]. Convert image to uint8 prior to saving to suppress this warning.\n",
            "WARNING:root:Lossy conversion from float32 to uint8. Range [0, 1]. Convert image to uint8 prior to saving to suppress this warning.\n"
          ],
          "name": "stderr"
        },
        {
          "output_type": "stream",
          "text": [
            "\r1/1 [==============================] - 0s 36ms/sample\n"
          ],
          "name": "stdout"
        },
        {
          "output_type": "stream",
          "text": [
            "WARNING:root:Lossy conversion from float32 to uint8. Range [0, 1]. Convert image to uint8 prior to saving to suppress this warning.\n",
            "/usr/local/lib/python3.7/dist-packages/ipykernel_launcher.py:15: UserWarning: /content/gdrive/MyDrive/OutputTraining/Enhanced/Epoch 150/0078_Predict.png is a low contrast image\n",
            "  from ipykernel import kernelapp as app\n",
            "WARNING:root:Lossy conversion from float32 to uint8. Range [0, 1]. Convert image to uint8 prior to saving to suppress this warning.\n",
            "/usr/local/lib/python3.7/dist-packages/ipykernel_launcher.py:16: UserWarning: /content/gdrive/MyDrive/OutputTraining/Enhanced/Epoch 150/0078_Mask.png is a low contrast image\n",
            "  app.launch_new_instance()\n",
            "WARNING:root:Lossy conversion from float32 to uint8. Range [0, 1]. Convert image to uint8 prior to saving to suppress this warning.\n"
          ],
          "name": "stderr"
        },
        {
          "output_type": "stream",
          "text": [
            "\r1/1 [==============================] - 0s 36ms/sample\n"
          ],
          "name": "stdout"
        },
        {
          "output_type": "stream",
          "text": [
            "WARNING:root:Lossy conversion from float32 to uint8. Range [0, 1]. Convert image to uint8 prior to saving to suppress this warning.\n",
            "WARNING:root:Lossy conversion from float32 to uint8. Range [0, 1]. Convert image to uint8 prior to saving to suppress this warning.\n",
            "WARNING:root:Lossy conversion from float32 to uint8. Range [0, 1]. Convert image to uint8 prior to saving to suppress this warning.\n"
          ],
          "name": "stderr"
        },
        {
          "output_type": "stream",
          "text": [
            "\r1/1 [==============================] - 0s 36ms/sample\n"
          ],
          "name": "stdout"
        },
        {
          "output_type": "stream",
          "text": [
            "WARNING:root:Lossy conversion from float32 to uint8. Range [0, 1]. Convert image to uint8 prior to saving to suppress this warning.\n",
            "WARNING:root:Lossy conversion from float32 to uint8. Range [0, 1]. Convert image to uint8 prior to saving to suppress this warning.\n",
            "WARNING:root:Lossy conversion from float32 to uint8. Range [0, 1]. Convert image to uint8 prior to saving to suppress this warning.\n"
          ],
          "name": "stderr"
        },
        {
          "output_type": "stream",
          "text": [
            "\r1/1 [==============================] - 0s 37ms/sample\n"
          ],
          "name": "stdout"
        },
        {
          "output_type": "stream",
          "text": [
            "WARNING:root:Lossy conversion from float32 to uint8. Range [0, 1]. Convert image to uint8 prior to saving to suppress this warning.\n",
            "WARNING:root:Lossy conversion from float32 to uint8. Range [0, 1]. Convert image to uint8 prior to saving to suppress this warning.\n",
            "WARNING:root:Lossy conversion from float32 to uint8. Range [0, 1]. Convert image to uint8 prior to saving to suppress this warning.\n"
          ],
          "name": "stderr"
        },
        {
          "output_type": "stream",
          "text": [
            "\r1/1 [==============================] - 0s 36ms/sample\n"
          ],
          "name": "stdout"
        },
        {
          "output_type": "stream",
          "text": [
            "WARNING:root:Lossy conversion from float32 to uint8. Range [0, 1]. Convert image to uint8 prior to saving to suppress this warning.\n",
            "WARNING:root:Lossy conversion from float32 to uint8. Range [0, 1]. Convert image to uint8 prior to saving to suppress this warning.\n",
            "WARNING:root:Lossy conversion from float32 to uint8. Range [0, 1]. Convert image to uint8 prior to saving to suppress this warning.\n"
          ],
          "name": "stderr"
        },
        {
          "output_type": "stream",
          "text": [
            "\r1/1 [==============================] - 0s 37ms/sample\n"
          ],
          "name": "stdout"
        },
        {
          "output_type": "stream",
          "text": [
            "WARNING:root:Lossy conversion from float32 to uint8. Range [0, 1]. Convert image to uint8 prior to saving to suppress this warning.\n",
            "WARNING:root:Lossy conversion from float32 to uint8. Range [0, 1]. Convert image to uint8 prior to saving to suppress this warning.\n",
            "WARNING:root:Lossy conversion from float32 to uint8. Range [0, 1]. Convert image to uint8 prior to saving to suppress this warning.\n"
          ],
          "name": "stderr"
        },
        {
          "output_type": "stream",
          "text": [
            "\r1/1 [==============================] - 0s 36ms/sample\n"
          ],
          "name": "stdout"
        },
        {
          "output_type": "stream",
          "text": [
            "WARNING:root:Lossy conversion from float32 to uint8. Range [0, 1]. Convert image to uint8 prior to saving to suppress this warning.\n",
            "WARNING:root:Lossy conversion from float32 to uint8. Range [0, 1]. Convert image to uint8 prior to saving to suppress this warning.\n",
            "WARNING:root:Lossy conversion from float32 to uint8. Range [0, 1]. Convert image to uint8 prior to saving to suppress this warning.\n"
          ],
          "name": "stderr"
        },
        {
          "output_type": "stream",
          "text": [
            "\r1/1 [==============================] - 0s 36ms/sample\n"
          ],
          "name": "stdout"
        },
        {
          "output_type": "stream",
          "text": [
            "WARNING:root:Lossy conversion from float32 to uint8. Range [0, 1]. Convert image to uint8 prior to saving to suppress this warning.\n",
            "WARNING:root:Lossy conversion from float32 to uint8. Range [0, 1]. Convert image to uint8 prior to saving to suppress this warning.\n",
            "WARNING:root:Lossy conversion from float32 to uint8. Range [0, 1]. Convert image to uint8 prior to saving to suppress this warning.\n"
          ],
          "name": "stderr"
        },
        {
          "output_type": "stream",
          "text": [
            "\r1/1 [==============================] - 0s 38ms/sample\n"
          ],
          "name": "stdout"
        },
        {
          "output_type": "stream",
          "text": [
            "WARNING:root:Lossy conversion from float32 to uint8. Range [0, 1]. Convert image to uint8 prior to saving to suppress this warning.\n",
            "WARNING:root:Lossy conversion from float32 to uint8. Range [0, 1]. Convert image to uint8 prior to saving to suppress this warning.\n",
            "WARNING:root:Lossy conversion from float32 to uint8. Range [0, 1]. Convert image to uint8 prior to saving to suppress this warning.\n"
          ],
          "name": "stderr"
        },
        {
          "output_type": "stream",
          "text": [
            "\r1/1 [==============================] - 0s 36ms/sample\n"
          ],
          "name": "stdout"
        },
        {
          "output_type": "stream",
          "text": [
            "WARNING:root:Lossy conversion from float32 to uint8. Range [0, 1]. Convert image to uint8 prior to saving to suppress this warning.\n",
            "WARNING:root:Lossy conversion from float32 to uint8. Range [0, 1]. Convert image to uint8 prior to saving to suppress this warning.\n",
            "WARNING:root:Lossy conversion from float32 to uint8. Range [0, 1]. Convert image to uint8 prior to saving to suppress this warning.\n"
          ],
          "name": "stderr"
        },
        {
          "output_type": "stream",
          "text": [
            "\r1/1 [==============================] - 0s 37ms/sample\n"
          ],
          "name": "stdout"
        },
        {
          "output_type": "stream",
          "text": [
            "WARNING:root:Lossy conversion from float32 to uint8. Range [0, 1]. Convert image to uint8 prior to saving to suppress this warning.\n",
            "WARNING:root:Lossy conversion from float32 to uint8. Range [0, 1]. Convert image to uint8 prior to saving to suppress this warning.\n",
            "WARNING:root:Lossy conversion from float32 to uint8. Range [0, 1]. Convert image to uint8 prior to saving to suppress this warning.\n"
          ],
          "name": "stderr"
        },
        {
          "output_type": "stream",
          "text": [
            "\r1/1 [==============================] - 0s 36ms/sample\n"
          ],
          "name": "stdout"
        },
        {
          "output_type": "stream",
          "text": [
            "WARNING:root:Lossy conversion from float32 to uint8. Range [0, 1]. Convert image to uint8 prior to saving to suppress this warning.\n",
            "WARNING:root:Lossy conversion from float32 to uint8. Range [0, 1]. Convert image to uint8 prior to saving to suppress this warning.\n",
            "WARNING:root:Lossy conversion from float32 to uint8. Range [0, 1]. Convert image to uint8 prior to saving to suppress this warning.\n"
          ],
          "name": "stderr"
        },
        {
          "output_type": "stream",
          "text": [
            "\r1/1 [==============================] - 0s 39ms/sample\n"
          ],
          "name": "stdout"
        },
        {
          "output_type": "stream",
          "text": [
            "WARNING:root:Lossy conversion from float32 to uint8. Range [0, 1]. Convert image to uint8 prior to saving to suppress this warning.\n",
            "WARNING:root:Lossy conversion from float32 to uint8. Range [0, 1]. Convert image to uint8 prior to saving to suppress this warning.\n",
            "WARNING:root:Lossy conversion from float32 to uint8. Range [0, 1]. Convert image to uint8 prior to saving to suppress this warning.\n"
          ],
          "name": "stderr"
        },
        {
          "output_type": "stream",
          "text": [
            "\r1/1 [==============================] - 0s 37ms/sample\n"
          ],
          "name": "stdout"
        },
        {
          "output_type": "stream",
          "text": [
            "WARNING:root:Lossy conversion from float32 to uint8. Range [0, 1]. Convert image to uint8 prior to saving to suppress this warning.\n",
            "WARNING:root:Lossy conversion from float32 to uint8. Range [0, 1]. Convert image to uint8 prior to saving to suppress this warning.\n",
            "WARNING:root:Lossy conversion from float32 to uint8. Range [0, 1]. Convert image to uint8 prior to saving to suppress this warning.\n"
          ],
          "name": "stderr"
        },
        {
          "output_type": "stream",
          "text": [
            "\r1/1 [==============================] - 0s 36ms/sample\n"
          ],
          "name": "stdout"
        },
        {
          "output_type": "stream",
          "text": [
            "WARNING:root:Lossy conversion from float32 to uint8. Range [0, 1]. Convert image to uint8 prior to saving to suppress this warning.\n",
            "WARNING:root:Lossy conversion from float32 to uint8. Range [0, 1]. Convert image to uint8 prior to saving to suppress this warning.\n",
            "WARNING:root:Lossy conversion from float32 to uint8. Range [0, 1]. Convert image to uint8 prior to saving to suppress this warning.\n"
          ],
          "name": "stderr"
        },
        {
          "output_type": "stream",
          "text": [
            "\r1/1 [==============================] - 0s 36ms/sample\n"
          ],
          "name": "stdout"
        },
        {
          "output_type": "stream",
          "text": [
            "WARNING:root:Lossy conversion from float32 to uint8. Range [0, 1]. Convert image to uint8 prior to saving to suppress this warning.\n",
            "WARNING:root:Lossy conversion from float32 to uint8. Range [0, 1]. Convert image to uint8 prior to saving to suppress this warning.\n",
            "WARNING:root:Lossy conversion from float32 to uint8. Range [0, 1]. Convert image to uint8 prior to saving to suppress this warning.\n"
          ],
          "name": "stderr"
        },
        {
          "output_type": "stream",
          "text": [
            "\r1/1 [==============================] - 0s 37ms/sample\n"
          ],
          "name": "stdout"
        },
        {
          "output_type": "stream",
          "text": [
            "WARNING:root:Lossy conversion from float32 to uint8. Range [0, 1]. Convert image to uint8 prior to saving to suppress this warning.\n",
            "WARNING:root:Lossy conversion from float32 to uint8. Range [0, 1]. Convert image to uint8 prior to saving to suppress this warning.\n",
            "WARNING:root:Lossy conversion from float32 to uint8. Range [0, 1]. Convert image to uint8 prior to saving to suppress this warning.\n"
          ],
          "name": "stderr"
        },
        {
          "output_type": "stream",
          "text": [
            "\r1/1 [==============================] - 0s 36ms/sample\n"
          ],
          "name": "stdout"
        },
        {
          "output_type": "stream",
          "text": [
            "WARNING:root:Lossy conversion from float32 to uint8. Range [0, 1]. Convert image to uint8 prior to saving to suppress this warning.\n",
            "WARNING:root:Lossy conversion from float32 to uint8. Range [0, 1]. Convert image to uint8 prior to saving to suppress this warning.\n",
            "WARNING:root:Lossy conversion from float32 to uint8. Range [0, 1]. Convert image to uint8 prior to saving to suppress this warning.\n"
          ],
          "name": "stderr"
        },
        {
          "output_type": "stream",
          "text": [
            "\r1/1 [==============================] - 0s 37ms/sample\n"
          ],
          "name": "stdout"
        },
        {
          "output_type": "stream",
          "text": [
            "WARNING:root:Lossy conversion from float32 to uint8. Range [0, 1]. Convert image to uint8 prior to saving to suppress this warning.\n",
            "WARNING:root:Lossy conversion from float32 to uint8. Range [0, 1]. Convert image to uint8 prior to saving to suppress this warning.\n",
            "WARNING:root:Lossy conversion from float32 to uint8. Range [0, 1]. Convert image to uint8 prior to saving to suppress this warning.\n"
          ],
          "name": "stderr"
        },
        {
          "output_type": "stream",
          "text": [
            "\r1/1 [==============================] - 0s 38ms/sample\n"
          ],
          "name": "stdout"
        },
        {
          "output_type": "stream",
          "text": [
            "WARNING:root:Lossy conversion from float32 to uint8. Range [0, 1]. Convert image to uint8 prior to saving to suppress this warning.\n",
            "WARNING:root:Lossy conversion from float32 to uint8. Range [0, 1]. Convert image to uint8 prior to saving to suppress this warning.\n",
            "WARNING:root:Lossy conversion from float32 to uint8. Range [0, 1]. Convert image to uint8 prior to saving to suppress this warning.\n"
          ],
          "name": "stderr"
        },
        {
          "output_type": "stream",
          "text": [
            "\r1/1 [==============================] - 0s 36ms/sample\n"
          ],
          "name": "stdout"
        },
        {
          "output_type": "stream",
          "text": [
            "WARNING:root:Lossy conversion from float32 to uint8. Range [0, 1]. Convert image to uint8 prior to saving to suppress this warning.\n",
            "WARNING:root:Lossy conversion from float32 to uint8. Range [0, 1]. Convert image to uint8 prior to saving to suppress this warning.\n",
            "WARNING:root:Lossy conversion from float32 to uint8. Range [0, 1]. Convert image to uint8 prior to saving to suppress this warning.\n"
          ],
          "name": "stderr"
        },
        {
          "output_type": "stream",
          "text": [
            "\r1/1 [==============================] - 0s 36ms/sample\n"
          ],
          "name": "stdout"
        },
        {
          "output_type": "stream",
          "text": [
            "WARNING:root:Lossy conversion from float32 to uint8. Range [0, 1]. Convert image to uint8 prior to saving to suppress this warning.\n",
            "WARNING:root:Lossy conversion from float32 to uint8. Range [0, 1]. Convert image to uint8 prior to saving to suppress this warning.\n",
            "WARNING:root:Lossy conversion from float32 to uint8. Range [0, 1]. Convert image to uint8 prior to saving to suppress this warning.\n"
          ],
          "name": "stderr"
        },
        {
          "output_type": "stream",
          "text": [
            "\r1/1 [==============================] - 0s 37ms/sample\n"
          ],
          "name": "stdout"
        },
        {
          "output_type": "stream",
          "text": [
            "WARNING:root:Lossy conversion from float32 to uint8. Range [0, 1]. Convert image to uint8 prior to saving to suppress this warning.\n",
            "WARNING:root:Lossy conversion from float32 to uint8. Range [0, 1]. Convert image to uint8 prior to saving to suppress this warning.\n",
            "WARNING:root:Lossy conversion from float32 to uint8. Range [0, 1]. Convert image to uint8 prior to saving to suppress this warning.\n"
          ],
          "name": "stderr"
        },
        {
          "output_type": "stream",
          "text": [
            "\r1/1 [==============================] - 0s 36ms/sample\n"
          ],
          "name": "stdout"
        },
        {
          "output_type": "stream",
          "text": [
            "WARNING:root:Lossy conversion from float32 to uint8. Range [0, 1]. Convert image to uint8 prior to saving to suppress this warning.\n",
            "WARNING:root:Lossy conversion from float32 to uint8. Range [0, 1]. Convert image to uint8 prior to saving to suppress this warning.\n",
            "WARNING:root:Lossy conversion from float32 to uint8. Range [0, 1]. Convert image to uint8 prior to saving to suppress this warning.\n"
          ],
          "name": "stderr"
        },
        {
          "output_type": "stream",
          "text": [
            "\r1/1 [==============================] - 0s 39ms/sample\n"
          ],
          "name": "stdout"
        },
        {
          "output_type": "stream",
          "text": [
            "WARNING:root:Lossy conversion from float32 to uint8. Range [0, 1]. Convert image to uint8 prior to saving to suppress this warning.\n",
            "WARNING:root:Lossy conversion from float32 to uint8. Range [0, 1]. Convert image to uint8 prior to saving to suppress this warning.\n",
            "WARNING:root:Lossy conversion from float32 to uint8. Range [0, 1]. Convert image to uint8 prior to saving to suppress this warning.\n"
          ],
          "name": "stderr"
        },
        {
          "output_type": "stream",
          "text": [
            "\r1/1 [==============================] - 0s 37ms/sample\n"
          ],
          "name": "stdout"
        },
        {
          "output_type": "stream",
          "text": [
            "WARNING:root:Lossy conversion from float32 to uint8. Range [0, 1]. Convert image to uint8 prior to saving to suppress this warning.\n",
            "WARNING:root:Lossy conversion from float32 to uint8. Range [0, 1]. Convert image to uint8 prior to saving to suppress this warning.\n",
            "WARNING:root:Lossy conversion from float32 to uint8. Range [0, 1]. Convert image to uint8 prior to saving to suppress this warning.\n"
          ],
          "name": "stderr"
        },
        {
          "output_type": "stream",
          "text": [
            "\r1/1 [==============================] - 0s 36ms/sample\n"
          ],
          "name": "stdout"
        },
        {
          "output_type": "stream",
          "text": [
            "WARNING:root:Lossy conversion from float32 to uint8. Range [0, 1]. Convert image to uint8 prior to saving to suppress this warning.\n",
            "WARNING:root:Lossy conversion from float32 to uint8. Range [0, 1]. Convert image to uint8 prior to saving to suppress this warning.\n",
            "WARNING:root:Lossy conversion from float32 to uint8. Range [0, 1]. Convert image to uint8 prior to saving to suppress this warning.\n"
          ],
          "name": "stderr"
        },
        {
          "output_type": "stream",
          "text": [
            "\r1/1 [==============================] - 0s 37ms/sample\n"
          ],
          "name": "stdout"
        },
        {
          "output_type": "stream",
          "text": [
            "WARNING:root:Lossy conversion from float32 to uint8. Range [0, 1]. Convert image to uint8 prior to saving to suppress this warning.\n",
            "WARNING:root:Lossy conversion from float32 to uint8. Range [0, 1]. Convert image to uint8 prior to saving to suppress this warning.\n",
            "WARNING:root:Lossy conversion from float32 to uint8. Range [0, 1]. Convert image to uint8 prior to saving to suppress this warning.\n"
          ],
          "name": "stderr"
        },
        {
          "output_type": "stream",
          "text": [
            "\r1/1 [==============================] - 0s 36ms/sample\n"
          ],
          "name": "stdout"
        },
        {
          "output_type": "stream",
          "text": [
            "WARNING:root:Lossy conversion from float32 to uint8. Range [0, 1]. Convert image to uint8 prior to saving to suppress this warning.\n",
            "WARNING:root:Lossy conversion from float32 to uint8. Range [0, 1]. Convert image to uint8 prior to saving to suppress this warning.\n",
            "WARNING:root:Lossy conversion from float32 to uint8. Range [0, 1]. Convert image to uint8 prior to saving to suppress this warning.\n"
          ],
          "name": "stderr"
        },
        {
          "output_type": "stream",
          "text": [
            "\r1/1 [==============================] - 0s 36ms/sample\n"
          ],
          "name": "stdout"
        },
        {
          "output_type": "stream",
          "text": [
            "WARNING:root:Lossy conversion from float32 to uint8. Range [0, 1]. Convert image to uint8 prior to saving to suppress this warning.\n",
            "WARNING:root:Lossy conversion from float32 to uint8. Range [0, 1]. Convert image to uint8 prior to saving to suppress this warning.\n",
            "WARNING:root:Lossy conversion from float32 to uint8. Range [0, 1]. Convert image to uint8 prior to saving to suppress this warning.\n"
          ],
          "name": "stderr"
        },
        {
          "output_type": "stream",
          "text": [
            "\r1/1 [==============================] - 0s 36ms/sample\n"
          ],
          "name": "stdout"
        },
        {
          "output_type": "stream",
          "text": [
            "WARNING:root:Lossy conversion from float32 to uint8. Range [0, 1]. Convert image to uint8 prior to saving to suppress this warning.\n",
            "WARNING:root:Lossy conversion from float32 to uint8. Range [0, 1]. Convert image to uint8 prior to saving to suppress this warning.\n",
            "WARNING:root:Lossy conversion from float32 to uint8. Range [0, 1]. Convert image to uint8 prior to saving to suppress this warning.\n"
          ],
          "name": "stderr"
        },
        {
          "output_type": "stream",
          "text": [
            "\r1/1 [==============================] - 0s 36ms/sample\n"
          ],
          "name": "stdout"
        },
        {
          "output_type": "stream",
          "text": [
            "WARNING:root:Lossy conversion from float32 to uint8. Range [0, 1]. Convert image to uint8 prior to saving to suppress this warning.\n",
            "WARNING:root:Lossy conversion from float32 to uint8. Range [0, 1]. Convert image to uint8 prior to saving to suppress this warning.\n",
            "WARNING:root:Lossy conversion from float32 to uint8. Range [0, 1]. Convert image to uint8 prior to saving to suppress this warning.\n"
          ],
          "name": "stderr"
        },
        {
          "output_type": "stream",
          "text": [
            "\r1/1 [==============================] - 0s 36ms/sample\n"
          ],
          "name": "stdout"
        },
        {
          "output_type": "stream",
          "text": [
            "WARNING:root:Lossy conversion from float32 to uint8. Range [0, 1]. Convert image to uint8 prior to saving to suppress this warning.\n",
            "WARNING:root:Lossy conversion from float32 to uint8. Range [0, 1]. Convert image to uint8 prior to saving to suppress this warning.\n",
            "WARNING:root:Lossy conversion from float32 to uint8. Range [0, 1]. Convert image to uint8 prior to saving to suppress this warning.\n"
          ],
          "name": "stderr"
        },
        {
          "output_type": "stream",
          "text": [
            "\r1/1 [==============================] - 0s 36ms/sample\n"
          ],
          "name": "stdout"
        },
        {
          "output_type": "stream",
          "text": [
            "WARNING:root:Lossy conversion from float32 to uint8. Range [0, 1]. Convert image to uint8 prior to saving to suppress this warning.\n",
            "WARNING:root:Lossy conversion from float32 to uint8. Range [0, 1]. Convert image to uint8 prior to saving to suppress this warning.\n",
            "WARNING:root:Lossy conversion from float32 to uint8. Range [0, 1]. Convert image to uint8 prior to saving to suppress this warning.\n"
          ],
          "name": "stderr"
        },
        {
          "output_type": "stream",
          "text": [
            "\r1/1 [==============================] - 0s 37ms/sample\n"
          ],
          "name": "stdout"
        },
        {
          "output_type": "stream",
          "text": [
            "WARNING:root:Lossy conversion from float32 to uint8. Range [0, 1]. Convert image to uint8 prior to saving to suppress this warning.\n",
            "WARNING:root:Lossy conversion from float32 to uint8. Range [0, 1]. Convert image to uint8 prior to saving to suppress this warning.\n",
            "WARNING:root:Lossy conversion from float32 to uint8. Range [0, 1]. Convert image to uint8 prior to saving to suppress this warning.\n"
          ],
          "name": "stderr"
        },
        {
          "output_type": "stream",
          "text": [
            "\r1/1 [==============================] - 0s 36ms/sample\n"
          ],
          "name": "stdout"
        },
        {
          "output_type": "stream",
          "text": [
            "WARNING:root:Lossy conversion from float32 to uint8. Range [0, 1]. Convert image to uint8 prior to saving to suppress this warning.\n",
            "WARNING:root:Lossy conversion from float32 to uint8. Range [0, 1]. Convert image to uint8 prior to saving to suppress this warning.\n",
            "WARNING:root:Lossy conversion from float32 to uint8. Range [0, 1]. Convert image to uint8 prior to saving to suppress this warning.\n"
          ],
          "name": "stderr"
        },
        {
          "output_type": "stream",
          "text": [
            "\r1/1 [==============================] - 0s 36ms/sample\n"
          ],
          "name": "stdout"
        },
        {
          "output_type": "stream",
          "text": [
            "WARNING:root:Lossy conversion from float32 to uint8. Range [0, 1]. Convert image to uint8 prior to saving to suppress this warning.\n",
            "WARNING:root:Lossy conversion from float32 to uint8. Range [0, 1]. Convert image to uint8 prior to saving to suppress this warning.\n",
            "WARNING:root:Lossy conversion from float32 to uint8. Range [0, 1]. Convert image to uint8 prior to saving to suppress this warning.\n"
          ],
          "name": "stderr"
        },
        {
          "output_type": "stream",
          "text": [
            "\r1/1 [==============================] - 0s 36ms/sample\n"
          ],
          "name": "stdout"
        },
        {
          "output_type": "stream",
          "text": [
            "WARNING:root:Lossy conversion from float32 to uint8. Range [0, 1]. Convert image to uint8 prior to saving to suppress this warning.\n",
            "WARNING:root:Lossy conversion from float32 to uint8. Range [0, 1]. Convert image to uint8 prior to saving to suppress this warning.\n",
            "WARNING:root:Lossy conversion from float32 to uint8. Range [0, 1]. Convert image to uint8 prior to saving to suppress this warning.\n"
          ],
          "name": "stderr"
        },
        {
          "output_type": "stream",
          "text": [
            "\r1/1 [==============================] - 0s 36ms/sample\n"
          ],
          "name": "stdout"
        },
        {
          "output_type": "stream",
          "text": [
            "WARNING:root:Lossy conversion from float32 to uint8. Range [0, 1]. Convert image to uint8 prior to saving to suppress this warning.\n",
            "WARNING:root:Lossy conversion from float32 to uint8. Range [0, 1]. Convert image to uint8 prior to saving to suppress this warning.\n",
            "WARNING:root:Lossy conversion from float32 to uint8. Range [0, 1]. Convert image to uint8 prior to saving to suppress this warning.\n"
          ],
          "name": "stderr"
        },
        {
          "output_type": "stream",
          "text": [
            "\r1/1 [==============================] - 0s 37ms/sample\n"
          ],
          "name": "stdout"
        },
        {
          "output_type": "stream",
          "text": [
            "WARNING:root:Lossy conversion from float32 to uint8. Range [0, 1]. Convert image to uint8 prior to saving to suppress this warning.\n",
            "WARNING:root:Lossy conversion from float32 to uint8. Range [0, 1]. Convert image to uint8 prior to saving to suppress this warning.\n",
            "WARNING:root:Lossy conversion from float32 to uint8. Range [0, 1]. Convert image to uint8 prior to saving to suppress this warning.\n"
          ],
          "name": "stderr"
        },
        {
          "output_type": "stream",
          "text": [
            "\r1/1 [==============================] - 0s 36ms/sample\n"
          ],
          "name": "stdout"
        },
        {
          "output_type": "stream",
          "text": [
            "WARNING:root:Lossy conversion from float32 to uint8. Range [0, 1]. Convert image to uint8 prior to saving to suppress this warning.\n",
            "WARNING:root:Lossy conversion from float32 to uint8. Range [0, 1]. Convert image to uint8 prior to saving to suppress this warning.\n",
            "WARNING:root:Lossy conversion from float32 to uint8. Range [0, 1]. Convert image to uint8 prior to saving to suppress this warning.\n"
          ],
          "name": "stderr"
        },
        {
          "output_type": "stream",
          "text": [
            "\r1/1 [==============================] - 0s 40ms/sample\n"
          ],
          "name": "stdout"
        },
        {
          "output_type": "stream",
          "text": [
            "WARNING:root:Lossy conversion from float32 to uint8. Range [0, 1]. Convert image to uint8 prior to saving to suppress this warning.\n",
            "WARNING:root:Lossy conversion from float32 to uint8. Range [0, 1]. Convert image to uint8 prior to saving to suppress this warning.\n",
            "WARNING:root:Lossy conversion from float32 to uint8. Range [0, 1]. Convert image to uint8 prior to saving to suppress this warning.\n"
          ],
          "name": "stderr"
        },
        {
          "output_type": "stream",
          "text": [
            "\r1/1 [==============================] - 0s 36ms/sample\n"
          ],
          "name": "stdout"
        },
        {
          "output_type": "stream",
          "text": [
            "WARNING:root:Lossy conversion from float32 to uint8. Range [0, 1]. Convert image to uint8 prior to saving to suppress this warning.\n",
            "WARNING:root:Lossy conversion from float32 to uint8. Range [0, 1]. Convert image to uint8 prior to saving to suppress this warning.\n",
            "WARNING:root:Lossy conversion from float32 to uint8. Range [0, 1]. Convert image to uint8 prior to saving to suppress this warning.\n"
          ],
          "name": "stderr"
        },
        {
          "output_type": "stream",
          "text": [
            "\r1/1 [==============================] - 0s 38ms/sample\n"
          ],
          "name": "stdout"
        },
        {
          "output_type": "stream",
          "text": [
            "WARNING:root:Lossy conversion from float32 to uint8. Range [0, 1]. Convert image to uint8 prior to saving to suppress this warning.\n",
            "WARNING:root:Lossy conversion from float32 to uint8. Range [0, 1]. Convert image to uint8 prior to saving to suppress this warning.\n",
            "WARNING:root:Lossy conversion from float32 to uint8. Range [0, 1]. Convert image to uint8 prior to saving to suppress this warning.\n"
          ],
          "name": "stderr"
        },
        {
          "output_type": "stream",
          "text": [
            "\r1/1 [==============================] - 0s 37ms/sample\n"
          ],
          "name": "stdout"
        },
        {
          "output_type": "stream",
          "text": [
            "WARNING:root:Lossy conversion from float32 to uint8. Range [0, 1]. Convert image to uint8 prior to saving to suppress this warning.\n",
            "WARNING:root:Lossy conversion from float32 to uint8. Range [0, 1]. Convert image to uint8 prior to saving to suppress this warning.\n",
            "WARNING:root:Lossy conversion from float32 to uint8. Range [0, 1]. Convert image to uint8 prior to saving to suppress this warning.\n"
          ],
          "name": "stderr"
        },
        {
          "output_type": "stream",
          "text": [
            "\r1/1 [==============================] - 0s 37ms/sample\n"
          ],
          "name": "stdout"
        },
        {
          "output_type": "stream",
          "text": [
            "WARNING:root:Lossy conversion from float32 to uint8. Range [0, 1]. Convert image to uint8 prior to saving to suppress this warning.\n",
            "WARNING:root:Lossy conversion from float32 to uint8. Range [0, 1]. Convert image to uint8 prior to saving to suppress this warning.\n",
            "WARNING:root:Lossy conversion from float32 to uint8. Range [0, 1]. Convert image to uint8 prior to saving to suppress this warning.\n"
          ],
          "name": "stderr"
        },
        {
          "output_type": "stream",
          "text": [
            "\r1/1 [==============================] - 0s 36ms/sample\n"
          ],
          "name": "stdout"
        },
        {
          "output_type": "stream",
          "text": [
            "WARNING:root:Lossy conversion from float32 to uint8. Range [0, 1]. Convert image to uint8 prior to saving to suppress this warning.\n",
            "WARNING:root:Lossy conversion from float32 to uint8. Range [0, 1]. Convert image to uint8 prior to saving to suppress this warning.\n",
            "WARNING:root:Lossy conversion from float32 to uint8. Range [0, 1]. Convert image to uint8 prior to saving to suppress this warning.\n"
          ],
          "name": "stderr"
        },
        {
          "output_type": "stream",
          "text": [
            "\r1/1 [==============================] - 0s 37ms/sample\n"
          ],
          "name": "stdout"
        },
        {
          "output_type": "stream",
          "text": [
            "WARNING:root:Lossy conversion from float32 to uint8. Range [0, 1]. Convert image to uint8 prior to saving to suppress this warning.\n",
            "WARNING:root:Lossy conversion from float32 to uint8. Range [0, 1]. Convert image to uint8 prior to saving to suppress this warning.\n",
            "WARNING:root:Lossy conversion from float32 to uint8. Range [0, 1]. Convert image to uint8 prior to saving to suppress this warning.\n"
          ],
          "name": "stderr"
        },
        {
          "output_type": "stream",
          "text": [
            "\r1/1 [==============================] - 0s 36ms/sample\n"
          ],
          "name": "stdout"
        },
        {
          "output_type": "stream",
          "text": [
            "WARNING:root:Lossy conversion from float32 to uint8. Range [0, 1]. Convert image to uint8 prior to saving to suppress this warning.\n",
            "WARNING:root:Lossy conversion from float32 to uint8. Range [0, 1]. Convert image to uint8 prior to saving to suppress this warning.\n",
            "WARNING:root:Lossy conversion from float32 to uint8. Range [0, 1]. Convert image to uint8 prior to saving to suppress this warning.\n"
          ],
          "name": "stderr"
        },
        {
          "output_type": "stream",
          "text": [
            "\r1/1 [==============================] - 0s 36ms/sample\n"
          ],
          "name": "stdout"
        },
        {
          "output_type": "stream",
          "text": [
            "WARNING:root:Lossy conversion from float32 to uint8. Range [0, 1]. Convert image to uint8 prior to saving to suppress this warning.\n",
            "WARNING:root:Lossy conversion from float32 to uint8. Range [0, 1]. Convert image to uint8 prior to saving to suppress this warning.\n",
            "WARNING:root:Lossy conversion from float32 to uint8. Range [0, 1]. Convert image to uint8 prior to saving to suppress this warning.\n"
          ],
          "name": "stderr"
        },
        {
          "output_type": "stream",
          "text": [
            "\r1/1 [==============================] - 0s 36ms/sample\n"
          ],
          "name": "stdout"
        },
        {
          "output_type": "stream",
          "text": [
            "WARNING:root:Lossy conversion from float32 to uint8. Range [0, 1]. Convert image to uint8 prior to saving to suppress this warning.\n",
            "WARNING:root:Lossy conversion from float32 to uint8. Range [0, 1]. Convert image to uint8 prior to saving to suppress this warning.\n",
            "WARNING:root:Lossy conversion from float32 to uint8. Range [0, 1]. Convert image to uint8 prior to saving to suppress this warning.\n"
          ],
          "name": "stderr"
        },
        {
          "output_type": "stream",
          "text": [
            "\r1/1 [==============================] - 0s 36ms/sample\n"
          ],
          "name": "stdout"
        },
        {
          "output_type": "stream",
          "text": [
            "WARNING:root:Lossy conversion from float32 to uint8. Range [0, 1]. Convert image to uint8 prior to saving to suppress this warning.\n",
            "WARNING:root:Lossy conversion from float32 to uint8. Range [0, 1]. Convert image to uint8 prior to saving to suppress this warning.\n",
            "WARNING:root:Lossy conversion from float32 to uint8. Range [0, 1]. Convert image to uint8 prior to saving to suppress this warning.\n"
          ],
          "name": "stderr"
        },
        {
          "output_type": "stream",
          "text": [
            "\r1/1 [==============================] - 0s 36ms/sample\n"
          ],
          "name": "stdout"
        },
        {
          "output_type": "stream",
          "text": [
            "WARNING:root:Lossy conversion from float32 to uint8. Range [0, 1]. Convert image to uint8 prior to saving to suppress this warning.\n",
            "/usr/local/lib/python3.7/dist-packages/ipykernel_launcher.py:15: UserWarning: /content/gdrive/MyDrive/OutputTraining/Enhanced/Epoch 150/0130_Predict.png is a low contrast image\n",
            "  from ipykernel import kernelapp as app\n",
            "WARNING:root:Lossy conversion from float32 to uint8. Range [0, 1]. Convert image to uint8 prior to saving to suppress this warning.\n",
            "/usr/local/lib/python3.7/dist-packages/ipykernel_launcher.py:16: UserWarning: /content/gdrive/MyDrive/OutputTraining/Enhanced/Epoch 150/0130_Mask.png is a low contrast image\n",
            "  app.launch_new_instance()\n",
            "WARNING:root:Lossy conversion from float32 to uint8. Range [0, 1]. Convert image to uint8 prior to saving to suppress this warning.\n"
          ],
          "name": "stderr"
        },
        {
          "output_type": "stream",
          "text": [
            "\r1/1 [==============================] - 0s 36ms/sample\n"
          ],
          "name": "stdout"
        },
        {
          "output_type": "stream",
          "text": [
            "WARNING:root:Lossy conversion from float32 to uint8. Range [0, 1]. Convert image to uint8 prior to saving to suppress this warning.\n",
            "WARNING:root:Lossy conversion from float32 to uint8. Range [0, 1]. Convert image to uint8 prior to saving to suppress this warning.\n",
            "WARNING:root:Lossy conversion from float32 to uint8. Range [0, 1]. Convert image to uint8 prior to saving to suppress this warning.\n"
          ],
          "name": "stderr"
        },
        {
          "output_type": "stream",
          "text": [
            "\r1/1 [==============================] - 0s 36ms/sample\n"
          ],
          "name": "stdout"
        },
        {
          "output_type": "stream",
          "text": [
            "WARNING:root:Lossy conversion from float32 to uint8. Range [0, 1]. Convert image to uint8 prior to saving to suppress this warning.\n",
            "WARNING:root:Lossy conversion from float32 to uint8. Range [0, 1]. Convert image to uint8 prior to saving to suppress this warning.\n",
            "WARNING:root:Lossy conversion from float32 to uint8. Range [0, 1]. Convert image to uint8 prior to saving to suppress this warning.\n"
          ],
          "name": "stderr"
        },
        {
          "output_type": "stream",
          "text": [
            "\r1/1 [==============================] - 0s 36ms/sample\n"
          ],
          "name": "stdout"
        },
        {
          "output_type": "stream",
          "text": [
            "WARNING:root:Lossy conversion from float32 to uint8. Range [0, 1]. Convert image to uint8 prior to saving to suppress this warning.\n",
            "WARNING:root:Lossy conversion from float32 to uint8. Range [0, 1]. Convert image to uint8 prior to saving to suppress this warning.\n",
            "WARNING:root:Lossy conversion from float32 to uint8. Range [0, 1]. Convert image to uint8 prior to saving to suppress this warning.\n"
          ],
          "name": "stderr"
        },
        {
          "output_type": "stream",
          "text": [
            "\r1/1 [==============================] - 0s 36ms/sample\n"
          ],
          "name": "stdout"
        },
        {
          "output_type": "stream",
          "text": [
            "WARNING:root:Lossy conversion from float32 to uint8. Range [0, 1]. Convert image to uint8 prior to saving to suppress this warning.\n",
            "WARNING:root:Lossy conversion from float32 to uint8. Range [0, 1]. Convert image to uint8 prior to saving to suppress this warning.\n",
            "WARNING:root:Lossy conversion from float32 to uint8. Range [0, 1]. Convert image to uint8 prior to saving to suppress this warning.\n"
          ],
          "name": "stderr"
        },
        {
          "output_type": "stream",
          "text": [
            "\r1/1 [==============================] - 0s 37ms/sample\n"
          ],
          "name": "stdout"
        },
        {
          "output_type": "stream",
          "text": [
            "WARNING:root:Lossy conversion from float32 to uint8. Range [0, 1]. Convert image to uint8 prior to saving to suppress this warning.\n",
            "WARNING:root:Lossy conversion from float32 to uint8. Range [0, 1]. Convert image to uint8 prior to saving to suppress this warning.\n",
            "WARNING:root:Lossy conversion from float32 to uint8. Range [0, 1]. Convert image to uint8 prior to saving to suppress this warning.\n"
          ],
          "name": "stderr"
        },
        {
          "output_type": "stream",
          "text": [
            "\r1/1 [==============================] - 0s 36ms/sample\n"
          ],
          "name": "stdout"
        },
        {
          "output_type": "stream",
          "text": [
            "WARNING:root:Lossy conversion from float32 to uint8. Range [0, 1]. Convert image to uint8 prior to saving to suppress this warning.\n",
            "WARNING:root:Lossy conversion from float32 to uint8. Range [0, 1]. Convert image to uint8 prior to saving to suppress this warning.\n",
            "WARNING:root:Lossy conversion from float32 to uint8. Range [0, 1]. Convert image to uint8 prior to saving to suppress this warning.\n"
          ],
          "name": "stderr"
        },
        {
          "output_type": "stream",
          "text": [
            "\r1/1 [==============================] - 0s 37ms/sample\n"
          ],
          "name": "stdout"
        },
        {
          "output_type": "stream",
          "text": [
            "WARNING:root:Lossy conversion from float32 to uint8. Range [0, 1]. Convert image to uint8 prior to saving to suppress this warning.\n",
            "WARNING:root:Lossy conversion from float32 to uint8. Range [0, 1]. Convert image to uint8 prior to saving to suppress this warning.\n",
            "WARNING:root:Lossy conversion from float32 to uint8. Range [0, 1]. Convert image to uint8 prior to saving to suppress this warning.\n"
          ],
          "name": "stderr"
        },
        {
          "output_type": "stream",
          "text": [
            "\r1/1 [==============================] - 0s 38ms/sample\n"
          ],
          "name": "stdout"
        },
        {
          "output_type": "stream",
          "text": [
            "WARNING:root:Lossy conversion from float32 to uint8. Range [0, 1]. Convert image to uint8 prior to saving to suppress this warning.\n",
            "/usr/local/lib/python3.7/dist-packages/ipykernel_launcher.py:15: UserWarning: /content/gdrive/MyDrive/OutputTraining/Enhanced/Epoch 150/0138_Predict.png is a low contrast image\n",
            "  from ipykernel import kernelapp as app\n",
            "WARNING:root:Lossy conversion from float32 to uint8. Range [0, 1]. Convert image to uint8 prior to saving to suppress this warning.\n",
            "/usr/local/lib/python3.7/dist-packages/ipykernel_launcher.py:16: UserWarning: /content/gdrive/MyDrive/OutputTraining/Enhanced/Epoch 150/0138_Mask.png is a low contrast image\n",
            "  app.launch_new_instance()\n",
            "WARNING:root:Lossy conversion from float32 to uint8. Range [0, 1]. Convert image to uint8 prior to saving to suppress this warning.\n"
          ],
          "name": "stderr"
        },
        {
          "output_type": "stream",
          "text": [
            "\r1/1 [==============================] - 0s 36ms/sample\n"
          ],
          "name": "stdout"
        },
        {
          "output_type": "stream",
          "text": [
            "WARNING:root:Lossy conversion from float32 to uint8. Range [0, 1]. Convert image to uint8 prior to saving to suppress this warning.\n",
            "WARNING:root:Lossy conversion from float32 to uint8. Range [0, 1]. Convert image to uint8 prior to saving to suppress this warning.\n",
            "WARNING:root:Lossy conversion from float32 to uint8. Range [0, 1]. Convert image to uint8 prior to saving to suppress this warning.\n"
          ],
          "name": "stderr"
        },
        {
          "output_type": "stream",
          "text": [
            "\r1/1 [==============================] - 0s 36ms/sample\n"
          ],
          "name": "stdout"
        },
        {
          "output_type": "stream",
          "text": [
            "WARNING:root:Lossy conversion from float32 to uint8. Range [0, 1]. Convert image to uint8 prior to saving to suppress this warning.\n",
            "WARNING:root:Lossy conversion from float32 to uint8. Range [0, 1]. Convert image to uint8 prior to saving to suppress this warning.\n",
            "WARNING:root:Lossy conversion from float32 to uint8. Range [0, 1]. Convert image to uint8 prior to saving to suppress this warning.\n"
          ],
          "name": "stderr"
        },
        {
          "output_type": "stream",
          "text": [
            "\r1/1 [==============================] - 0s 36ms/sample\n"
          ],
          "name": "stdout"
        },
        {
          "output_type": "stream",
          "text": [
            "WARNING:root:Lossy conversion from float32 to uint8. Range [0, 1]. Convert image to uint8 prior to saving to suppress this warning.\n",
            "WARNING:root:Lossy conversion from float32 to uint8. Range [0, 1]. Convert image to uint8 prior to saving to suppress this warning.\n",
            "WARNING:root:Lossy conversion from float32 to uint8. Range [0, 1]. Convert image to uint8 prior to saving to suppress this warning.\n"
          ],
          "name": "stderr"
        },
        {
          "output_type": "stream",
          "text": [
            "\r1/1 [==============================] - 0s 36ms/sample\n"
          ],
          "name": "stdout"
        },
        {
          "output_type": "stream",
          "text": [
            "WARNING:root:Lossy conversion from float32 to uint8. Range [0, 1]. Convert image to uint8 prior to saving to suppress this warning.\n",
            "WARNING:root:Lossy conversion from float32 to uint8. Range [0, 1]. Convert image to uint8 prior to saving to suppress this warning.\n",
            "WARNING:root:Lossy conversion from float32 to uint8. Range [0, 1]. Convert image to uint8 prior to saving to suppress this warning.\n"
          ],
          "name": "stderr"
        },
        {
          "output_type": "stream",
          "text": [
            "\r1/1 [==============================] - 0s 36ms/sample\n"
          ],
          "name": "stdout"
        },
        {
          "output_type": "stream",
          "text": [
            "WARNING:root:Lossy conversion from float32 to uint8. Range [0, 1]. Convert image to uint8 prior to saving to suppress this warning.\n",
            "WARNING:root:Lossy conversion from float32 to uint8. Range [0, 1]. Convert image to uint8 prior to saving to suppress this warning.\n",
            "WARNING:root:Lossy conversion from float32 to uint8. Range [0, 1]. Convert image to uint8 prior to saving to suppress this warning.\n"
          ],
          "name": "stderr"
        },
        {
          "output_type": "stream",
          "text": [
            "\r1/1 [==============================] - 0s 37ms/sample\n"
          ],
          "name": "stdout"
        },
        {
          "output_type": "stream",
          "text": [
            "WARNING:root:Lossy conversion from float32 to uint8. Range [0, 1]. Convert image to uint8 prior to saving to suppress this warning.\n",
            "WARNING:root:Lossy conversion from float32 to uint8. Range [0, 1]. Convert image to uint8 prior to saving to suppress this warning.\n",
            "WARNING:root:Lossy conversion from float32 to uint8. Range [0, 1]. Convert image to uint8 prior to saving to suppress this warning.\n"
          ],
          "name": "stderr"
        },
        {
          "output_type": "stream",
          "text": [
            "\r1/1 [==============================] - 0s 37ms/sample\n"
          ],
          "name": "stdout"
        },
        {
          "output_type": "stream",
          "text": [
            "WARNING:root:Lossy conversion from float32 to uint8. Range [0, 1]. Convert image to uint8 prior to saving to suppress this warning.\n",
            "WARNING:root:Lossy conversion from float32 to uint8. Range [0, 1]. Convert image to uint8 prior to saving to suppress this warning.\n",
            "WARNING:root:Lossy conversion from float32 to uint8. Range [0, 1]. Convert image to uint8 prior to saving to suppress this warning.\n"
          ],
          "name": "stderr"
        },
        {
          "output_type": "stream",
          "text": [
            "\r1/1 [==============================] - 0s 36ms/sample\n"
          ],
          "name": "stdout"
        },
        {
          "output_type": "stream",
          "text": [
            "WARNING:root:Lossy conversion from float32 to uint8. Range [0, 1]. Convert image to uint8 prior to saving to suppress this warning.\n",
            "WARNING:root:Lossy conversion from float32 to uint8. Range [0, 1]. Convert image to uint8 prior to saving to suppress this warning.\n",
            "WARNING:root:Lossy conversion from float32 to uint8. Range [0, 1]. Convert image to uint8 prior to saving to suppress this warning.\n"
          ],
          "name": "stderr"
        },
        {
          "output_type": "stream",
          "text": [
            "\r1/1 [==============================] - 0s 38ms/sample\n"
          ],
          "name": "stdout"
        },
        {
          "output_type": "stream",
          "text": [
            "WARNING:root:Lossy conversion from float32 to uint8. Range [0, 1]. Convert image to uint8 prior to saving to suppress this warning.\n",
            "WARNING:root:Lossy conversion from float32 to uint8. Range [0, 1]. Convert image to uint8 prior to saving to suppress this warning.\n",
            "WARNING:root:Lossy conversion from float32 to uint8. Range [0, 1]. Convert image to uint8 prior to saving to suppress this warning.\n"
          ],
          "name": "stderr"
        },
        {
          "output_type": "stream",
          "text": [
            "\r1/1 [==============================] - 0s 37ms/sample\n"
          ],
          "name": "stdout"
        },
        {
          "output_type": "stream",
          "text": [
            "WARNING:root:Lossy conversion from float32 to uint8. Range [0, 1]. Convert image to uint8 prior to saving to suppress this warning.\n",
            "WARNING:root:Lossy conversion from float32 to uint8. Range [0, 1]. Convert image to uint8 prior to saving to suppress this warning.\n",
            "WARNING:root:Lossy conversion from float32 to uint8. Range [0, 1]. Convert image to uint8 prior to saving to suppress this warning.\n"
          ],
          "name": "stderr"
        },
        {
          "output_type": "stream",
          "text": [
            "\r1/1 [==============================] - 0s 36ms/sample\n"
          ],
          "name": "stdout"
        },
        {
          "output_type": "stream",
          "text": [
            "WARNING:root:Lossy conversion from float32 to uint8. Range [0, 1]. Convert image to uint8 prior to saving to suppress this warning.\n",
            "WARNING:root:Lossy conversion from float32 to uint8. Range [0, 1]. Convert image to uint8 prior to saving to suppress this warning.\n",
            "WARNING:root:Lossy conversion from float32 to uint8. Range [0, 1]. Convert image to uint8 prior to saving to suppress this warning.\n"
          ],
          "name": "stderr"
        },
        {
          "output_type": "stream",
          "text": [
            "\r1/1 [==============================] - 0s 39ms/sample\n"
          ],
          "name": "stdout"
        },
        {
          "output_type": "stream",
          "text": [
            "WARNING:root:Lossy conversion from float32 to uint8. Range [0, 1]. Convert image to uint8 prior to saving to suppress this warning.\n",
            "WARNING:root:Lossy conversion from float32 to uint8. Range [0, 1]. Convert image to uint8 prior to saving to suppress this warning.\n",
            "WARNING:root:Lossy conversion from float32 to uint8. Range [0, 1]. Convert image to uint8 prior to saving to suppress this warning.\n"
          ],
          "name": "stderr"
        },
        {
          "output_type": "stream",
          "text": [
            "\r1/1 [==============================] - 0s 36ms/sample\n"
          ],
          "name": "stdout"
        },
        {
          "output_type": "stream",
          "text": [
            "WARNING:root:Lossy conversion from float32 to uint8. Range [0, 1]. Convert image to uint8 prior to saving to suppress this warning.\n",
            "WARNING:root:Lossy conversion from float32 to uint8. Range [0, 1]. Convert image to uint8 prior to saving to suppress this warning.\n",
            "WARNING:root:Lossy conversion from float32 to uint8. Range [0, 1]. Convert image to uint8 prior to saving to suppress this warning.\n"
          ],
          "name": "stderr"
        },
        {
          "output_type": "stream",
          "text": [
            "\r1/1 [==============================] - 0s 36ms/sample\n"
          ],
          "name": "stdout"
        },
        {
          "output_type": "stream",
          "text": [
            "WARNING:root:Lossy conversion from float32 to uint8. Range [0, 1]. Convert image to uint8 prior to saving to suppress this warning.\n",
            "WARNING:root:Lossy conversion from float32 to uint8. Range [0, 1]. Convert image to uint8 prior to saving to suppress this warning.\n",
            "WARNING:root:Lossy conversion from float32 to uint8. Range [0, 1]. Convert image to uint8 prior to saving to suppress this warning.\n"
          ],
          "name": "stderr"
        },
        {
          "output_type": "stream",
          "text": [
            "\r1/1 [==============================] - 0s 36ms/sample\n"
          ],
          "name": "stdout"
        },
        {
          "output_type": "stream",
          "text": [
            "WARNING:root:Lossy conversion from float32 to uint8. Range [0, 1]. Convert image to uint8 prior to saving to suppress this warning.\n",
            "WARNING:root:Lossy conversion from float32 to uint8. Range [0, 1]. Convert image to uint8 prior to saving to suppress this warning.\n",
            "WARNING:root:Lossy conversion from float32 to uint8. Range [0, 1]. Convert image to uint8 prior to saving to suppress this warning.\n"
          ],
          "name": "stderr"
        },
        {
          "output_type": "stream",
          "text": [
            "\r1/1 [==============================] - 0s 37ms/sample\n"
          ],
          "name": "stdout"
        },
        {
          "output_type": "stream",
          "text": [
            "WARNING:root:Lossy conversion from float32 to uint8. Range [0, 1]. Convert image to uint8 prior to saving to suppress this warning.\n",
            "WARNING:root:Lossy conversion from float32 to uint8. Range [0, 1]. Convert image to uint8 prior to saving to suppress this warning.\n",
            "WARNING:root:Lossy conversion from float32 to uint8. Range [0, 1]. Convert image to uint8 prior to saving to suppress this warning.\n"
          ],
          "name": "stderr"
        },
        {
          "output_type": "stream",
          "text": [
            "\r1/1 [==============================] - 0s 36ms/sample\n"
          ],
          "name": "stdout"
        },
        {
          "output_type": "stream",
          "text": [
            "WARNING:root:Lossy conversion from float32 to uint8. Range [0, 1]. Convert image to uint8 prior to saving to suppress this warning.\n",
            "WARNING:root:Lossy conversion from float32 to uint8. Range [0, 1]. Convert image to uint8 prior to saving to suppress this warning.\n",
            "WARNING:root:Lossy conversion from float32 to uint8. Range [0, 1]. Convert image to uint8 prior to saving to suppress this warning.\n"
          ],
          "name": "stderr"
        },
        {
          "output_type": "stream",
          "text": [
            "\r1/1 [==============================] - 0s 37ms/sample\n"
          ],
          "name": "stdout"
        },
        {
          "output_type": "stream",
          "text": [
            "WARNING:root:Lossy conversion from float32 to uint8. Range [0, 1]. Convert image to uint8 prior to saving to suppress this warning.\n",
            "WARNING:root:Lossy conversion from float32 to uint8. Range [0, 1]. Convert image to uint8 prior to saving to suppress this warning.\n",
            "WARNING:root:Lossy conversion from float32 to uint8. Range [0, 1]. Convert image to uint8 prior to saving to suppress this warning.\n"
          ],
          "name": "stderr"
        },
        {
          "output_type": "stream",
          "text": [
            "\r1/1 [==============================] - 0s 36ms/sample\n"
          ],
          "name": "stdout"
        },
        {
          "output_type": "stream",
          "text": [
            "WARNING:root:Lossy conversion from float32 to uint8. Range [0, 1]. Convert image to uint8 prior to saving to suppress this warning.\n",
            "WARNING:root:Lossy conversion from float32 to uint8. Range [0, 1]. Convert image to uint8 prior to saving to suppress this warning.\n",
            "WARNING:root:Lossy conversion from float32 to uint8. Range [0, 1]. Convert image to uint8 prior to saving to suppress this warning.\n"
          ],
          "name": "stderr"
        },
        {
          "output_type": "stream",
          "text": [
            "\r1/1 [==============================] - 0s 36ms/sample\n"
          ],
          "name": "stdout"
        },
        {
          "output_type": "stream",
          "text": [
            "WARNING:root:Lossy conversion from float32 to uint8. Range [0, 1]. Convert image to uint8 prior to saving to suppress this warning.\n",
            "WARNING:root:Lossy conversion from float32 to uint8. Range [0, 1]. Convert image to uint8 prior to saving to suppress this warning.\n",
            "WARNING:root:Lossy conversion from float32 to uint8. Range [0, 1]. Convert image to uint8 prior to saving to suppress this warning.\n"
          ],
          "name": "stderr"
        },
        {
          "output_type": "stream",
          "text": [
            "\r1/1 [==============================] - 0s 37ms/sample\n"
          ],
          "name": "stdout"
        },
        {
          "output_type": "stream",
          "text": [
            "WARNING:root:Lossy conversion from float32 to uint8. Range [0, 1]. Convert image to uint8 prior to saving to suppress this warning.\n",
            "WARNING:root:Lossy conversion from float32 to uint8. Range [0, 1]. Convert image to uint8 prior to saving to suppress this warning.\n",
            "WARNING:root:Lossy conversion from float32 to uint8. Range [0, 1]. Convert image to uint8 prior to saving to suppress this warning.\n"
          ],
          "name": "stderr"
        },
        {
          "output_type": "stream",
          "text": [
            "\r1/1 [==============================] - 0s 36ms/sample\n"
          ],
          "name": "stdout"
        },
        {
          "output_type": "stream",
          "text": [
            "WARNING:root:Lossy conversion from float32 to uint8. Range [0, 1]. Convert image to uint8 prior to saving to suppress this warning.\n",
            "/usr/local/lib/python3.7/dist-packages/ipykernel_launcher.py:15: UserWarning: /content/gdrive/MyDrive/OutputTraining/Enhanced/Epoch 150/0160_Predict.png is a low contrast image\n",
            "  from ipykernel import kernelapp as app\n",
            "WARNING:root:Lossy conversion from float32 to uint8. Range [0, 1]. Convert image to uint8 prior to saving to suppress this warning.\n",
            "/usr/local/lib/python3.7/dist-packages/ipykernel_launcher.py:16: UserWarning: /content/gdrive/MyDrive/OutputTraining/Enhanced/Epoch 150/0160_Mask.png is a low contrast image\n",
            "  app.launch_new_instance()\n",
            "WARNING:root:Lossy conversion from float32 to uint8. Range [0, 1]. Convert image to uint8 prior to saving to suppress this warning.\n"
          ],
          "name": "stderr"
        },
        {
          "output_type": "stream",
          "text": [
            "\r1/1 [==============================] - 0s 36ms/sample\n"
          ],
          "name": "stdout"
        },
        {
          "output_type": "stream",
          "text": [
            "WARNING:root:Lossy conversion from float32 to uint8. Range [0, 1]. Convert image to uint8 prior to saving to suppress this warning.\n",
            "WARNING:root:Lossy conversion from float32 to uint8. Range [0, 1]. Convert image to uint8 prior to saving to suppress this warning.\n",
            "WARNING:root:Lossy conversion from float32 to uint8. Range [0, 1]. Convert image to uint8 prior to saving to suppress this warning.\n"
          ],
          "name": "stderr"
        },
        {
          "output_type": "stream",
          "text": [
            "\r1/1 [==============================] - 0s 42ms/sample\n"
          ],
          "name": "stdout"
        },
        {
          "output_type": "stream",
          "text": [
            "WARNING:root:Lossy conversion from float32 to uint8. Range [0, 1]. Convert image to uint8 prior to saving to suppress this warning.\n",
            "WARNING:root:Lossy conversion from float32 to uint8. Range [0, 1]. Convert image to uint8 prior to saving to suppress this warning.\n",
            "WARNING:root:Lossy conversion from float32 to uint8. Range [0, 1]. Convert image to uint8 prior to saving to suppress this warning.\n"
          ],
          "name": "stderr"
        },
        {
          "output_type": "stream",
          "text": [
            "\r1/1 [==============================] - 0s 39ms/sample\n"
          ],
          "name": "stdout"
        },
        {
          "output_type": "stream",
          "text": [
            "WARNING:root:Lossy conversion from float32 to uint8. Range [0, 1]. Convert image to uint8 prior to saving to suppress this warning.\n",
            "WARNING:root:Lossy conversion from float32 to uint8. Range [0, 1]. Convert image to uint8 prior to saving to suppress this warning.\n",
            "WARNING:root:Lossy conversion from float32 to uint8. Range [0, 1]. Convert image to uint8 prior to saving to suppress this warning.\n"
          ],
          "name": "stderr"
        },
        {
          "output_type": "stream",
          "text": [
            "\r1/1 [==============================] - 0s 40ms/sample\n"
          ],
          "name": "stdout"
        },
        {
          "output_type": "stream",
          "text": [
            "WARNING:root:Lossy conversion from float32 to uint8. Range [0, 1]. Convert image to uint8 prior to saving to suppress this warning.\n",
            "WARNING:root:Lossy conversion from float32 to uint8. Range [0, 1]. Convert image to uint8 prior to saving to suppress this warning.\n",
            "WARNING:root:Lossy conversion from float32 to uint8. Range [0, 1]. Convert image to uint8 prior to saving to suppress this warning.\n"
          ],
          "name": "stderr"
        },
        {
          "output_type": "stream",
          "text": [
            "\r1/1 [==============================] - 0s 39ms/sample\n"
          ],
          "name": "stdout"
        },
        {
          "output_type": "stream",
          "text": [
            "WARNING:root:Lossy conversion from float32 to uint8. Range [0, 1]. Convert image to uint8 prior to saving to suppress this warning.\n",
            "WARNING:root:Lossy conversion from float32 to uint8. Range [0, 1]. Convert image to uint8 prior to saving to suppress this warning.\n",
            "WARNING:root:Lossy conversion from float32 to uint8. Range [0, 1]. Convert image to uint8 prior to saving to suppress this warning.\n"
          ],
          "name": "stderr"
        },
        {
          "output_type": "stream",
          "text": [
            "\r1/1 [==============================] - 0s 36ms/sample\n"
          ],
          "name": "stdout"
        },
        {
          "output_type": "stream",
          "text": [
            "WARNING:root:Lossy conversion from float32 to uint8. Range [0, 1]. Convert image to uint8 prior to saving to suppress this warning.\n",
            "WARNING:root:Lossy conversion from float32 to uint8. Range [0, 1]. Convert image to uint8 prior to saving to suppress this warning.\n",
            "WARNING:root:Lossy conversion from float32 to uint8. Range [0, 1]. Convert image to uint8 prior to saving to suppress this warning.\n"
          ],
          "name": "stderr"
        },
        {
          "output_type": "stream",
          "text": [
            "\r1/1 [==============================] - 0s 36ms/sample\n"
          ],
          "name": "stdout"
        },
        {
          "output_type": "stream",
          "text": [
            "WARNING:root:Lossy conversion from float32 to uint8. Range [0, 1]. Convert image to uint8 prior to saving to suppress this warning.\n",
            "WARNING:root:Lossy conversion from float32 to uint8. Range [0, 1]. Convert image to uint8 prior to saving to suppress this warning.\n",
            "WARNING:root:Lossy conversion from float32 to uint8. Range [0, 1]. Convert image to uint8 prior to saving to suppress this warning.\n"
          ],
          "name": "stderr"
        },
        {
          "output_type": "stream",
          "text": [
            "\r1/1 [==============================] - 0s 36ms/sample\n"
          ],
          "name": "stdout"
        },
        {
          "output_type": "stream",
          "text": [
            "WARNING:root:Lossy conversion from float32 to uint8. Range [0, 1]. Convert image to uint8 prior to saving to suppress this warning.\n",
            "WARNING:root:Lossy conversion from float32 to uint8. Range [0, 1]. Convert image to uint8 prior to saving to suppress this warning.\n",
            "WARNING:root:Lossy conversion from float32 to uint8. Range [0, 1]. Convert image to uint8 prior to saving to suppress this warning.\n"
          ],
          "name": "stderr"
        },
        {
          "output_type": "stream",
          "text": [
            "\r1/1 [==============================] - 0s 38ms/sample\n"
          ],
          "name": "stdout"
        },
        {
          "output_type": "stream",
          "text": [
            "WARNING:root:Lossy conversion from float32 to uint8. Range [0, 1]. Convert image to uint8 prior to saving to suppress this warning.\n",
            "WARNING:root:Lossy conversion from float32 to uint8. Range [0, 1]. Convert image to uint8 prior to saving to suppress this warning.\n",
            "WARNING:root:Lossy conversion from float32 to uint8. Range [0, 1]. Convert image to uint8 prior to saving to suppress this warning.\n"
          ],
          "name": "stderr"
        },
        {
          "output_type": "stream",
          "text": [
            "\r1/1 [==============================] - 0s 36ms/sample\n"
          ],
          "name": "stdout"
        },
        {
          "output_type": "stream",
          "text": [
            "WARNING:root:Lossy conversion from float32 to uint8. Range [0, 1]. Convert image to uint8 prior to saving to suppress this warning.\n",
            "WARNING:root:Lossy conversion from float32 to uint8. Range [0, 1]. Convert image to uint8 prior to saving to suppress this warning.\n",
            "WARNING:root:Lossy conversion from float32 to uint8. Range [0, 1]. Convert image to uint8 prior to saving to suppress this warning.\n"
          ],
          "name": "stderr"
        },
        {
          "output_type": "stream",
          "text": [
            "\r1/1 [==============================] - 0s 36ms/sample\n"
          ],
          "name": "stdout"
        },
        {
          "output_type": "stream",
          "text": [
            "WARNING:root:Lossy conversion from float32 to uint8. Range [0, 1]. Convert image to uint8 prior to saving to suppress this warning.\n",
            "WARNING:root:Lossy conversion from float32 to uint8. Range [0, 1]. Convert image to uint8 prior to saving to suppress this warning.\n",
            "WARNING:root:Lossy conversion from float32 to uint8. Range [0, 1]. Convert image to uint8 prior to saving to suppress this warning.\n"
          ],
          "name": "stderr"
        },
        {
          "output_type": "stream",
          "text": [
            "\r1/1 [==============================] - 0s 36ms/sample\n"
          ],
          "name": "stdout"
        },
        {
          "output_type": "stream",
          "text": [
            "WARNING:root:Lossy conversion from float32 to uint8. Range [0, 1]. Convert image to uint8 prior to saving to suppress this warning.\n",
            "WARNING:root:Lossy conversion from float32 to uint8. Range [0, 1]. Convert image to uint8 prior to saving to suppress this warning.\n",
            "WARNING:root:Lossy conversion from float32 to uint8. Range [0, 1]. Convert image to uint8 prior to saving to suppress this warning.\n"
          ],
          "name": "stderr"
        },
        {
          "output_type": "stream",
          "text": [
            "\r1/1 [==============================] - 0s 36ms/sample\n"
          ],
          "name": "stdout"
        },
        {
          "output_type": "stream",
          "text": [
            "WARNING:root:Lossy conversion from float32 to uint8. Range [0, 1]. Convert image to uint8 prior to saving to suppress this warning.\n",
            "WARNING:root:Lossy conversion from float32 to uint8. Range [0, 1]. Convert image to uint8 prior to saving to suppress this warning.\n",
            "WARNING:root:Lossy conversion from float32 to uint8. Range [0, 1]. Convert image to uint8 prior to saving to suppress this warning.\n"
          ],
          "name": "stderr"
        },
        {
          "output_type": "stream",
          "text": [
            "\r1/1 [==============================] - 0s 36ms/sample\n"
          ],
          "name": "stdout"
        },
        {
          "output_type": "stream",
          "text": [
            "WARNING:root:Lossy conversion from float32 to uint8. Range [0, 1]. Convert image to uint8 prior to saving to suppress this warning.\n",
            "WARNING:root:Lossy conversion from float32 to uint8. Range [0, 1]. Convert image to uint8 prior to saving to suppress this warning.\n",
            "WARNING:root:Lossy conversion from float32 to uint8. Range [0, 1]. Convert image to uint8 prior to saving to suppress this warning.\n"
          ],
          "name": "stderr"
        },
        {
          "output_type": "stream",
          "text": [
            "\r1/1 [==============================] - 0s 39ms/sample\n"
          ],
          "name": "stdout"
        },
        {
          "output_type": "stream",
          "text": [
            "WARNING:root:Lossy conversion from float32 to uint8. Range [0, 1]. Convert image to uint8 prior to saving to suppress this warning.\n",
            "WARNING:root:Lossy conversion from float32 to uint8. Range [0, 1]. Convert image to uint8 prior to saving to suppress this warning.\n",
            "WARNING:root:Lossy conversion from float32 to uint8. Range [0, 1]. Convert image to uint8 prior to saving to suppress this warning.\n"
          ],
          "name": "stderr"
        },
        {
          "output_type": "stream",
          "text": [
            "\r1/1 [==============================] - 0s 36ms/sample\n"
          ],
          "name": "stdout"
        },
        {
          "output_type": "stream",
          "text": [
            "WARNING:root:Lossy conversion from float32 to uint8. Range [0, 1]. Convert image to uint8 prior to saving to suppress this warning.\n",
            "WARNING:root:Lossy conversion from float32 to uint8. Range [0, 1]. Convert image to uint8 prior to saving to suppress this warning.\n",
            "WARNING:root:Lossy conversion from float32 to uint8. Range [0, 1]. Convert image to uint8 prior to saving to suppress this warning.\n"
          ],
          "name": "stderr"
        },
        {
          "output_type": "stream",
          "text": [
            "\r1/1 [==============================] - 0s 39ms/sample\n"
          ],
          "name": "stdout"
        },
        {
          "output_type": "stream",
          "text": [
            "WARNING:root:Lossy conversion from float32 to uint8. Range [0, 1]. Convert image to uint8 prior to saving to suppress this warning.\n",
            "WARNING:root:Lossy conversion from float32 to uint8. Range [0, 1]. Convert image to uint8 prior to saving to suppress this warning.\n",
            "WARNING:root:Lossy conversion from float32 to uint8. Range [0, 1]. Convert image to uint8 prior to saving to suppress this warning.\n"
          ],
          "name": "stderr"
        },
        {
          "output_type": "stream",
          "text": [
            "\r1/1 [==============================] - 0s 36ms/sample\n"
          ],
          "name": "stdout"
        },
        {
          "output_type": "stream",
          "text": [
            "WARNING:root:Lossy conversion from float32 to uint8. Range [0, 1]. Convert image to uint8 prior to saving to suppress this warning.\n",
            "WARNING:root:Lossy conversion from float32 to uint8. Range [0, 1]. Convert image to uint8 prior to saving to suppress this warning.\n",
            "WARNING:root:Lossy conversion from float32 to uint8. Range [0, 1]. Convert image to uint8 prior to saving to suppress this warning.\n"
          ],
          "name": "stderr"
        },
        {
          "output_type": "stream",
          "text": [
            "\r1/1 [==============================] - 0s 36ms/sample\n"
          ],
          "name": "stdout"
        },
        {
          "output_type": "stream",
          "text": [
            "WARNING:root:Lossy conversion from float32 to uint8. Range [0, 1]. Convert image to uint8 prior to saving to suppress this warning.\n",
            "WARNING:root:Lossy conversion from float32 to uint8. Range [0, 1]. Convert image to uint8 prior to saving to suppress this warning.\n",
            "WARNING:root:Lossy conversion from float32 to uint8. Range [0, 1]. Convert image to uint8 prior to saving to suppress this warning.\n"
          ],
          "name": "stderr"
        },
        {
          "output_type": "stream",
          "text": [
            "\r1/1 [==============================] - 0s 36ms/sample\n"
          ],
          "name": "stdout"
        },
        {
          "output_type": "stream",
          "text": [
            "WARNING:root:Lossy conversion from float32 to uint8. Range [0, 1]. Convert image to uint8 prior to saving to suppress this warning.\n",
            "WARNING:root:Lossy conversion from float32 to uint8. Range [0, 1]. Convert image to uint8 prior to saving to suppress this warning.\n",
            "WARNING:root:Lossy conversion from float32 to uint8. Range [0, 1]. Convert image to uint8 prior to saving to suppress this warning.\n"
          ],
          "name": "stderr"
        },
        {
          "output_type": "stream",
          "text": [
            "\r1/1 [==============================] - 0s 36ms/sample\n"
          ],
          "name": "stdout"
        },
        {
          "output_type": "stream",
          "text": [
            "WARNING:root:Lossy conversion from float32 to uint8. Range [0, 1]. Convert image to uint8 prior to saving to suppress this warning.\n",
            "WARNING:root:Lossy conversion from float32 to uint8. Range [0, 1]. Convert image to uint8 prior to saving to suppress this warning.\n",
            "WARNING:root:Lossy conversion from float32 to uint8. Range [0, 1]. Convert image to uint8 prior to saving to suppress this warning.\n"
          ],
          "name": "stderr"
        },
        {
          "output_type": "stream",
          "text": [
            "\r1/1 [==============================] - 0s 42ms/sample\n"
          ],
          "name": "stdout"
        },
        {
          "output_type": "stream",
          "text": [
            "WARNING:root:Lossy conversion from float32 to uint8. Range [0, 1]. Convert image to uint8 prior to saving to suppress this warning.\n",
            "WARNING:root:Lossy conversion from float32 to uint8. Range [0, 1]. Convert image to uint8 prior to saving to suppress this warning.\n",
            "WARNING:root:Lossy conversion from float32 to uint8. Range [0, 1]. Convert image to uint8 prior to saving to suppress this warning.\n"
          ],
          "name": "stderr"
        },
        {
          "output_type": "stream",
          "text": [
            "\r1/1 [==============================] - 0s 36ms/sample\n"
          ],
          "name": "stdout"
        },
        {
          "output_type": "stream",
          "text": [
            "WARNING:root:Lossy conversion from float32 to uint8. Range [0, 1]. Convert image to uint8 prior to saving to suppress this warning.\n",
            "WARNING:root:Lossy conversion from float32 to uint8. Range [0, 1]. Convert image to uint8 prior to saving to suppress this warning.\n",
            "WARNING:root:Lossy conversion from float32 to uint8. Range [0, 1]. Convert image to uint8 prior to saving to suppress this warning.\n"
          ],
          "name": "stderr"
        },
        {
          "output_type": "stream",
          "text": [
            "\r1/1 [==============================] - 0s 36ms/sample\n"
          ],
          "name": "stdout"
        },
        {
          "output_type": "stream",
          "text": [
            "WARNING:root:Lossy conversion from float32 to uint8. Range [0, 1]. Convert image to uint8 prior to saving to suppress this warning.\n",
            "WARNING:root:Lossy conversion from float32 to uint8. Range [0, 1]. Convert image to uint8 prior to saving to suppress this warning.\n",
            "WARNING:root:Lossy conversion from float32 to uint8. Range [0, 1]. Convert image to uint8 prior to saving to suppress this warning.\n"
          ],
          "name": "stderr"
        },
        {
          "output_type": "stream",
          "text": [
            "\r1/1 [==============================] - 0s 42ms/sample\n"
          ],
          "name": "stdout"
        },
        {
          "output_type": "stream",
          "text": [
            "WARNING:root:Lossy conversion from float32 to uint8. Range [0, 1]. Convert image to uint8 prior to saving to suppress this warning.\n",
            "WARNING:root:Lossy conversion from float32 to uint8. Range [0, 1]. Convert image to uint8 prior to saving to suppress this warning.\n",
            "WARNING:root:Lossy conversion from float32 to uint8. Range [0, 1]. Convert image to uint8 prior to saving to suppress this warning.\n"
          ],
          "name": "stderr"
        },
        {
          "output_type": "stream",
          "text": [
            "\r1/1 [==============================] - 0s 36ms/sample\n"
          ],
          "name": "stdout"
        },
        {
          "output_type": "stream",
          "text": [
            "WARNING:root:Lossy conversion from float32 to uint8. Range [0, 1]. Convert image to uint8 prior to saving to suppress this warning.\n",
            "WARNING:root:Lossy conversion from float32 to uint8. Range [0, 1]. Convert image to uint8 prior to saving to suppress this warning.\n",
            "WARNING:root:Lossy conversion from float32 to uint8. Range [0, 1]. Convert image to uint8 prior to saving to suppress this warning.\n"
          ],
          "name": "stderr"
        },
        {
          "output_type": "stream",
          "text": [
            "\r1/1 [==============================] - 0s 37ms/sample\n"
          ],
          "name": "stdout"
        },
        {
          "output_type": "stream",
          "text": [
            "WARNING:root:Lossy conversion from float32 to uint8. Range [0, 1]. Convert image to uint8 prior to saving to suppress this warning.\n",
            "WARNING:root:Lossy conversion from float32 to uint8. Range [0, 1]. Convert image to uint8 prior to saving to suppress this warning.\n",
            "WARNING:root:Lossy conversion from float32 to uint8. Range [0, 1]. Convert image to uint8 prior to saving to suppress this warning.\n"
          ],
          "name": "stderr"
        },
        {
          "output_type": "stream",
          "text": [
            "\r1/1 [==============================] - 0s 36ms/sample\n"
          ],
          "name": "stdout"
        },
        {
          "output_type": "stream",
          "text": [
            "WARNING:root:Lossy conversion from float32 to uint8. Range [0, 1]. Convert image to uint8 prior to saving to suppress this warning.\n",
            "WARNING:root:Lossy conversion from float32 to uint8. Range [0, 1]. Convert image to uint8 prior to saving to suppress this warning.\n",
            "WARNING:root:Lossy conversion from float32 to uint8. Range [0, 1]. Convert image to uint8 prior to saving to suppress this warning.\n"
          ],
          "name": "stderr"
        },
        {
          "output_type": "stream",
          "text": [
            "\r1/1 [==============================] - 0s 37ms/sample\n"
          ],
          "name": "stdout"
        },
        {
          "output_type": "stream",
          "text": [
            "WARNING:root:Lossy conversion from float32 to uint8. Range [0, 1]. Convert image to uint8 prior to saving to suppress this warning.\n",
            "WARNING:root:Lossy conversion from float32 to uint8. Range [0, 1]. Convert image to uint8 prior to saving to suppress this warning.\n",
            "WARNING:root:Lossy conversion from float32 to uint8. Range [0, 1]. Convert image to uint8 prior to saving to suppress this warning.\n"
          ],
          "name": "stderr"
        },
        {
          "output_type": "stream",
          "text": [
            "\r1/1 [==============================] - 0s 36ms/sample\n"
          ],
          "name": "stdout"
        },
        {
          "output_type": "stream",
          "text": [
            "WARNING:root:Lossy conversion from float32 to uint8. Range [0, 1]. Convert image to uint8 prior to saving to suppress this warning.\n",
            "WARNING:root:Lossy conversion from float32 to uint8. Range [0, 1]. Convert image to uint8 prior to saving to suppress this warning.\n",
            "WARNING:root:Lossy conversion from float32 to uint8. Range [0, 1]. Convert image to uint8 prior to saving to suppress this warning.\n"
          ],
          "name": "stderr"
        },
        {
          "output_type": "stream",
          "text": [
            "\r1/1 [==============================] - 0s 37ms/sample\n"
          ],
          "name": "stdout"
        },
        {
          "output_type": "stream",
          "text": [
            "WARNING:root:Lossy conversion from float32 to uint8. Range [0, 1]. Convert image to uint8 prior to saving to suppress this warning.\n",
            "WARNING:root:Lossy conversion from float32 to uint8. Range [0, 1]. Convert image to uint8 prior to saving to suppress this warning.\n",
            "WARNING:root:Lossy conversion from float32 to uint8. Range [0, 1]. Convert image to uint8 prior to saving to suppress this warning.\n"
          ],
          "name": "stderr"
        },
        {
          "output_type": "stream",
          "text": [
            "\r1/1 [==============================] - 0s 36ms/sample\n"
          ],
          "name": "stdout"
        },
        {
          "output_type": "stream",
          "text": [
            "WARNING:root:Lossy conversion from float32 to uint8. Range [0, 1]. Convert image to uint8 prior to saving to suppress this warning.\n",
            "WARNING:root:Lossy conversion from float32 to uint8. Range [0, 1]. Convert image to uint8 prior to saving to suppress this warning.\n",
            "WARNING:root:Lossy conversion from float32 to uint8. Range [0, 1]. Convert image to uint8 prior to saving to suppress this warning.\n"
          ],
          "name": "stderr"
        },
        {
          "output_type": "stream",
          "text": [
            "\r1/1 [==============================] - 0s 37ms/sample\n"
          ],
          "name": "stdout"
        },
        {
          "output_type": "stream",
          "text": [
            "WARNING:root:Lossy conversion from float32 to uint8. Range [0, 1]. Convert image to uint8 prior to saving to suppress this warning.\n",
            "WARNING:root:Lossy conversion from float32 to uint8. Range [0, 1]. Convert image to uint8 prior to saving to suppress this warning.\n",
            "WARNING:root:Lossy conversion from float32 to uint8. Range [0, 1]. Convert image to uint8 prior to saving to suppress this warning.\n"
          ],
          "name": "stderr"
        },
        {
          "output_type": "stream",
          "text": [
            "\r1/1 [==============================] - 0s 36ms/sample\n"
          ],
          "name": "stdout"
        },
        {
          "output_type": "stream",
          "text": [
            "WARNING:root:Lossy conversion from float32 to uint8. Range [0, 1]. Convert image to uint8 prior to saving to suppress this warning.\n",
            "WARNING:root:Lossy conversion from float32 to uint8. Range [0, 1]. Convert image to uint8 prior to saving to suppress this warning.\n",
            "WARNING:root:Lossy conversion from float32 to uint8. Range [0, 1]. Convert image to uint8 prior to saving to suppress this warning.\n"
          ],
          "name": "stderr"
        },
        {
          "output_type": "stream",
          "text": [
            "\r1/1 [==============================] - 0s 36ms/sample\n"
          ],
          "name": "stdout"
        },
        {
          "output_type": "stream",
          "text": [
            "WARNING:root:Lossy conversion from float32 to uint8. Range [0, 1]. Convert image to uint8 prior to saving to suppress this warning.\n",
            "WARNING:root:Lossy conversion from float32 to uint8. Range [0, 1]. Convert image to uint8 prior to saving to suppress this warning.\n",
            "WARNING:root:Lossy conversion from float32 to uint8. Range [0, 1]. Convert image to uint8 prior to saving to suppress this warning.\n"
          ],
          "name": "stderr"
        },
        {
          "output_type": "stream",
          "text": [
            "\r1/1 [==============================] - 0s 36ms/sample\n"
          ],
          "name": "stdout"
        },
        {
          "output_type": "stream",
          "text": [
            "WARNING:root:Lossy conversion from float32 to uint8. Range [0, 1]. Convert image to uint8 prior to saving to suppress this warning.\n",
            "WARNING:root:Lossy conversion from float32 to uint8. Range [0, 1]. Convert image to uint8 prior to saving to suppress this warning.\n",
            "WARNING:root:Lossy conversion from float32 to uint8. Range [0, 1]. Convert image to uint8 prior to saving to suppress this warning.\n"
          ],
          "name": "stderr"
        },
        {
          "output_type": "stream",
          "text": [
            "\r1/1 [==============================] - 0s 39ms/sample\n"
          ],
          "name": "stdout"
        },
        {
          "output_type": "stream",
          "text": [
            "WARNING:root:Lossy conversion from float32 to uint8. Range [0, 1]. Convert image to uint8 prior to saving to suppress this warning.\n",
            "WARNING:root:Lossy conversion from float32 to uint8. Range [0, 1]. Convert image to uint8 prior to saving to suppress this warning.\n",
            "WARNING:root:Lossy conversion from float32 to uint8. Range [0, 1]. Convert image to uint8 prior to saving to suppress this warning.\n"
          ],
          "name": "stderr"
        },
        {
          "output_type": "stream",
          "text": [
            "\r1/1 [==============================] - 0s 36ms/sample\n"
          ],
          "name": "stdout"
        },
        {
          "output_type": "stream",
          "text": [
            "WARNING:root:Lossy conversion from float32 to uint8. Range [0, 1]. Convert image to uint8 prior to saving to suppress this warning.\n",
            "/usr/local/lib/python3.7/dist-packages/ipykernel_launcher.py:15: UserWarning: /content/gdrive/MyDrive/OutputTraining/Enhanced/Epoch 150/0198_Predict.png is a low contrast image\n",
            "  from ipykernel import kernelapp as app\n",
            "WARNING:root:Lossy conversion from float32 to uint8. Range [0, 1]. Convert image to uint8 prior to saving to suppress this warning.\n",
            "/usr/local/lib/python3.7/dist-packages/ipykernel_launcher.py:16: UserWarning: /content/gdrive/MyDrive/OutputTraining/Enhanced/Epoch 150/0198_Mask.png is a low contrast image\n",
            "  app.launch_new_instance()\n",
            "WARNING:root:Lossy conversion from float32 to uint8. Range [0, 1]. Convert image to uint8 prior to saving to suppress this warning.\n"
          ],
          "name": "stderr"
        },
        {
          "output_type": "stream",
          "text": [
            "\r1/1 [==============================] - 0s 36ms/sample\n"
          ],
          "name": "stdout"
        },
        {
          "output_type": "stream",
          "text": [
            "WARNING:root:Lossy conversion from float32 to uint8. Range [0, 1]. Convert image to uint8 prior to saving to suppress this warning.\n",
            "WARNING:root:Lossy conversion from float32 to uint8. Range [0, 1]. Convert image to uint8 prior to saving to suppress this warning.\n",
            "WARNING:root:Lossy conversion from float32 to uint8. Range [0, 1]. Convert image to uint8 prior to saving to suppress this warning.\n"
          ],
          "name": "stderr"
        },
        {
          "output_type": "stream",
          "text": [
            "\r1/1 [==============================] - 0s 36ms/sample\n"
          ],
          "name": "stdout"
        },
        {
          "output_type": "stream",
          "text": [
            "WARNING:root:Lossy conversion from float32 to uint8. Range [0, 1]. Convert image to uint8 prior to saving to suppress this warning.\n",
            "WARNING:root:Lossy conversion from float32 to uint8. Range [0, 1]. Convert image to uint8 prior to saving to suppress this warning.\n",
            "WARNING:root:Lossy conversion from float32 to uint8. Range [0, 1]. Convert image to uint8 prior to saving to suppress this warning.\n"
          ],
          "name": "stderr"
        },
        {
          "output_type": "stream",
          "text": [
            "\r1/1 [==============================] - 0s 36ms/sample\n"
          ],
          "name": "stdout"
        },
        {
          "output_type": "stream",
          "text": [
            "WARNING:root:Lossy conversion from float32 to uint8. Range [0, 1]. Convert image to uint8 prior to saving to suppress this warning.\n",
            "WARNING:root:Lossy conversion from float32 to uint8. Range [0, 1]. Convert image to uint8 prior to saving to suppress this warning.\n",
            "WARNING:root:Lossy conversion from float32 to uint8. Range [0, 1]. Convert image to uint8 prior to saving to suppress this warning.\n"
          ],
          "name": "stderr"
        },
        {
          "output_type": "stream",
          "text": [
            "\r1/1 [==============================] - 0s 36ms/sample\n"
          ],
          "name": "stdout"
        },
        {
          "output_type": "stream",
          "text": [
            "WARNING:root:Lossy conversion from float32 to uint8. Range [0, 1]. Convert image to uint8 prior to saving to suppress this warning.\n",
            "WARNING:root:Lossy conversion from float32 to uint8. Range [0, 1]. Convert image to uint8 prior to saving to suppress this warning.\n",
            "WARNING:root:Lossy conversion from float32 to uint8. Range [0, 1]. Convert image to uint8 prior to saving to suppress this warning.\n"
          ],
          "name": "stderr"
        },
        {
          "output_type": "stream",
          "text": [
            "\r1/1 [==============================] - 0s 36ms/sample\n"
          ],
          "name": "stdout"
        },
        {
          "output_type": "stream",
          "text": [
            "WARNING:root:Lossy conversion from float32 to uint8. Range [0, 1]. Convert image to uint8 prior to saving to suppress this warning.\n",
            "WARNING:root:Lossy conversion from float32 to uint8. Range [0, 1]. Convert image to uint8 prior to saving to suppress this warning.\n",
            "WARNING:root:Lossy conversion from float32 to uint8. Range [0, 1]. Convert image to uint8 prior to saving to suppress this warning.\n"
          ],
          "name": "stderr"
        },
        {
          "output_type": "stream",
          "text": [
            "\r1/1 [==============================] - 0s 36ms/sample\n"
          ],
          "name": "stdout"
        },
        {
          "output_type": "stream",
          "text": [
            "WARNING:root:Lossy conversion from float32 to uint8. Range [0, 1]. Convert image to uint8 prior to saving to suppress this warning.\n",
            "WARNING:root:Lossy conversion from float32 to uint8. Range [0, 1]. Convert image to uint8 prior to saving to suppress this warning.\n",
            "WARNING:root:Lossy conversion from float32 to uint8. Range [0, 1]. Convert image to uint8 prior to saving to suppress this warning.\n"
          ],
          "name": "stderr"
        },
        {
          "output_type": "stream",
          "text": [
            "\r1/1 [==============================] - 0s 36ms/sample\n"
          ],
          "name": "stdout"
        },
        {
          "output_type": "stream",
          "text": [
            "WARNING:root:Lossy conversion from float32 to uint8. Range [0, 1]. Convert image to uint8 prior to saving to suppress this warning.\n",
            "/usr/local/lib/python3.7/dist-packages/ipykernel_launcher.py:15: UserWarning: /content/gdrive/MyDrive/OutputTraining/Enhanced/Epoch 150/0205_Predict.png is a low contrast image\n",
            "  from ipykernel import kernelapp as app\n",
            "WARNING:root:Lossy conversion from float32 to uint8. Range [0, 1]. Convert image to uint8 prior to saving to suppress this warning.\n",
            "/usr/local/lib/python3.7/dist-packages/ipykernel_launcher.py:16: UserWarning: /content/gdrive/MyDrive/OutputTraining/Enhanced/Epoch 150/0205_Mask.png is a low contrast image\n",
            "  app.launch_new_instance()\n",
            "WARNING:root:Lossy conversion from float32 to uint8. Range [0, 1]. Convert image to uint8 prior to saving to suppress this warning.\n"
          ],
          "name": "stderr"
        },
        {
          "output_type": "stream",
          "text": [
            "\r1/1 [==============================] - 0s 36ms/sample\n"
          ],
          "name": "stdout"
        },
        {
          "output_type": "stream",
          "text": [
            "WARNING:root:Lossy conversion from float32 to uint8. Range [0, 1]. Convert image to uint8 prior to saving to suppress this warning.\n",
            "WARNING:root:Lossy conversion from float32 to uint8. Range [0, 1]. Convert image to uint8 prior to saving to suppress this warning.\n",
            "WARNING:root:Lossy conversion from float32 to uint8. Range [0, 1]. Convert image to uint8 prior to saving to suppress this warning.\n"
          ],
          "name": "stderr"
        },
        {
          "output_type": "stream",
          "text": [
            "\r1/1 [==============================] - 0s 36ms/sample\n"
          ],
          "name": "stdout"
        },
        {
          "output_type": "stream",
          "text": [
            "WARNING:root:Lossy conversion from float32 to uint8. Range [0, 1]. Convert image to uint8 prior to saving to suppress this warning.\n",
            "WARNING:root:Lossy conversion from float32 to uint8. Range [0, 1]. Convert image to uint8 prior to saving to suppress this warning.\n",
            "WARNING:root:Lossy conversion from float32 to uint8. Range [0, 1]. Convert image to uint8 prior to saving to suppress this warning.\n"
          ],
          "name": "stderr"
        },
        {
          "output_type": "stream",
          "text": [
            "\r1/1 [==============================] - 0s 36ms/sample\n"
          ],
          "name": "stdout"
        },
        {
          "output_type": "stream",
          "text": [
            "WARNING:root:Lossy conversion from float32 to uint8. Range [0, 1]. Convert image to uint8 prior to saving to suppress this warning.\n",
            "WARNING:root:Lossy conversion from float32 to uint8. Range [0, 1]. Convert image to uint8 prior to saving to suppress this warning.\n",
            "WARNING:root:Lossy conversion from float32 to uint8. Range [0, 1]. Convert image to uint8 prior to saving to suppress this warning.\n"
          ],
          "name": "stderr"
        },
        {
          "output_type": "stream",
          "text": [
            "\r1/1 [==============================] - 0s 39ms/sample\n"
          ],
          "name": "stdout"
        },
        {
          "output_type": "stream",
          "text": [
            "WARNING:root:Lossy conversion from float32 to uint8. Range [0, 1]. Convert image to uint8 prior to saving to suppress this warning.\n",
            "WARNING:root:Lossy conversion from float32 to uint8. Range [0, 1]. Convert image to uint8 prior to saving to suppress this warning.\n",
            "WARNING:root:Lossy conversion from float32 to uint8. Range [0, 1]. Convert image to uint8 prior to saving to suppress this warning.\n"
          ],
          "name": "stderr"
        },
        {
          "output_type": "stream",
          "text": [
            "\r1/1 [==============================] - 0s 36ms/sample\n"
          ],
          "name": "stdout"
        },
        {
          "output_type": "stream",
          "text": [
            "WARNING:root:Lossy conversion from float32 to uint8. Range [0, 1]. Convert image to uint8 prior to saving to suppress this warning.\n",
            "WARNING:root:Lossy conversion from float32 to uint8. Range [0, 1]. Convert image to uint8 prior to saving to suppress this warning.\n",
            "WARNING:root:Lossy conversion from float32 to uint8. Range [0, 1]. Convert image to uint8 prior to saving to suppress this warning.\n"
          ],
          "name": "stderr"
        },
        {
          "output_type": "stream",
          "text": [
            "\r1/1 [==============================] - 0s 38ms/sample\n"
          ],
          "name": "stdout"
        },
        {
          "output_type": "stream",
          "text": [
            "WARNING:root:Lossy conversion from float32 to uint8. Range [0, 1]. Convert image to uint8 prior to saving to suppress this warning.\n",
            "WARNING:root:Lossy conversion from float32 to uint8. Range [0, 1]. Convert image to uint8 prior to saving to suppress this warning.\n",
            "WARNING:root:Lossy conversion from float32 to uint8. Range [0, 1]. Convert image to uint8 prior to saving to suppress this warning.\n"
          ],
          "name": "stderr"
        },
        {
          "output_type": "stream",
          "text": [
            "\r1/1 [==============================] - 0s 37ms/sample\n"
          ],
          "name": "stdout"
        },
        {
          "output_type": "stream",
          "text": [
            "WARNING:root:Lossy conversion from float32 to uint8. Range [0, 1]. Convert image to uint8 prior to saving to suppress this warning.\n",
            "WARNING:root:Lossy conversion from float32 to uint8. Range [0, 1]. Convert image to uint8 prior to saving to suppress this warning.\n",
            "WARNING:root:Lossy conversion from float32 to uint8. Range [0, 1]. Convert image to uint8 prior to saving to suppress this warning.\n"
          ],
          "name": "stderr"
        },
        {
          "output_type": "stream",
          "text": [
            "\r1/1 [==============================] - 0s 37ms/sample\n"
          ],
          "name": "stdout"
        },
        {
          "output_type": "stream",
          "text": [
            "WARNING:root:Lossy conversion from float32 to uint8. Range [0, 1]. Convert image to uint8 prior to saving to suppress this warning.\n",
            "WARNING:root:Lossy conversion from float32 to uint8. Range [0, 1]. Convert image to uint8 prior to saving to suppress this warning.\n",
            "WARNING:root:Lossy conversion from float32 to uint8. Range [0, 1]. Convert image to uint8 prior to saving to suppress this warning.\n"
          ],
          "name": "stderr"
        },
        {
          "output_type": "stream",
          "text": [
            "\r1/1 [==============================] - 0s 36ms/sample\n"
          ],
          "name": "stdout"
        },
        {
          "output_type": "stream",
          "text": [
            "WARNING:root:Lossy conversion from float32 to uint8. Range [0, 1]. Convert image to uint8 prior to saving to suppress this warning.\n",
            "WARNING:root:Lossy conversion from float32 to uint8. Range [0, 1]. Convert image to uint8 prior to saving to suppress this warning.\n",
            "WARNING:root:Lossy conversion from float32 to uint8. Range [0, 1]. Convert image to uint8 prior to saving to suppress this warning.\n"
          ],
          "name": "stderr"
        },
        {
          "output_type": "stream",
          "text": [
            "\r1/1 [==============================] - 0s 38ms/sample\n"
          ],
          "name": "stdout"
        },
        {
          "output_type": "stream",
          "text": [
            "WARNING:root:Lossy conversion from float32 to uint8. Range [0, 1]. Convert image to uint8 prior to saving to suppress this warning.\n",
            "WARNING:root:Lossy conversion from float32 to uint8. Range [0, 1]. Convert image to uint8 prior to saving to suppress this warning.\n",
            "WARNING:root:Lossy conversion from float32 to uint8. Range [0, 1]. Convert image to uint8 prior to saving to suppress this warning.\n"
          ],
          "name": "stderr"
        },
        {
          "output_type": "stream",
          "text": [
            "\r1/1 [==============================] - 0s 40ms/sample\n"
          ],
          "name": "stdout"
        },
        {
          "output_type": "stream",
          "text": [
            "WARNING:root:Lossy conversion from float32 to uint8. Range [0, 1]. Convert image to uint8 prior to saving to suppress this warning.\n",
            "WARNING:root:Lossy conversion from float32 to uint8. Range [0, 1]. Convert image to uint8 prior to saving to suppress this warning.\n",
            "WARNING:root:Lossy conversion from float32 to uint8. Range [0, 1]. Convert image to uint8 prior to saving to suppress this warning.\n"
          ],
          "name": "stderr"
        },
        {
          "output_type": "stream",
          "text": [
            "\r1/1 [==============================] - 0s 36ms/sample\n"
          ],
          "name": "stdout"
        },
        {
          "output_type": "stream",
          "text": [
            "WARNING:root:Lossy conversion from float32 to uint8. Range [0, 1]. Convert image to uint8 prior to saving to suppress this warning.\n",
            "WARNING:root:Lossy conversion from float32 to uint8. Range [0, 1]. Convert image to uint8 prior to saving to suppress this warning.\n",
            "WARNING:root:Lossy conversion from float32 to uint8. Range [0, 1]. Convert image to uint8 prior to saving to suppress this warning.\n"
          ],
          "name": "stderr"
        },
        {
          "output_type": "stream",
          "text": [
            "\r1/1 [==============================] - 0s 39ms/sample\n"
          ],
          "name": "stdout"
        },
        {
          "output_type": "stream",
          "text": [
            "WARNING:root:Lossy conversion from float32 to uint8. Range [0, 1]. Convert image to uint8 prior to saving to suppress this warning.\n",
            "WARNING:root:Lossy conversion from float32 to uint8. Range [0, 1]. Convert image to uint8 prior to saving to suppress this warning.\n",
            "WARNING:root:Lossy conversion from float32 to uint8. Range [0, 1]. Convert image to uint8 prior to saving to suppress this warning.\n"
          ],
          "name": "stderr"
        },
        {
          "output_type": "stream",
          "text": [
            "\r1/1 [==============================] - 0s 37ms/sample\n"
          ],
          "name": "stdout"
        },
        {
          "output_type": "stream",
          "text": [
            "WARNING:root:Lossy conversion from float32 to uint8. Range [0, 1]. Convert image to uint8 prior to saving to suppress this warning.\n",
            "WARNING:root:Lossy conversion from float32 to uint8. Range [0, 1]. Convert image to uint8 prior to saving to suppress this warning.\n",
            "WARNING:root:Lossy conversion from float32 to uint8. Range [0, 1]. Convert image to uint8 prior to saving to suppress this warning.\n"
          ],
          "name": "stderr"
        },
        {
          "output_type": "stream",
          "text": [
            "\r1/1 [==============================] - 0s 37ms/sample\n"
          ],
          "name": "stdout"
        },
        {
          "output_type": "stream",
          "text": [
            "WARNING:root:Lossy conversion from float32 to uint8. Range [0, 1]. Convert image to uint8 prior to saving to suppress this warning.\n",
            "WARNING:root:Lossy conversion from float32 to uint8. Range [0, 1]. Convert image to uint8 prior to saving to suppress this warning.\n",
            "WARNING:root:Lossy conversion from float32 to uint8. Range [0, 1]. Convert image to uint8 prior to saving to suppress this warning.\n"
          ],
          "name": "stderr"
        },
        {
          "output_type": "stream",
          "text": [
            "\r1/1 [==============================] - 0s 36ms/sample\n"
          ],
          "name": "stdout"
        },
        {
          "output_type": "stream",
          "text": [
            "WARNING:root:Lossy conversion from float32 to uint8. Range [0, 1]. Convert image to uint8 prior to saving to suppress this warning.\n",
            "WARNING:root:Lossy conversion from float32 to uint8. Range [0, 1]. Convert image to uint8 prior to saving to suppress this warning.\n",
            "WARNING:root:Lossy conversion from float32 to uint8. Range [0, 1]. Convert image to uint8 prior to saving to suppress this warning.\n"
          ],
          "name": "stderr"
        },
        {
          "output_type": "stream",
          "text": [
            "\r1/1 [==============================] - 0s 36ms/sample\n"
          ],
          "name": "stdout"
        },
        {
          "output_type": "stream",
          "text": [
            "WARNING:root:Lossy conversion from float32 to uint8. Range [0, 1]. Convert image to uint8 prior to saving to suppress this warning.\n",
            "WARNING:root:Lossy conversion from float32 to uint8. Range [0, 1]. Convert image to uint8 prior to saving to suppress this warning.\n",
            "WARNING:root:Lossy conversion from float32 to uint8. Range [0, 1]. Convert image to uint8 prior to saving to suppress this warning.\n"
          ],
          "name": "stderr"
        },
        {
          "output_type": "stream",
          "text": [
            "\r1/1 [==============================] - 0s 36ms/sample\n"
          ],
          "name": "stdout"
        },
        {
          "output_type": "stream",
          "text": [
            "WARNING:root:Lossy conversion from float32 to uint8. Range [0, 1]. Convert image to uint8 prior to saving to suppress this warning.\n",
            "WARNING:root:Lossy conversion from float32 to uint8. Range [0, 1]. Convert image to uint8 prior to saving to suppress this warning.\n",
            "WARNING:root:Lossy conversion from float32 to uint8. Range [0, 1]. Convert image to uint8 prior to saving to suppress this warning.\n"
          ],
          "name": "stderr"
        },
        {
          "output_type": "stream",
          "text": [
            "\r1/1 [==============================] - 0s 36ms/sample\n"
          ],
          "name": "stdout"
        },
        {
          "output_type": "stream",
          "text": [
            "WARNING:root:Lossy conversion from float32 to uint8. Range [0, 1]. Convert image to uint8 prior to saving to suppress this warning.\n",
            "WARNING:root:Lossy conversion from float32 to uint8. Range [0, 1]. Convert image to uint8 prior to saving to suppress this warning.\n",
            "WARNING:root:Lossy conversion from float32 to uint8. Range [0, 1]. Convert image to uint8 prior to saving to suppress this warning.\n"
          ],
          "name": "stderr"
        },
        {
          "output_type": "stream",
          "text": [
            "\r1/1 [==============================] - 0s 39ms/sample\n"
          ],
          "name": "stdout"
        },
        {
          "output_type": "stream",
          "text": [
            "WARNING:root:Lossy conversion from float32 to uint8. Range [0, 1]. Convert image to uint8 prior to saving to suppress this warning.\n",
            "WARNING:root:Lossy conversion from float32 to uint8. Range [0, 1]. Convert image to uint8 prior to saving to suppress this warning.\n",
            "WARNING:root:Lossy conversion from float32 to uint8. Range [0, 1]. Convert image to uint8 prior to saving to suppress this warning.\n"
          ],
          "name": "stderr"
        },
        {
          "output_type": "stream",
          "text": [
            "\r1/1 [==============================] - 0s 39ms/sample\n"
          ],
          "name": "stdout"
        },
        {
          "output_type": "stream",
          "text": [
            "WARNING:root:Lossy conversion from float32 to uint8. Range [0, 1]. Convert image to uint8 prior to saving to suppress this warning.\n",
            "WARNING:root:Lossy conversion from float32 to uint8. Range [0, 1]. Convert image to uint8 prior to saving to suppress this warning.\n",
            "WARNING:root:Lossy conversion from float32 to uint8. Range [0, 1]. Convert image to uint8 prior to saving to suppress this warning.\n"
          ],
          "name": "stderr"
        },
        {
          "output_type": "stream",
          "text": [
            "\r1/1 [==============================] - 0s 36ms/sample\n"
          ],
          "name": "stdout"
        },
        {
          "output_type": "stream",
          "text": [
            "WARNING:root:Lossy conversion from float32 to uint8. Range [0, 1]. Convert image to uint8 prior to saving to suppress this warning.\n",
            "WARNING:root:Lossy conversion from float32 to uint8. Range [0, 1]. Convert image to uint8 prior to saving to suppress this warning.\n",
            "WARNING:root:Lossy conversion from float32 to uint8. Range [0, 1]. Convert image to uint8 prior to saving to suppress this warning.\n"
          ],
          "name": "stderr"
        },
        {
          "output_type": "stream",
          "text": [
            "\r1/1 [==============================] - 0s 41ms/sample\n"
          ],
          "name": "stdout"
        },
        {
          "output_type": "stream",
          "text": [
            "WARNING:root:Lossy conversion from float32 to uint8. Range [0, 1]. Convert image to uint8 prior to saving to suppress this warning.\n",
            "WARNING:root:Lossy conversion from float32 to uint8. Range [0, 1]. Convert image to uint8 prior to saving to suppress this warning.\n",
            "WARNING:root:Lossy conversion from float32 to uint8. Range [0, 1]. Convert image to uint8 prior to saving to suppress this warning.\n"
          ],
          "name": "stderr"
        },
        {
          "output_type": "stream",
          "text": [
            "\r1/1 [==============================] - 0s 36ms/sample\n"
          ],
          "name": "stdout"
        },
        {
          "output_type": "stream",
          "text": [
            "WARNING:root:Lossy conversion from float32 to uint8. Range [0, 1]. Convert image to uint8 prior to saving to suppress this warning.\n",
            "WARNING:root:Lossy conversion from float32 to uint8. Range [0, 1]. Convert image to uint8 prior to saving to suppress this warning.\n",
            "WARNING:root:Lossy conversion from float32 to uint8. Range [0, 1]. Convert image to uint8 prior to saving to suppress this warning.\n"
          ],
          "name": "stderr"
        },
        {
          "output_type": "stream",
          "text": [
            "\r1/1 [==============================] - 0s 36ms/sample\n"
          ],
          "name": "stdout"
        },
        {
          "output_type": "stream",
          "text": [
            "WARNING:root:Lossy conversion from float32 to uint8. Range [0, 1]. Convert image to uint8 prior to saving to suppress this warning.\n",
            "WARNING:root:Lossy conversion from float32 to uint8. Range [0, 1]. Convert image to uint8 prior to saving to suppress this warning.\n",
            "WARNING:root:Lossy conversion from float32 to uint8. Range [0, 1]. Convert image to uint8 prior to saving to suppress this warning.\n"
          ],
          "name": "stderr"
        },
        {
          "output_type": "stream",
          "text": [
            "\r1/1 [==============================] - 0s 41ms/sample\n"
          ],
          "name": "stdout"
        },
        {
          "output_type": "stream",
          "text": [
            "WARNING:root:Lossy conversion from float32 to uint8. Range [0, 1]. Convert image to uint8 prior to saving to suppress this warning.\n",
            "WARNING:root:Lossy conversion from float32 to uint8. Range [0, 1]. Convert image to uint8 prior to saving to suppress this warning.\n",
            "WARNING:root:Lossy conversion from float32 to uint8. Range [0, 1]. Convert image to uint8 prior to saving to suppress this warning.\n"
          ],
          "name": "stderr"
        },
        {
          "output_type": "stream",
          "text": [
            "\r1/1 [==============================] - 0s 39ms/sample\n"
          ],
          "name": "stdout"
        },
        {
          "output_type": "stream",
          "text": [
            "WARNING:root:Lossy conversion from float32 to uint8. Range [0, 1]. Convert image to uint8 prior to saving to suppress this warning.\n",
            "WARNING:root:Lossy conversion from float32 to uint8. Range [0, 1]. Convert image to uint8 prior to saving to suppress this warning.\n",
            "WARNING:root:Lossy conversion from float32 to uint8. Range [0, 1]. Convert image to uint8 prior to saving to suppress this warning.\n"
          ],
          "name": "stderr"
        },
        {
          "output_type": "stream",
          "text": [
            "\r1/1 [==============================] - 0s 40ms/sample\n"
          ],
          "name": "stdout"
        },
        {
          "output_type": "stream",
          "text": [
            "WARNING:root:Lossy conversion from float32 to uint8. Range [0, 1]. Convert image to uint8 prior to saving to suppress this warning.\n",
            "WARNING:root:Lossy conversion from float32 to uint8. Range [0, 1]. Convert image to uint8 prior to saving to suppress this warning.\n",
            "WARNING:root:Lossy conversion from float32 to uint8. Range [0, 1]. Convert image to uint8 prior to saving to suppress this warning.\n"
          ],
          "name": "stderr"
        },
        {
          "output_type": "stream",
          "text": [
            "\r1/1 [==============================] - 0s 36ms/sample\n"
          ],
          "name": "stdout"
        },
        {
          "output_type": "stream",
          "text": [
            "WARNING:root:Lossy conversion from float32 to uint8. Range [0, 1]. Convert image to uint8 prior to saving to suppress this warning.\n",
            "/usr/local/lib/python3.7/dist-packages/ipykernel_launcher.py:15: UserWarning: /content/gdrive/MyDrive/OutputTraining/Enhanced/Epoch 150/0234_Predict.png is a low contrast image\n",
            "  from ipykernel import kernelapp as app\n",
            "WARNING:root:Lossy conversion from float32 to uint8. Range [0, 1]. Convert image to uint8 prior to saving to suppress this warning.\n",
            "WARNING:root:Lossy conversion from float32 to uint8. Range [0, 1]. Convert image to uint8 prior to saving to suppress this warning.\n"
          ],
          "name": "stderr"
        },
        {
          "output_type": "stream",
          "text": [
            "\r1/1 [==============================] - 0s 39ms/sample\n"
          ],
          "name": "stdout"
        },
        {
          "output_type": "stream",
          "text": [
            "WARNING:root:Lossy conversion from float32 to uint8. Range [0, 1]. Convert image to uint8 prior to saving to suppress this warning.\n",
            "/usr/local/lib/python3.7/dist-packages/ipykernel_launcher.py:15: UserWarning: /content/gdrive/MyDrive/OutputTraining/Enhanced/Epoch 150/0235_Predict.png is a low contrast image\n",
            "  from ipykernel import kernelapp as app\n",
            "WARNING:root:Lossy conversion from float32 to uint8. Range [0, 1]. Convert image to uint8 prior to saving to suppress this warning.\n",
            "WARNING:root:Lossy conversion from float32 to uint8. Range [0, 1]. Convert image to uint8 prior to saving to suppress this warning.\n"
          ],
          "name": "stderr"
        },
        {
          "output_type": "stream",
          "text": [
            "\r1/1 [==============================] - 0s 40ms/sample\n"
          ],
          "name": "stdout"
        },
        {
          "output_type": "stream",
          "text": [
            "WARNING:root:Lossy conversion from float32 to uint8. Range [0, 1]. Convert image to uint8 prior to saving to suppress this warning.\n",
            "WARNING:root:Lossy conversion from float32 to uint8. Range [0, 1]. Convert image to uint8 prior to saving to suppress this warning.\n",
            "WARNING:root:Lossy conversion from float32 to uint8. Range [0, 1]. Convert image to uint8 prior to saving to suppress this warning.\n"
          ],
          "name": "stderr"
        },
        {
          "output_type": "stream",
          "text": [
            "\r1/1 [==============================] - 0s 39ms/sample\n"
          ],
          "name": "stdout"
        },
        {
          "output_type": "stream",
          "text": [
            "WARNING:root:Lossy conversion from float32 to uint8. Range [0, 1]. Convert image to uint8 prior to saving to suppress this warning.\n",
            "WARNING:root:Lossy conversion from float32 to uint8. Range [0, 1]. Convert image to uint8 prior to saving to suppress this warning.\n",
            "WARNING:root:Lossy conversion from float32 to uint8. Range [0, 1]. Convert image to uint8 prior to saving to suppress this warning.\n"
          ],
          "name": "stderr"
        },
        {
          "output_type": "stream",
          "text": [
            "\r1/1 [==============================] - 0s 36ms/sample\n"
          ],
          "name": "stdout"
        },
        {
          "output_type": "stream",
          "text": [
            "WARNING:root:Lossy conversion from float32 to uint8. Range [0, 1]. Convert image to uint8 prior to saving to suppress this warning.\n",
            "WARNING:root:Lossy conversion from float32 to uint8. Range [0, 1]. Convert image to uint8 prior to saving to suppress this warning.\n",
            "WARNING:root:Lossy conversion from float32 to uint8. Range [0, 1]. Convert image to uint8 prior to saving to suppress this warning.\n"
          ],
          "name": "stderr"
        },
        {
          "output_type": "stream",
          "text": [
            "\r1/1 [==============================] - 0s 39ms/sample\n"
          ],
          "name": "stdout"
        },
        {
          "output_type": "stream",
          "text": [
            "WARNING:root:Lossy conversion from float32 to uint8. Range [0, 1]. Convert image to uint8 prior to saving to suppress this warning.\n",
            "WARNING:root:Lossy conversion from float32 to uint8. Range [0, 1]. Convert image to uint8 prior to saving to suppress this warning.\n",
            "WARNING:root:Lossy conversion from float32 to uint8. Range [0, 1]. Convert image to uint8 prior to saving to suppress this warning.\n"
          ],
          "name": "stderr"
        },
        {
          "output_type": "stream",
          "text": [
            "\r1/1 [==============================] - 0s 36ms/sample\n"
          ],
          "name": "stdout"
        },
        {
          "output_type": "stream",
          "text": [
            "WARNING:root:Lossy conversion from float32 to uint8. Range [0, 1]. Convert image to uint8 prior to saving to suppress this warning.\n",
            "WARNING:root:Lossy conversion from float32 to uint8. Range [0, 1]. Convert image to uint8 prior to saving to suppress this warning.\n",
            "WARNING:root:Lossy conversion from float32 to uint8. Range [0, 1]. Convert image to uint8 prior to saving to suppress this warning.\n"
          ],
          "name": "stderr"
        },
        {
          "output_type": "stream",
          "text": [
            "\r1/1 [==============================] - 0s 36ms/sample\n"
          ],
          "name": "stdout"
        },
        {
          "output_type": "stream",
          "text": [
            "WARNING:root:Lossy conversion from float32 to uint8. Range [0, 1]. Convert image to uint8 prior to saving to suppress this warning.\n",
            "WARNING:root:Lossy conversion from float32 to uint8. Range [0, 1]. Convert image to uint8 prior to saving to suppress this warning.\n",
            "WARNING:root:Lossy conversion from float32 to uint8. Range [0, 1]. Convert image to uint8 prior to saving to suppress this warning.\n"
          ],
          "name": "stderr"
        },
        {
          "output_type": "stream",
          "text": [
            "\r1/1 [==============================] - 0s 37ms/sample\n"
          ],
          "name": "stdout"
        },
        {
          "output_type": "stream",
          "text": [
            "WARNING:root:Lossy conversion from float32 to uint8. Range [0, 1]. Convert image to uint8 prior to saving to suppress this warning.\n",
            "WARNING:root:Lossy conversion from float32 to uint8. Range [0, 1]. Convert image to uint8 prior to saving to suppress this warning.\n",
            "WARNING:root:Lossy conversion from float32 to uint8. Range [0, 1]. Convert image to uint8 prior to saving to suppress this warning.\n"
          ],
          "name": "stderr"
        },
        {
          "output_type": "stream",
          "text": [
            "\r1/1 [==============================] - 0s 36ms/sample\n"
          ],
          "name": "stdout"
        },
        {
          "output_type": "stream",
          "text": [
            "WARNING:root:Lossy conversion from float32 to uint8. Range [0, 1]. Convert image to uint8 prior to saving to suppress this warning.\n",
            "WARNING:root:Lossy conversion from float32 to uint8. Range [0, 1]. Convert image to uint8 prior to saving to suppress this warning.\n",
            "WARNING:root:Lossy conversion from float32 to uint8. Range [0, 1]. Convert image to uint8 prior to saving to suppress this warning.\n"
          ],
          "name": "stderr"
        },
        {
          "output_type": "stream",
          "text": [
            "\r1/1 [==============================] - 0s 37ms/sample\n"
          ],
          "name": "stdout"
        },
        {
          "output_type": "stream",
          "text": [
            "WARNING:root:Lossy conversion from float32 to uint8. Range [0, 1]. Convert image to uint8 prior to saving to suppress this warning.\n",
            "WARNING:root:Lossy conversion from float32 to uint8. Range [0, 1]. Convert image to uint8 prior to saving to suppress this warning.\n",
            "WARNING:root:Lossy conversion from float32 to uint8. Range [0, 1]. Convert image to uint8 prior to saving to suppress this warning.\n"
          ],
          "name": "stderr"
        },
        {
          "output_type": "stream",
          "text": [
            "\r1/1 [==============================] - 0s 38ms/sample\n"
          ],
          "name": "stdout"
        },
        {
          "output_type": "stream",
          "text": [
            "WARNING:root:Lossy conversion from float32 to uint8. Range [0, 1]. Convert image to uint8 prior to saving to suppress this warning.\n",
            "WARNING:root:Lossy conversion from float32 to uint8. Range [0, 1]. Convert image to uint8 prior to saving to suppress this warning.\n",
            "WARNING:root:Lossy conversion from float32 to uint8. Range [0, 1]. Convert image to uint8 prior to saving to suppress this warning.\n"
          ],
          "name": "stderr"
        },
        {
          "output_type": "stream",
          "text": [
            "\r1/1 [==============================] - 0s 38ms/sample\n"
          ],
          "name": "stdout"
        },
        {
          "output_type": "stream",
          "text": [
            "WARNING:root:Lossy conversion from float32 to uint8. Range [0, 1]. Convert image to uint8 prior to saving to suppress this warning.\n",
            "WARNING:root:Lossy conversion from float32 to uint8. Range [0, 1]. Convert image to uint8 prior to saving to suppress this warning.\n",
            "WARNING:root:Lossy conversion from float32 to uint8. Range [0, 1]. Convert image to uint8 prior to saving to suppress this warning.\n"
          ],
          "name": "stderr"
        },
        {
          "output_type": "stream",
          "text": [
            "\r1/1 [==============================] - 0s 36ms/sample\n"
          ],
          "name": "stdout"
        },
        {
          "output_type": "stream",
          "text": [
            "WARNING:root:Lossy conversion from float32 to uint8. Range [0, 1]. Convert image to uint8 prior to saving to suppress this warning.\n",
            "WARNING:root:Lossy conversion from float32 to uint8. Range [0, 1]. Convert image to uint8 prior to saving to suppress this warning.\n",
            "WARNING:root:Lossy conversion from float32 to uint8. Range [0, 1]. Convert image to uint8 prior to saving to suppress this warning.\n"
          ],
          "name": "stderr"
        },
        {
          "output_type": "stream",
          "text": [
            "\r1/1 [==============================] - 0s 38ms/sample\n"
          ],
          "name": "stdout"
        },
        {
          "output_type": "stream",
          "text": [
            "WARNING:root:Lossy conversion from float32 to uint8. Range [0, 1]. Convert image to uint8 prior to saving to suppress this warning.\n",
            "WARNING:root:Lossy conversion from float32 to uint8. Range [0, 1]. Convert image to uint8 prior to saving to suppress this warning.\n",
            "WARNING:root:Lossy conversion from float32 to uint8. Range [0, 1]. Convert image to uint8 prior to saving to suppress this warning.\n"
          ],
          "name": "stderr"
        },
        {
          "output_type": "stream",
          "text": [
            "\r1/1 [==============================] - 0s 39ms/sample\n"
          ],
          "name": "stdout"
        },
        {
          "output_type": "stream",
          "text": [
            "WARNING:root:Lossy conversion from float32 to uint8. Range [0, 1]. Convert image to uint8 prior to saving to suppress this warning.\n",
            "WARNING:root:Lossy conversion from float32 to uint8. Range [0, 1]. Convert image to uint8 prior to saving to suppress this warning.\n",
            "WARNING:root:Lossy conversion from float32 to uint8. Range [0, 1]. Convert image to uint8 prior to saving to suppress this warning.\n"
          ],
          "name": "stderr"
        }
      ]
    },
    {
      "cell_type": "code",
      "metadata": {
        "id": "j0yqO62VTyQk"
      },
      "source": [
        "def dice_coef_np(y_true, y_pred):\n",
        "    y_true_f = y_true.flatten()\n",
        "    y_pred_f = y_pred.flatten()\n",
        "    intersection = np.sum(y_true_f * y_pred_f)\n",
        "    return (2. * intersection + smooth) / (np.sum(y_true_f) + np.sum(y_pred_f) + smooth)"
      ],
      "execution_count": null,
      "outputs": []
    },
    {
      "cell_type": "code",
      "metadata": {
        "colab": {
          "base_uri": "https://localhost:8080/"
        },
        "id": "vzfSt5rST0Kb",
        "outputId": "3ec4a43b-0201-44a6-a339-0234cb3d5334"
      },
      "source": [
        "mean = 0.0\n",
        "smooth = 1.\n",
        "\n",
        "for i in range(num_test):\n",
        "  mean += dice_coef_np(imgs_mask_test[i,:,:, 0], y_val[i,:,:, 0])\n",
        "    \n",
        "mean /= num_test\n",
        "print(\"Mean Dice Coeff : \", mean)\n",
        "with open('/content/gdrive/MyDrive/OutputTraining/Enhanced/Epoch 150/dsc.txt', 'w') as writefile:\n",
        "    writefile.write(str(mean))"
      ],
      "execution_count": null,
      "outputs": [
        {
          "output_type": "stream",
          "text": [
            "Mean Dice Coeff :  0.9448599818874379\n"
          ],
          "name": "stdout"
        }
      ]
    }
  ]
}